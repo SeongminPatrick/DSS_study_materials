{
 "cells": [
  {
   "cell_type": "markdown",
   "metadata": {
    "school_cell_uuid": "500a9f5de6cc4c0399e6351020882484"
   },
   "source": [
    "# 나이브 베이즈 분류 모형"
   ]
  },
  {
   "cell_type": "markdown",
   "metadata": {},
   "source": [
    "나이브베이지안에서 "
   ]
  },
  {
   "cell_type": "markdown",
   "metadata": {
    "school_cell_uuid": "4162848546dc46b6a77aa32bd51b8aa3"
   },
   "source": [
    "나이브 베이즈 분류 모형(Naive Bayes classification model)은 대표적인 생성 모형이다. \n",
    "\n",
    "타겟 변수 $y$의 각 클래스 $\\{C_1,\\cdots,C_K\\}$ 에 대한 독립 변수 $x$의 조건부 확률 분포 정보 $p(x \\mid y = C_k)$ 를 사용하여 주어진 새로운 독립 변수 값 $x_{\\text{new}}$에 대한 타켓 변수의 각 클래스의 조건부 확률 $p(y = C_k \\mid x_{\\text{new}})$ 를 추정한 후 가장 조건부 확률이 큰 클래스 $k$를 선택하는 방법이다.\n",
    "\n"
   ]
  },
  {
   "cell_type": "markdown",
   "metadata": {
    "school_cell_uuid": "def95b3893a645e3a30d76d146479bc5"
   },
   "source": [
    "## 조건부 확률의 계산"
   ]
  },
  {
   "cell_type": "markdown",
   "metadata": {
    "school_cell_uuid": "b47cad3c64064e41895047a2fa39b8a9"
   },
   "source": [
    "다음과 같이 베이즈 규칙을 사용하여 조건부 확률 $p(y = C_k \\mid x_{\\text{new}})$ 을 계산한다.\n",
    "\n",
    "$$\n",
    "P(y = C_k \\mid x_{\\text{new}}) = \\dfrac{P(x_{\\text{new}} \\mid y = C_k)\\; P(y = C_k)}{P(x_{\\text{new}})}\n",
    "$$\n",
    "\n",
    "최종적으로는 각 클래스 $k$에 대한 확률을 비교하여 최고값을 계산하기만 하면 되므로 분모에 있는 주변 확률(marginal probability) ${P(x_{\\text{new}})}$은 계산하지 않는다.\n",
    "\n",
    "$$\n",
    "P(y = C_k \\mid x_{\\text{new}}) \\;\\; \\propto \\;\\; P(x_{\\text{new}} \\mid y = C_k) \\; P(y = C_k)\n",
    "$$\n"
   ]
  },
  {
   "cell_type": "markdown",
   "metadata": {
    "school_cell_uuid": "d11e53c82a67425a873e8ca61320a1c8"
   },
   "source": [
    "여기에서 사전 확률(prior) $P(y = C_k)$는 다음과 같이 쉽게 구할 수 있다.\n",
    "\n",
    "$$\n",
    "P(y = C_k) \\approx \\frac{\\text{number of samples with }y = C_k}{\\text{number of all samples}}\n",
    "$$"
   ]
  },
  {
   "cell_type": "markdown",
   "metadata": {
    "school_cell_uuid": "77dc19214f24455e97968eede4c82b06"
   },
   "source": [
    "$y$에 대한 $x$의 조건부 확률인 likelihood는 일반적으로 정규 분포나 베르누이 분포와 같은 특정한 모형을 가정하여 다음과 같이 계산한다.\n",
    "\n",
    "1. $P(x \\mid y = C_k)$ 가 특정한 확률 분포 모형을 따른다고 가정한다.\n",
    "2. 트레이닝 데이터 $\\{x_1, \\cdots, x_N\\}$을 사용하여 이 모형의 모수(parameter)를 구한다.\n",
    "3. 모수를 알고 있으므로 새로운 독립 변수 값 $x_{\\text{new}}$이 어떤 값이 되더라도 $P(x_{\\text{new}} \\mid y = C_k)$ 를 계산할 수 있다."
   ]
  },
  {
   "cell_type": "markdown",
   "metadata": {
    "school_cell_uuid": "db88a20caddb42f7aa5deda97cbd98d8"
   },
   "source": [
    "## likelihood 모형"
   ]
  },
  {
   "cell_type": "markdown",
   "metadata": {
    "school_cell_uuid": "e4053db0a93a476488b5899eeed601bf"
   },
   "source": [
    "likelihood의 모형으로 많이 사용하는 것은 다음과 같다.=> 종류가 3가지, 베르누이분포, 다항분포, 가우시안 정규 분포가 있다. \n",
    "\n",
    "* 베르누이 분포\n",
    "  * $x$가 0 또는 1 값만을 가질 수 있다.\n",
    "  * $x$가 1 이 될 확률은 고정되어 있다.\n",
    "  * 예: 동전을 던진 결과로 어느 동전을 던졌는지를 찾아내는 모형\n",
    "  \n",
    "$$ P(x_i \\mid y = C_k) = \\theta_k^x (1-\\theta_k)^{(1-x_i)} $$\n",
    "\n",
    "\n",
    "* 다항 분포 \n",
    "  * $(x_1, \\ldots, x_n)$ 이 0 또는 양의 정수\n",
    "  * 예: 주사위를 던진 결과로 어느 주사위를 던졌는지를 찾아내는 모형\n",
    "\n",
    "$$ P(x_1, \\ldots, x_n \\mid y = C_k) = \\prod_i \\theta_k^{x_i}$$\n",
    "\n",
    "\n",
    "* 가우시안 정규 분포 (다변수아님)\n",
    "  * $x$가 실수로 특정한 값 근처\n",
    "  * 예: 시험 점수로 학생이 누구인지를 찾아내는 모형\n",
    "  \n",
    "  $$ P(x_i \\mid y = C_k) = \\dfrac{1}{\\sqrt{2\\pi\\sigma_k^2}} \\exp \\left(-\\dfrac{(x_i-\\mu_k)^2}{2\\sigma_k^2}\\right) $$\n",
    "  "
   ]
  },
  {
   "cell_type": "code",
   "execution_count": null,
   "metadata": {
    "collapsed": true
   },
   "outputs": [],
   "source": []
  },
  {
   "cell_type": "markdown",
   "metadata": {
    "school_cell_uuid": "b2c97d48f89f41b6b8f932c2ff703a50"
   },
   "source": [
    "## 나이브 가정"
   ]
  },
  {
   "cell_type": "markdown",
   "metadata": {
    "school_cell_uuid": "783a90b5ba2f4ae6bc01f0e2b8e4e6d3"
   },
   "source": [
    "독립 변수 $x$가 다차원(multi-dimensional) $x = (x_1, \\ldots, x_n)$ 이면 위에서 사용한 likelihood $P(x \\mid y = C_k)$  는 원래 모든 $x_i$에 대한 결합 확률(joint probability) $P(x_1, \\ldots, x_n \\mid y = C_k)$ 을 사용해야 한다. 그러나 이러한 결합 확률은 실제로 입수하기 어렵기 때문에 모든 차원의 개별 독립 변수 요소들이 서로 독립(independent)이라는 가정을 흔히 사용한다. 이러한 가정을 나이브 가정(Naive assumption)이라고 한다.\n",
    "\n",
    "나이브 가정하에서는 결합 확률이 개별 확률의 곱으로 나타난다.\n",
    "\n",
    "$$\n",
    "P(x_1, \\ldots, x_n \\mid y = C_k) = \\prod_{i=1}^n P(x_i \\mid y = C_k)\n",
    "$$\n",
    "\n",
    "\n",
    "\n",
    "$$\n",
    "P(y = C_k \\mid x_{\\text{new}}) \\;\\; \\propto \\;\\; \\prod_{i=1}^n P(x_{\\text{new},i} \\mid y = C_k)\\; P(y = C_k)\n",
    "$$\n"
   ]
  },
  {
   "cell_type": "markdown",
   "metadata": {
    "school_cell_uuid": "a4b7130ea20444c98c864aaa223fb549"
   },
   "source": [
    "## Scikit-Learn에서 제공하는 나이브 베이즈 모형"
   ]
  },
  {
   "cell_type": "markdown",
   "metadata": {
    "school_cell_uuid": "2045e32ec50b497c94a452ecfbbe58e0"
   },
   "source": [
    "Scikit-Learn의 naive_bayes 서브패키지에서는 다음과 같은 세가지 나이브 베이즈 모형 클래스를 제공한다.\n",
    "\n",
    "* [`BernoulliNB`](http://scikit-learn.org/stable/modules/generated/sklearn.naive_bayes.BernoulliNB.html): 베르누이 분포 나이브 베이즈\n",
    "* [`MultinomialNB`](http://scikit-learn.org/stable/modules/generated/sklearn.naive_bayes.MultinomialNB.html): 다항 분포 나이브 베이즈\n",
    "* [`GaussianNB`](http://scikit-learn.org/stable/modules/generated/sklearn.naive_bayes.GaussianNB.html):\t가우시안 정규 분포 나이브 베이즈\n",
    "\n",
    "이 클래스들은 다음과 같은 속성값 및 메서드를 가진다."
   ]
  },
  {
   "cell_type": "markdown",
   "metadata": {
    "school_cell_uuid": "b01b3906ef6748c2a59f622b99f399db"
   },
   "source": [
    "## 사전확률과 관련된 속성\n",
    "\n",
    "* `classes_`: 공통\n",
    "\n",
    " * 타겟 Y의 클래스(라벨)\n",
    "\n",
    "\n",
    "* `class_count_`: 공통\n",
    "\n",
    " * 타겟 Y의 값이 특정한 클래스인 표본 데이터의 수, 사전확률을 구하여 x값을 예측하기 위해: 즉, 몇개가 나왔는지를 봐서 확률로 변환해서 그확률이 나오는 x 추정하기 위해 \n",
    "\n",
    "\n",
    "* `feature_count_`: 베르누이 분포나 다항 분포 \n",
    "\n",
    " * 타겟 Y의 값이 특정한 클래스이면서 독립 변수 X의 값이 1인 표본 데이터의 수 (베르누이 분포).\n",
    " * 타겟 Y의 값이 특정한 클래스인 독립 변수 X의 값의 합 (다항 분포). 독립 변수 값이 1또는 0만 가지는 경우에는 표본 데이터의 수가 된다. \n",
    " \n",
    "\n",
    "* `class_prior_`: 가우시안 정규 분포\n",
    "\n",
    " * 타겟 Y의 무조건부 확률 분포 $ P(Y) $\n",
    " \n",
    "\n",
    "* `class_log_prior_`: 베르누이 분포나 다항 분포 ## 0과 1사이의 값을 가지므로 log를 해주므로써 0과1사이의 구간을 펴준다 (자세히보여줌) \n",
    "\n",
    " * 타겟 Y의 무조건부 확률 분포의 로그 $ \\log P(Y) $\n",
    " \n",
    " \n",
    "## Likelihood 추정속성\n",
    "\n",
    "* `theta_ `, `sigma_` : 가우시안 정규 분포\n",
    "\n",
    " * 가우시안 정규 분포의 기댓값 $\\mu$ 과 분산 $\\sigma^2$\n",
    " \n",
    "\n",
    "* `feature_log_prob_ `: 베르누이 분포나 다항 분포 \n",
    "\n",
    " * 베르누이 분포 혹은 다항 분포의 모수 벡터의 로그\n",
    " $$ \\log \\theta = (\\log \\theta_1, \\ldots, \\log \\theta_n) = \\left( \\log \\dfrac{N_i}{N}, \\ldots, \\log \\dfrac{N_n}{N} \\right)$$\n",
    " \n",
    " * 스무딩(smoothing) 가짜의 데이터를 집어넣음 (2번중에 한번씩 더 꼭 이기게 해주는 보너스게임)\n",
    " $$ \\hat{\\theta} = \\frac{ N_{i} + \\alpha}{N + \\alpha n} $$ \n",
    " \n",
    "* `predict_proba(x_new)` : 공통\n",
    "\n",
    " * 조건부 확률 분포 $ P(Y \\mid X_{\\text{new}}) $"
   ]
  },
  {
   "cell_type": "markdown",
   "metadata": {
    "school_cell_uuid": "808bc7b0424841e9bab1de642e78712a"
   },
   "source": [
    "## 가우시안 정규 분포 나이브 베이즈 모형"
   ]
  },
  {
   "cell_type": "code",
   "execution_count": 15,
   "metadata": {},
   "outputs": [
    {
     "name": "stderr",
     "output_type": "stream",
     "text": [
      "C:\\Users\\User\\Anaconda3\\lib\\site-packages\\matplotlib\\__init__.py:1405: UserWarning: \n",
      "This call to matplotlib.use() has no effect because the backend has already\n",
      "been chosen; matplotlib.use() must be called *before* pylab, matplotlib.pyplot,\n",
      "or matplotlib.backends is imported for the first time.\n",
      "\n",
      "  warnings.warn(_use_error_msg)\n"
     ]
    }
   ],
   "source": [
    "##스타트업 파일\n",
    "\n",
    "from scipy.stats import norm\n",
    "import numpy as np\n",
    "import scipy as sp\n",
    "from pandas.core import datetools \n",
    "import pandas as pd\n",
    "import statsmodels.api as sm ## R 패키지에서 불러온것, 샘플데이터 옮겨쓸수 있는 프로젝트 있음. 회귀분석에 유용 \n",
    "import statsmodels.formula.api as smf\n",
    "import statsmodels.stats.api as sms\n",
    "import sklearn as sk \n",
    "## 전처리 \n",
    "\n",
    "import matplotlib as mpl\n",
    "mpl.use('Agg')\n",
    "import matplotlib.pylab \n",
    "import matplotlib.pyplot as plt\n",
    "%matplotlib inline\n",
    "from mpl_toolkits.mplot3d import Axes3D\n",
    "\n",
    "import seaborn as sns\n",
    "sns.set()\n",
    "sns.set_style(\"whitegrid\")\n",
    "sns.set_color_codes()"
   ]
  },
  {
   "cell_type": "code",
   "execution_count": 16,
   "metadata": {
    "collapsed": true,
    "school_cell_uuid": "97da9bf6a85847cba4d7f1bd2f8ac7f4"
   },
   "outputs": [],
   "source": [
    "np.random.seed(0)\n",
    "X0 = sp.stats.norm(-2, 1).rvs(40)\n",
    "X1 = sp.stats.norm(+2, 1).rvs(60)\n",
    "X = np.hstack([X0, X1])[:, np.newaxis]\n",
    "y0 = np.zeros(40)\n",
    "y1 = np.ones(60)\n",
    "y = np.hstack([y0, y1]) ## 0클래스, 1 클래스로 나뉨 "
   ]
  },
  {
   "cell_type": "code",
   "execution_count": 17,
   "metadata": {},
   "outputs": [
    {
     "data": {
      "text/plain": [
       "array([ 0.95144703,  0.57998206,  0.29372981,  3.9507754 ,  1.49034782,\n",
       "        1.5619257 ,  0.74720464,  2.77749036,  0.38610215,  1.78725972,\n",
       "        1.10453344,  2.3869025 ,  1.48919486,  0.81936782,  1.97181777,\n",
       "        2.42833187,  2.06651722,  2.3024719 ,  1.36567791,  1.63725883,\n",
       "        1.32753955,  1.64044684,  1.18685372,  0.2737174 ,  2.17742614,\n",
       "        1.59821906,  0.36980165,  2.46278226,  1.09270164,  2.0519454 ,\n",
       "        2.72909056,  2.12898291,  3.13940068,  0.76517418,  2.40234164,\n",
       "        1.31518991,  1.12920285,  1.42115034,  1.68844747,  2.05616534,\n",
       "        0.83485016,  2.90082649,  2.46566244,  0.46375631,  3.48825219,\n",
       "        3.89588918,  3.17877957,  1.82007516,  0.92924738,  3.05445173,\n",
       "        1.59682305,  3.22244507,  2.20827498,  2.97663904,  2.3563664 ,\n",
       "        2.70657317,  2.01050002,  3.78587049,  2.12691209,  2.40198936])"
      ]
     },
     "execution_count": 17,
     "metadata": {},
     "output_type": "execute_result"
    }
   ],
   "source": [
    "X1"
   ]
  },
  {
   "cell_type": "code",
   "execution_count": 18,
   "metadata": {
    "school_cell_uuid": "80b99d11561249ba96408c2e728694b9"
   },
   "outputs": [
    {
     "data": {
      "image/png": "[encoded data removed]",
      "text/plain": [
       "<matplotlib.figure.Figure at 0x20c96b8df60>"
      ]
     },
     "metadata": {},
     "output_type": "display_data"
    }
   ],
   "source": [
    "sns.distplot(X0, rug=True, kde=False, norm_hist=True, label=\"class 0\")\n",
    "sns.distplot(X1, rug=True, kde=False, norm_hist=True, label=\"class 1\")\n",
    "plt.legend()\n",
    "plt.xlim(-6,6)\n",
    "plt.show()"
   ]
  },
  {
   "cell_type": "code",
   "execution_count": 19,
   "metadata": {
    "collapsed": true,
    "school_cell_uuid": "9864b77938cb40d3835c5f4937748b39"
   },
   "outputs": [],
   "source": [
    "from sklearn.naive_bayes import GaussianNB\n",
    "clf_norm = GaussianNB().fit(X, y)"
   ]
  },
  {
   "cell_type": "code",
   "execution_count": 20,
   "metadata": {
    "school_cell_uuid": "cb9eeb04ad184d57bc9dddfa1e3b877c"
   },
   "outputs": [
    {
     "data": {
      "text/plain": [
       "array([ 0.,  1.])"
      ]
     },
     "execution_count": 20,
     "metadata": {},
     "output_type": "execute_result"
    }
   ],
   "source": [
    "clf_norm.classes_ ## 클래스 0,1 로 나뉨 "
   ]
  },
  {
   "cell_type": "code",
   "execution_count": 21,
   "metadata": {
    "school_cell_uuid": "b6ad1ddc9e1d40dcb78b998e3eaf68e4"
   },
   "outputs": [
    {
     "data": {
      "text/plain": [
       "array([ 40.,  60.])"
      ]
     },
     "execution_count": 21,
     "metadata": {},
     "output_type": "execute_result"
    }
   ],
   "source": [
    "clf_norm.class_count_## 0일때 개수 , 1일때 개수"
   ]
  },
  {
   "cell_type": "code",
   "execution_count": 22,
   "metadata": {
    "school_cell_uuid": "02fc24bc8b1f4ff68e5c32fb2b744a28"
   },
   "outputs": [
    {
     "data": {
      "text/plain": [
       "array([ 0.4,  0.6])"
      ]
     },
     "execution_count": 22,
     "metadata": {},
     "output_type": "execute_result"
    }
   ],
   "source": [
    "clf_norm.class_prior_## 사전확률:0클래스가 나올확률 0.4 "
   ]
  },
  {
   "cell_type": "code",
   "execution_count": 23,
   "metadata": {
    "school_cell_uuid": "b4e89ebfafd748a0b6000bdc29b59592"
   },
   "outputs": [
    {
     "data": {
      "text/plain": [
       "(array([[-1.68745753],\n",
       "        [ 1.89131838]]), array([[ 1.13280656],\n",
       "        [ 0.8668681 ]]))"
      ]
     },
     "execution_count": 23,
     "metadata": {},
     "output_type": "execute_result"
    }
   ],
   "source": [
    "clf_norm.theta_, clf_norm.sigma_## 가우시안 정규 분포의 기댓값 mu과 분산 sigma"
   ]
  },
  {
   "cell_type": "code",
   "execution_count": 24,
   "metadata": {
    "school_cell_uuid": "edd396630c754e4dba566e42724158f7"
   },
   "outputs": [
    {
     "data": {
      "image/png": "[encoded data removed]",
      "text/plain": [
       "<matplotlib.figure.Figure at 0x20c96f1e160>"
      ]
     },
     "metadata": {},
     "output_type": "display_data"
    }
   ],
   "source": [
    "xx = np.linspace(-6, 6, 100)\n",
    "p0 = sp.stats.norm(clf_norm.theta_[0], clf_norm.sigma_[0]).pdf(xx)\n",
    "p1 = sp.stats.norm(clf_norm.theta_[1], clf_norm.sigma_[1]).pdf(xx)                                                               \n",
    "sns.distplot(X0, rug=True, kde=False, norm_hist=True, color=\"r\", label=\"class 0 histogram\")\n",
    "sns.distplot(X1, rug=True, kde=False, norm_hist=True, color=\"b\", label=\"class 1 histogram\")\n",
    "plt.plot(xx, p0, c=\"r\", label=\"class 0 est. pdf\")\n",
    "plt.plot(xx, p1, c=\"b\", label=\"class 1 est. pdf\")\n",
    "plt.legend()\n",
    "plt.show()"
   ]
  },
  {
   "cell_type": "code",
   "execution_count": 25,
   "metadata": {
    "school_cell_uuid": "04d31d13bfc449179be9f30efeea2a99"
   },
   "outputs": [
    {
     "data": {
      "text/plain": [
       "array([[ 0.98327446,  0.01672554]])"
      ]
     },
     "execution_count": 25,
     "metadata": {},
     "output_type": "execute_result"
    }
   ],
   "source": [
    "x_new = -1\n",
    "clf_norm.predict_proba([[x_new]]) ##  x= -1 일경우 클래스가 0일확률, 클래스가 1일 확률 "
   ]
  },
  {
   "cell_type": "code",
   "execution_count": 26,
   "metadata": {
    "school_cell_uuid": "c75dd6bc72314b7ea7c735e319616c9f"
   },
   "outputs": [
    {
     "data": {
      "text/plain": [
       "array([[ 0.30425666],\n",
       "       [ 0.00345028]])"
      ]
     },
     "execution_count": 26,
     "metadata": {},
     "output_type": "execute_result"
    }
   ],
   "source": [
    "px = sp.stats.norm(clf_norm.theta_, np.sqrt(clf_norm.sigma_)).pdf(x_new)\n",
    "px ## likelihood"
   ]
  },
  {
   "cell_type": "code",
   "execution_count": 27,
   "metadata": {
    "school_cell_uuid": "fe76b76db88749ffb597e83fb53ce034"
   },
   "outputs": [
    {
     "data": {
      "text/plain": [
       "array([ 0.12170266,  0.00207017])"
      ]
     },
     "execution_count": 27,
     "metadata": {},
     "output_type": "execute_result"
    }
   ],
   "source": [
    "p = px.flatten() * clf_norm.class_prior_\n",
    "p"
   ]
  },
  {
   "cell_type": "code",
   "execution_count": 28,
   "metadata": {
    "school_cell_uuid": "6ca21b24e0ff4cb093eabebc71c9a33f"
   },
   "outputs": [
    {
     "data": {
      "text/plain": [
       "array([ 0.4,  0.6])"
      ]
     },
     "execution_count": 28,
     "metadata": {},
     "output_type": "execute_result"
    }
   ],
   "source": [
    "clf_norm.class_prior_"
   ]
  },
  {
   "cell_type": "code",
   "execution_count": 29,
   "metadata": {
    "school_cell_uuid": "158f3adf5dd54fcf9ac9a58cd30b9138"
   },
   "outputs": [
    {
     "data": {
      "text/plain": [
       "array([ 0.98327446,  0.01672554])"
      ]
     },
     "execution_count": 29,
     "metadata": {},
     "output_type": "execute_result"
    }
   ],
   "source": [
    "p / p.sum() ## 노멀라이징 = predict.prob_와 같다 "
   ]
  },
  {
   "cell_type": "markdown",
   "metadata": {
    "school_cell_uuid": "9d769771b57c4db99bc33668b8fb955e"
   },
   "source": [
    "## 베르누이 분포 나이브 베이즈 모형"
   ]
  },
  {
   "cell_type": "markdown",
   "metadata": {
    "school_cell_uuid": "80ccb839cfd649d5b4f6d24323fd3f44"
   },
   "source": [
    "베르누이 나이브 베이즈 모형에서는 타겟 변수뿐 아니라 독립 변수도 0 또는 1의 값을 가져야 한다. 예를 들어 전자우편과 같은 문서 내에 특정한 단어가 포함되어 있는지의 여부는 베르누이 확률 변수로 모형화할 수 있으므로 스팸 필터링에 사용할 수 있다."
   ]
  },
  {
   "cell_type": "code",
   "execution_count": 30,
   "metadata": {
    "school_cell_uuid": "d59b398d0a72413f96f1a665b485fbad"
   },
   "outputs": [
    {
     "name": "stdout",
     "output_type": "stream",
     "text": [
      "[[0 1 1 0]\n",
      " [1 1 1 1]\n",
      " [1 1 1 0]\n",
      " [0 1 0 0]\n",
      " [0 0 0 1]\n",
      " [0 1 1 0]\n",
      " [0 1 1 1]\n",
      " [1 0 1 0]\n",
      " [1 0 1 1]\n",
      " [0 1 1 0]]\n",
      "[0 0 0 0 1 1 1 1 1 1]\n"
     ]
    }
   ],
   "source": [
    "np.random.seed(0)\n",
    "X = np.random.randint(2, size=(10, 4))\n",
    "y = np.array([0,0,0,0,1,1,1,1,1,1])\n",
    "print(X)\n",
    "print(y) ## 예시: 문서 내용이 스팸 단어가 들어가있음 0인경우 특정단어 없음, 1인경우 있음\n",
    "## 처음 1번 데이터는 2번단어와 3번단어가 나왔음 \n",
    "## y는 스팸인지 아닌지를 나타냄 "
   ]
  },
  {
   "cell_type": "code",
   "execution_count": 31,
   "metadata": {
    "collapsed": true,
    "school_cell_uuid": "17debdb4ac894e6c9c7320033b0aafd6"
   },
   "outputs": [],
   "source": [
    "from sklearn.naive_bayes import BernoulliNB\n",
    "clf_bern = BernoulliNB().fit(X, y)"
   ]
  },
  {
   "cell_type": "code",
   "execution_count": 32,
   "metadata": {
    "school_cell_uuid": "b250bc72b41a43388acbecf8e2cf1193"
   },
   "outputs": [
    {
     "data": {
      "text/plain": [
       "array([0, 1])"
      ]
     },
     "execution_count": 32,
     "metadata": {},
     "output_type": "execute_result"
    }
   ],
   "source": [
    "clf_bern.classes_## 베르누이 클래스 분류 "
   ]
  },
  {
   "cell_type": "code",
   "execution_count": 33,
   "metadata": {
    "school_cell_uuid": "2b17bfa4b4064d55a67bb51267c76d87"
   },
   "outputs": [
    {
     "data": {
      "text/plain": [
       "array([ 4.,  6.])"
      ]
     },
     "execution_count": 33,
     "metadata": {},
     "output_type": "execute_result"
    }
   ],
   "source": [
    "clf_bern.class_count_"
   ]
  },
  {
   "cell_type": "code",
   "execution_count": 34,
   "metadata": {
    "school_cell_uuid": "f7938005b3944566bbe67ce51cce144f"
   },
   "outputs": [
    {
     "data": {
      "text/plain": [
       "array([ 0.4,  0.6])"
      ]
     },
     "execution_count": 34,
     "metadata": {},
     "output_type": "execute_result"
    }
   ],
   "source": [
    "np.exp(clf_bern.class_log_prior_) ## 스팸일 사전확률 "
   ]
  },
  {
   "cell_type": "code",
   "execution_count": 35,
   "metadata": {
    "school_cell_uuid": "7b33caf4498147fba8973eaf55c6a3be"
   },
   "outputs": [
    {
     "data": {
      "text/plain": [
       "array([[ 2.,  4.,  3.,  1.],\n",
       "       [ 2.,  3.,  5.,  3.]])"
      ]
     },
     "execution_count": 35,
     "metadata": {},
     "output_type": "execute_result"
    }
   ],
   "source": [
    "fc = clf_bern.feature_count_ \n",
    "## 첫번째 데이터: 스팸메일중에 1,2,3,4번단어나온횟수 \n",
    "## 두번째 데이터: 정상메일 중에 1,2,3,4번단어나온횟수\n",
    "fc\n",
    "## 모수 세타값과 사전확률 손으로 구하기 시험 나옴 "
   ]
  },
  {
   "cell_type": "code",
   "execution_count": 36,
   "metadata": {
    "school_cell_uuid": "47a95af371fc45fc83306f34fd77016e"
   },
   "outputs": [
    {
     "data": {
      "text/plain": [
       "array([[ 0.5       ,  1.        ,  0.75      ,  0.25      ],\n",
       "       [ 0.33333333,  0.5       ,  0.83333333,  0.5       ]])"
      ]
     },
     "execution_count": 36,
     "metadata": {},
     "output_type": "execute_result"
    }
   ],
   "source": [
    "fc / np.repeat(clf_bern.class_count_[:, np.newaxis], 4, axis=1)"
   ]
  },
  {
   "cell_type": "code",
   "execution_count": 67,
   "metadata": {
    "school_cell_uuid": "f49afd97c9774a45be9804af159db458"
   },
   "outputs": [
    {
     "data": {
      "text/plain": [
       "array([[ 0.5       ,  0.83333333,  0.66666667,  0.33333333],\n",
       "       [ 0.375     ,  0.5       ,  0.75      ,  0.5       ]])"
      ]
     },
     "execution_count": 67,
     "metadata": {},
     "output_type": "execute_result"
    }
   ],
   "source": [
    "theta = np.exp(clf_bern.feature_log_prob_) ## 모수: 사전확률 구하기\n",
    "theta\n",
    "## feature_log_prob(smoothing): 가짜의 데이터를 집어넣음 (2번중에 한번씩 더 꼭 이기게 주는 보너스게임)\n",
    "## 효과: 극단적으로 조금몰아줌 0.3 인경우 0.29999 로 해서 데이터를 분활 "
   ]
  },
  {
   "cell_type": "code",
   "execution_count": 38,
   "metadata": {
    "collapsed": true,
    "school_cell_uuid": "207f35ab3e8148fcbbb04d65ba9d0420"
   },
   "outputs": [],
   "source": [
    "x_new = np.array([1, 1, 0, 0])"
   ]
  },
  {
   "cell_type": "code",
   "execution_count": 39,
   "metadata": {
    "school_cell_uuid": "8f9d6ded36204b71af7119d93808b86a"
   },
   "outputs": [
    {
     "data": {
      "text/plain": [
       "array([[ 0.72480181,  0.27519819]])"
      ]
     },
     "execution_count": 39,
     "metadata": {},
     "output_type": "execute_result"
    }
   ],
   "source": [
    "clf_bern.predict_proba([x_new]) ## 합치면 1 \n",
    "## 클라스 0일 확률(스팸메일) Vs. 클라스 1일 확률 (정상메일)"
   ]
  },
  {
   "cell_type": "code",
   "execution_count": 40,
   "metadata": {
    "school_cell_uuid": "d5fc364f318c4f91970b7f693a94acfe"
   },
   "outputs": [
    {
     "data": {
      "text/plain": [
       "array([ 0.72480181,  0.27519819])"
      ]
     },
     "execution_count": 40,
     "metadata": {},
     "output_type": "execute_result"
    }
   ],
   "source": [
    "p = ((theta**x_new)*(1-theta)**(1-x_new)).prod(axis=1)*np.exp(clf_bern.class_log_prior_)\n",
    "p / p.sum()"
   ]
  },
  {
   "cell_type": "code",
   "execution_count": 76,
   "metadata": {},
   "outputs": [
    {
     "data": {
      "text/plain": [
       "array([  1.80844907e+05,   1.39471376e+01])"
      ]
     },
     "execution_count": 76,
     "metadata": {},
     "output_type": "execute_result"
    }
   ],
   "source": [
    "p = ((theta**x_new)*(1-theta)**(1-x_new)).prod(axis=1)\n",
    "p\n"
   ]
  },
  {
   "cell_type": "code",
   "execution_count": 41,
   "metadata": {
    "collapsed": true,
    "school_cell_uuid": "25680b0ae84a495d910df725671553fc"
   },
   "outputs": [],
   "source": [
    "x_new = np.array([0, 0, 1, 1])"
   ]
  },
  {
   "cell_type": "code",
   "execution_count": 42,
   "metadata": {
    "school_cell_uuid": "1179f8ffe37b48369308c94d38d117b6"
   },
   "outputs": [
    {
     "data": {
      "text/plain": [
       "array([[ 0.09530901,  0.90469099]])"
      ]
     },
     "execution_count": 42,
     "metadata": {},
     "output_type": "execute_result"
    }
   ],
   "source": [
    "clf_bern.predict_proba([x_new]) ##y = 0일확률, y=1이 나올확률 "
   ]
  },
  {
   "cell_type": "code",
   "execution_count": 43,
   "metadata": {
    "school_cell_uuid": "866dcc436af342fda4ffd91f1abc4a4e"
   },
   "outputs": [
    {
     "data": {
      "text/plain": [
       "array([ 0.09530901,  0.90469099])"
      ]
     },
     "execution_count": 43,
     "metadata": {},
     "output_type": "execute_result"
    }
   ],
   "source": [
    "p = ((theta**x_new)*(1-theta)**(1-x_new)).prod(axis=1)*np.exp(clf_bern.class_log_prior_)\n",
    "p / p.sum()"
   ]
  },
  {
   "cell_type": "code",
   "execution_count": 65,
   "metadata": {},
   "outputs": [
    {
     "data": {
      "text/html": [
       "<div>\n",
       "<style>\n",
       "    .dataframe thead tr:only-child th {\n",
       "        text-align: right;\n",
       "    }\n",
       "\n",
       "    .dataframe thead th {\n",
       "        text-align: left;\n",
       "    }\n",
       "\n",
       "    .dataframe tbody tr th {\n",
       "        vertical-align: top;\n",
       "    }\n",
       "</style>\n",
       "<table border=\"1\" class=\"dataframe\">\n",
       "  <thead>\n",
       "    <tr style=\"text-align: right;\">\n",
       "      <th></th>\n",
       "      <th>0</th>\n",
       "    </tr>\n",
       "  </thead>\n",
       "  <tbody>\n",
       "    <tr>\n",
       "      <th>0</th>\n",
       "      <td>2.130471e-27</td>\n",
       "    </tr>\n",
       "    <tr>\n",
       "      <th>1</th>\n",
       "      <td>3.353528e-27</td>\n",
       "    </tr>\n",
       "  </tbody>\n",
       "</table>\n",
       "</div>"
      ],
      "text/plain": [
       "              0\n",
       "0  2.130471e-27\n",
       "1  3.353528e-27"
      ]
     },
     "execution_count": 65,
     "metadata": {},
     "output_type": "execute_result"
    }
   ],
   "source": [
    "pd.DataFrame(p)"
   ]
  },
  {
   "cell_type": "markdown",
   "metadata": {
    "school_cell_uuid": "e64973da29eb48dfa2cc8d7e8f1eaccb"
   },
   "source": [
    "## 다항 분포 나이브 베이즈 모형"
   ]
  },
  {
   "cell_type": "code",
   "execution_count": 45,
   "metadata": {
    "school_cell_uuid": "d59b398d0a72413f96f1a665b485fbad"
   },
   "outputs": [
    {
     "name": "stdout",
     "output_type": "stream",
     "text": [
      "[[3 4 1 2]\n",
      " [3 5 1 1]\n",
      " [3 3 0 4]\n",
      " [3 4 1 2]\n",
      " [1 2 1 4]\n",
      " [0 0 5 3]\n",
      " [1 2 4 1]\n",
      " [1 1 4 2]\n",
      " [0 1 2 5]\n",
      " [2 1 2 3]]\n",
      "[0 0 0 0 1 1 1 1 1 1]\n"
     ]
    }
   ],
   "source": [
    "np.random.seed(0)\n",
    "X0 = np.random.multinomial(10, [0.3, 0.5, 0.1, 0.1], size=4) ## 샘플한번에 10개횟수로 던짐, 총 4세트 \n",
    "X1 = np.random.multinomial(8, [0.1, 0.1, 0.35, 0.45], size=6)## 샘플한번에 10개횟수로 던짐, 총 6세트 \n",
    "X = np.vstack([X0, X1])\n",
    "y = np.array([0,0,0,0,1,1,1,1,1,1])\n",
    "print(X)\n",
    "print(y)"
   ]
  },
  {
   "cell_type": "code",
   "execution_count": 46,
   "metadata": {
    "collapsed": true,
    "school_cell_uuid": "1f25b33f28db47c9b657b39046428cea"
   },
   "outputs": [],
   "source": [
    "from sklearn.naive_bayes import MultinomialNB # 다변수 나이브베이즈\n",
    "clf_mult = MultinomialNB().fit(X, y)"
   ]
  },
  {
   "cell_type": "code",
   "execution_count": 47,
   "metadata": {
    "school_cell_uuid": "afca993626b446d282891b309ffbc2a1"
   },
   "outputs": [
    {
     "data": {
      "text/plain": [
       "array([0, 1])"
      ]
     },
     "execution_count": 47,
     "metadata": {},
     "output_type": "execute_result"
    }
   ],
   "source": [
    "clf_mult.classes_ ## 클래스 y=0인경우 , y= 1인경우 "
   ]
  },
  {
   "cell_type": "code",
   "execution_count": 48,
   "metadata": {
    "school_cell_uuid": "493061cf270f41ee9af14c6312ec0329"
   },
   "outputs": [
    {
     "data": {
      "text/plain": [
       "array([ 4.,  6.])"
      ]
     },
     "execution_count": 48,
     "metadata": {},
     "output_type": "execute_result"
    }
   ],
   "source": [
    "clf_mult.class_count_ ## 총 10세트 , 각 1세트당 처음 4번은 10번씩 던짐  다음 6세트는 주사위 8번씩 던짐"
   ]
  },
  {
   "cell_type": "code",
   "execution_count": 49,
   "metadata": {
    "school_cell_uuid": "d3f8b803315d4354a843775bcb34785b"
   },
   "outputs": [
    {
     "data": {
      "text/plain": [
       "array([[ 12.,  16.,   3.,   9.],\n",
       "       [  5.,   7.,  18.,  18.]])"
      ]
     },
     "execution_count": 49,
     "metadata": {},
     "output_type": "execute_result"
    }
   ],
   "source": [
    "fc = clf_mult.feature_count_ ### y= 0인경우 x1=12번나옴 x= 2 인경우 16번 나옴, x=3인경우 3번 나옴, x=4 인경우 9번나옴 \n",
    "fc ## y=1 일때 x1=5번나옴 x= 2 인경우 7번 나옴, x=3인경우 18번 나옴, x=4 인경우 18번나옴 "
   ]
  },
  {
   "cell_type": "code",
   "execution_count": 50,
   "metadata": {
    "school_cell_uuid": "f542e381752d46698433646c8001dae7"
   },
   "outputs": [
    {
     "data": {
      "text/plain": [
       "array([[ 0.3       ,  0.4       ,  0.075     ,  0.225     ],\n",
       "       [ 0.10416667,  0.14583333,  0.375     ,  0.375     ]])"
      ]
     },
     "execution_count": 50,
     "metadata": {},
     "output_type": "execute_result"
    }
   ],
   "source": [
    "fc / np.repeat(fc.sum(axis=1)[:, np.newaxis], 4, axis=1) ## x=1,2,3,4 의 각각의 나온횟수 /y= 0인경우 4세트의 총 던진횟수(40회) "
   ]
  },
  {
   "cell_type": "code",
   "execution_count": 51,
   "metadata": {
    "school_cell_uuid": "e7d1c6fb3d3340d8ac7a6f58bb29b85c"
   },
   "outputs": [
    {
     "data": {
      "text/plain": [
       "1.0"
      ]
     },
     "execution_count": 51,
     "metadata": {},
     "output_type": "execute_result"
    }
   ],
   "source": [
    "clf_mult.alpha ## smoothing 해주기위해서  각각의 x=1,2,3,4 나온횟수에 1씩 더하기 "
   ]
  },
  {
   "cell_type": "code",
   "execution_count": 52,
   "metadata": {
    "school_cell_uuid": "6deb103fec814f148de41e180edb5d7e"
   },
   "outputs": [
    {
     "data": {
      "text/plain": [
       "array([[ 0.29545455,  0.38636364,  0.09090909,  0.22727273],\n",
       "       [ 0.11538462,  0.15384615,  0.36538462,  0.36538462]])"
      ]
     },
     "execution_count": 52,
     "metadata": {},
     "output_type": "execute_result"
    }
   ],
   "source": [
    "(fc + clf_mult.alpha) / (np.repeat(fc.sum(axis=1)[:, np.newaxis], 4, axis=1) + clf_mult.alpha * X.shape[1]) ## x =1,2,3,4 의 총클래스 수= 4 "
   ]
  },
  {
   "cell_type": "code",
   "execution_count": 53,
   "metadata": {
    "school_cell_uuid": "270c34d4368e460abdefee777b1882c9"
   },
   "outputs": [
    {
     "data": {
      "text/plain": [
       "array([[ 0.29545455,  0.38636364,  0.09090909,  0.22727273],\n",
       "       [ 0.11538462,  0.15384615,  0.36538462,  0.36538462]])"
      ]
     },
     "execution_count": 53,
     "metadata": {},
     "output_type": "execute_result"
    }
   ],
   "source": [
    "theta = np.exp(clf_mult.feature_log_prob_)\n",
    "theta ## smoothing 된 모수들 "
   ]
  },
  {
   "cell_type": "code",
   "execution_count": 54,
   "metadata": {
    "school_cell_uuid": "0ce991747125437d94857adc9a589bc6"
   },
   "outputs": [
    {
     "data": {
      "text/plain": [
       "array([[ 0.38848858,  0.61151142]])"
      ]
     },
     "execution_count": 54,
     "metadata": {},
     "output_type": "execute_result"
    }
   ],
   "source": [
    "x_new = np.array([10, 10, 10, 10]) ## X_new 가 다음과 같이 있을때 \n",
    "clf_mult.predict_proba([x_new])  ##y = 0일확률, y=1이 나올확률 "
   ]
  },
  {
   "cell_type": "code",
   "execution_count": 55,
   "metadata": {
    "school_cell_uuid": "dc410c542a834ee9ad18ecee995fc26c"
   },
   "outputs": [
    {
     "data": {
      "text/plain": [
       "array([ 0.38848858,  0.61151142])"
      ]
     },
     "execution_count": 55,
     "metadata": {},
     "output_type": "execute_result"
    }
   ],
   "source": [
    "p = (theta**x_new).prod(axis=1)*np.exp(clf_bern.class_log_prior_)\n",
    "p / p.sum()##y = 0일확률, y=1이 나올확률 "
   ]
  },
  {
   "cell_type": "markdown",
   "metadata": {
    "school_cell_uuid": "65e8aa79d4e04c8b9bf61f54bb3770d4"
   },
   "source": [
    "## 뉴스 그룹 분류"
   ]
  },
  {
   "cell_type": "markdown",
   "metadata": {
    "school_cell_uuid": "7df6316aa783456b9531a14713acf626"
   },
   "source": [
    "다음은 20 News Group 데이터에 대해 나이브 베이즈 분류 모형을 적용한 결과이다. "
   ]
  },
  {
   "cell_type": "code",
   "execution_count": 77,
   "metadata": {
    "collapsed": true,
    "school_cell_uuid": "a42d82e873f740a7b54a49c91db02b2c"
   },
   "outputs": [],
   "source": [
    "from sklearn.datasets import fetch_20newsgroups\n",
    "\n",
    "news = fetch_20newsgroups(subset=\"all\")\n",
    "X = news.data\n",
    "y = news.target"
   ]
  },
  {
   "cell_type": "code",
   "execution_count": 79,
   "metadata": {
    "school_cell_uuid": "65ae35ff17d949daae55a93d24aabc62"
   },
   "outputs": [
    {
     "ename": "SyntaxError",
     "evalue": "invalid syntax (<ipython-input-79-033ab3709862>, line 20)",
     "output_type": "error",
     "traceback": [
      "\u001b[1;36m  File \u001b[1;32m\"<ipython-input-79-033ab3709862>\"\u001b[1;36m, line \u001b[1;32m20\u001b[0m\n\u001b[1;33m    token_pattern=ur\"\\b[a-z0-9_\\-\\.]+[a-z][a-z0-9_\\-\\.]+\\b\")),\u001b[0m\n\u001b[1;37m                                                          ^\u001b[0m\n\u001b[1;31mSyntaxError\u001b[0m\u001b[1;31m:\u001b[0m invalid syntax\n"
     ]
    }
   ],
   "source": [
    "from sklearn.feature_extraction.text import TfidfVectorizer, HashingVectorizer, CountVectorizer\n",
    "from sklearn.naive_bayes import MultinomialNB\n",
    "from sklearn.pipeline import Pipeline\n",
    "import regularexpression as re\n",
    "\n",
    "model1 = Pipeline([\n",
    "            ('vect', CountVectorizer()), \n",
    "            ('clf', MultinomialNB()),\n",
    "         ])\n",
    "model2 = Pipeline([\n",
    "            ('vect', TfidfVectorizer()),\n",
    "            ('clf', MultinomialNB()),\n",
    "         ])\n",
    "model3 = Pipeline([\n",
    "            ('vect', TfidfVectorizer(stop_words=\"english\")),\n",
    "            ('clf', MultinomialNB()),\n",
    "         ])\n",
    "model4 = Pipeline([\n",
    "            ('vect', TfidfVectorizer(stop_words=\"english\", \n",
    "                                     token_pattern=ur\"\\b[a-z0-9_\\-\\.]+[a-z][a-z0-9_\\-\\.]+\\b\")),\n",
    "            ('clf', MultinomialNB()),\n",
    "         ])"
   ]
  },
  {
   "cell_type": "code",
   "execution_count": null,
   "metadata": {
    "collapsed": true,
    "school_cell_uuid": "ba99c79cbebf494791e704c7552f69ee"
   },
   "outputs": [],
   "source": [
    "%%time\n",
    "from sklearn.model_selection import cross_val_score, KFold\n",
    "\n",
    "for i, clf in enumerate([model1, model2, model3, model4]):\n",
    "    scores = cross_val_score(clf, X, y, cv=5)\n",
    "    print((\"Model{0:d}: Mean score: {1:.3f})\").format(i, np.mean(scores)))"
   ]
  }
 ],
 "metadata": {
  "kernelspec": {
   "display_name": "Python 3",
   "language": "python",
   "name": "python3"
  },
  "language_info": {
   "codemirror_mode": {
    "name": "ipython",
    "version": 3
   },
   "file_extension": ".py",
   "mimetype": "text/x-python",
   "name": "python",
   "nbconvert_exporter": "python",
   "pygments_lexer": "ipython3",
   "version": "3.6.1"
  }
 },
 "nbformat": 4,
 "nbformat_minor": 1
}
