{
 "cells": [
  {
   "cell_type": "markdown",
   "metadata": {
    "collapsed": true,
    "school_cell_uuid": "503589e470af45d89e13b82dde8cb46f"
   },
   "source": [
    "# Keras 패키지를 사용한 신경망 구현"
   ]
  },
  {
   "cell_type": "markdown",
   "metadata": {
    "school_cell_uuid": "2969a8fdfb7e4e3bb57990a494a2e4f0"
   },
   "source": [
    "Keras 패키지는 theano 또는 tensorflow 를 계산 엔진으로 사용할 수 있는 파이썬 패키지다. 신경망을 구성하기 위한 각 구성요소를 클래스로 제공하기 때문에 이를 간단히 연결하기만 하면 신경망을 구현할 수 있다."
   ]
  },
  {
   "cell_type": "markdown",
   "metadata": {
    "school_cell_uuid": "b7a809d1ae724ba999e540e970491fa5"
   },
   "source": [
    "## 샘플 데이터"
   ]
  },
  {
   "cell_type": "markdown",
   "metadata": {
    "school_cell_uuid": "bea39285eff04bf08597c8589d0779cb"
   },
   "source": [
    "Keras 는 다음과 같은 샘플 데이터를 가지고 있다. 이 데이터는 처음 사용할 때 인터넷에서 다운로드 한다.\n",
    "\n",
    "* CIFAR10 이미지\n",
    "  * 10 종류의 카테고리 라벨을 가지는 50,000 개의 32x32 해상도 컬러 트레이닝 이미지와 10,000 개의 테스트 이미지\n",
    "\n",
    "* IMDB 영화 감상\n",
    "  * positive/negative 라벨을 가지는 25,000 영화 감상 데이터\n",
    "  * 텍스트 단어는 숫자로 인코딩되어 있음\n",
    "\n",
    "* 로이터 뉴스 토픽 \n",
    "  * 46 종류의 토픽 라벨을 가지는 11,228 개의 로이터 뉴스 텍스트\n",
    "  * 텍스트 단어는 숫자로 인코딩되어 있음\n",
    "\n",
    "* MNIST 숫자 이미지\n",
    "  * 0부터 9까지의 숫자에 대한 28x28 단색 이미지\n",
    "  * 트레이딩 데이터 60,000개. 테스트 이미지 10,000개\n",
    "\n",
    "* Boston housing price\n",
    "  * 보스턴 주택 가격 데이터"
   ]
  },
  {
   "cell_type": "markdown",
   "metadata": {
    "school_cell_uuid": "911e64b93e70485986248f65f404a285"
   },
   "source": [
    "여기에서는 MNIST 데이터를 사용하여 신경망을 구현하는 예를 보인다. 신경망의 구조는 다음 그림과 같다."
   ]
  },
  {
   "cell_type": "markdown",
   "metadata": {
    "school_cell_uuid": "27bc4941ec7042beb8453fe317f953fd"
   },
   "source": [
    "<img src=\"https://datascienceschool.net/upfiles/90f2752671424cef846839b89ddcf6aa.png\">"
   ]
  },
  {
   "cell_type": "code",
   "execution_count": 1,
   "metadata": {},
   "outputs": [
    {
     "name": "stderr",
     "output_type": "stream",
     "text": [
      "C:\\Users\\User\\Anaconda3\\lib\\site-packages\\ipykernel_launcher.py:6: FutureWarning: The pandas.core.datetools module is deprecated and will be removed in a future version. Please use the pandas.tseries module instead.\n",
      "  \n"
     ]
    }
   ],
   "source": [
    "##스타트업 파일\n",
    "\n",
    "from scipy.stats import norm\n",
    "import numpy as np\n",
    "import scipy as sp\n",
    "from pandas.core import datetools \n",
    "import pandas as pd\n",
    "import statsmodels.api as sm ## R 패키지에서 불러온것, 샘플데이터 옮겨쓸수 있는 프로젝트 있음. 회귀분석에 유용 \n",
    "import statsmodels.formula.api as smf\n",
    "import statsmodels.stats.api as sms\n",
    "import sklearn as sk \n",
    "## 전처리 \n",
    "\n",
    "import matplotlib as mpl\n",
    "mpl.use('Agg')\n",
    "import matplotlib.pylab \n",
    "import matplotlib.pyplot as plt\n",
    "%matplotlib inline\n",
    "from mpl_toolkits.mplot3d import Axes3D\n",
    "\n",
    "import seaborn as sns\n",
    "sns.set()\n",
    "sns.set_style(\"whitegrid\")\n",
    "sns.set_color_codes()\n"
   ]
  },
  {
   "cell_type": "code",
   "execution_count": 75,
   "metadata": {
    "school_cell_uuid": "91e6d0a8cd9841cf9df5ab08fbcf2b1a"
   },
   "outputs": [
    {
     "name": "stdout",
     "output_type": "stream",
     "text": [
      "(60000, 28, 28) uint8\n",
      "(60000,) uint8\n",
      "(10000, 28, 28) uint8\n",
      "(10000,) uint8\n"
     ]
    }
   ],
   "source": [
    "from keras.datasets import mnist\n",
    "\n",
    "(X_train0, y_train0), (X_test0, y_test0) = mnist.load_data()\n",
    "\n",
    "print(X_train0.shape, X_train0.dtype)\n",
    "print(y_train0.shape, y_train0.dtype)\n",
    "print(X_test0.shape, X_test0.dtype)\n",
    "print(y_test0.shape, y_test0.dtype)\n"
   ]
  },
  {
   "cell_type": "markdown",
   "metadata": {
    "school_cell_uuid": "dbd8c0c7a6544459a16f598544aff993"
   },
   "source": [
    "데이터를 float 타입으로 바꾸고 스케일링한다."
   ]
  },
  {
   "cell_type": "code",
   "execution_count": 64,
   "metadata": {
    "school_cell_uuid": "d2d71b13649746139ce356f39eb6460f"
   },
   "outputs": [
    {
     "data": {
      "image/png": "[encoded data removed]",
      "text/plain": [
       "<matplotlib.figure.Figure at 0x24d0828a320>"
      ]
     },
     "metadata": {},
     "output_type": "display_data"
    }
   ],
   "source": [
    "plt.imshow(X_train0[0])\n",
    "plt.grid(False)\n",
    "plt.show()"
   ]
  },
  {
   "cell_type": "code",
   "execution_count": 65,
   "metadata": {
    "school_cell_uuid": "92e8168e942647f8b28a44da64e1ac11"
   },
   "outputs": [
    {
     "data": {
      "text/plain": [
       "array([[  0,   0,   0,   0,   0,   0,   0,   0,   0,   0,   0,   0,   0,\n",
       "          0,   0,   0,   0,   0,   0,   0,   0,   0,   0,   0,   0,   0,\n",
       "          0,   0],\n",
       "       [  0,   0,   0,   0,   0,   0,   0,   0,   0,   0,   0,   0,   0,\n",
       "          0,   0,   0,   0,   0,   0,   0,   0,   0,   0,   0,   0,   0,\n",
       "          0,   0],\n",
       "       [  0,   0,   0,   0,   0,   0,   0,   0,   0,   0,   0,   0,   0,\n",
       "          0,   0,   0,   0,   0,   0,   0,   0,   0,   0,   0,   0,   0,\n",
       "          0,   0],\n",
       "       [  0,   0,   0,   0,   0,   0,   0,   0,   0,   0,   0,   0,   0,\n",
       "          0,   0,   0,   0,   0,   0,   0,   0,   0,   0,   0,   0,   0,\n",
       "          0,   0],\n",
       "       [  0,   0,   0,   0,   0,   0,   0,   0,   0,   0,   0,   0,   0,\n",
       "          0,   0,   0,   0,   0,   0,   0,   0,   0,   0,   0,   0,   0,\n",
       "          0,   0],\n",
       "       [  0,   0,   0,   0,   0,   0,   0,   0,   0,   0,   0,   0,   3,\n",
       "         18,  18,  18, 126, 136, 175,  26, 166, 255, 247, 127,   0,   0,\n",
       "          0,   0],\n",
       "       [  0,   0,   0,   0,   0,   0,   0,   0,  30,  36,  94, 154, 170,\n",
       "        253, 253, 253, 253, 253, 225, 172, 253, 242, 195,  64,   0,   0,\n",
       "          0,   0],\n",
       "       [  0,   0,   0,   0,   0,   0,   0,  49, 238, 253, 253, 253, 253,\n",
       "        253, 253, 253, 253, 251,  93,  82,  82,  56,  39,   0,   0,   0,\n",
       "          0,   0],\n",
       "       [  0,   0,   0,   0,   0,   0,   0,  18, 219, 253, 253, 253, 253,\n",
       "        253, 198, 182, 247, 241,   0,   0,   0,   0,   0,   0,   0,   0,\n",
       "          0,   0],\n",
       "       [  0,   0,   0,   0,   0,   0,   0,   0,  80, 156, 107, 253, 253,\n",
       "        205,  11,   0,  43, 154,   0,   0,   0,   0,   0,   0,   0,   0,\n",
       "          0,   0],\n",
       "       [  0,   0,   0,   0,   0,   0,   0,   0,   0,  14,   1, 154, 253,\n",
       "         90,   0,   0,   0,   0,   0,   0,   0,   0,   0,   0,   0,   0,\n",
       "          0,   0],\n",
       "       [  0,   0,   0,   0,   0,   0,   0,   0,   0,   0,   0, 139, 253,\n",
       "        190,   2,   0,   0,   0,   0,   0,   0,   0,   0,   0,   0,   0,\n",
       "          0,   0],\n",
       "       [  0,   0,   0,   0,   0,   0,   0,   0,   0,   0,   0,  11, 190,\n",
       "        253,  70,   0,   0,   0,   0,   0,   0,   0,   0,   0,   0,   0,\n",
       "          0,   0],\n",
       "       [  0,   0,   0,   0,   0,   0,   0,   0,   0,   0,   0,   0,  35,\n",
       "        241, 225, 160, 108,   1,   0,   0,   0,   0,   0,   0,   0,   0,\n",
       "          0,   0],\n",
       "       [  0,   0,   0,   0,   0,   0,   0,   0,   0,   0,   0,   0,   0,\n",
       "         81, 240, 253, 253, 119,  25,   0,   0,   0,   0,   0,   0,   0,\n",
       "          0,   0],\n",
       "       [  0,   0,   0,   0,   0,   0,   0,   0,   0,   0,   0,   0,   0,\n",
       "          0,  45, 186, 253, 253, 150,  27,   0,   0,   0,   0,   0,   0,\n",
       "          0,   0],\n",
       "       [  0,   0,   0,   0,   0,   0,   0,   0,   0,   0,   0,   0,   0,\n",
       "          0,   0,  16,  93, 252, 253, 187,   0,   0,   0,   0,   0,   0,\n",
       "          0,   0],\n",
       "       [  0,   0,   0,   0,   0,   0,   0,   0,   0,   0,   0,   0,   0,\n",
       "          0,   0,   0,   0, 249, 253, 249,  64,   0,   0,   0,   0,   0,\n",
       "          0,   0],\n",
       "       [  0,   0,   0,   0,   0,   0,   0,   0,   0,   0,   0,   0,   0,\n",
       "          0,  46, 130, 183, 253, 253, 207,   2,   0,   0,   0,   0,   0,\n",
       "          0,   0],\n",
       "       [  0,   0,   0,   0,   0,   0,   0,   0,   0,   0,   0,   0,  39,\n",
       "        148, 229, 253, 253, 253, 250, 182,   0,   0,   0,   0,   0,   0,\n",
       "          0,   0],\n",
       "       [  0,   0,   0,   0,   0,   0,   0,   0,   0,   0,  24, 114, 221,\n",
       "        253, 253, 253, 253, 201,  78,   0,   0,   0,   0,   0,   0,   0,\n",
       "          0,   0],\n",
       "       [  0,   0,   0,   0,   0,   0,   0,   0,  23,  66, 213, 253, 253,\n",
       "        253, 253, 198,  81,   2,   0,   0,   0,   0,   0,   0,   0,   0,\n",
       "          0,   0],\n",
       "       [  0,   0,   0,   0,   0,   0,  18, 171, 219, 253, 253, 253, 253,\n",
       "        195,  80,   9,   0,   0,   0,   0,   0,   0,   0,   0,   0,   0,\n",
       "          0,   0],\n",
       "       [  0,   0,   0,   0,  55, 172, 226, 253, 253, 253, 253, 244, 133,\n",
       "         11,   0,   0,   0,   0,   0,   0,   0,   0,   0,   0,   0,   0,\n",
       "          0,   0],\n",
       "       [  0,   0,   0,   0, 136, 253, 253, 253, 212, 135, 132,  16,   0,\n",
       "          0,   0,   0,   0,   0,   0,   0,   0,   0,   0,   0,   0,   0,\n",
       "          0,   0],\n",
       "       [  0,   0,   0,   0,   0,   0,   0,   0,   0,   0,   0,   0,   0,\n",
       "          0,   0,   0,   0,   0,   0,   0,   0,   0,   0,   0,   0,   0,\n",
       "          0,   0],\n",
       "       [  0,   0,   0,   0,   0,   0,   0,   0,   0,   0,   0,   0,   0,\n",
       "          0,   0,   0,   0,   0,   0,   0,   0,   0,   0,   0,   0,   0,\n",
       "          0,   0],\n",
       "       [  0,   0,   0,   0,   0,   0,   0,   0,   0,   0,   0,   0,   0,\n",
       "          0,   0,   0,   0,   0,   0,   0,   0,   0,   0,   0,   0,   0,\n",
       "          0,   0]], dtype=uint8)"
      ]
     },
     "execution_count": 65,
     "metadata": {},
     "output_type": "execute_result"
    }
   ],
   "source": [
    "X_train0[0]"
   ]
  },
  {
   "cell_type": "code",
   "execution_count": 76,
   "metadata": {},
   "outputs": [
    {
     "data": {
      "text/plain": [
       "array([[[ 0.,  0.,  0., ...,  0.,  0.,  0.],\n",
       "        [ 0.,  0.,  0., ...,  0.,  0.,  0.],\n",
       "        [ 0.,  0.,  0., ...,  0.,  0.,  0.],\n",
       "        ..., \n",
       "        [ 0.,  0.,  0., ...,  0.,  0.,  0.],\n",
       "        [ 0.,  0.,  0., ...,  0.,  0.,  0.],\n",
       "        [ 0.,  0.,  0., ...,  0.,  0.,  0.]],\n",
       "\n",
       "       [[ 0.,  0.,  0., ...,  0.,  0.,  0.],\n",
       "        [ 0.,  0.,  0., ...,  0.,  0.,  0.],\n",
       "        [ 0.,  0.,  0., ...,  0.,  0.,  0.],\n",
       "        ..., \n",
       "        [ 0.,  0.,  0., ...,  0.,  0.,  0.],\n",
       "        [ 0.,  0.,  0., ...,  0.,  0.,  0.],\n",
       "        [ 0.,  0.,  0., ...,  0.,  0.,  0.]],\n",
       "\n",
       "       [[ 0.,  0.,  0., ...,  0.,  0.,  0.],\n",
       "        [ 0.,  0.,  0., ...,  0.,  0.,  0.],\n",
       "        [ 0.,  0.,  0., ...,  0.,  0.,  0.],\n",
       "        ..., \n",
       "        [ 0.,  0.,  0., ...,  0.,  0.,  0.],\n",
       "        [ 0.,  0.,  0., ...,  0.,  0.,  0.],\n",
       "        [ 0.,  0.,  0., ...,  0.,  0.,  0.]],\n",
       "\n",
       "       ..., \n",
       "       [[ 0.,  0.,  0., ...,  0.,  0.,  0.],\n",
       "        [ 0.,  0.,  0., ...,  0.,  0.,  0.],\n",
       "        [ 0.,  0.,  0., ...,  0.,  0.,  0.],\n",
       "        ..., \n",
       "        [ 0.,  0.,  0., ...,  0.,  0.,  0.],\n",
       "        [ 0.,  0.,  0., ...,  0.,  0.,  0.],\n",
       "        [ 0.,  0.,  0., ...,  0.,  0.,  0.]],\n",
       "\n",
       "       [[ 0.,  0.,  0., ...,  0.,  0.,  0.],\n",
       "        [ 0.,  0.,  0., ...,  0.,  0.,  0.],\n",
       "        [ 0.,  0.,  0., ...,  0.,  0.,  0.],\n",
       "        ..., \n",
       "        [ 0.,  0.,  0., ...,  0.,  0.,  0.],\n",
       "        [ 0.,  0.,  0., ...,  0.,  0.,  0.],\n",
       "        [ 0.,  0.,  0., ...,  0.,  0.,  0.]],\n",
       "\n",
       "       [[ 0.,  0.,  0., ...,  0.,  0.,  0.],\n",
       "        [ 0.,  0.,  0., ...,  0.,  0.,  0.],\n",
       "        [ 0.,  0.,  0., ...,  0.,  0.,  0.],\n",
       "        ..., \n",
       "        [ 0.,  0.,  0., ...,  0.,  0.,  0.],\n",
       "        [ 0.,  0.,  0., ...,  0.,  0.,  0.],\n",
       "        [ 0.,  0.,  0., ...,  0.,  0.,  0.]]], dtype=float32)"
      ]
     },
     "execution_count": 76,
     "metadata": {},
     "output_type": "execute_result"
    }
   ],
   "source": [
    "X_train0.astype('float32')/255.0"
   ]
  },
  {
   "cell_type": "code",
   "execution_count": 40,
   "metadata": {
    "school_cell_uuid": "63807fc962be46b899361d8d67ef13c0"
   },
   "outputs": [
    {
     "name": "stdout",
     "output_type": "stream",
     "text": [
      "(60000, 784) float32\n"
     ]
    }
   ],
   "source": [
    "X_train = X_train0.reshape(60000, 784).astype('float32')/255.0\n",
    "X_test = X_test0.reshape(10000, 784).astype('float32')/255.0\n",
    "print(X_train.shape, X_train.dtype) ## 28*28 = 784로 변경 "
   ]
  },
  {
   "cell_type": "markdown",
   "metadata": {
    "school_cell_uuid": "67c56a3d7ae144db9544668b7dd56878"
   },
   "source": [
    "y 데이터는 One-Hot-Encoding 을 한다."
   ]
  },
  {
   "cell_type": "code",
   "execution_count": 73,
   "metadata": {
    "school_cell_uuid": "3e6fd744f539409d92caf0698a88004b"
   },
   "outputs": [
    {
     "data": {
      "text/plain": [
       "array([5, 0, 4, 1, 9, 2, 1, 3, 1, 4], dtype=uint8)"
      ]
     },
     "execution_count": 73,
     "metadata": {},
     "output_type": "execute_result"
    }
   ],
   "source": [
    "y_train0[:10]\n",
    "#y_train0.shape =(60000,)"
   ]
  },
  {
   "cell_type": "code",
   "execution_count": 42,
   "metadata": {
    "school_cell_uuid": "41ce0cfbad0a4988b5e41caea8c64e37"
   },
   "outputs": [
    {
     "data": {
      "text/plain": [
       "array([[ 0.,  0.,  0.,  0.,  0.,  1.,  0.,  0.,  0.,  0.],\n",
       "       [ 1.,  0.,  0.,  0.,  0.,  0.,  0.,  0.,  0.,  0.],\n",
       "       [ 0.,  0.,  0.,  0.,  1.,  0.,  0.,  0.,  0.,  0.],\n",
       "       [ 0.,  1.,  0.,  0.,  0.,  0.,  0.,  0.,  0.,  0.],\n",
       "       [ 0.,  0.,  0.,  0.,  0.,  0.,  0.,  0.,  0.,  1.]])"
      ]
     },
     "execution_count": 42,
     "metadata": {},
     "output_type": "execute_result"
    }
   ],
   "source": [
    "from keras.utils import np_utils\n",
    "\n",
    "Y_train = np_utils.to_categorical(y_train0, 10)\n",
    "Y_test = np_utils.to_categorical(y_test0, 10)\n",
    "Y_train[:5] ## 가로축으로 처음 row는 5를 나타냄 \n",
    "## 두번째 row는 0\n",
    "## 세번째 row는 4 나타냄"
   ]
  },
  {
   "cell_type": "markdown",
   "metadata": {
    "school_cell_uuid": "1b5a5e32035b4080b52f8522a07097cc"
   },
   "source": [
    "## 신경망 구현 순서"
   ]
  },
  {
   "cell_type": "markdown",
   "metadata": {
    "school_cell_uuid": "417073e045cb4c72bbce5a0a87e6bde2"
   },
   "source": [
    "Keras 를 사용하면 다음과 같은 순서로 신경망을 구성할 수 있다.\n",
    "\n",
    "1. ``Sequential`` 모형 클래스 객체 생성\n",
    "1. ``add`` 메서드로 layer 추가. \n",
    "   * ``Dense`` layer 가 가장 일반적인 신경망\n",
    "   * 입력단부터 순차적으로 추가한다.\n",
    "   * 레이어는 출력 뉴런 갯수를 첫번째 인수로 받는다.\n",
    "   * 최초의 레이어는 ``input_dim`` 인수로 입력 크기를 설정해야 한다.\n",
    "   * ``activation`` 인수로 activation 함수 설정\n",
    "1. ``compile`` 메서드로 모형 완성. \n",
    "   * ``loss``인수로 Loss 함수 설정\n",
    "   * ``optimizer`` 인수로 최적화 알고리즘 설정\n",
    "   * ``metrics`` 인수로 트레이닝 단계에서 기록할 성능 기준 설정\n",
    "1. ``fit`` 메서드로 트레이닝\n",
    "   * ``nb_epoch`` 로 epoch 횟수 설정\n",
    "   * ``batch_size`` 로 mini batch size 설정\n",
    "   * ``metrics`` 인수로 설정한 성능 기준 기록을 출력으로 반환 \n",
    "   * Ju[yter Notebook을 사용할 때는 ``verbose=2``로 설정하여 progress bar 가 나오지 않도록 설정한다."
   ]
  },
  {
   "cell_type": "code",
   "execution_count": 43,
   "metadata": {
    "school_cell_uuid": "6252483ee1504becb4d4c13696292562"
   },
   "outputs": [],
   "source": [
    "from keras.models import Sequential\n",
    "from keras.layers.core import Dense\n",
    "from keras.optimizers import SGD\n",
    "\n",
    "np.random.seed(0)\n",
    "\n",
    "model = Sequential() ## 구조를 나타냄 , 구조를 어떻게 만드는지 나옴 \n",
    "model.add(Dense(15, input_dim=784, activation=\"sigmoid\")) ## 15개 hidden layer,784 레이어, sigmoid는 로지스틱을 이야기함   \n",
    "model.add(Dense(10, activation=\"sigmoid\"))## hidden layer 10개로 셋팅\n",
    "model.compile(optimizer=SGD(lr=0.2), loss='mean_squared_error', metrics=[\"accuracy\"]) \n",
    "## IR - running rate 스텝사이즈, loss = 줄이고자 하는 것 RSS, metircs = 모니터링기준, accracy를 모니터링 하겠다 "
   ]
  },
  {
   "cell_type": "code",
   "execution_count": 44,
   "metadata": {
    "collapsed": true
   },
   "outputs": [],
   "source": [
    "import os\n",
    "os.environ[\"PATH\"] += os.pathsep + 'C:/Program Files (x86)/Graphviz2.38/bin/'"
   ]
  },
  {
   "cell_type": "markdown",
   "metadata": {
    "school_cell_uuid": "3ffe0515d7c74ba78c92cb43ef966694"
   },
   "source": [
    "만들어진 모형은 ``model_to_dot`` 명령으로 그래프 형태를 보거나 모델 내부의 ``layers`` 리스트를 살펴봄으로써 내부 구조를 확인할 수 있다."
   ]
  },
  {
   "cell_type": "code",
   "execution_count": 45,
   "metadata": {
    "school_cell_uuid": "3d60a93eb44a46c6beeb4c5ac9d21242"
   },
   "outputs": [
    {
     "data": {
      "image/svg+xml": [
       "<svg height=\"191pt\" viewBox=\"0.00 0.00 174.00 191.00\" width=\"174pt\" xmlns=\"http://www.w3.org/2000/svg\" xmlns:xlink=\"http://www.w3.org/1999/xlink\">\n",
       "<g class=\"graph\" id=\"graph0\" transform=\"scale(1 1) rotate(0) translate(4 187)\">\n",
       "<title>G</title>\n",
       "<polygon fill=\"white\" points=\"-4,4 -4,-187 170,-187 170,4 -4,4\" stroke=\"none\"/>\n",
       "<!-- 2529844810528 -->\n",
       "<g class=\"node\" id=\"node1\"><title>2529844810528</title>\n",
       "<polygon fill=\"none\" points=\"0,-146.5 0,-182.5 166,-182.5 166,-146.5 0,-146.5\" stroke=\"black\"/>\n",
       "<text font-family=\"Times New Roman,serif\" font-size=\"14.00\" text-anchor=\"middle\" x=\"83\" y=\"-160.8\">dense_3_input: InputLayer</text>\n",
       "</g>\n",
       "<!-- 2529844781688 -->\n",
       "<g class=\"node\" id=\"node2\"><title>2529844781688</title>\n",
       "<polygon fill=\"none\" points=\"31,-73.5 31,-109.5 135,-109.5 135,-73.5 31,-73.5\" stroke=\"black\"/>\n",
       "<text font-family=\"Times New Roman,serif\" font-size=\"14.00\" text-anchor=\"middle\" x=\"83\" y=\"-87.8\">dense_3: Dense</text>\n",
       "</g>\n",
       "<!-- 2529844810528&#45;&gt;2529844781688 -->\n",
       "<g class=\"edge\" id=\"edge1\"><title>2529844810528-&gt;2529844781688</title>\n",
       "<path d=\"M83,-146.313C83,-138.289 83,-128.547 83,-119.569\" fill=\"none\" stroke=\"black\"/>\n",
       "<polygon fill=\"black\" points=\"86.5001,-119.529 83,-109.529 79.5001,-119.529 86.5001,-119.529\" stroke=\"black\"/>\n",
       "</g>\n",
       "<!-- 2529843888256 -->\n",
       "<g class=\"node\" id=\"node3\"><title>2529843888256</title>\n",
       "<polygon fill=\"none\" points=\"31,-0.5 31,-36.5 135,-36.5 135,-0.5 31,-0.5\" stroke=\"black\"/>\n",
       "<text font-family=\"Times New Roman,serif\" font-size=\"14.00\" text-anchor=\"middle\" x=\"83\" y=\"-14.8\">dense_4: Dense</text>\n",
       "</g>\n",
       "<!-- 2529844781688&#45;&gt;2529843888256 -->\n",
       "<g class=\"edge\" id=\"edge2\"><title>2529844781688-&gt;2529843888256</title>\n",
       "<path d=\"M83,-73.3129C83,-65.2895 83,-55.5475 83,-46.5691\" fill=\"none\" stroke=\"black\"/>\n",
       "<polygon fill=\"black\" points=\"86.5001,-46.5288 83,-36.5288 79.5001,-46.5289 86.5001,-46.5288\" stroke=\"black\"/>\n",
       "</g>\n",
       "</g>\n",
       "</svg>"
      ],
      "text/plain": [
       "<IPython.core.display.SVG object>"
      ]
     },
     "execution_count": 45,
     "metadata": {},
     "output_type": "execute_result"
    }
   ],
   "source": [
    "from IPython.display import SVG\n",
    "from keras.utils.vis_utils import model_to_dot\n",
    "\n",
    "SVG(model_to_dot(model).create(prog='dot', format='svg'))"
   ]
  },
  {
   "cell_type": "code",
   "execution_count": 46,
   "metadata": {
    "school_cell_uuid": "92f5a62da7e0462da84daced99aaae54"
   },
   "outputs": [
    {
     "data": {
      "text/plain": [
       "[<keras.layers.core.Dense at 0x24d067fe278>,\n",
       " <keras.layers.core.Dense at 0x24d06724080>]"
      ]
     },
     "execution_count": 46,
     "metadata": {},
     "output_type": "execute_result"
    }
   ],
   "source": [
    "model.layers"
   ]
  },
  {
   "cell_type": "code",
   "execution_count": 47,
   "metadata": {
    "collapsed": true,
    "school_cell_uuid": "6c7d03af65e840b0ab84001d59c7b4b0"
   },
   "outputs": [],
   "source": [
    "l1 = model.layers[0]\n",
    "l2 = model.layers[1]"
   ]
  },
  {
   "cell_type": "code",
   "execution_count": 48,
   "metadata": {
    "school_cell_uuid": "3f441c05a53745bd907901db40128104"
   },
   "outputs": [
    {
     "data": {
      "text/plain": [
       "'dense_3'"
      ]
     },
     "execution_count": 48,
     "metadata": {},
     "output_type": "execute_result"
    }
   ],
   "source": [
    "l1.name"
   ]
  },
  {
   "cell_type": "code",
   "execution_count": 49,
   "metadata": {
    "school_cell_uuid": "da36fc212f6a4484ba8a39b44f344558"
   },
   "outputs": [
    {
     "data": {
      "text/plain": [
       "(None, 784)"
      ]
     },
     "execution_count": 49,
     "metadata": {},
     "output_type": "execute_result"
    }
   ],
   "source": [
    "l1.input_shape ## 데이터가 몇개 들어올지 모름"
   ]
  },
  {
   "cell_type": "code",
   "execution_count": 50,
   "metadata": {
    "school_cell_uuid": "44989a1851c54370b7954d3be6e464d0"
   },
   "outputs": [
    {
     "data": {
      "text/plain": [
       "(None, 15)"
      ]
     },
     "execution_count": 50,
     "metadata": {},
     "output_type": "execute_result"
    }
   ],
   "source": [
    "l1.output_shape "
   ]
  },
  {
   "cell_type": "code",
   "execution_count": 51,
   "metadata": {
    "school_cell_uuid": "3adb68a93dd0463182a0a36145f28065"
   },
   "outputs": [
    {
     "data": {
      "text/plain": [
       "<function keras.activations.sigmoid>"
      ]
     },
     "execution_count": 51,
     "metadata": {},
     "output_type": "execute_result"
    }
   ],
   "source": [
    "l1.activation"
   ]
  },
  {
   "cell_type": "code",
   "execution_count": 52,
   "metadata": {
    "school_cell_uuid": "d44bfce09b0e47e8b7abbdb35cd395eb"
   },
   "outputs": [
    {
     "data": {
      "text/plain": [
       "'dense_4'"
      ]
     },
     "execution_count": 52,
     "metadata": {},
     "output_type": "execute_result"
    }
   ],
   "source": [
    "l2.name"
   ]
  },
  {
   "cell_type": "code",
   "execution_count": 53,
   "metadata": {
    "school_cell_uuid": "a53d54e3628a491f99eb87551dc4c896"
   },
   "outputs": [
    {
     "data": {
      "text/plain": [
       "(None, 15)"
      ]
     },
     "execution_count": 53,
     "metadata": {},
     "output_type": "execute_result"
    }
   ],
   "source": [
    "l2.input_shape"
   ]
  },
  {
   "cell_type": "code",
   "execution_count": 54,
   "metadata": {
    "school_cell_uuid": "aa4e935588e34ebcbd757deed0d33fc0"
   },
   "outputs": [
    {
     "data": {
      "text/plain": [
       "(None, 10)"
      ]
     },
     "execution_count": 54,
     "metadata": {},
     "output_type": "execute_result"
    }
   ],
   "source": [
    "l2.output_shape"
   ]
  },
  {
   "cell_type": "code",
   "execution_count": 55,
   "metadata": {
    "school_cell_uuid": "1bd6caa63c524d668a05193c86ce9602"
   },
   "outputs": [
    {
     "data": {
      "text/plain": [
       "<function keras.activations.sigmoid>"
      ]
     },
     "execution_count": 55,
     "metadata": {},
     "output_type": "execute_result"
    }
   ],
   "source": [
    "l2.activation"
   ]
  },
  {
   "cell_type": "markdown",
   "metadata": {
    "school_cell_uuid": "90cddcd7c80149af9b235998b3ffbf65"
   },
   "source": [
    "``fit`` 메서드로 트레이닝을 할 수 있다."
   ]
  },
  {
   "cell_type": "code",
   "execution_count": 57,
   "metadata": {
    "school_cell_uuid": "34348831429a4995b41e35ac75970362",
    "scrolled": false
   },
   "outputs": [
    {
     "name": "stderr",
     "output_type": "stream",
     "text": [
      "C:\\Users\\User\\Anaconda3\\lib\\site-packages\\keras\\models.py:874: UserWarning: The `nb_epoch` argument in `fit` has been renamed `epochs`.\n",
      "  warnings.warn('The `nb_epoch` argument in `fit` '\n"
     ]
    },
    {
     "name": "stdout",
     "output_type": "stream",
     "text": [
      "Train on 60000 samples, validate on 10000 samples\n",
      "Epoch 1/30\n",
      " - 1s - loss: 0.1019 - acc: 0.2440 - val_loss: 0.0864 - val_acc: 0.3213\n",
      "Epoch 2/30\n",
      " - 1s - loss: 0.0845 - acc: 0.3921 - val_loss: 0.0821 - val_acc: 0.4409\n",
      "Epoch 3/30\n",
      " - 1s - loss: 0.0796 - acc: 0.4997 - val_loss: 0.0765 - val_acc: 0.5340\n",
      "Epoch 4/30\n",
      " - 1s - loss: 0.0740 - acc: 0.5620 - val_loss: 0.0707 - val_acc: 0.5852\n",
      "Epoch 5/30\n",
      " - 1s - loss: 0.0682 - acc: 0.6149 - val_loss: 0.0649 - val_acc: 0.6522\n",
      "Epoch 6/30\n",
      " - 1s - loss: 0.0625 - acc: 0.6759 - val_loss: 0.0594 - val_acc: 0.6998\n",
      "Epoch 7/30\n",
      " - 1s - loss: 0.0576 - acc: 0.7101 - val_loss: 0.0551 - val_acc: 0.7316\n",
      "Epoch 8/30\n",
      " - 1s - loss: 0.0537 - acc: 0.7325 - val_loss: 0.0516 - val_acc: 0.7485\n",
      "Epoch 9/30\n",
      " - 1s - loss: 0.0505 - acc: 0.7474 - val_loss: 0.0486 - val_acc: 0.7639\n",
      "Epoch 10/30\n",
      " - 1s - loss: 0.0478 - acc: 0.7608 - val_loss: 0.0461 - val_acc: 0.7759\n",
      "Epoch 11/30\n",
      " - 1s - loss: 0.0455 - acc: 0.7739 - val_loss: 0.0439 - val_acc: 0.7893\n",
      "Epoch 12/30\n",
      " - 1s - loss: 0.0435 - acc: 0.7859 - val_loss: 0.0420 - val_acc: 0.8023\n",
      "Epoch 13/30\n",
      " - 1s - loss: 0.0417 - acc: 0.7977 - val_loss: 0.0402 - val_acc: 0.8132\n",
      "Epoch 14/30\n",
      " - 1s - loss: 0.0400 - acc: 0.8083 - val_loss: 0.0386 - val_acc: 0.8255\n",
      "Epoch 15/30\n",
      " - 1s - loss: 0.0385 - acc: 0.8192 - val_loss: 0.0371 - val_acc: 0.8359\n",
      "Epoch 16/30\n",
      " - 1s - loss: 0.0371 - acc: 0.8288 - val_loss: 0.0358 - val_acc: 0.8432\n",
      "Epoch 17/30\n",
      " - 1s - loss: 0.0359 - acc: 0.8371 - val_loss: 0.0345 - val_acc: 0.8503\n",
      "Epoch 18/30\n",
      " - 1s - loss: 0.0347 - acc: 0.8440 - val_loss: 0.0334 - val_acc: 0.8557\n",
      "Epoch 19/30\n",
      " - 1s - loss: 0.0336 - acc: 0.8506 - val_loss: 0.0323 - val_acc: 0.8618\n",
      "Epoch 20/30\n",
      " - 1s - loss: 0.0326 - acc: 0.8565 - val_loss: 0.0313 - val_acc: 0.8651\n",
      "Epoch 21/30\n",
      " - 1s - loss: 0.0316 - acc: 0.8610 - val_loss: 0.0304 - val_acc: 0.8706\n",
      "Epoch 22/30\n",
      " - 1s - loss: 0.0308 - acc: 0.8646 - val_loss: 0.0295 - val_acc: 0.8742\n",
      "Epoch 23/30\n",
      " - 1s - loss: 0.0299 - acc: 0.8679 - val_loss: 0.0287 - val_acc: 0.8777\n",
      "Epoch 24/30\n",
      " - 1s - loss: 0.0292 - acc: 0.8709 - val_loss: 0.0280 - val_acc: 0.8790\n",
      "Epoch 25/30\n",
      " - 1s - loss: 0.0285 - acc: 0.8738 - val_loss: 0.0273 - val_acc: 0.8814\n",
      "Epoch 26/30\n",
      " - 1s - loss: 0.0278 - acc: 0.8765 - val_loss: 0.0267 - val_acc: 0.8845\n",
      "Epoch 27/30\n",
      " - 1s - loss: 0.0272 - acc: 0.8787 - val_loss: 0.0261 - val_acc: 0.8863\n",
      "Epoch 28/30\n",
      " - 1s - loss: 0.0266 - acc: 0.8814 - val_loss: 0.0255 - val_acc: 0.8878\n",
      "Epoch 29/30\n",
      " - 1s - loss: 0.0261 - acc: 0.8829 - val_loss: 0.0250 - val_acc: 0.8894\n",
      "Epoch 30/30\n",
      " - 1s - loss: 0.0256 - acc: 0.8844 - val_loss: 0.0245 - val_acc: 0.8904\n",
      "Wall time: 31.4 s\n"
     ]
    }
   ],
   "source": [
    "%%time\n",
    "hist = model.fit(X_train, Y_train, nb_epoch=30, batch_size=100, validation_data=(X_test, Y_test), verbose=2) \n",
    "## test 에대한 val_cross 의 accruacy점수가 높음 ## epoch가높아질수록 accuracy 높아지는 현상을 볼수 있다 "
   ]
  },
  {
   "cell_type": "code",
   "execution_count": 58,
   "metadata": {
    "school_cell_uuid": "99dbe00305944808b6fcb5537b8f618a"
   },
   "outputs": [
    {
     "data": {
      "image/png": "[encoded data removed]",
      "text/plain": [
       "<matplotlib.figure.Figure at 0x24d06eef160>"
      ]
     },
     "metadata": {},
     "output_type": "display_data"
    }
   ],
   "source": [
    "plt.plot(hist.history['loss'])\n",
    "plt.show() ## 중간기록들 (loss fuction)"
   ]
  },
  {
   "cell_type": "code",
   "execution_count": 59,
   "metadata": {
    "school_cell_uuid": "8573ce63d9334ea994c7159bdc170af0"
   },
   "outputs": [
    {
     "data": {
      "image/png": "[encoded data removed]",
      "text/plain": [
       "<matplotlib.figure.Figure at 0x24d07283a20>"
      ]
     },
     "metadata": {},
     "output_type": "display_data"
    }
   ],
   "source": [
    "plt.plot(hist.history['acc'], 'b-', label=\"training\")\n",
    "plt.plot(hist.history['val_acc'], 'r:', label=\"test\")\n",
    "plt.legend()\n",
    "plt.show() ## 최종적으로 신경망의 training accuracy Vs. Test Accuracy 비교: 성능측정의 척도가 된다 "
   ]
  },
  {
   "cell_type": "markdown",
   "metadata": {
    "school_cell_uuid": "e244e269c4494cb7a0010f98c1b538ad"
   },
   "source": [
    "## 모형의 사용"
   ]
  },
  {
   "cell_type": "markdown",
   "metadata": {
    "school_cell_uuid": "0d4f1df4562b40be95c8d1a7b9292e29"
   },
   "source": [
    "트레이닝이 끝난 모형은 ``predict`` 메서드로 y 값을 출력하거나 출력된 y값을 각 클래스에 대한 판별함수로 가정하고 ``predict_classes`` 메서드로 classification을 할 수 있다."
   ]
  },
  {
   "cell_type": "code",
   "execution_count": 31,
   "metadata": {
    "school_cell_uuid": "feca3a4353374b7aa802f1bb739db909"
   },
   "outputs": [
    {
     "data": {
      "image/png": "[encoded data removed]",
      "text/plain": [
       "<matplotlib.figure.Figure at 0x24d06930e10>"
      ]
     },
     "metadata": {},
     "output_type": "display_data"
    }
   ],
   "source": [
    "plt.imshow(X_test0[0, :])\n",
    "plt.grid(False)\n",
    "plt.show()"
   ]
  },
  {
   "cell_type": "code",
   "execution_count": 13,
   "metadata": {
    "school_cell_uuid": "2cb7e633934e4a869d3c380087cbf75c"
   },
   "outputs": [
    {
     "data": {
      "text/plain": [
       "array([[ 0.04662439,  0.01898405,  0.0253421 ,  0.03961192,  0.00993867,\n",
       "         0.01506678,  0.00471446,  0.93260151,  0.00493476,  0.11073165]], dtype=float32)"
      ]
     },
     "execution_count": 13,
     "metadata": {},
     "output_type": "execute_result"
    }
   ],
   "source": [
    "model.predict(X_test[:1, :])"
   ]
  },
  {
   "cell_type": "code",
   "execution_count": 14,
   "metadata": {
    "school_cell_uuid": "bb3d440b2e5b4e5280d0e2c12bb53b38"
   },
   "outputs": [
    {
     "data": {
      "text/plain": [
       "array([7])"
      ]
     },
     "execution_count": 14,
     "metadata": {},
     "output_type": "execute_result"
    }
   ],
   "source": [
    "model.predict_classes(X_test[:1, :], verbose=0)"
   ]
  },
  {
   "cell_type": "markdown",
   "metadata": {
    "school_cell_uuid": "d8b0ebf3071a4db99b4e71517fb06667"
   },
   "source": [
    "## 모형의 저장"
   ]
  },
  {
   "cell_type": "markdown",
   "metadata": {
    "school_cell_uuid": "b5196d01871443b587aaf8754de65849"
   },
   "source": [
    "트레이닝이 끝난 모형은 ``save`` 메서드로 가중치와 함께 hdf5 형식으로 저장하였다가 나중에 ``load`` 명령으로 불러 사용할 수 있다."
   ]
  },
  {
   "cell_type": "code",
   "execution_count": 33,
   "metadata": {
    "collapsed": true,
    "school_cell_uuid": "5baa7b3b39b44098968f3138880e7fa6"
   },
   "outputs": [],
   "source": [
    "model.save('my_model.hdf5')\n",
    "del model"
   ]
  },
  {
   "cell_type": "code",
   "execution_count": 34,
   "metadata": {
    "school_cell_uuid": "f8c68174572b4b1f9a8f88f3e91b5caa"
   },
   "outputs": [
    {
     "data": {
      "text/plain": [
       "array([4], dtype=int64)"
      ]
     },
     "execution_count": 34,
     "metadata": {},
     "output_type": "execute_result"
    }
   ],
   "source": [
    "from keras.models import load_model\n",
    "\n",
    "model2 = load_model('my_model.hdf5')\n",
    "model2.predict_classes(X_test[:1, :], verbose=0)"
   ]
  },
  {
   "cell_type": "markdown",
   "metadata": {},
   "source": [
    "theono CUDA, GPU사용하여 Graph\n",
    "Keras는 tensorflow를 백엔드로 가짐\n",
    "\n",
    "tehsorflow= theono까지 비슷하나 여러가지 컴퓨터에서 동시에 돌릴수 있다 "
   ]
  }
 ],
 "metadata": {
  "kernelspec": {
   "display_name": "Python 3",
   "language": "python",
   "name": "python3"
  },
  "language_info": {
   "codemirror_mode": {
    "name": "ipython",
    "version": 3
   },
   "file_extension": ".py",
   "mimetype": "text/x-python",
   "name": "python",
   "nbconvert_exporter": "python",
   "pygments_lexer": "ipython3",
   "version": "3.6.1"
  }
 },
 "nbformat": 4,
 "nbformat_minor": 1
}
