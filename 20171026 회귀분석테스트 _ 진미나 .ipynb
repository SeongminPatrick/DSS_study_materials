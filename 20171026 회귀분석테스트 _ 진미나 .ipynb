{
 "cells": [
  {
   "cell_type": "code",
   "execution_count": 119,
   "metadata": {},
   "outputs": [
    {
     "name": "stderr",
     "output_type": "stream",
     "text": [
      "C:\\Users\\User\\Anaconda3\\lib\\site-packages\\matplotlib\\__init__.py:1405: UserWarning: \n",
      "This call to matplotlib.use() has no effect because the backend has already\n",
      "been chosen; matplotlib.use() must be called *before* pylab, matplotlib.pyplot,\n",
      "or matplotlib.backends is imported for the first time.\n",
      "\n",
      "  warnings.warn(_use_error_msg)\n"
     ]
    }
   ],
   "source": [
    "##스타트업 파일\n",
    "\n",
    "from scipy.stats import norm\n",
    "import numpy as np\n",
    "import scipy as sp\n",
    "from pandas.core import datetools \n",
    "import pandas as pd\n",
    "import statsmodels.api as sm ## R 패키지에서 불러온것, 샘플데이터 옮겨쓸수 있는 프로젝트 있음. 회귀분석에 유용 \n",
    "import statsmodels.formula.api as smf\n",
    "import statsmodels.stats.api as sms\n",
    "import sklearn as sk \n",
    "## 전처리 \n",
    "\n",
    "import matplotlib as mpl\n",
    "mpl.use('Agg')\n",
    "import matplotlib.pylab \n",
    "import matplotlib.pyplot as plt\n",
    "%matplotlib inline\n",
    "from mpl_toolkits.mplot3d import Axes3D\n",
    "\n",
    "import seaborn as sns\n",
    "sns.set()\n",
    "sns.set_style(\"whitegrid\")\n",
    "sns.set_color_codes()"
   ]
  },
  {
   "cell_type": "code",
   "execution_count": 139,
   "metadata": {
    "collapsed": true
   },
   "outputs": [],
   "source": [
    "df = pd.read_csv(\"http://www.stat.tamu.edu/~sheather/book/docs/datasets/profsalary.txt\",sep =\"\\t\")"
   ]
  },
  {
   "cell_type": "code",
   "execution_count": 140,
   "metadata": {},
   "outputs": [
    {
     "data": {
      "text/html": [
       "<div>\n",
       "<style>\n",
       "    .dataframe thead tr:only-child th {\n",
       "        text-align: right;\n",
       "    }\n",
       "\n",
       "    .dataframe thead th {\n",
       "        text-align: left;\n",
       "    }\n",
       "\n",
       "    .dataframe tbody tr th {\n",
       "        vertical-align: top;\n",
       "    }\n",
       "</style>\n",
       "<table border=\"1\" class=\"dataframe\">\n",
       "  <thead>\n",
       "    <tr style=\"text-align: right;\">\n",
       "      <th></th>\n",
       "      <th>Case</th>\n",
       "      <th>Salary</th>\n",
       "      <th>Experience</th>\n",
       "    </tr>\n",
       "  </thead>\n",
       "  <tbody>\n",
       "    <tr>\n",
       "      <th>138</th>\n",
       "      <td>139</td>\n",
       "      <td>43</td>\n",
       "      <td>3</td>\n",
       "    </tr>\n",
       "    <tr>\n",
       "      <th>139</th>\n",
       "      <td>140</td>\n",
       "      <td>63</td>\n",
       "      <td>12</td>\n",
       "    </tr>\n",
       "    <tr>\n",
       "      <th>140</th>\n",
       "      <td>141</td>\n",
       "      <td>67</td>\n",
       "      <td>16</td>\n",
       "    </tr>\n",
       "    <tr>\n",
       "      <th>141</th>\n",
       "      <td>142</td>\n",
       "      <td>71</td>\n",
       "      <td>20</td>\n",
       "    </tr>\n",
       "    <tr>\n",
       "      <th>142</th>\n",
       "      <td>143</td>\n",
       "      <td>69</td>\n",
       "      <td>31</td>\n",
       "    </tr>\n",
       "  </tbody>\n",
       "</table>\n",
       "</div>"
      ],
      "text/plain": [
       "     Case  Salary  Experience\n",
       "138   139      43           3\n",
       "139   140      63          12\n",
       "140   141      67          16\n",
       "141   142      71          20\n",
       "142   143      69          31"
      ]
     },
     "execution_count": 140,
     "metadata": {},
     "output_type": "execute_result"
    }
   ],
   "source": [
    "df.tail()"
   ]
  },
  {
   "cell_type": "code",
   "execution_count": 168,
   "metadata": {},
   "outputs": [
    {
     "name": "stdout",
     "output_type": "stream",
     "text": [
      "                            OLS Regression Results                            \n",
      "==============================================================================\n",
      "Dep. Variable:                 Salary   R-squared:                       0.675\n",
      "Model:                            OLS   Adj. R-squared:                  0.673\n",
      "Method:                 Least Squares   F-statistic:                     293.3\n",
      "Date:                Thu, 26 Oct 2017   Prob (F-statistic):           2.91e-36\n",
      "Time:                        20:24:44   Log-Likelihood:                -453.96\n",
      "No. Observations:                 143   AIC:                             911.9\n",
      "Df Residuals:                     141   BIC:                             917.8\n",
      "Df Model:                           1                                         \n",
      "Covariance Type:            nonrobust                                         \n",
      "==============================================================================\n",
      "                 coef    std err          t      P>|t|      [0.025      0.975]\n",
      "------------------------------------------------------------------------------\n",
      "Intercept     48.5059      1.088     44.579      0.000      46.355      50.657\n",
      "Experience     0.8834      0.052     17.127      0.000       0.781       0.985\n",
      "==============================================================================\n",
      "Omnibus:                       10.245   Durbin-Watson:                   2.169\n",
      "Prob(Omnibus):                  0.006   Jarque-Bera (JB):               10.359\n",
      "Skew:                          -0.615   Prob(JB):                      0.00563\n",
      "Kurtosis:                       2.525   Cond. No.                         47.2\n",
      "==============================================================================\n",
      "\n",
      "Warnings:\n",
      "[1] Standard Errors assume that the covariance matrix of the errors is correctly specified.\n"
     ]
    }
   ],
   "source": [
    "model = sm.OLS.from_formula(\"Salary ~ Experience\",data = df)\n",
    "result= model.fit()\n",
    "print(result.summary())"
   ]
  },
  {
   "cell_type": "code",
   "execution_count": 169,
   "metadata": {},
   "outputs": [
    {
     "name": "stdout",
     "output_type": "stream",
     "text": [
      "                            OLS Regression Results                            \n",
      "==============================================================================\n",
      "Dep. Variable:                 Salary   R-squared:                       0.926\n",
      "Model:                            OLS   Adj. R-squared:                  0.924\n",
      "Method:                 Least Squares   F-statistic:                     577.1\n",
      "Date:                Thu, 26 Oct 2017   Prob (F-statistic):           3.17e-78\n",
      "Time:                        20:24:46   Log-Likelihood:                -348.55\n",
      "No. Observations:                 143   AIC:                             705.1\n",
      "Df Residuals:                     139   BIC:                             716.9\n",
      "Df Model:                           3                                         \n",
      "Covariance Type:            nonrobust                                         \n",
      "======================================================================================\n",
      "                         coef    std err          t      P>|t|      [0.025      0.975]\n",
      "--------------------------------------------------------------------------------------\n",
      "Intercept             35.8320      1.158     30.944      0.000      33.542      38.121\n",
      "Experience             2.5406      0.260      9.762      0.000       2.026       3.055\n",
      "I(Experience ** 2)    -0.0313      0.016     -1.930      0.056      -0.063       0.001\n",
      "I(Experience ** 3)    -0.0004      0.000     -1.370      0.173      -0.001       0.000\n",
      "==============================================================================\n",
      "Omnibus:                       17.597   Durbin-Watson:                   1.983\n",
      "Prob(Omnibus):                  0.000   Jarque-Bera (JB):                5.464\n",
      "Skew:                           0.080   Prob(JB):                       0.0651\n",
      "Kurtosis:                       2.056   Cond. No.                     8.74e+04\n",
      "==============================================================================\n",
      "\n",
      "Warnings:\n",
      "[1] Standard Errors assume that the covariance matrix of the errors is correctly specified.\n",
      "[2] The condition number is large, 8.74e+04. This might indicate that there are\n",
      "strong multicollinearity or other numerical problems.\n"
     ]
    }
   ],
   "source": [
    "model1 = sm.OLS.from_formula(\"Salary ~ Experience+I(Experience**2)+I(Experience**3)\",data = df)\n",
    "result1= model1.fit()\n",
    "print(result1.summary())"
   ]
  },
  {
   "cell_type": "code",
   "execution_count": 170,
   "metadata": {
    "scrolled": true
   },
   "outputs": [
    {
     "data": {
      "text/plain": [
       "[<matplotlib.lines.Line2D at 0x280cb7b0da0>]"
      ]
     },
     "execution_count": 170,
     "metadata": {},
     "output_type": "execute_result"
    },
    {
     "data": {
      "image/png": "[encoded data removed]",
      "text/plain": [
       "<matplotlib.figure.Figure at 0x280cb7b09e8>"
      ]
     },
     "metadata": {},
     "output_type": "display_data"
    }
   ],
   "source": [
    "## 정답\n",
    "\n",
    "df.plot(x =\"Experience\",y= \"Salary\",kind=\"scatter\")\n",
    "## x값들 새로 생성(그래프 x 축을 참고함) df 데이터 개수만큼 생성 \n",
    "xnew = pd.DataFrame(np.linspace(0,35,len(df)),columns = [\"Experience\"])## 컬럼 꼭 이름 정해줘야함 안그럼 못알아들음\n",
    "\n",
    "ynew = result1.predict(xnew)\n",
    "plt.plot(xnew,ynew,'r-')\n"
   ]
  },
  {
   "cell_type": "code",
   "execution_count": 171,
   "metadata": {
    "collapsed": true
   },
   "outputs": [
    {
     "data": {
      "text/plain": [
       "0     -2.752440\n",
       "1     -1.078401\n",
       "2      0.652905\n",
       "3      0.976873\n",
       "4      2.304712\n",
       "5      1.418248\n",
       "6     -3.406270\n",
       "7     -0.839767\n",
       "8      0.160233\n",
       "9      2.160233\n",
       "10     2.247560\n",
       "11     5.160233\n",
       "12    -4.581752\n",
       "13    -0.467747\n",
       "14     3.976873\n",
       "15     0.876425\n",
       "16     1.123294\n",
       "17    -3.023127\n",
       "18    -0.752440\n",
       "19     5.054818\n",
       "20    -4.023127\n",
       "21    -1.226244\n",
       "22     1.281724\n",
       "23     4.297781\n",
       "24    -4.581752\n",
       "25     4.054818\n",
       "26    -2.081318\n",
       "27    -1.167566\n",
       "28     5.593730\n",
       "29     1.297408\n",
       "         ...   \n",
       "113   -0.023127\n",
       "114   -0.508676\n",
       "115    0.215311\n",
       "116   -4.173474\n",
       "117    5.307429\n",
       "118    3.418248\n",
       "119    1.838888\n",
       "120   -2.695288\n",
       "121   -2.702592\n",
       "122    0.896537\n",
       "123   -3.331433\n",
       "124   -0.173474\n",
       "125   -4.467747\n",
       "126    3.418248\n",
       "127   -3.103463\n",
       "128   -2.467747\n",
       "129    4.201260\n",
       "130    1.918682\n",
       "131   -2.081318\n",
       "132   -2.023127\n",
       "133   -4.467747\n",
       "134    1.832434\n",
       "135    0.710951\n",
       "136    1.838888\n",
       "137    0.281724\n",
       "138   -0.161112\n",
       "139    1.876425\n",
       "140    0.160233\n",
       "141    0.054431\n",
       "142   -3.692571\n",
       "Length: 143, dtype: float64"
      ]
     },
     "execution_count": 171,
     "metadata": {},
     "output_type": "execute_result"
    }
   ],
   "source": [
    "result1.resid ## y-y^잔차 "
   ]
  },
  {
   "cell_type": "code",
   "execution_count": 182,
   "metadata": {},
   "outputs": [
    {
     "data": {
      "text/html": [
       "<div>\n",
       "<style>\n",
       "    .dataframe thead tr:only-child th {\n",
       "        text-align: right;\n",
       "    }\n",
       "\n",
       "    .dataframe thead th {\n",
       "        text-align: left;\n",
       "    }\n",
       "\n",
       "    .dataframe tbody tr th {\n",
       "        vertical-align: top;\n",
       "    }\n",
       "</style>\n",
       "<table border=\"1\" class=\"dataframe\">\n",
       "  <thead>\n",
       "    <tr style=\"text-align: right;\">\n",
       "      <th></th>\n",
       "      <th>Case</th>\n",
       "      <th>Salary</th>\n",
       "      <th>Experience</th>\n",
       "    </tr>\n",
       "  </thead>\n",
       "  <tbody>\n",
       "    <tr>\n",
       "      <th>21</th>\n",
       "      <td>22</td>\n",
       "      <td>67</td>\n",
       "      <td>36</td>\n",
       "    </tr>\n",
       "    <tr>\n",
       "      <th>40</th>\n",
       "      <td>41</td>\n",
       "      <td>65</td>\n",
       "      <td>36</td>\n",
       "    </tr>\n",
       "    <tr>\n",
       "      <th>46</th>\n",
       "      <td>47</td>\n",
       "      <td>40</td>\n",
       "      <td>1</td>\n",
       "    </tr>\n",
       "    <tr>\n",
       "      <th>60</th>\n",
       "      <td>61</td>\n",
       "      <td>37</td>\n",
       "      <td>1</td>\n",
       "    </tr>\n",
       "    <tr>\n",
       "      <th>65</th>\n",
       "      <td>66</td>\n",
       "      <td>69</td>\n",
       "      <td>36</td>\n",
       "    </tr>\n",
       "  </tbody>\n",
       "</table>\n",
       "</div>"
      ],
      "text/plain": [
       "    Case  Salary  Experience\n",
       "21    22      67          36\n",
       "40    41      65          36\n",
       "46    47      40           1\n",
       "60    61      37           1\n",
       "65    66      69          36"
      ]
     },
     "execution_count": 182,
     "metadata": {},
     "output_type": "execute_result"
    }
   ],
   "source": [
    "inf = result1.get_influence()## 영향도 행렬 구함 \n",
    "hat = inf.hat_matrix_diag ## 레버리지 구함\n",
    "\n",
    "idx = hat>3*np.mean(hat) ## 레버리지가 평균값의 3배 또는 hat.mean()\n",
    "df[idx]\n",
    "\n",
    "#predict = result1.predict(df)\n",
    "#predict"
   ]
  },
  {
   "cell_type": "code",
   "execution_count": 180,
   "metadata": {},
   "outputs": [
    {
     "data": {
      "text/plain": [
       "<matplotlib.collections.PathCollection at 0x280cb8facf8>"
      ]
     },
     "execution_count": 180,
     "metadata": {},
     "output_type": "execute_result"
    },
    {
     "data": {
      "image/png": "[encoded data removed]",
      "text/plain": [
       "<matplotlib.figure.Figure at 0x280cb7b47f0>"
      ]
     },
     "metadata": {},
     "output_type": "display_data"
    }
   ],
   "source": [
    "plt.scatter(df.Experience,df.Salary)\n",
    "\n",
    "plt.scatter(df.Experience[idx],df.Salary[idx],s=100,c=\"r\",alpha=0.5)\n",
    "## 독립변수 Experience가 1또는 36이고 종속변수 salary 가 그에상응하는 값을 가진 점을 표시해준다(위참조)"
   ]
  },
  {
   "cell_type": "code",
   "execution_count": null,
   "metadata": {
    "collapsed": true
   },
   "outputs": [],
   "source": [
    "\n"
   ]
  },
  {
   "cell_type": "code",
   "execution_count": 222,
   "metadata": {
    "collapsed": true
   },
   "outputs": [],
   "source": [
    "df2 = pd.read_csv(\"http://www.stat.tamu.edu/~sheather/book/docs/datasets/defects.txt\",sep =\"\\t\")"
   ]
  },
  {
   "cell_type": "code",
   "execution_count": 223,
   "metadata": {},
   "outputs": [
    {
     "data": {
      "text/html": [
       "<div>\n",
       "<style>\n",
       "    .dataframe thead tr:only-child th {\n",
       "        text-align: right;\n",
       "    }\n",
       "\n",
       "    .dataframe thead th {\n",
       "        text-align: left;\n",
       "    }\n",
       "\n",
       "    .dataframe tbody tr th {\n",
       "        vertical-align: top;\n",
       "    }\n",
       "</style>\n",
       "<table border=\"1\" class=\"dataframe\">\n",
       "  <thead>\n",
       "    <tr style=\"text-align: right;\">\n",
       "      <th></th>\n",
       "      <th>Case</th>\n",
       "      <th>Temperature</th>\n",
       "      <th>Density</th>\n",
       "      <th>Rate</th>\n",
       "      <th>Defective</th>\n",
       "    </tr>\n",
       "  </thead>\n",
       "  <tbody>\n",
       "    <tr>\n",
       "      <th>25</th>\n",
       "      <td>26</td>\n",
       "      <td>2.44</td>\n",
       "      <td>23.47</td>\n",
       "      <td>236.0</td>\n",
       "      <td>36.7</td>\n",
       "    </tr>\n",
       "    <tr>\n",
       "      <th>26</th>\n",
       "      <td>27</td>\n",
       "      <td>1.87</td>\n",
       "      <td>26.51</td>\n",
       "      <td>237.3</td>\n",
       "      <td>24.5</td>\n",
       "    </tr>\n",
       "    <tr>\n",
       "      <th>27</th>\n",
       "      <td>28</td>\n",
       "      <td>1.45</td>\n",
       "      <td>30.70</td>\n",
       "      <td>221.0</td>\n",
       "      <td>2.8</td>\n",
       "    </tr>\n",
       "    <tr>\n",
       "      <th>28</th>\n",
       "      <td>29</td>\n",
       "      <td>2.82</td>\n",
       "      <td>22.30</td>\n",
       "      <td>253.2</td>\n",
       "      <td>60.8</td>\n",
       "    </tr>\n",
       "    <tr>\n",
       "      <th>29</th>\n",
       "      <td>30</td>\n",
       "      <td>1.74</td>\n",
       "      <td>28.47</td>\n",
       "      <td>207.9</td>\n",
       "      <td>10.5</td>\n",
       "    </tr>\n",
       "  </tbody>\n",
       "</table>\n",
       "</div>"
      ],
      "text/plain": [
       "    Case  Temperature  Density   Rate  Defective\n",
       "25    26         2.44    23.47  236.0       36.7\n",
       "26    27         1.87    26.51  237.3       24.5\n",
       "27    28         1.45    30.70  221.0        2.8\n",
       "28    29         2.82    22.30  253.2       60.8\n",
       "29    30         1.74    28.47  207.9       10.5"
      ]
     },
     "execution_count": 223,
     "metadata": {},
     "output_type": "execute_result"
    }
   ],
   "source": [
    "df2.tail()"
   ]
  },
  {
   "cell_type": "code",
   "execution_count": 224,
   "metadata": {},
   "outputs": [
    {
     "name": "stdout",
     "output_type": "stream",
     "text": [
      "                            OLS Regression Results                            \n",
      "==============================================================================\n",
      "Dep. Variable:              Defective   R-squared:                       0.880\n",
      "Model:                            OLS   Adj. R-squared:                  0.866\n",
      "Method:                 Least Squares   F-statistic:                     63.36\n",
      "Date:                Fri, 27 Oct 2017   Prob (F-statistic):           4.37e-12\n",
      "Time:                        21:33:21   Log-Likelihood:                -99.268\n",
      "No. Observations:                  30   AIC:                             206.5\n",
      "Df Residuals:                      26   BIC:                             212.1\n",
      "Df Model:                           3                                         \n",
      "Covariance Type:            nonrobust                                         \n",
      "======================================================================================\n",
      "                         coef    std err          t      P>|t|      [0.025      0.975]\n",
      "--------------------------------------------------------------------------------------\n",
      "Intercept             27.1433      1.298     20.909      0.000      24.475      29.812\n",
      "scale(Temperature)     9.2224      4.758      1.938      0.063      -0.557      19.002\n",
      "scale(Density)        -6.0354      4.945     -1.221      0.233     -16.199       4.129\n",
      "scale(Rate)            2.9899      3.346      0.894      0.380      -3.887       9.867\n",
      "==============================================================================\n",
      "Omnibus:                        2.091   Durbin-Watson:                   2.213\n",
      "Prob(Omnibus):                  0.351   Jarque-Bera (JB):                1.491\n",
      "Skew:                           0.545   Prob(JB):                        0.474\n",
      "Kurtosis:                       2.948   Cond. No.                         8.38\n",
      "==============================================================================\n",
      "\n",
      "Warnings:\n",
      "[1] Standard Errors assume that the covariance matrix of the errors is correctly specified.\n"
     ]
    }
   ],
   "source": [
    "model2 = sm.OLS.from_formula(\"Defective ~ scale(Temperature)+scale(Density)+scale(Rate)\",data = df2)\n",
    "result2= model2.fit()\n",
    "print(result2.summary())"
   ]
  },
  {
   "cell_type": "code",
   "execution_count": 101,
   "metadata": {},
   "outputs": [
    {
     "data": {
      "text/plain": [
       "25    34.216723\n",
       "26    19.649096\n",
       "27     3.337283\n",
       "28    44.472054\n",
       "29    10.545548\n",
       "dtype: float64"
      ]
     },
     "execution_count": 101,
     "metadata": {},
     "output_type": "execute_result"
    }
   ],
   "source": [
    "## 내답\n",
    "#DefectiveH = result2.predict(df2)\n",
    "#mode3 = pd.concat([DefectiveH,df2],axis =1)\n",
    "#mode4 = mode3.set_index(0)\n",
    "ypred.tail()"
   ]
  },
  {
   "cell_type": "code",
   "execution_count": 225,
   "metadata": {
    "scrolled": true
   },
   "outputs": [
    {
     "data": {
      "text/plain": [
       "<matplotlib.collections.PathCollection at 0x280cb5c3588>"
      ]
     },
     "execution_count": 225,
     "metadata": {},
     "output_type": "execute_result"
    },
    {
     "data": {
      "image/png": "[encoded data removed]",
      "text/plain": [
       "<matplotlib.figure.Figure at 0x280ccfa8a20>"
      ]
     },
     "metadata": {},
     "output_type": "display_data"
    }
   ],
   "source": [
    "## 문제: 실제.Defective와 이모형에서 예측한 Defective 간의(비선형함수변환)회귀모형을 구하여 다음과 같이 실제 데이터와 회귀결과를 플롯으로 나타내라 \n",
    "\n",
    "## 정답\n",
    "ypred = result2.predict(df2)\n",
    "df3 = df2.copy()\n",
    "df3['DefectiveHat'] = ypred\n",
    "df3\n",
    "plt.scatter(df3.Defective, df3.DefectiveHat)"
   ]
  },
  {
   "cell_type": "code",
   "execution_count": 226,
   "metadata": {},
   "outputs": [
    {
     "name": "stdout",
     "output_type": "stream",
     "text": [
      "                            OLS Regression Results                            \n",
      "==============================================================================\n",
      "Dep. Variable:           DefectiveHat   R-squared:                       0.942\n",
      "Model:                            OLS   Adj. R-squared:                  0.940\n",
      "Method:                 Least Squares   F-statistic:                     456.3\n",
      "Date:                Fri, 27 Oct 2017   Prob (F-statistic):           7.17e-19\n",
      "Time:                        21:34:14   Log-Likelihood:                -86.351\n",
      "No. Observations:                  30   AIC:                             176.7\n",
      "Df Residuals:                      28   BIC:                             179.5\n",
      "Df Model:                           1                                         \n",
      "Covariance Type:            nonrobust                                         \n",
      "======================================================================================\n",
      "                         coef    std err          t      P>|t|      [0.025      0.975]\n",
      "--------------------------------------------------------------------------------------\n",
      "Intercept             -9.8560      1.914     -5.151      0.000     -13.776      -5.936\n",
      "np.sqrt(Defective)     7.8455      0.367     21.361      0.000       7.093       8.598\n",
      "==============================================================================\n",
      "Omnibus:                        0.724   Durbin-Watson:                   1.684\n",
      "Prob(Omnibus):                  0.696   Jarque-Bera (JB):                0.600\n",
      "Skew:                          -0.324   Prob(JB):                        0.741\n",
      "Kurtosis:                       2.756   Cond. No.                         12.6\n",
      "==============================================================================\n",
      "\n",
      "Warnings:\n",
      "[1] Standard Errors assume that the covariance matrix of the errors is correctly specified.\n"
     ]
    }
   ],
   "source": [
    "## 정답 \n",
    "model2 =sm.OLS.from_formula(\"DefectiveHat~ np.sqrt(Defective)\",data =df3)\n",
    "result2 = model2.fit()\n",
    "print(result2.summary())"
   ]
  },
  {
   "cell_type": "code",
   "execution_count": 227,
   "metadata": {},
   "outputs": [
    {
     "data": {
      "text/html": [
       "<div>\n",
       "<style>\n",
       "    .dataframe thead tr:only-child th {\n",
       "        text-align: right;\n",
       "    }\n",
       "\n",
       "    .dataframe thead th {\n",
       "        text-align: left;\n",
       "    }\n",
       "\n",
       "    .dataframe tbody tr th {\n",
       "        vertical-align: top;\n",
       "    }\n",
       "</style>\n",
       "<table border=\"1\" class=\"dataframe\">\n",
       "  <thead>\n",
       "    <tr style=\"text-align: right;\">\n",
       "      <th></th>\n",
       "      <th>Case</th>\n",
       "      <th>Temperature</th>\n",
       "      <th>Density</th>\n",
       "      <th>Rate</th>\n",
       "      <th>Defective</th>\n",
       "      <th>DefectiveHat</th>\n",
       "    </tr>\n",
       "  </thead>\n",
       "  <tbody>\n",
       "    <tr>\n",
       "      <th>0</th>\n",
       "      <td>1</td>\n",
       "      <td>0.97</td>\n",
       "      <td>32.08</td>\n",
       "      <td>177.7</td>\n",
       "      <td>0.2</td>\n",
       "      <td>-11.956281</td>\n",
       "    </tr>\n",
       "    <tr>\n",
       "      <th>1</th>\n",
       "      <td>2</td>\n",
       "      <td>2.85</td>\n",
       "      <td>21.14</td>\n",
       "      <td>254.1</td>\n",
       "      <td>47.9</td>\n",
       "      <td>47.179110</td>\n",
       "    </tr>\n",
       "    <tr>\n",
       "      <th>2</th>\n",
       "      <td>3</td>\n",
       "      <td>2.95</td>\n",
       "      <td>20.65</td>\n",
       "      <td>272.6</td>\n",
       "      <td>50.9</td>\n",
       "      <td>51.841820</td>\n",
       "    </tr>\n",
       "    <tr>\n",
       "      <th>3</th>\n",
       "      <td>4</td>\n",
       "      <td>2.84</td>\n",
       "      <td>22.53</td>\n",
       "      <td>273.4</td>\n",
       "      <td>49.7</td>\n",
       "      <td>46.731325</td>\n",
       "    </tr>\n",
       "    <tr>\n",
       "      <th>4</th>\n",
       "      <td>5</td>\n",
       "      <td>1.84</td>\n",
       "      <td>27.43</td>\n",
       "      <td>210.8</td>\n",
       "      <td>11.0</td>\n",
       "      <td>14.392247</td>\n",
       "    </tr>\n",
       "    <tr>\n",
       "      <th>5</th>\n",
       "      <td>6</td>\n",
       "      <td>2.05</td>\n",
       "      <td>25.42</td>\n",
       "      <td>236.1</td>\n",
       "      <td>15.6</td>\n",
       "      <td>24.394790</td>\n",
       "    </tr>\n",
       "    <tr>\n",
       "      <th>6</th>\n",
       "      <td>7</td>\n",
       "      <td>1.50</td>\n",
       "      <td>27.89</td>\n",
       "      <td>219.1</td>\n",
       "      <td>5.5</td>\n",
       "      <td>9.054080</td>\n",
       "    </tr>\n",
       "    <tr>\n",
       "      <th>7</th>\n",
       "      <td>8</td>\n",
       "      <td>2.48</td>\n",
       "      <td>23.34</td>\n",
       "      <td>238.9</td>\n",
       "      <td>37.4</td>\n",
       "      <td>35.435910</td>\n",
       "    </tr>\n",
       "    <tr>\n",
       "      <th>8</th>\n",
       "      <td>9</td>\n",
       "      <td>2.23</td>\n",
       "      <td>23.97</td>\n",
       "      <td>251.9</td>\n",
       "      <td>27.8</td>\n",
       "      <td>31.782757</td>\n",
       "    </tr>\n",
       "    <tr>\n",
       "      <th>9</th>\n",
       "      <td>10</td>\n",
       "      <td>3.02</td>\n",
       "      <td>19.45</td>\n",
       "      <td>281.9</td>\n",
       "      <td>58.7</td>\n",
       "      <td>56.245634</td>\n",
       "    </tr>\n",
       "    <tr>\n",
       "      <th>10</th>\n",
       "      <td>11</td>\n",
       "      <td>2.69</td>\n",
       "      <td>23.17</td>\n",
       "      <td>254.5</td>\n",
       "      <td>34.5</td>\n",
       "      <td>40.943933</td>\n",
       "    </tr>\n",
       "    <tr>\n",
       "      <th>11</th>\n",
       "      <td>12</td>\n",
       "      <td>2.63</td>\n",
       "      <td>22.70</td>\n",
       "      <td>265.7</td>\n",
       "      <td>45.0</td>\n",
       "      <td>42.145487</td>\n",
       "    </tr>\n",
       "    <tr>\n",
       "      <th>12</th>\n",
       "      <td>13</td>\n",
       "      <td>1.58</td>\n",
       "      <td>27.49</td>\n",
       "      <td>213.3</td>\n",
       "      <td>6.6</td>\n",
       "      <td>10.394183</td>\n",
       "    </tr>\n",
       "    <tr>\n",
       "      <th>13</th>\n",
       "      <td>14</td>\n",
       "      <td>2.48</td>\n",
       "      <td>24.07</td>\n",
       "      <td>252.2</td>\n",
       "      <td>31.5</td>\n",
       "      <td>35.654525</td>\n",
       "    </tr>\n",
       "    <tr>\n",
       "      <th>14</th>\n",
       "      <td>15</td>\n",
       "      <td>2.25</td>\n",
       "      <td>24.38</td>\n",
       "      <td>238.1</td>\n",
       "      <td>23.4</td>\n",
       "      <td>29.744221</td>\n",
       "    </tr>\n",
       "    <tr>\n",
       "      <th>15</th>\n",
       "      <td>16</td>\n",
       "      <td>2.76</td>\n",
       "      <td>21.58</td>\n",
       "      <td>244.7</td>\n",
       "      <td>42.2</td>\n",
       "      <td>43.830807</td>\n",
       "    </tr>\n",
       "    <tr>\n",
       "      <th>16</th>\n",
       "      <td>17</td>\n",
       "      <td>2.36</td>\n",
       "      <td>26.30</td>\n",
       "      <td>222.1</td>\n",
       "      <td>13.4</td>\n",
       "      <td>26.136674</td>\n",
       "    </tr>\n",
       "    <tr>\n",
       "      <th>17</th>\n",
       "      <td>18</td>\n",
       "      <td>1.09</td>\n",
       "      <td>32.19</td>\n",
       "      <td>181.4</td>\n",
       "      <td>0.1</td>\n",
       "      <td>-9.796025</td>\n",
       "    </tr>\n",
       "    <tr>\n",
       "      <th>18</th>\n",
       "      <td>19</td>\n",
       "      <td>2.15</td>\n",
       "      <td>25.73</td>\n",
       "      <td>241.0</td>\n",
       "      <td>20.6</td>\n",
       "      <td>26.008108</td>\n",
       "    </tr>\n",
       "    <tr>\n",
       "      <th>19</th>\n",
       "      <td>20</td>\n",
       "      <td>2.12</td>\n",
       "      <td>25.18</td>\n",
       "      <td>226.0</td>\n",
       "      <td>15.9</td>\n",
       "      <td>24.779799</td>\n",
       "    </tr>\n",
       "    <tr>\n",
       "      <th>20</th>\n",
       "      <td>21</td>\n",
       "      <td>2.27</td>\n",
       "      <td>23.74</td>\n",
       "      <td>256.0</td>\n",
       "      <td>44.4</td>\n",
       "      <td>33.324753</td>\n",
       "    </tr>\n",
       "    <tr>\n",
       "      <th>21</th>\n",
       "      <td>22</td>\n",
       "      <td>2.73</td>\n",
       "      <td>24.85</td>\n",
       "      <td>251.9</td>\n",
       "      <td>37.6</td>\n",
       "      <td>38.213694</td>\n",
       "    </tr>\n",
       "    <tr>\n",
       "      <th>22</th>\n",
       "      <td>23</td>\n",
       "      <td>1.46</td>\n",
       "      <td>30.01</td>\n",
       "      <td>192.8</td>\n",
       "      <td>2.2</td>\n",
       "      <td>1.467047</td>\n",
       "    </tr>\n",
       "    <tr>\n",
       "      <th>23</th>\n",
       "      <td>24</td>\n",
       "      <td>1.55</td>\n",
       "      <td>29.42</td>\n",
       "      <td>223.9</td>\n",
       "      <td>1.5</td>\n",
       "      <td>7.622532</td>\n",
       "    </tr>\n",
       "    <tr>\n",
       "      <th>24</th>\n",
       "      <td>25</td>\n",
       "      <td>2.92</td>\n",
       "      <td>22.50</td>\n",
       "      <td>260.0</td>\n",
       "      <td>55.4</td>\n",
       "      <td>46.508165</td>\n",
       "    </tr>\n",
       "    <tr>\n",
       "      <th>25</th>\n",
       "      <td>26</td>\n",
       "      <td>2.44</td>\n",
       "      <td>23.47</td>\n",
       "      <td>236.0</td>\n",
       "      <td>36.7</td>\n",
       "      <td>34.216723</td>\n",
       "    </tr>\n",
       "    <tr>\n",
       "      <th>26</th>\n",
       "      <td>27</td>\n",
       "      <td>1.87</td>\n",
       "      <td>26.51</td>\n",
       "      <td>237.3</td>\n",
       "      <td>24.5</td>\n",
       "      <td>19.649096</td>\n",
       "    </tr>\n",
       "    <tr>\n",
       "      <th>27</th>\n",
       "      <td>28</td>\n",
       "      <td>1.45</td>\n",
       "      <td>30.70</td>\n",
       "      <td>221.0</td>\n",
       "      <td>2.8</td>\n",
       "      <td>3.337283</td>\n",
       "    </tr>\n",
       "    <tr>\n",
       "      <th>28</th>\n",
       "      <td>29</td>\n",
       "      <td>2.82</td>\n",
       "      <td>22.30</td>\n",
       "      <td>253.2</td>\n",
       "      <td>60.8</td>\n",
       "      <td>44.472054</td>\n",
       "    </tr>\n",
       "    <tr>\n",
       "      <th>29</th>\n",
       "      <td>30</td>\n",
       "      <td>1.74</td>\n",
       "      <td>28.47</td>\n",
       "      <td>207.9</td>\n",
       "      <td>10.5</td>\n",
       "      <td>10.545548</td>\n",
       "    </tr>\n",
       "  </tbody>\n",
       "</table>\n",
       "</div>"
      ],
      "text/plain": [
       "    Case  Temperature  Density   Rate  Defective  DefectiveHat\n",
       "0      1         0.97    32.08  177.7        0.2    -11.956281\n",
       "1      2         2.85    21.14  254.1       47.9     47.179110\n",
       "2      3         2.95    20.65  272.6       50.9     51.841820\n",
       "3      4         2.84    22.53  273.4       49.7     46.731325\n",
       "4      5         1.84    27.43  210.8       11.0     14.392247\n",
       "5      6         2.05    25.42  236.1       15.6     24.394790\n",
       "6      7         1.50    27.89  219.1        5.5      9.054080\n",
       "7      8         2.48    23.34  238.9       37.4     35.435910\n",
       "8      9         2.23    23.97  251.9       27.8     31.782757\n",
       "9     10         3.02    19.45  281.9       58.7     56.245634\n",
       "10    11         2.69    23.17  254.5       34.5     40.943933\n",
       "11    12         2.63    22.70  265.7       45.0     42.145487\n",
       "12    13         1.58    27.49  213.3        6.6     10.394183\n",
       "13    14         2.48    24.07  252.2       31.5     35.654525\n",
       "14    15         2.25    24.38  238.1       23.4     29.744221\n",
       "15    16         2.76    21.58  244.7       42.2     43.830807\n",
       "16    17         2.36    26.30  222.1       13.4     26.136674\n",
       "17    18         1.09    32.19  181.4        0.1     -9.796025\n",
       "18    19         2.15    25.73  241.0       20.6     26.008108\n",
       "19    20         2.12    25.18  226.0       15.9     24.779799\n",
       "20    21         2.27    23.74  256.0       44.4     33.324753\n",
       "21    22         2.73    24.85  251.9       37.6     38.213694\n",
       "22    23         1.46    30.01  192.8        2.2      1.467047\n",
       "23    24         1.55    29.42  223.9        1.5      7.622532\n",
       "24    25         2.92    22.50  260.0       55.4     46.508165\n",
       "25    26         2.44    23.47  236.0       36.7     34.216723\n",
       "26    27         1.87    26.51  237.3       24.5     19.649096\n",
       "27    28         1.45    30.70  221.0        2.8      3.337283\n",
       "28    29         2.82    22.30  253.2       60.8     44.472054\n",
       "29    30         1.74    28.47  207.9       10.5     10.545548"
      ]
     },
     "execution_count": 227,
     "metadata": {},
     "output_type": "execute_result"
    }
   ],
   "source": [
    "df3"
   ]
  },
  {
   "cell_type": "code",
   "execution_count": 228,
   "metadata": {},
   "outputs": [
    {
     "data": {
      "text/plain": [
       "[<matplotlib.lines.Line2D at 0x280ccf749e8>]"
      ]
     },
     "execution_count": 228,
     "metadata": {},
     "output_type": "execute_result"
    },
    {
     "data": {
      "image/png": "[encoded data removed]",
      "text/plain": [
       "<matplotlib.figure.Figure at 0x280cb5a2438>"
      ]
     },
     "metadata": {},
     "output_type": "display_data"
    }
   ],
   "source": [
    "## 정답\n",
    "\n",
    "df3.plot(x = \"Defective\",y = \"DefectiveHat\",kind = \"scatter\")\n",
    "xnew = pd.DataFrame(np.linspace(0,60,len(df3)),columns = [\"Defective\"])\n",
    "ynew = result2.predict(xnew)\n",
    "plt.plot(xnew,ynew,\"r-\")"
   ]
  },
  {
   "cell_type": "code",
   "execution_count": null,
   "metadata": {
    "collapsed": true
   },
   "outputs": [],
   "source": []
  },
  {
   "cell_type": "code",
   "execution_count": 236,
   "metadata": {},
   "outputs": [
    {
     "name": "stdout",
     "output_type": "stream",
     "text": [
      "                            OLS Regression Results                            \n",
      "==============================================================================\n",
      "Dep. Variable:     np.sqrt(Defective)   R-squared:                       0.943\n",
      "Model:                            OLS   Adj. R-squared:                  0.936\n",
      "Method:                 Least Squares   F-statistic:                     143.5\n",
      "Date:                Fri, 27 Oct 2017   Prob (F-statistic):           2.71e-16\n",
      "Time:                        21:40:15   Log-Likelihood:                -23.438\n",
      "No. Observations:                  30   AIC:                             54.88\n",
      "Df Residuals:                      26   BIC:                             60.48\n",
      "Df Model:                           3                                         \n",
      "Covariance Type:            nonrobust                                         \n",
      "======================================================================================\n",
      "                         coef    std err          t      P>|t|      [0.025      0.975]\n",
      "--------------------------------------------------------------------------------------\n",
      "Intercept              4.7160      0.104     45.498      0.000       4.503       4.929\n",
      "scale(Temperature)     0.8978      0.380      2.363      0.026       0.117       1.679\n",
      "scale(Density)        -0.9633      0.395     -2.440      0.022      -1.775      -0.152\n",
      "scale(Rate)            0.3304      0.267      1.237      0.227      -0.219       0.879\n",
      "==============================================================================\n",
      "Omnibus:                        1.136   Durbin-Watson:                   1.742\n",
      "Prob(Omnibus):                  0.567   Jarque-Bera (JB):                0.729\n",
      "Skew:                           0.380   Prob(JB):                        0.695\n",
      "Kurtosis:                       2.935   Cond. No.                         8.38\n",
      "==============================================================================\n",
      "\n",
      "Warnings:\n",
      "[1] Standard Errors assume that the covariance matrix of the errors is correctly specified.\n"
     ]
    }
   ],
   "source": [
    "## 정답\n",
    "## 원래의 선형회귀 모형에서 y대신 두번째 모형에서 구한 비선형 변환된y를 사용하여 회귀모형의 성능을 향상시킨다. \n",
    "\n",
    "model4 = sm.OLS.from_formula(\"np.sqrt(Defective) ~scale(Temperature)+scale(Density)+scale(Rate)\",data = df2)\n",
    "\n",
    "\n",
    "result4= model4.fit()\n",
    "print(result4.summary())"
   ]
  },
  {
   "cell_type": "code",
   "execution_count": 237,
   "metadata": {},
   "outputs": [
    {
     "data": {
      "image/png": "[encoded data removed]",
      "text/plain": [
       "<matplotlib.figure.Figure at 0x280cd0fb390>"
      ]
     },
     "metadata": {},
     "output_type": "display_data"
    }
   ],
   "source": [
    "##고광빈님 정답\n",
    "plt.scatter(df3['Defective'], df3['DefectiveHat'])\n",
    "\n",
    "x2 = np.array(range(0,60,1))\n",
    "y2 = -9.8560 + 7.8455 * np.sqrt(x2)\n",
    "plt.plot (x2, y2, 'g')\n",
    "\n",
    "plt.show()"
   ]
  },
  {
   "cell_type": "code",
   "execution_count": 240,
   "metadata": {},
   "outputs": [
    {
     "data": {
      "text/plain": [
       "<matplotlib.collections.PathCollection at 0x280cd179048>"
      ]
     },
     "execution_count": 240,
     "metadata": {},
     "output_type": "execute_result"
    },
    {
     "data": {
      "image/png": "[encoded data removed]",
      "text/plain": [
       "<matplotlib.figure.Figure at 0x280cd06f898>"
      ]
     },
     "metadata": {},
     "output_type": "display_data"
    }
   ],
   "source": [
    "## 원래의 선형회귀 모형에서 y대신 두번째 모형에서 구한 비선형 변환된y를 사용하여 회귀모형의 성능을 향상시킨다. \n",
    "df3 = df2.copy()\n",
    "df3[\"DefectiveHat\"] = result4.predict(df3)**2\n",
    "plt.scatter(df3.Defective,df3.DefectiveHat)"
   ]
  },
  {
   "cell_type": "code",
   "execution_count": null,
   "metadata": {
    "collapsed": true
   },
   "outputs": [],
   "source": []
  }
 ],
 "metadata": {
  "kernelspec": {
   "display_name": "Python 3",
   "language": "python",
   "name": "python3"
  },
  "language_info": {
   "codemirror_mode": {
    "name": "ipython",
    "version": 3
   },
   "file_extension": ".py",
   "mimetype": "text/x-python",
   "name": "python",
   "nbconvert_exporter": "python",
   "pygments_lexer": "ipython3",
   "version": "3.6.1"
  }
 },
 "nbformat": 4,
 "nbformat_minor": 2
}
