{
 "cells": [
  {
   "cell_type": "markdown",
   "metadata": {
    "school_cell_uuid": "0e4c08e3a79e4b1e8f0744218c2b070d"
   },
   "source": [
    "# konlpy 한국어 처리 패키지 소개"
   ]
  },
  {
   "cell_type": "markdown",
   "metadata": {
    "school_cell_uuid": "143ed59c3e9e4786b58c52996198dfcf"
   },
   "source": [
    "konlpy는 한국어 정보처리를 위한 파이썬 패키지이다. \n",
    "\n",
    "* http://konlpy.org/ko/latest/\n",
    "* https://github.com/konlpy/konlpy"
   ]
  },
  {
   "cell_type": "markdown",
   "metadata": {
    "school_cell_uuid": "ab1539cc28a240ceb304e9e256573219"
   },
   "source": [
    "konlpy는 다음과 같은 다양한 형태소 분석, 태깅 라이브러리를 파이썬에서 쉽게 사용할 수 있도록 모아놓았다.\n",
    "\n",
    "* Kkma 서울대\n",
    " * http://kkma.snu.ac.kr/\n",
    "* Hannanum 카이스트\n",
    " * http://semanticweb.kaist.ac.kr/hannanum/\n",
    "* Twitter 트위터\n",
    " * https://github.com/twitter/twitter-korean-text/\n",
    "* Komoran\n",
    " * http://www.shineware.co.kr/?page_id=835\n",
    "* Mecab 일본에서 만듬\n",
    " * https://bitbucket.org/eunjeon/mecab-ko-dic"
   ]
  },
  {
   "cell_type": "markdown",
   "metadata": {
    "school_cell_uuid": "244f5a14ddd44fdd805bdb534b669d00"
   },
   "source": [
    "konlpy 는 다음과 같은 기능을 제공한다.\n",
    "\n",
    "* 한국어 corpus\n",
    "* 한국어 처리 유틸리티\n",
    "* 형태소 분석 및 품사 태깅"
   ]
  },
  {
   "cell_type": "markdown",
   "metadata": {},
   "source": [
    "konlpy 패키지 jpype 문제 해결방법\n",
    "\n",
    "1. https://pypi.python.org/pypi/JPype1\n",
    "\n",
    "2. 최신패키지 다운로드\n",
    "\n",
    "3. 압축 풀기\n",
    "\n",
    "4. cmd 실행\n",
    "\n",
    "5. 압축 푼 디렉토리로 이동\n",
    "\n",
    "6. python setup.py build 입력 후\n",
    "\n",
    "7. python setup.py install 입력\n",
    "pypi.python.org\n",
    "JPype1 0.6.2 : Python Package Index\n",
    "A Python to Java bridge."
   ]
  },
  {
   "cell_type": "markdown",
   "metadata": {
    "school_cell_uuid": "240ff9b1ad014f91b179335673cc2005"
   },
   "source": [
    "## 한국어 corpus"
   ]
  },
  {
   "cell_type": "code",
   "execution_count": 3,
   "metadata": {
    "school_cell_uuid": "7f80a49dfe8b46d486f0db8fe011e301",
    "scrolled": true
   },
   "outputs": [
    {
     "ename": "ModuleNotFoundError",
     "evalue": "No module named 'konlpy'",
     "output_type": "error",
     "traceback": [
      "\u001b[1;31m---------------------------------------------------------------------------\u001b[0m",
      "\u001b[1;31mModuleNotFoundError\u001b[0m                       Traceback (most recent call last)",
      "\u001b[1;32m<ipython-input-3-a4d968aa2d36>\u001b[0m in \u001b[0;36m<module>\u001b[1;34m()\u001b[0m\n\u001b[1;32m----> 1\u001b[1;33m \u001b[1;32mfrom\u001b[0m \u001b[0mkonlpy\u001b[0m\u001b[1;33m.\u001b[0m\u001b[0mcorpus\u001b[0m \u001b[1;32mimport\u001b[0m \u001b[0mkolaw\u001b[0m\u001b[1;33m\u001b[0m\u001b[0m\n\u001b[0m\u001b[0;32m      2\u001b[0m \u001b[0mkolaw\u001b[0m\u001b[1;33m.\u001b[0m\u001b[0mfileids\u001b[0m\u001b[1;33m(\u001b[0m\u001b[1;33m)\u001b[0m\u001b[1;33m\u001b[0m\u001b[0m\n",
      "\u001b[1;31mModuleNotFoundError\u001b[0m: No module named 'konlpy'"
     ]
    }
   ],
   "source": [
    "from konlpy.corpus import kolaw\n",
    "kolaw.fileids()"
   ]
  },
  {
   "cell_type": "code",
   "execution_count": 9,
   "metadata": {
    "school_cell_uuid": "e1d24940656f4f9f9e6032f7a14056da"
   },
   "outputs": [
    {
     "name": "stdout",
     "output_type": "stream",
     "text": [
      "대한민국헌법\n",
      "\n",
      "유구한 역사와 전통에 빛나는 우리 대한국민은 3·1운동으로 건립된 대한민국임시정부의 법통과 불의에 항거한 4·19민주이념을 계승하고, 조국의 민주개혁과 평화적 통일의\n"
     ]
    }
   ],
   "source": [
    "c = kolaw.open('constitution.txt').read()\n",
    "print(c[:100])"
   ]
  },
  {
   "cell_type": "code",
   "execution_count": 10,
   "metadata": {
    "school_cell_uuid": "34851c3c80d344688cdcb98a3826f325"
   },
   "outputs": [
    {
     "data": {
      "text/plain": [
       "['1809890.txt',\n",
       " '1809891.txt',\n",
       " '1809892.txt',\n",
       " '1809893.txt',\n",
       " '1809894.txt',\n",
       " '1809895.txt',\n",
       " '1809896.txt',\n",
       " '1809897.txt',\n",
       " '1809898.txt',\n",
       " '1809899.txt']"
      ]
     },
     "execution_count": 10,
     "metadata": {},
     "output_type": "execute_result"
    }
   ],
   "source": [
    "from konlpy.corpus import kobill\n",
    "kobill.fileids()"
   ]
  },
  {
   "cell_type": "code",
   "execution_count": 15,
   "metadata": {
    "school_cell_uuid": "ab2c5be9e19646e8a8cfb97681a115e3"
   },
   "outputs": [
    {
     "name": "stdout",
     "output_type": "stream",
     "text": [
      "지방공무원법 일부개정법률안\n",
      "\n",
      "(정의화의원 대표발의 )\n",
      "\n",
      " 의 안\n",
      " 번 호\n",
      "\n",
      "9890\n",
      "\n",
      "발의연월일 : 2010.  11.  12.  \n",
      "\n",
      "발  의  자 : 정의화․이명수․김을동 \n",
      "\n",
      "이\n"
     ]
    }
   ],
   "source": [
    "d = kobill.open('1809890.txt').read()\n",
    "print(d[:100])"
   ]
  },
  {
   "cell_type": "markdown",
   "metadata": {
    "school_cell_uuid": "75aee6f9c32440399a9ecebccd7bad2e"
   },
   "source": [
    "## 한국어 처리 유틸리티"
   ]
  },
  {
   "cell_type": "markdown",
   "metadata": {
    "school_cell_uuid": "a111fe66029648f494581ece22222ad5"
   },
   "source": [
    "konlpy에는 유니코드 한글 문자열이 리스트나 딕셔너리의 내부에 있을 때도 한글 글자 모양을 정상적으로 보여주는 `pprint` 유틸리티 함수를 제공한다."
   ]
  },
  {
   "cell_type": "code",
   "execution_count": 26,
   "metadata": {
    "school_cell_uuid": "a44a178fbe0b42018412156a5e6d3af4"
   },
   "outputs": [
    {
     "ename": "NameError",
     "evalue": "name 'x' is not defined",
     "output_type": "error",
     "traceback": [
      "\u001b[1;31m---------------------------------------------------------------------------\u001b[0m",
      "\u001b[1;31mNameError\u001b[0m                                 Traceback (most recent call last)",
      "\u001b[1;32m<ipython-input-26-d53ac9e9fc53>\u001b[0m in \u001b[0;36m<module>\u001b[1;34m()\u001b[0m\n\u001b[0;32m      1\u001b[0m \u001b[1;32mfrom\u001b[0m \u001b[0mkonlpy\u001b[0m\u001b[1;33m.\u001b[0m\u001b[0mutils\u001b[0m \u001b[1;32mimport\u001b[0m \u001b[0mpprint\u001b[0m\u001b[1;33m\u001b[0m\u001b[0m\n\u001b[1;32m----> 2\u001b[1;33m \u001b[0mpprint\u001b[0m\u001b[1;33m(\u001b[0m\u001b[0mx\u001b[0m\u001b[1;33m)\u001b[0m\u001b[1;33m\u001b[0m\u001b[0m\n\u001b[0m",
      "\u001b[1;31mNameError\u001b[0m: name 'x' is not defined"
     ]
    }
   ],
   "source": [
    "from konlpy.utils import pprint\n",
    "pprint(x)"
   ]
  },
  {
   "cell_type": "markdown",
   "metadata": {
    "school_cell_uuid": "97879e3ed2f34d72b34d1ca880bd6aef"
   },
   "source": [
    "## 형태소 분석"
   ]
  },
  {
   "cell_type": "markdown",
   "metadata": {
    "school_cell_uuid": "64f3dca5edac4f9085eb91993e846246"
   },
   "source": [
    "konlpy는 tag 서브패키지에서 형태소 분석을 위한 5개의 클래스를 제공한다.\n",
    "\n",
    "* `Kkma`\n",
    "* `Hannanum`\n",
    "* `Twitter`\n",
    "* `Komoran`\n",
    "* `Mecab`\n",
    "\n",
    "이 클래스는 다음과 같은 메서드를 대부분 제공한다.\n",
    "\n",
    "* `morphs` : 형태소 추출\n",
    "* `nouns` : 명사 추출\n",
    "* `pos` : pos 태깅"
   ]
  },
  {
   "cell_type": "code",
   "execution_count": 27,
   "metadata": {
    "school_cell_uuid": "9f10ef1f00f942499939fd3ea672c27f",
    "scrolled": false
   },
   "outputs": [
    {
     "ename": "NameError",
     "evalue": "name 'jpype' is not defined",
     "output_type": "error",
     "traceback": [
      "\u001b[1;31m---------------------------------------------------------------------------\u001b[0m",
      "\u001b[1;31mNameError\u001b[0m                                 Traceback (most recent call last)",
      "\u001b[1;32m<ipython-input-27-7c23c35a02e9>\u001b[0m in \u001b[0;36m<module>\u001b[1;34m()\u001b[0m\n\u001b[0;32m      1\u001b[0m \u001b[1;32mfrom\u001b[0m \u001b[0mkonlpy\u001b[0m\u001b[1;33m.\u001b[0m\u001b[0mtag\u001b[0m \u001b[1;32mimport\u001b[0m \u001b[1;33m*\u001b[0m\u001b[1;33m\u001b[0m\u001b[0m\n\u001b[1;32m----> 2\u001b[1;33m \u001b[0mhannanum\u001b[0m \u001b[1;33m=\u001b[0m \u001b[0mHannanum\u001b[0m\u001b[1;33m(\u001b[0m\u001b[1;33m)\u001b[0m\u001b[1;33m\u001b[0m\u001b[0m\n\u001b[0m\u001b[0;32m      3\u001b[0m \u001b[0mkkma\u001b[0m \u001b[1;33m=\u001b[0m \u001b[0mKkma\u001b[0m\u001b[1;33m(\u001b[0m\u001b[1;33m)\u001b[0m\u001b[1;33m\u001b[0m\u001b[0m\n\u001b[0;32m      4\u001b[0m \u001b[0mtwitter\u001b[0m \u001b[1;33m=\u001b[0m \u001b[0mTwitter\u001b[0m\u001b[1;33m(\u001b[0m\u001b[1;33m)\u001b[0m\u001b[1;33m\u001b[0m\u001b[0m\n",
      "\u001b[1;32mC:\\Users\\User\\Anaconda3\\lib\\site-packages\\konlpy\\tag\\_hannanum.py\u001b[0m in \u001b[0;36m__init__\u001b[1;34m(self, jvmpath)\u001b[0m\n",
      "\u001b[1;32mC:\\Users\\User\\Anaconda3\\lib\\site-packages\\konlpy\\jvm.py\u001b[0m in \u001b[0;36minit_jvm\u001b[1;34m(jvmpath)\u001b[0m\n",
      "\u001b[1;31mNameError\u001b[0m: name 'jpype' is not defined"
     ]
    }
   ],
   "source": [
    "from konlpy.tag import *\n",
    "hannanum = Hannanum()\n",
    "kkma = Kkma()\n",
    "twitter = Twitter()"
   ]
  },
  {
   "cell_type": "markdown",
   "metadata": {
    "school_cell_uuid": "fd522673d75e4e7cb5d5f0d340a0d6a5"
   },
   "source": [
    "### 명사 추출"
   ]
  },
  {
   "cell_type": "markdown",
   "metadata": {
    "school_cell_uuid": "5f60d18cf7ed4c19a069017f142b69ec"
   },
   "source": [
    "문자열에서 명사만 추출하려면 `noun` 명령을 사용한다."
   ]
  },
  {
   "cell_type": "code",
   "execution_count": 11,
   "metadata": {
    "school_cell_uuid": "d187899ebc5640368a6d33effb710e1d"
   },
   "outputs": [
    {
     "name": "stdout",
     "output_type": "stream",
     "text": [
      "['대한민국헌법',\n",
      " '유구',\n",
      " '역사',\n",
      " '전통',\n",
      " '빛',\n",
      " '우리',\n",
      " '대한국민',\n",
      " '3·1운동',\n",
      " '건립',\n",
      " '대한민국임시정부',\n",
      " '법통',\n",
      " '불의',\n",
      " '항거']\n"
     ]
    }
   ],
   "source": [
    "pprint(hannanum.nouns(c[:65]))"
   ]
  },
  {
   "cell_type": "code",
   "execution_count": 12,
   "metadata": {
    "school_cell_uuid": "8828336032f44002af47390b09442426"
   },
   "outputs": [
    {
     "name": "stdout",
     "output_type": "stream",
     "text": [
      "['대한',\n",
      " '대한민국',\n",
      " '대한민국헌법',\n",
      " '민국',\n",
      " '헌법',\n",
      " '유구',\n",
      " '역사',\n",
      " '전통',\n",
      " '우리',\n",
      " '국민',\n",
      " '3',\n",
      " '1',\n",
      " '1운동',\n",
      " '운동',\n",
      " '건립',\n",
      " '대한민국임시정부',\n",
      " '임시',\n",
      " '정부',\n",
      " '법통',\n",
      " '불의',\n",
      " '항거']\n"
     ]
    }
   ],
   "source": [
    "pprint(kkma.nouns(c[:65]))"
   ]
  },
  {
   "cell_type": "code",
   "execution_count": 13,
   "metadata": {
    "school_cell_uuid": "c40e74f66b3b46f9a3ef73caeea7c641"
   },
   "outputs": [
    {
     "name": "stdout",
     "output_type": "stream",
     "text": [
      "['대한민국',\n",
      " '헌법',\n",
      " '유구',\n",
      " '역사',\n",
      " '전통',\n",
      " '우리',\n",
      " '대한',\n",
      " '국민',\n",
      " '운동',\n",
      " '건립',\n",
      " '대한민국',\n",
      " '임시정부',\n",
      " '법',\n",
      " '통과',\n",
      " '불의',\n",
      " '항거']\n"
     ]
    }
   ],
   "source": [
    "pprint(twitter.nouns(c[:65]))"
   ]
  },
  {
   "cell_type": "markdown",
   "metadata": {
    "school_cell_uuid": "ee183964b2094d64ad17673fe835b0ac"
   },
   "source": [
    "### 형태소 추출"
   ]
  },
  {
   "cell_type": "markdown",
   "metadata": {
    "school_cell_uuid": "7d61541c732f4ded9b2d500f0f86312e"
   },
   "source": [
    "명사 뿐 아니라 모든 품사의 형태소를 알아내려면 `morphs`라는 명령을 사용한다."
   ]
  },
  {
   "cell_type": "code",
   "execution_count": 14,
   "metadata": {
    "school_cell_uuid": "6626659da2234af89ac5b0d5cf9040f1"
   },
   "outputs": [
    {
     "name": "stdout",
     "output_type": "stream",
     "text": [
      "['대한민국헌법',\n",
      " '유구',\n",
      " '하',\n",
      " 'ㄴ',\n",
      " '역사',\n",
      " '와',\n",
      " '전통',\n",
      " '에',\n",
      " '빛',\n",
      " '나는',\n",
      " '우리',\n",
      " '대한국민',\n",
      " '은',\n",
      " '3·1운동',\n",
      " '으로',\n",
      " '건립',\n",
      " '되',\n",
      " 'ㄴ',\n",
      " '대한민국임시정부',\n",
      " '의',\n",
      " '법통',\n",
      " '과',\n",
      " '불의',\n",
      " '에',\n",
      " '항거']\n"
     ]
    }
   ],
   "source": [
    "pprint(hannanum.morphs(c[:65]))"
   ]
  },
  {
   "cell_type": "code",
   "execution_count": 15,
   "metadata": {
    "school_cell_uuid": "e54ef02c9ad4433caee92c401ab78965"
   },
   "outputs": [
    {
     "name": "stdout",
     "output_type": "stream",
     "text": [
      "['대한민국',\n",
      " '헌법',\n",
      " '유구',\n",
      " '하',\n",
      " 'ㄴ',\n",
      " '역사',\n",
      " '와',\n",
      " '전통',\n",
      " '에',\n",
      " '빛나',\n",
      " '는',\n",
      " '우리',\n",
      " '대하',\n",
      " 'ㄴ',\n",
      " '국민',\n",
      " '은',\n",
      " '3',\n",
      " '·',\n",
      " '1',\n",
      " '운동',\n",
      " '으로',\n",
      " '건립',\n",
      " '되',\n",
      " 'ㄴ',\n",
      " '대한민국',\n",
      " '임시',\n",
      " '정부',\n",
      " '의',\n",
      " '법통',\n",
      " '과',\n",
      " '불의',\n",
      " '에',\n",
      " '항거']\n"
     ]
    }
   ],
   "source": [
    "pprint(kkma.morphs(c[:65]))"
   ]
  },
  {
   "cell_type": "code",
   "execution_count": 16,
   "metadata": {
    "school_cell_uuid": "bd4bb9aecf334af5a8bf9c80cbc31d41"
   },
   "outputs": [
    {
     "name": "stdout",
     "output_type": "stream",
     "text": [
      "['대한민국',\n",
      " '헌법',\n",
      " '유구',\n",
      " '한',\n",
      " '역사',\n",
      " '와',\n",
      " '전통',\n",
      " '에',\n",
      " '빛나는',\n",
      " '우리',\n",
      " '대한',\n",
      " '국민',\n",
      " '은',\n",
      " '3',\n",
      " '·',\n",
      " '1',\n",
      " '운동',\n",
      " '으로',\n",
      " '건립',\n",
      " '된',\n",
      " '대한민국',\n",
      " '임시정부',\n",
      " '의',\n",
      " '법',\n",
      " '통과',\n",
      " '불의',\n",
      " '에',\n",
      " '항거']\n"
     ]
    }
   ],
   "source": [
    "pprint(twitter.morphs(c[:65]))"
   ]
  },
  {
   "cell_type": "markdown",
   "metadata": {
    "school_cell_uuid": "ea7e1c31c110485f9016f6f29fbf4148"
   },
   "source": [
    "### 품사 태깅"
   ]
  },
  {
   "cell_type": "markdown",
   "metadata": {
    "school_cell_uuid": "babc095b565549e3b9ba71766746f8f6"
   },
   "source": [
    "`pos` 명령을 사용하면 품사(POS)가 붙어있는(tagging) 형태로 형태소 분석을 한다. 다만 이 때 출력되는 품사의 정의 및 기호는 형태소 분석기 마다 다르므로 각 형태소 분석기에 대한 문서를 찾아봐야 한다. \n",
    "\n",
    "다음은 많이 쓰이는 형태소 분석기의 품사 기호를 비교한 자료이다.\n",
    "* https://docs.google.com/spreadsheets/d/1OGAjUvalBuX-oZvZ_-9tEfYD2gQe7hTGsgUpiiBSXI8/edit#gid=0"
   ]
  },
  {
   "cell_type": "code",
   "execution_count": 17,
   "metadata": {
    "school_cell_uuid": "45070e395aa64359b661f7edd2c5de45"
   },
   "outputs": [
    {
     "name": "stdout",
     "output_type": "stream",
     "text": [
      "[('대한민국헌법', 'N'),\n",
      " ('유구', 'N'),\n",
      " ('하', 'X'),\n",
      " ('ㄴ', 'E'),\n",
      " ('역사', 'N'),\n",
      " ('와', 'J'),\n",
      " ('전통', 'N'),\n",
      " ('에', 'J'),\n",
      " ('빛', 'N'),\n",
      " ('나는', 'J'),\n",
      " ('우리', 'N'),\n",
      " ('대한국민', 'N'),\n",
      " ('은', 'J'),\n",
      " ('3·1운동', 'N'),\n",
      " ('으로', 'J'),\n",
      " ('건립', 'N'),\n",
      " ('되', 'X'),\n",
      " ('ㄴ', 'E'),\n",
      " ('대한민국임시정부', 'N'),\n",
      " ('의', 'J'),\n",
      " ('법통', 'N'),\n",
      " ('과', 'J'),\n",
      " ('불의', 'N'),\n",
      " ('에', 'J'),\n",
      " ('항거', 'N')]\n"
     ]
    }
   ],
   "source": [
    "pprint(hannanum.pos(c[:65]))"
   ]
  },
  {
   "cell_type": "code",
   "execution_count": 18,
   "metadata": {
    "school_cell_uuid": "e6501f0aeae14c1cbc9eb562fda0ae94"
   },
   "outputs": [
    {
     "name": "stdout",
     "output_type": "stream",
     "text": [
      "[('대한민국', 'NNG'),\n",
      " ('헌법', 'NNG'),\n",
      " ('유구', 'NNG'),\n",
      " ('하', 'XSV'),\n",
      " ('ㄴ', 'ETD'),\n",
      " ('역사', 'NNG'),\n",
      " ('와', 'JC'),\n",
      " ('전통', 'NNG'),\n",
      " ('에', 'JKM'),\n",
      " ('빛나', 'VV'),\n",
      " ('는', 'ETD'),\n",
      " ('우리', 'NNM'),\n",
      " ('대하', 'VV'),\n",
      " ('ㄴ', 'ETD'),\n",
      " ('국민', 'NNG'),\n",
      " ('은', 'JX'),\n",
      " ('3', 'NR'),\n",
      " ('·', 'SP'),\n",
      " ('1', 'NR'),\n",
      " ('운동', 'NNG'),\n",
      " ('으로', 'JKM'),\n",
      " ('건립', 'NNG'),\n",
      " ('되', 'XSV'),\n",
      " ('ㄴ', 'ETD'),\n",
      " ('대한민국', 'NNG'),\n",
      " ('임시', 'NNG'),\n",
      " ('정부', 'NNG'),\n",
      " ('의', 'JKG'),\n",
      " ('법통', 'NNG'),\n",
      " ('과', 'JC'),\n",
      " ('불의', 'NNG'),\n",
      " ('에', 'JKM'),\n",
      " ('항거', 'NNG')]\n"
     ]
    }
   ],
   "source": [
    "pprint(kkma.pos(c[:65]))"
   ]
  },
  {
   "cell_type": "code",
   "execution_count": 19,
   "metadata": {
    "school_cell_uuid": "8c9ae7e5dc0d4083bc9a230788d8a967"
   },
   "outputs": [
    {
     "name": "stdout",
     "output_type": "stream",
     "text": [
      "[('대한민국', 'Noun'),\n",
      " ('헌법', 'Noun'),\n",
      " ('유구', 'Noun'),\n",
      " ('한', 'Josa'),\n",
      " ('역사', 'Noun'),\n",
      " ('와', 'Josa'),\n",
      " ('전통', 'Noun'),\n",
      " ('에', 'Josa'),\n",
      " ('빛나는', 'Verb'),\n",
      " ('우리', 'Noun'),\n",
      " ('대한', 'Noun'),\n",
      " ('국민', 'Noun'),\n",
      " ('은', 'Josa'),\n",
      " ('3', 'Number'),\n",
      " ('·', 'Foreign'),\n",
      " ('1', 'Number'),\n",
      " ('운동', 'Noun'),\n",
      " ('으로', 'Josa'),\n",
      " ('건립', 'Noun'),\n",
      " ('된', 'Verb'),\n",
      " ('대한민국', 'Noun'),\n",
      " ('임시정부', 'Noun'),\n",
      " ('의', 'Josa'),\n",
      " ('법', 'Noun'),\n",
      " ('통과', 'Noun'),\n",
      " ('불의', 'Noun'),\n",
      " ('에', 'Josa'),\n",
      " ('항거', 'Noun')]\n"
     ]
    }
   ],
   "source": [
    "pprint(twitter.pos(c[:65]))"
   ]
  }
 ],
 "metadata": {
  "kernelspec": {
   "display_name": "Python 3",
   "language": "python",
   "name": "python3"
  },
  "language_info": {
   "codemirror_mode": {
    "name": "ipython",
    "version": 3
   },
   "file_extension": ".py",
   "mimetype": "text/x-python",
   "name": "python",
   "nbconvert_exporter": "python",
   "pygments_lexer": "ipython3",
   "version": "3.6.1"
  }
 },
 "nbformat": 4,
 "nbformat_minor": 1
}
