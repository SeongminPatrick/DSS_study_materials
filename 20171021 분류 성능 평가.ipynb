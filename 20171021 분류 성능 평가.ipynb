{
 "cells": [
  {
   "cell_type": "markdown",
   "metadata": {
    "school_cell_uuid": "ff5dddf3d16246d8a1f7a5fa50f3c879"
   },
   "source": [
    "# 분류 성능 평가"
   ]
  },
  {
   "cell_type": "markdown",
   "metadata": {
    "school_cell_uuid": "8a8464d78f554cc6b787ec4126819ca4"
   },
   "source": [
    "분류 문제는 회귀 분석과 달리 모수에 대한 t-검정, 신뢰 구간(confidence interval) 추정 등이 쉽지 않기 때문에 이를 보완하기 위해 다양한 성능 평가 기준이 필요하다."
   ]
  },
  {
   "cell_type": "markdown",
   "metadata": {
    "school_cell_uuid": "5e2ee5803a3147e9a04bd359a727fdac"
   },
   "source": [
    "## Scikit-Learn 에서 지원하는 분류 성능 평가 명령"
   ]
  },
  {
   "cell_type": "markdown",
   "metadata": {
    "school_cell_uuid": "7ff620f9d67d497ca1c2248f71997501"
   },
   "source": [
    "* `sklearn.metrics` 서브 패키지\n",
    " * `confusion_matrix()`\n",
    " * `classfication_report()`\n",
    " * `accuracy_score(y_true, y_pred)`\n",
    " * `precision_score(y_true, y_pred)`\n",
    " * `recall_score(y_true, y_pred)`\n",
    " * `fbeta_score(y_true, y_pred, beta)`\n",
    " * `f1_score(y_true, y_pred)`\n"
   ]
  },
  {
   "cell_type": "markdown",
   "metadata": {
    "collapsed": true,
    "school_cell_uuid": "8406e4683ec64dcea04bb6136c6b6f63"
   },
   "source": [
    "## 분류 결과표 Confusion Matrix"
   ]
  },
  {
   "cell_type": "raw",
   "metadata": {},
   "source": [
    "## 진단 사용의 예\n",
    "\n",
    "* Quality Assurance (품질평가)-타입1에러인경우,잘못된 제품을 정상이라고 내놓는경우 recall \n",
    "* FDS (Fraud Detection System) -타입1, 2 둘 다 있음\n",
    "* 증권거래소: 불법증권매매,주가조작\n"
   ]
  },
  {
   "cell_type": "markdown",
   "metadata": {
    "school_cell_uuid": "cec892fbdf91409b882559b3a60c7801"
   },
   "source": [
    "분류 결과표는 타겟의 원래 클래스와 모형이 예측한 클래스가 일치하는지는 갯수로 센 결과이다.\n",
    "\n",
    "원래 클래스는 행(row)으로 예측한 클래스는 열(column)로 나타낸다.\n",
    "original = 실제 집값 데이터\n",
    "\n",
    "\n",
    "\n",
    "| | 예측 클래스 0 | 예측 클래스 1 | 예측 클래스 2 | \n",
    "|-|-|-|-|\n",
    "| 원 클래스 0 | <small>원 클래스가 0, 예측 클래스가 0인 표본의 수</small> | <small>원 클래스가 0, 예측 클래스가 1인 표본의 수</small> | <small>원 클래스가 0, 예측 클래스가 2인 표본의 수</small> |\n",
    "| 원 클래스 1 | <small>원 클래스가 1, 예측 클래스가 0인 표본의 수</small> | <small>원 클래스가 1, 예측 클래스가 1인 표본의 수</small> | <small>원 클래스가 1, 예측 클래스가 2인 표본의 수</small> |\n",
    "| 원 클래스 2 | <small>원 클래스가 2, 예측 클래스가 0인 표본의 수</small> | <small>원 클래스가 2, 예측 클래스가 1인 표본의 수</small> | <small>원 클래스가 2, 예측 클래스가 2인 표본의 수</small> |\n"
   ]
  },
  {
   "cell_type": "code",
   "execution_count": 1,
   "metadata": {
    "collapsed": true,
    "school_cell_uuid": "e89d55dd39284419882c4715b0e21590"
   },
   "outputs": [],
   "source": [
    "from sklearn.metrics import confusion_matrix"
   ]
  },
  {
   "cell_type": "code",
   "execution_count": 2,
   "metadata": {
    "school_cell_uuid": "f87b2ffd42444af6a259436ef05e45ff"
   },
   "outputs": [
    {
     "data": {
      "text/plain": [
       "array([[2, 0, 0],\n",
       "       [0, 0, 1],\n",
       "       [1, 0, 2]])"
      ]
     },
     "execution_count": 2,
     "metadata": {},
     "output_type": "execute_result"
    }
   ],
   "source": [
    "y_true = [2, 0, 2, 2, 0, 1] ## 실제 집값들\n",
    "y_pred = [0, 0, 2, 2, 0, 2] ## 예측 집값들 ## 결국 맞는것은 6개중에 4개가 맞음\n",
    "confusion_matrix(y_true, y_pred) ## 가로축: 예측결과, 세로축: 실제값 데이터들, diagnal 이 맞는 답"
   ]
  },
  {
   "cell_type": "code",
   "execution_count": 3,
   "metadata": {
    "school_cell_uuid": "fdbe5e8133964d0da8ab4b9db42053b1"
   },
   "outputs": [
    {
     "data": {
      "text/plain": [
       "array([[2, 0, 0],\n",
       "       [0, 0, 1],\n",
       "       [1, 0, 2]])"
      ]
     },
     "execution_count": 3,
     "metadata": {},
     "output_type": "execute_result"
    }
   ],
   "source": [
    "y_true = [\"cat\", \"ant\", \"cat\", \"cat\", \"ant\", \"bird\"]\n",
    "y_pred = [\"ant\", \"ant\", \"cat\", \"cat\", \"ant\", \"cat\"]\n",
    "confusion_matrix(y_true, y_pred, labels=[\"ant\", \"bird\", \"cat\"])\n",
    "# 알파벳순으로 가로축 ant,bird,cat 예측클래스 /세로축 original ant,bird,cat 클래스"
   ]
  },
  {
   "cell_type": "markdown",
   "metadata": {
    "school_cell_uuid": "94bfe9e5b553411e89a928c59b15ebc2"
   },
   "source": [
    "## 이진 분류 결과표 Binary Confusion Matrix"
   ]
  },
  {
   "cell_type": "markdown",
   "metadata": {
    "school_cell_uuid": "49b7c6488f7c45f58064da8abd5590dd"
   },
   "source": [
    "클래스가 0과 1 두 종류 밖에 없는 경우에는 일반적으로 클래스 이름을 \"Positive\"와 \"Negative\"로 표시한다. \n",
    "\n",
    "또, 분류 모형의 예측 결과가 맞은 경우, 즉 Positive를 Positive라고 예측하거나 Negative를 Negative라고 예측한 경우에는 \"True\"라고 하고 예측 결과가 틀린 경우, 즉 Positive를 Negative라고 예측하거나 Negative를 Positive라고 예측한 경우에는 \"False\"라고 한다.\n",
    "\n",
    "이 경우의 이진 분류 결과의 명칭과 결과표는 다음과 같다.\n",
    "\n",
    "실제 집값과 예측집값이 같은 경우는 diagnal True라고 되어있는 것임\n",
    "\n",
    "| | Positive라고 예측  | Negative라고 예측 | \n",
    "|-|-|-|\n",
    "| 실제 Positive | True Positive   |  False Negative |             \n",
    "| 실제 Negative | False Positive  |  True Negative  |   "
   ]
  },
  {
   "cell_type": "markdown",
   "metadata": {
    "school_cell_uuid": "2c0b91be4ae441a19c6be5c81e7e87e7"
   },
   "source": [
    "### FDS(Fraud Detection System)의 예"
   ]
  },
  {
   "cell_type": "markdown",
   "metadata": {
    "school_cell_uuid": "a7e39b0fd62944339ada67c1478153ea"
   },
   "source": [
    "FDS(Fraud Detection System)는 금융 거래, 회계 장부 등에서 잘못된 거래, 사기 거래를 찾아내는 시스템을 말한다. FDS의 예측 결과가 Positive 이면  사기 거래라고 예측한 것이고 Negative 이면 정상 거래라고 예측한 것이다. 이 결과가 사실과 일치하는지 틀리는지에 따라 다음과 같이 말한다. 요새는 도난된 신용카드, 온라인뱅킹을 다른사람이 사용하는경우에 사용함, FDS 성능기준은 알아서 판단해야함 \n",
    "\n",
    "* True Positive: 사기를 사기라고 정확하게 예측\n",
    "* True Negative: 정상을 정상이라고 정확하게 예측\n",
    "* False Positive: 정상을 사기라고 잘못 예측 ## 타입 2 에러 \n",
    "* False Negative: 사기를 정상이라고 잘못 예측 ## 타입 1에러 \n",
    "\n",
    "|                     | 사기 거래라고 예측                | 정상 거래라고 예측                         | \n",
    "| --------------------| ------------------------ | --------------------------------- |\n",
    "| 실제로 사기 거래  | True Positive            |  False Negative                   |             \n",
    "| 실제로 정상 거래  | False Positive(False Alarm)            |  True Negative                    |   "
   ]
  },
  {
   "cell_type": "markdown",
   "metadata": {
    "collapsed": true,
    "school_cell_uuid": "dbafa87d7a4d459e801508dc7fc360c4"
   },
   "source": [
    "## 평가 스코어"
   ]
  },
  {
   "cell_type": "markdown",
   "metadata": {
    "school_cell_uuid": "ad3b19f332264166bbeb127817218389"
   },
   "source": [
    "### Accuracy 정확도\n",
    "* 전체 샘플 중 맞게 예측한 샘플 수의 비율 (분모 =전체샘플개수가 됨, 확률로 됨) \n",
    "* 모형 트레이닝 즉 최적화에서 목적함수로 사용  \n",
    " \n",
    " $$\\text{accuracy} = \\dfrac{TP + TN}{TP + TN + FP + FN}$$"
   ]
  },
  {
   "cell_type": "markdown",
   "metadata": {
    "school_cell_uuid": "d7c4d42b88c64f95923f71f2e5ee5321"
   },
   "source": [
    "### Precision 정밀도\n",
    "* 클래스에 속한다고 출력한 샘플 중 실제로 클래스에 속하는 샘플 수의 비율\n",
    "* FDS의 경우, 사기 거래라고 판단한 거래 중 실제 사기 거래의 비율. 유죄율\n",
    "* 실제로 Positive인지 Negative 인지의 기준점에 따라서 정밀도가 달라진다\n",
    "* 정상이라고 한것을 기준점을 낮게 잡으면 정상제품이 많아짐 ,그러면 정밀도가 전체적으로 높아짐\n",
    " \n",
    "$$\\text{precision} = \\dfrac{TP}{TP + FP}$$"
   ]
  },
  {
   "cell_type": "markdown",
   "metadata": {
    "school_cell_uuid": "4f5def7a063b4cb39e04e9f6fb916298"
   },
   "source": [
    "### Recall 재현율\n",
    "* TPR: true positive rate\n",
    "* 실제 클래스에 속한 샘플 중에 클래스에 속한다고 출력한 샘플의 수\n",
    "* FDS의 경우, 실제 사기 거래 중에서 실제 사기 거래라고 예측한 거래의 비율. 검거율\n",
    "* sensitivity(민감도)\n",
    "* 정밀도(precision) 를 낮추면 recall rate가 높아짐 \n",
    " \n",
    "$$\\text{recall} = \\dfrac{TP}{TP + FN}$$"
   ]
  },
  {
   "cell_type": "markdown",
   "metadata": {
    "school_cell_uuid": "73bd3610902b44c68fed61ab7c191dab"
   },
   "source": [
    "### Fall-Out\n",
    "* FPR: false positive rate = false alarm의 비율\n",
    "* 실제 클래스에 속하지 않는 샘플 중에 클래스에 속한다고 출력한 샘플의 수\n",
    "* FDS의 경우, 실제 정상 거래 중에서 FDS가 사기 거래라고 예측한 거래의 비율, 원죄(寃罪)율\n",
    " \n",
    "$$\\text{fallout} = \\dfrac{FP}{FP + TN}$$"
   ]
  },
  {
   "cell_type": "markdown",
   "metadata": {
    "school_cell_uuid": "5bdfc47f484e40a9a9f630b8a9631758"
   },
   "source": [
    "### F (beta) score\n",
    "* 정밀도(Precision)과 재현율(Recall)의 가중 조화 평균\n",
    " \n",
    "$$\n",
    "F_\\beta = (1 + \\beta^2) \\, ({\\text{precision} \\times \\text{recall}}) \\, / \\, ({\\beta^2 \\, \\text{precision} + \\text{recall}})\n",
    "$$\n",
    "\n",
    "\n",
    "* F1 score\n",
    " * beta = 1 \n",
    "\n",
    "$$\n",
    "F_1 = 2 \\cdot \\text{precision} \\cdot \\text{recall} \\, / \\, (\\text{precision} + \\text{recall})\n",
    "$$"
   ]
  },
  {
   "cell_type": "code",
   "execution_count": 46,
   "metadata": {
    "collapsed": true,
    "school_cell_uuid": "2bf877c201c949dba99533b2a6c8077a"
   },
   "outputs": [],
   "source": [
    "from sklearn.metrics import *"
   ]
  },
  {
   "cell_type": "code",
   "execution_count": 5,
   "metadata": {
    "school_cell_uuid": "eb93fc236ca64bb28404278f9d91fa20"
   },
   "outputs": [
    {
     "name": "stdout",
     "output_type": "stream",
     "text": [
      "             precision    recall  f1-score   support\n",
      "\n",
      "    class 0       0.50      1.00      0.67         1\n",
      "    class 1       0.00      0.00      0.00         1\n",
      "    class 2       1.00      0.67      0.80         3\n",
      "\n",
      "avg / total       0.70      0.60      0.61         5\n",
      "\n"
     ]
    }
   ],
   "source": [
    "y_true = [0, 1, 2, 2, 2]\n",
    "y_pred = [0, 0, 2, 2, 1]\n",
    "target_names = ['class 0', 'class 1', 'class 2']\n",
    "print(classification_report(y_true, y_pred, target_names=target_names)) \n",
    "## f-1 가중조화 평균 perfomance는 0.61 "
   ]
  },
  {
   "cell_type": "code",
   "execution_count": 6,
   "metadata": {
    "school_cell_uuid": "4a1c31e91a704578ba28d435f9a26897"
   },
   "outputs": [
    {
     "name": "stdout",
     "output_type": "stream",
     "text": [
      "             precision    recall  f1-score   support\n",
      "\n",
      "        ant       0.67      1.00      0.80         2\n",
      "       bird       0.00      0.00      0.00         1\n",
      "        cat       0.67      0.67      0.67         3\n",
      "\n",
      "avg / total       0.56      0.67      0.60         6\n",
      "\n"
     ]
    },
    {
     "name": "stderr",
     "output_type": "stream",
     "text": [
      "/home/dockeruser/anaconda2/lib/python2.7/site-packages/sklearn/metrics/classification.py:1113: UndefinedMetricWarning: Precision and F-score are ill-defined and being set to 0.0 in labels with no predicted samples.\n",
      "  'precision', 'predicted', average, warn_for)\n"
     ]
    }
   ],
   "source": [
    "y_true = [\"cat\", \"ant\", \"cat\", \"cat\", \"ant\", \"bird\"]\n",
    "y_pred = [\"ant\", \"ant\", \"cat\", \"cat\", \"ant\", \"cat\"]\n",
    "print(classification_report(y_true, y_pred, target_names=[\"ant\", \"bird\", \"cat\"]))"
   ]
  },
  {
   "cell_type": "markdown",
   "metadata": {
    "school_cell_uuid": "ea86bec695d24ce5a9efe71b5bb73361"
   },
   "source": [
    "## ROC 커브"
   ]
  },
  {
   "cell_type": "markdown",
   "metadata": {
    "school_cell_uuid": "fe1cd881e7d948d1b4f1f2246feda24d"
   },
   "source": [
    "ROC(Receiver Operator Characteristic) 커브는 클래스 판별 기준값의 변화에 따른 Fall-out과 Recall의 변화를 시각화한 것이다.\n",
    "\n",
    "모든 이진 분류 모형은 판별 평면으로부터의 거리에 해당하는 판별 함수(discriminant function)를 가지며 판별 함수 값이 음수이면 0인 클래스, 양수이면 1인 클래스에 해당한다고 판별한다. 즉 0 이 클래스 판별 기준값이 된다. ROC 커브는 이 클래스 판별 기준값이 달라진다면 판별 결과가 어떻게 달라지는지는 표현한 것이다.\n",
    "\n",
    "Scikit-Learn 의 Classification 클래스는 판별 함수 값을 계산하는 `decision_function` 메서드를 제공한다. ROC 커브는 이 판별 함수 값을 이용하여 다음과 같이 작성한다.\n",
    "\n",
    "1. 모든 표본 데이터에 대해 판별 함수 값을 계산한다.\n",
    "2. 계산된 판별 함수 값을 정렬한다.\n",
    "3. 만약 0이 아닌 가장 작은 판별 함수값을 클래스 구분 기준값으로 하면 모든 표본은 클래스 1(Positive)이 된다. \n",
    "   이 때의 Fall-out과 Recall을 계산하면 Recall과 Fall-out이 모두 1이된다.\n",
    "4. 두번째로 작은 판별 함수값을 클래스 구분 기준값으로 하면 판별 함수 값이 가장 작은 표본 1개를 제외하고 나머지 표본은 클래스 1(Positive)이 된다. 마찬가지로 이 때의 Fall-out과 Recall을 계산하여 기록한다.\n",
    "5. 가장 큰 판별 함수값이 클래스 구분 기준값이 될 때까지 이를 반복한다. 이 때는 모든 표본이 클래스 0(Negative)으로 판별되며 Recall과 Fall-out이 모두 0이된다."
   ]
  },
  {
   "cell_type": "markdown",
   "metadata": {
    "school_cell_uuid": "097b271b99a04b6398125d3ba0e1d0fe"
   },
   "source": [
    "일반적으로 클래스 판별 기준이 변화함에 따라 Recall과 Fall-out은 같이 증가하거나 감소한다. \n",
    "Fall-out보다 Recall이 더 빠르게 증가하는 모형은 좋은 모형으로 생각할 수 있다."
   ]
  },
  {
   "cell_type": "code",
   "execution_count": 1,
   "metadata": {},
   "outputs": [
    {
     "name": "stderr",
     "output_type": "stream",
     "text": [
      "C:\\Users\\User\\Anaconda3\\lib\\site-packages\\ipykernel_launcher.py:6: FutureWarning: The pandas.core.datetools module is deprecated and will be removed in a future version. Please use the pandas.tseries module instead.\n",
      "  \n"
     ]
    }
   ],
   "source": [
    "##스타트업 파일\n",
    "\n",
    "from scipy.stats import norm\n",
    "import numpy as np\n",
    "import scipy as sp\n",
    "from pandas.core import datetools \n",
    "import pandas as pd\n",
    "import statsmodels.api as sm ## R 패키지에서 불러온것, 샘플데이터 옮겨쓸수 있는 프로젝트 있음. 회귀분석에 유용 \n",
    "import statsmodels.formula.api as smf\n",
    "import statsmodels.stats.api as sms\n",
    "import sklearn as sk \n",
    "## 전처리 \n",
    "\n",
    "import matplotlib as mpl\n",
    "mpl.use('Agg')\n",
    "import matplotlib.pylab \n",
    "import matplotlib.pyplot as plt\n",
    "%matplotlib inline\n",
    "from mpl_toolkits.mplot3d import Axes3D\n",
    "\n",
    "import seaborn as sns\n",
    "sns.set()\n",
    "sns.set_style(\"whitegrid\")\n",
    "sns.set_color_codes()"
   ]
  },
  {
   "cell_type": "code",
   "execution_count": 2,
   "metadata": {
    "collapsed": true,
    "school_cell_uuid": "5ed2c096f794408eb53c5d4bdea8daa3"
   },
   "outputs": [],
   "source": [
    "from sklearn.datasets import make_classification\n",
    "\n",
    "X, y = make_classification(n_samples=1000, weights=[0.99, 0.01],\n",
    "                           class_sep=0.5, random_state=0)"
   ]
  },
  {
   "cell_type": "code",
   "execution_count": 9,
   "metadata": {
    "collapsed": true,
    "school_cell_uuid": "53215277200043ad8deeb32132769925"
   },
   "outputs": [],
   "source": [
    "from sklearn.linear_model import LogisticRegression\n",
    "from sklearn.svm import SVC\n",
    "from sklearn.metrics import confusion_matrix\n",
    "from sklearn.metrics import classification_report\n",
    "model1 = LogisticRegression().fit(X, y)\n",
    "y_hat1 = model1.predict(X)\n",
    "\n",
    "model2 = SVC(gamma=0.15).fit(X, y)\n",
    "y_hat2 = model2.predict(X)"
   ]
  },
  {
   "cell_type": "code",
   "execution_count": 6,
   "metadata": {
    "school_cell_uuid": "0ea9d3fec4334eb682fcf87d7db704e7"
   },
   "outputs": [
    {
     "name": "stdout",
     "output_type": "stream",
     "text": [
      "[[986   0]\n",
      " [ 13   1]]\n"
     ]
    }
   ],
   "source": [
    "print(confusion_matrix(y, y_hat1)) ## 986개의 클래스1 전체 다 잡아냄 \n",
    "## 14 개 중에서 13개가 false alarm "
   ]
  },
  {
   "cell_type": "code",
   "execution_count": 7,
   "metadata": {
    "school_cell_uuid": "20b3b657fdc949c3b66e27c4aaadd4d7"
   },
   "outputs": [
    {
     "name": "stdout",
     "output_type": "stream",
     "text": [
      "[[986   0]\n",
      " [ 13   1]]\n"
     ]
    }
   ],
   "source": [
    "print(confusion_matrix(y, y_hat2)) ##"
   ]
  },
  {
   "cell_type": "code",
   "execution_count": 10,
   "metadata": {
    "school_cell_uuid": "6db391095eeb45be865932f33040f658"
   },
   "outputs": [
    {
     "name": "stdout",
     "output_type": "stream",
     "text": [
      "             precision    recall  f1-score   support\n",
      "\n",
      "          0       0.99      1.00      0.99       986\n",
      "          1       1.00      0.07      0.13        14\n",
      "\n",
      "avg / total       0.99      0.99      0.98      1000\n",
      "\n"
     ]
    }
   ],
   "source": [
    "print(classification_report(y, model1.predict(X)))"
   ]
  },
  {
   "cell_type": "code",
   "execution_count": 176,
   "metadata": {
    "school_cell_uuid": "6db391095eeb45be865932f33040f658"
   },
   "outputs": [
    {
     "name": "stdout",
     "output_type": "stream",
     "text": [
      "             precision    recall  f1-score   support\n",
      "\n",
      "          0       0.99      1.00      0.99       986\n",
      "          1       1.00      0.07      0.13        14\n",
      "\n",
      "avg / total       0.99      0.99      0.98      1000\n",
      "\n"
     ]
    }
   ],
   "source": [
    "print(classification_report(y, model2.predict(X))) ## "
   ]
  },
  {
   "cell_type": "code",
   "execution_count": 12,
   "metadata": {
    "collapsed": true,
    "school_cell_uuid": "9240fdf702354c4e843ad2cd656460d9"
   },
   "outputs": [],
   "source": [
    "from sklearn.metrics import roc_curve\n",
    "\n",
    "fpr1, tpr1, thresholds1 = roc_curve(y, model1.decision_function(X)) ## 실제값 \n",
    "fpr2, tpr2, thresholds1 = roc_curve(y, model2.decision_function(X))"
   ]
  },
  {
   "cell_type": "code",
   "execution_count": 13,
   "metadata": {
    "school_cell_uuid": "ea19d6ab81b0495ebe5f76b1c8b6d72b"
   },
   "outputs": [
    {
     "data": {
      "image/png": "[encoded data removed]",
      "text/plain": [
       "<matplotlib.figure.Figure at 0x1aaeb51ef28>"
      ]
     },
     "metadata": {},
     "output_type": "display_data"
    }
   ],
   "source": [
    "plt.plot(fpr1, tpr1, label=\"Logistic Regression\")\n",
    "plt.plot(fpr2, tpr2, label=\"Kernel SVM\")\n",
    "plt.legend()\n",
    "plt.plot([0, 1], [0, 1], 'k--', label=\"random guess\")\n",
    "plt.xlabel('False Positive Rate (Fall-Out)') ## 억울한 애들의 비율 false alarm\n",
    "plt.ylabel('True Positive Rate (Recall)')## 진짜 잘못된것중에 검거된 수의 비율\n",
    "plt.title('Receiver operating characteristic example')\n",
    "plt.show() \n",
    "\n",
    "## Kernel SVM 0아님 1 \n",
    "## Recall rate = Fall out = 0 이거나 \n",
    "## Recall rate = Fall out = 1 일때 \n"
   ]
  },
  {
   "cell_type": "code",
   "execution_count": 14,
   "metadata": {
    "school_cell_uuid": "5d103d6797ff4dc89018d4c01f436f34"
   },
   "outputs": [
    {
     "data": {
      "image/png": "[encoded data removed]",
      "text/plain": [
       "<matplotlib.figure.Figure at 0x1aaeb5707f0>"
      ]
     },
     "metadata": {},
     "output_type": "display_data"
    }
   ],
   "source": [
    "plt.subplot(211)\n",
    "plt.plot(model1.decision_function(X) * 0.1 + 1)\n",
    "plt.plot(y, 'o', alpha=0.5)\n",
    "plt.title(\"Logistic Regression\")\n",
    "\n",
    "plt.subplot(212)\n",
    "plt.plot(model2.decision_function(X) + 1)\n",
    "plt.plot(y, 'o', alpha=0.5)\n",
    "plt.title(\"Kernel SVM\")\n",
    "plt.xlabel(\"sample number\")\n",
    "\n",
    "plt.tight_layout()\n",
    "plt.show()"
   ]
  },
  {
   "cell_type": "markdown",
   "metadata": {
    "school_cell_uuid": "3a9a17313bad4f399bfc09e8dbd44434"
   },
   "source": [
    "## AUC (Area Under the Curve)\n",
    "\n",
    "AUC는 ROC curve의 면적을 뜻한다. Fall-Out 대비 Recall 값이 클 수록 AUC가 1에 가까운 값이며 민감한 모형이다. ## 잘못된 alarm 대비 실제로 범죄자들을 체포하는 recall 비율 ## ROC면적이 크면 클수록 좋은 Performance "
   ]
  },
  {
   "cell_type": "code",
   "execution_count": 15,
   "metadata": {
    "school_cell_uuid": "d2d1039def7f4296a2c84539ed74dcf0"
   },
   "outputs": [
    {
     "data": {
      "text/plain": [
       "(0.91227180527383367, 1.0)"
      ]
     },
     "execution_count": 15,
     "metadata": {},
     "output_type": "execute_result"
    }
   ],
   "source": [
    "from sklearn.metrics import auc\n",
    "auc(fpr1, tpr1), auc(fpr2, tpr2)"
   ]
  }
 ],
 "metadata": {
  "celltoolbar": "Edit Metadata",
  "kernelspec": {
   "display_name": "Python 3",
   "language": "python",
   "name": "python3"
  },
  "language_info": {
   "codemirror_mode": {
    "name": "ipython",
    "version": 3
   },
   "file_extension": ".py",
   "mimetype": "text/x-python",
   "name": "python",
   "nbconvert_exporter": "python",
   "pygments_lexer": "ipython3",
   "version": "3.6.1"
  }
 },
 "nbformat": 4,
 "nbformat_minor": 1
}
