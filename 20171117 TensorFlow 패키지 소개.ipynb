{
 "cells": [
  {
   "cell_type": "markdown",
   "metadata": {
    "school_cell_uuid": "c37e6568f63b480886e8e1a550191c70"
   },
   "source": [
    "# TensorFlow 패키지 소개"
   ]
  },
  {
   "cell_type": "markdown",
   "metadata": {
    "school_cell_uuid": "e556f440fe294f9bbb52d5949401d2de"
   },
   "source": [
    "TensorFlow 패키지는 Theano 패키지와 마찬가지로 선형 대수 심볼 컴파일러(Symbolic Linear Algebra Compiler)이다. Theano에 비해 분산처리 기능이 강화되어 있다."
   ]
  },
  {
   "cell_type": "markdown",
   "metadata": {
    "school_cell_uuid": "8078d0c97c1445378b13dd0238e93436"
   },
   "source": [
    "## TensorFlow 기본 사용법"
   ]
  },
  {
   "cell_type": "markdown",
   "metadata": {
    "school_cell_uuid": "8db959da8fe042b5b0ce4f3fc48fb8c4"
   },
   "source": [
    "Theano와 유사하게 TensorFlow도 다음과 같은 과정을 거쳐 사용한다.\n",
    "\n",
    "1. 심볼 변수 정의\n",
    "2. 심볼 관계 정의\n",
    "3. 세션 정의\n",
    "4. 세션 사용\n",
    "\n",
    "세션(Session)은 Theano의 함수와 유사한 역할을 하며 실제 심볼 변수의 관계를 분석하고 값을 계산해준다."
   ]
  },
  {
   "cell_type": "markdown",
   "metadata": {
    "school_cell_uuid": "9144a00d260148a2811c367364d805ba"
   },
   "source": [
    "### 심볼 변수 정의"
   ]
  },
  {
   "cell_type": "markdown",
   "metadata": {
    "school_cell_uuid": "3a24b2e396294beb87f378a26520ea72"
   },
   "source": [
    "TensorFlow는 `Variable` 명령으로 정의하며 Theano와 달리 각 심볼 변수의 형태를 스칼라, 벡터, 행렬 등으로 명시적으로 정의하지 않는 대신 초기값을 이용해서 형태를 지정한다."
   ]
  },
  {
   "cell_type": "code",
   "execution_count": 3,
   "metadata": {
    "collapsed": true,
    "school_cell_uuid": "3804c652ce924a038a0aa77760bbb2a5",
    "scrolled": false
   },
   "outputs": [],
   "source": [
    "import tensorflow as tf"
   ]
  },
  {
   "cell_type": "code",
   "execution_count": 4,
   "metadata": {
    "collapsed": true,
    "school_cell_uuid": "558d42536bcf439984045e68cd95feb8"
   },
   "outputs": [],
   "source": [
    "x = tf.Variable(1.0)\n",
    "y = tf.Variable(2.0)"
   ]
  },
  {
   "cell_type": "code",
   "execution_count": 3,
   "metadata": {
    "school_cell_uuid": "ee5681a101594411959c623f30930e37"
   },
   "outputs": [
    {
     "data": {
      "text/plain": [
       "(tensorflow.python.ops.variables.Variable,\n",
       " tensorflow.python.ops.variables.Variable)"
      ]
     },
     "execution_count": 3,
     "metadata": {},
     "output_type": "execute_result"
    }
   ],
   "source": [
    "type(x), type(y)"
   ]
  },
  {
   "cell_type": "markdown",
   "metadata": {
    "school_cell_uuid": "266c842b94764d03b4772371c3f6fb81"
   },
   "source": [
    "### 심볼 관계 정의"
   ]
  },
  {
   "cell_type": "markdown",
   "metadata": {
    "school_cell_uuid": "eed3752148ee4b1e8db8056dd3966f98"
   },
   "source": [
    "이미 만들어진 심볼 변수에 일반 사칙연산이나 TensorFlow 수학 함수를 사용하여 종속 변수 역할을 하는 심볼 변수를 만들 수 있다."
   ]
  },
  {
   "cell_type": "code",
   "execution_count": 4,
   "metadata": {
    "collapsed": true,
    "school_cell_uuid": "6bb5438ad7544c928b681de6927d16a3"
   },
   "outputs": [],
   "source": [
    "z = x + y"
   ]
  },
  {
   "cell_type": "code",
   "execution_count": 5,
   "metadata": {
    "school_cell_uuid": "8fa06128553c49a2a63f505826767981"
   },
   "outputs": [
    {
     "data": {
      "text/plain": [
       "tensorflow.python.framework.ops.Tensor"
      ]
     },
     "execution_count": 5,
     "metadata": {},
     "output_type": "execute_result"
    }
   ],
   "source": [
    "type(z)"
   ]
  },
  {
   "cell_type": "code",
   "execution_count": 6,
   "metadata": {
    "collapsed": true,
    "school_cell_uuid": "678f70dd4d7748f3a48128226b8ed3d4"
   },
   "outputs": [],
   "source": [
    "u = tf.log(z)"
   ]
  },
  {
   "cell_type": "code",
   "execution_count": 7,
   "metadata": {
    "school_cell_uuid": "2d3875f03104404b9efe7ffc50daaed9"
   },
   "outputs": [
    {
     "data": {
      "text/plain": [
       "tensorflow.python.framework.ops.Tensor"
      ]
     },
     "execution_count": 7,
     "metadata": {},
     "output_type": "execute_result"
    }
   ],
   "source": [
    "type(u)"
   ]
  },
  {
   "cell_type": "markdown",
   "metadata": {
    "school_cell_uuid": "dc2fafc4f9a74b91a8e113123cc7f8f4"
   },
   "source": [
    "### 세션"
   ]
  },
  {
   "cell_type": "markdown",
   "metadata": {
    "school_cell_uuid": "f577dfc4bcfa43068f037daf044421f7"
   },
   "source": [
    "TensorFlow의 세션은 Theano의 함수와 유사한 역할을 하며 실제로 계산 그래프를 생성하고 값을 계산하기위한 환경을 제공한다. Theano의 함수와 달리 세션 생성과 실행 시작, 종료를 명시해야 한다. \n",
    "* tensorflow는 다른 컴퓨터와 통신을 하여 여러개의 컴퓨터를 동시에 사용하도록 만든 프로그램이다. 그래서 세션을 시작하면 나중에 꼭 꺼줘야 한다\n",
    "\n",
    "* 세션 생성: `Session` 객체 생성\n",
    "* 세션 사용: `run` 메서드. 실제로 값이나 expression을 계산한다.(evaluation)\n",
    "* 세션 종료: `close` 메서드. with 문으로 대체하기도 한다."
   ]
  },
  {
   "cell_type": "code",
   "execution_count": 8,
   "metadata": {
    "school_cell_uuid": "258c4aff475d405581db3dbab08dd78d"
   },
   "outputs": [
    {
     "name": "stdout",
     "output_type": "stream",
     "text": [
      "3.0\n",
      "1.09861\n"
     ]
    }
   ],
   "source": [
    "sess = tf.Session()\n",
    "init = tf.global_variables_initializer() ## initializing 하는 그래프 \n",
    "sess.run(init) ## 스페셜 그래프 실행, 각변수들의 초기값이 들어감\n",
    "print(sess.run(z)) ## 1+2 \n",
    "print(sess.run(u)) ## log(1+2) "
   ]
  },
  {
   "cell_type": "markdown",
   "metadata": {
    "school_cell_uuid": "c878fc07fcc14b6994e915f2c7fe77f5"
   },
   "source": [
    "### 미분"
   ]
  },
  {
   "cell_type": "markdown",
   "metadata": {
    "school_cell_uuid": "70e9d8ece68040349072fa52c2daea0b"
   },
   "source": [
    "TensorFlow 도 심볼릭 연산에 의한 미분 계산이 가능하다."
   ]
  },
  {
   "cell_type": "code",
   "execution_count": 9,
   "metadata": {
    "school_cell_uuid": "73ed72bac16748f79399f90cf7612a60"
   },
   "outputs": [
    {
     "name": "stdout",
     "output_type": "stream",
     "text": [
      "1.0\n",
      "[2.0]\n"
     ]
    }
   ],
   "source": [
    "f = x ** 2\n",
    "fx = tf.gradients(f, [x]) ## []을 쓰면 나중에 자동으로 세션을 꺼줌 \n",
    "\n",
    "with tf.Session() as sess:\n",
    "    init = tf.global_variables_initializer()\n",
    "    sess.run(init)\n",
    "    print(sess.run(f))    \n",
    "    print(sess.run(fx))"
   ]
  },
  {
   "cell_type": "markdown",
   "metadata": {
    "school_cell_uuid": "79f933d639584ac6ae312d040039a4c2"
   },
   "source": [
    "### 최적화"
   ]
  },
  {
   "cell_type": "markdown",
   "metadata": {
    "school_cell_uuid": "38ffdf244d0b4308b82a9ba7fad0b1ac"
   },
   "source": [
    "TensorFlow에는 Theano와 달리 최적화를 위한 `GradientDescentOptimizer` 등의 클래스가 미리 구현되어 있으므로 사용자가 구현할 필요가 없다.\n",
    "자동으로 optimization 하는 그래프를 자동으로 만들수 있다 "
   ]
  },
  {
   "cell_type": "markdown",
   "metadata": {
    "school_cell_uuid": "296ab73e1b414817ad9bc93d57a2c88a"
   },
   "source": [
    "## 예제: 선형 회귀\n",
    "\n",
    "* https://www.tensorflow.org/versions/master/get_started/index.html 을 기반으로 tensorboard 용 로그 코드 추가"
   ]
  },
  {
   "cell_type": "code",
   "execution_count": 5,
   "metadata": {},
   "outputs": [
    {
     "name": "stderr",
     "output_type": "stream",
     "text": [
      "C:\\Users\\User\\Anaconda3\\lib\\site-packages\\ipykernel_launcher.py:6: FutureWarning: The pandas.core.datetools module is deprecated and will be removed in a future version. Please use the pandas.tseries module instead.\n",
      "  \n"
     ]
    }
   ],
   "source": [
    "##스타트업 파일\n",
    "\n",
    "from scipy.stats import norm\n",
    "import numpy as np\n",
    "import scipy as sp\n",
    "from pandas.core import datetools \n",
    "import pandas as pd\n",
    "import statsmodels.api as sm ## R 패키지에서 불러온것, 샘플데이터 옮겨쓸수 있는 프로젝트 있음. 회귀분석에 유용 \n",
    "import statsmodels.formula.api as smf\n",
    "import statsmodels.stats.api as sms\n",
    "import sklearn as sk \n",
    "## 전처리 \n",
    "\n",
    "import matplotlib as mpl\n",
    "mpl.use('Agg')\n",
    "import matplotlib.pylab \n",
    "import matplotlib.pyplot as plt\n",
    "%matplotlib inline\n",
    "from mpl_toolkits.mplot3d import Axes3D\n",
    "\n",
    "import seaborn as sns\n",
    "sns.set()\n",
    "sns.set_style(\"whitegrid\")\n",
    "sns.set_color_codes()\n"
   ]
  },
  {
   "cell_type": "code",
   "execution_count": 6,
   "metadata": {
    "school_cell_uuid": "025b0d730a1c4e05954e6a697e7a1a93"
   },
   "outputs": [
    {
     "name": "stdout",
     "output_type": "stream",
     "text": [
      "0 0.0857465 [ 0.08173294] [ 0.0155838]\n",
      "20 0.00747341 [ 0.15865117] [ 0.1883246]\n",
      "40 0.00114221 [ 0.17630877] [ 0.23915505]\n",
      "60 0.000568797 [ 0.17747679] [ 0.25539723]\n",
      "80 0.000463805 [ 0.17422844] [ 0.26174241]\n",
      "100 0.000403573 [ 0.16996078] [ 0.26517785]\n",
      "120 0.000353342 [ 0.16561939] [ 0.26768565]\n",
      "140 0.000309538 [ 0.16145781] [ 0.26983288]\n",
      "160 0.000271179 [ 0.15753488] [ 0.27178609]\n",
      "180 0.000237574 [ 0.15385526] [ 0.27359834]\n",
      "200 0.000208134 [ 0.15040889] [ 0.27529007]\n",
      "220 0.000182342 [ 0.14718252] [ 0.27687222]\n",
      "240 0.000159746 [ 0.14416249] [ 0.27835277]\n",
      "260 0.00013995 [ 0.14133573] [ 0.27973843]\n",
      "280 0.000122607 [ 0.13868991] [ 0.28103533]\n",
      "300 0.000107414 [ 0.13621341] [ 0.28224924]\n",
      "320 9.41031e-05 [ 0.13389544] [ 0.28338543]\n",
      "340 8.24417e-05 [ 0.13172583] [ 0.28444895]\n",
      "360 7.22255e-05 [ 0.12969509] [ 0.28544432]\n",
      "380 6.32755e-05 [ 0.12779437] [ 0.286376]\n",
      "400 5.54344e-05 [ 0.12601531] [ 0.28724808]\n",
      "420 4.85649e-05 [ 0.1243501] [ 0.2880643]\n",
      "440 4.25468e-05 [ 0.12279148] [ 0.28882825]\n",
      "460 3.72743e-05 [ 0.12133263] [ 0.28954339]\n",
      "480 3.26552e-05 [ 0.11996713] [ 0.29021272]\n",
      "500 2.86085e-05 [ 0.11868905] [ 0.2908392]\n",
      "520 2.50634e-05 [ 0.11749279] [ 0.29142553]\n",
      "540 2.19576e-05 [ 0.11637312] [ 0.29197434]\n",
      "560 1.92366e-05 [ 0.11532512] [ 0.29248807]\n",
      "580 1.68528e-05 [ 0.11434417] [ 0.29296893]\n",
      "600 1.47644e-05 [ 0.11342601] [ 0.29341897]\n",
      "620 1.29348e-05 [ 0.11256663] [ 0.2938402]\n",
      "640 1.13319e-05 [ 0.11176226] [ 0.29423448]\n",
      "660 9.92768e-06 [ 0.11100938] [ 0.29460353]\n",
      "680 8.69747e-06 [ 0.1103047] [ 0.29494894]\n",
      "700 7.61965e-06 [ 0.10964511] [ 0.29527226]\n",
      "720 6.67543e-06 [ 0.10902774] [ 0.29557487]\n",
      "740 5.84824e-06 [ 0.10844989] [ 0.29585809]\n",
      "760 5.12354e-06 [ 0.10790904] [ 0.29612321]\n",
      "780 4.48861e-06 [ 0.10740277] [ 0.29637137]\n",
      "800 3.93236e-06 [ 0.10692893] [ 0.29660365]\n",
      "820 3.44508e-06 [ 0.10648542] [ 0.29682103]\n",
      "840 3.01817e-06 [ 0.10607031] [ 0.29702452]\n",
      "860 2.64415e-06 [ 0.10568176] [ 0.29721501]\n",
      "880 2.31645e-06 [ 0.10531807] [ 0.29739335]\n",
      "900 2.02938e-06 [ 0.10497763] [ 0.29756019]\n",
      "920 1.77789e-06 [ 0.10465901] [ 0.29771635]\n",
      "940 1.55757e-06 [ 0.10436078] [ 0.2978625]\n",
      "960 1.36457e-06 [ 0.10408165] [ 0.29799929]\n",
      "980 1.19547e-06 [ 0.1038204] [ 0.29812735]\n",
      "1000 1.04734e-06 [ 0.10357588] [ 0.29824722]\n"
     ]
    }
   ],
   "source": [
    "# Create 100 phony x, y data points in NumPy, y = x * 0.1 + 0.3\n",
    "x_data = np.random.rand(100).astype(np.float32)\n",
    "y_data = x_data * 0.1 + 0.3\n",
    "\n",
    "W = tf.Variable(tf.random_uniform([1], -1.0, 1.0))#1로 정해줌 , 유니폼하게 -1 에서 1사이 사이즈를 정해줌\n",
    "b = tf.Variable(tf.zeros([1])) ## b는 0으로 정해줌\n",
    "y = W * x_data + b ## 정확하게는 y-hat임 \n",
    "\n",
    "weights_summary = tf.summary.histogram(\"weights\", W)\n",
    "biases_summary = tf.summary.histogram(\"biases\", b)\n",
    "y_summary = tf.summary.histogram(\"y\", y)\n",
    "merged = tf.summary.merge([weights_summary, biases_summary, y_summary])\n",
    "\n",
    "loss = tf.reduce_mean(tf.square(y - y_data)) ## loss라는 그래프만듬 = y-y hat 의 제곱 \n",
    "optimizer = tf.train.GradientDescentOptimizer(0.025) ## learning rate = 0.025\n",
    "train = optimizer.minimize(loss) ## minimize method 실행 \n",
    "## 여기서 train만 실행시키면 loss, optimizer 모두 자동으로 만들어짐 (x,y도 모두 실행됨 )\n",
    "\n",
    "sess = tf.Session() ## 세션\n",
    "\n",
    "init = tf.global_variables_initializer() ## 초기화함 \n",
    "sess.run(init)\n",
    "\n",
    "writer = tf.summary.FileWriter(\"/home/dockeruser/logs\", sess.graph)\n",
    "\n",
    "for step in range(1001): ## 1000번 돌림 \n",
    "    sess.run(train)\n",
    "    if step % 20 == 0:\n",
    "        summary = sess.run(merged)\n",
    "        writer.add_summary(summary, step)\n",
    "        print(step, sess.run(loss), sess.run(W), sess.run(b))\n",
    "        \n",
    "sess.close()## 세션 클로징 \n"
   ]
  },
  {
   "cell_type": "markdown",
   "metadata": {
    "collapsed": true,
    "school_cell_uuid": "527432ed8f6d4b3c84600f7f2227f119"
   },
   "source": [
    "## TensorBoard"
   ]
  },
  {
   "cell_type": "markdown",
   "metadata": {
    "collapsed": true,
    "school_cell_uuid": "30949be804524bee98824bbe76e66c90"
   },
   "source": [
    "TensorFlow는 theano와 달리 모형 내부와 결과를 모니터링 할 수 있는 TensorBoard 라는 웹서버를 제공한다."
   ]
  },
  {
   "cell_type": "markdown",
   "metadata": {
    "school_cell_uuid": "813cb64e4b4c4dc0b96da1aff4d5b559"
   },
   "source": [
    "TensorBoard 웹서버는 포트 6006을 사용하므로 만약 도커를 사용하는 경우에는 다음과 같이 포트를 열고 실행해야 한다.\n",
    "\n",
    "내꺼 Docker Quickstarter에서 하기의 명령어 실행 (만약 미리 rpython이 실행이 되어있다면 stop 시켜주고 rpython 디렉토리 삭제 후 다시하기의 명령실행) \n",
    "\n",
    "```\n",
    "docker run --name rpython -it -p 8888:8888 -p 6006:6006 datascienceschool/rpython\n",
    "```"
   ]
  },
  {
   "cell_type": "raw",
   "metadata": {},
   "source": [
    "User@DESKTOP-CV5522K MINGW64 /c/Users\n",
    "$ docker stop rpython\n",
    "rpython\n",
    "\n",
    "User@DESKTOP-CV5522K MINGW64 /c/Users\n",
    "$ docker container rm rpython ## 디렉토리 삭제 \n",
    "rpython"
   ]
  },
  {
   "cell_type": "raw",
   "metadata": {},
   "source": [
    "User@DESKTOP-CV5522K MINGW64 /c/Users\n",
    "$ docker run --name rpython -it -p 8888:8888 -p 6006:6006 datascienceschool/rpython ## 다시 rpython 연결 \n",
    " * Starting enhanced syslogd rsyslogd                                                                            [ OK ]\n",
    " * Starting OpenBSD Secure Shell server sshd                                                                     [ OK ]\n",
    " * Starting PostgreSQL 9.5 database server                                                                       [ OK ]\n",
    " * Stopping PostgreSQL 9.5 database server                                                                       [ OK ]\n",
    "To run a command as administrator (user \"root\"), use \"sudo <command>\".\n",
    "See \"man sudo_root\" for details.\n",
    "\n",
    "내꺼 Docker python 로 들어가기: http://192.168.99.100:8888\n",
    "Tensorflow value 코드 입력하고 실행 (Docker jupyter안에 \"20171117 Tensorflow 연습\" 파일 참고)"
   ]
  },
  {
   "cell_type": "raw",
   "metadata": {},
   "source": [
    "dockeruser@7bf9176e9660:~$ tensorboard --logdir=/home/dockeruser/logs ## 로그로 연결 \n",
    "TensorBoard 0.1.5 at http://7bf9176e9660:6006 (Press CTRL+C to quit)\n",
    "\n",
    "http://192.168.99.100:6006 클릭 "
   ]
  },
  {
   "cell_type": "raw",
   "metadata": {},
   "source": [
    "###### 참고 ##########\n",
    "\n",
    "User@DESKTOP-CV5522K MINGW64 /c/Users\n",
    "$ docker ## 도커 커맨드 확인 \n",
    "\n",
    "Usage:  docker COMMAND\n",
    "\n",
    "A self-sufficient runtime for containers\n",
    "\n",
    "Options:\n",
    "      --config string      Location of client config files (default\n",
    "                           \"C:\\Users\\User\\.docker\")\n",
    "  -D, --debug              Enable debug mode\n",
    "      --help               Print usage\n",
    "  -H, --host list          Daemon socket(s) to connect to\n",
    "  -l, --log-level string   Set the logging level\n",
    "                           (\"debug\"|\"info\"|\"warn\"|\"error\"|\"fatal\")\n",
    "                           (default \"info\")\n",
    "      --tls                Use TLS; implied by --tlsverify\n",
    "      --tlscacert string   Trust certs signed only by this CA (default\n",
    "                           \"C:\\Users\\User\\.docker\\machine\\machines\\default\\ca.pem\")\n",
    "      --tlscert string     Path to TLS certificate file (default\n",
    "                           \"C:\\Users\\User\\.docker\\machine\\machines\\default\\cert.pem\")\n",
    "      --tlskey string      Path to TLS key file (default\n",
    "                           \"C:\\Users\\User\\.docker\\machine\\machines\\default\\key.pem\")\n",
    "      --tlsverify          Use TLS and verify the remote (default true)\n",
    "  -v, --version            Print version information and quit\n",
    "\n",
    "Management Commands:\n",
    "  config      Manage Docker configs\n",
    "  container   Manage containers\n",
    "  image       Manage images\n",
    "  network     Manage networks\n",
    "  node        Manage Swarm nodes\n",
    "  plugin      Manage plugins\n",
    "  secret      Manage Docker secrets\n",
    "  service     Manage services\n",
    "  stack       Manage Docker stacks\n",
    "  swarm       Manage Swarm\n",
    "  system      Manage Docker\n",
    "  volume      Manage volumes\n",
    "\n",
    "Commands:\n",
    "  attach      Attach local standard input, output, and error streams to a running container\n",
    "  build       Build an image from a Dockerfile\n",
    "  commit      Create a new image from a container's changes\n",
    "  cp          Copy files/folders between a container and the local filesystem\n",
    "  create      Create a new container\n",
    "  diff        Inspect changes to files or directories on a container's filesystem\n",
    "  events      Get real time events from the server\n",
    "  exec        Run a command in a running container\n",
    "  export      Export a container's filesystem as a tar archive\n",
    "  history     Show the history of an image\n",
    "  images      List images\n",
    "  import      Import the contents from a tarball to create a filesystem image\n",
    "  info        Display system-wide information\n",
    "  inspect     Return low-level information on Docker objects\n",
    "  kill        Kill one or more running containers\n",
    "  load        Load an image from a tar archive or STDIN\n",
    "  login       Log in to a Docker registry\n",
    "  logout      Log out from a Docker registry\n",
    "  logs        Fetch the logs of a container\n",
    "  pause       Pause all processes within one or more containers\n",
    "  port        List port mappings or a specific mapping for the container\n",
    "  ps          List containers\n",
    "  pull        Pull an image or a repository from a registry\n",
    "  push        Push an image or a repository to a registry\n",
    "  rename      Rename a container\n",
    "  restart     Restart one or more containers\n",
    "  rm          Remove one or more containers\n",
    "  rmi         Remove one or more images\n",
    "  run         Run a command in a new container\n",
    "  save        Save one or more images to a tar archive (streamed to STDOUT by default)\n",
    "  search      Search the Docker Hub for images\n",
    "  start       Start one or more stopped containers\n",
    "  stats       Display a live stream of container(s) resource usage statistics\n",
    "  stop        Stop one or more running containers\n",
    "  tag         Create a tag TARGET_IMAGE that refers to SOURCE_IMAGE\n",
    "  top         Display the running processes of a container\n",
    "  unpause     Unpause all processes within one or more containers\n",
    "  update      Update configuration of one or more containers\n",
    "  version     Show the Docker version information\n",
    "  wait        Block until one or more containers stop, then print their exit codes\n",
    "\n",
    "Run 'docker COMMAND --help' for more information on a command.\n",
    "\n"
   ]
  },
  {
   "cell_type": "markdown",
   "metadata": {
    "school_cell_uuid": "60ff836f6b4c43a6aaa7972526468170"
   },
   "source": [
    "### tensorboard 용 로그 생성"
   ]
  },
  {
   "cell_type": "markdown",
   "metadata": {
    "school_cell_uuid": "7b1241cb6ef04a88a765130a3d4a33e4"
   },
   "source": [
    "tensorboard는 tensorflow 처리의 결과로 생성된 로그 파일을 읽어서 웹 화면에 나타낼 뿐이다. 따라서 계산 코드에서 로그 생성을 위한 코드를 추가해 주어야 한다. \n",
    "\n",
    "로그 코드는 다음과 같은 순서로 추가한다.\n",
    "\n",
    "1. `summary.histogram` 명령으로 개별 변수 기록용 summary 생성\n",
    "2. `summary.merge` 명령으로 개별 변수 기록용 summary를 하나의 summary로 합침\n",
    "3. 세션 생성후 `tf.summary.FileWriter` 명령으로 기록용 writer 객체 생성(위 예제에서는 `writer`). 이 때 기록할 디렉토리 설정\n",
    "4. `sess.run` 명령으로 summary 객체(위 예제에서는 `merged`)를 보내면 기록 실시\n",
    "5. 기록용 write 객체의 `add_summary` 명령으로 summary를 실제 파일에 쓰기."
   ]
  },
  {
   "cell_type": "markdown",
   "metadata": {
    "school_cell_uuid": "89e4dfdaa3134a17abc476a8120dfea2"
   },
   "source": [
    "### tensorboard 가동"
   ]
  },
  {
   "cell_type": "markdown",
   "metadata": {
    "school_cell_uuid": "e6222b92af604a288a1a3b119feb22ee"
   },
   "source": [
    "TensorBoard를 가동하기 위해서는 콘솔에서 다음과 같이 로그 디렉토리를 설정하여 실행한다.\n",
    "\n",
    "```\n",
    "$ tensorboard --logdir=/home/dockeruser/logs\n",
    "```"
   ]
  },
  {
   "cell_type": "markdown",
   "metadata": {
    "school_cell_uuid": "b406e61bcdc64f8c81d1ae5b73f512be"
   },
   "source": [
    "위와 같이 실행한 다음에는 다음 주소로 연결하면 TensorBoard 화면을 볼 수 있다.\n",
    "\n",
    "http://192.168.99.100:6006\n"
   ]
  },
  {
   "cell_type": "markdown",
   "metadata": {
    "school_cell_uuid": "804c09fa564143d89c4db46a43f9c290"
   },
   "source": [
    "<img src=\"https://datascienceschool.net/upfiles/3fd708a2121d4bb5887b29a7b4d320a6.png\" style=\"width:100%;\">"
   ]
  }
 ],
 "metadata": {
  "anaconda-cloud": {},
  "kernelspec": {
   "display_name": "Python 3",
   "language": "python",
   "name": "python3"
  },
  "language_info": {
   "codemirror_mode": {
    "name": "ipython",
    "version": 3
   },
   "file_extension": ".py",
   "mimetype": "text/x-python",
   "name": "python",
   "nbconvert_exporter": "python",
   "pygments_lexer": "ipython3",
   "version": "3.6.1"
  }
 },
 "nbformat": 4,
 "nbformat_minor": 1
}
