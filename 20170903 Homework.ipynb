{
 "cells": [
  {
   "cell_type": "code",
   "execution_count": 8,
   "metadata": {
    "collapsed": true
   },
   "outputs": [],
   "source": [
    "import numpy as np"
   ]
  },
  {
   "cell_type": "markdown",
   "metadata": {},
   "source": [
    "#### 연습 문제 1\n",
    "\n",
    "다음과 같은 행렬을 만든다.\n",
    "\n",
    "```\n",
    "10 20 30 40\n",
    "50 60 70 80\n",
    "```"
   ]
  },
  {
   "cell_type": "code",
   "execution_count": 6,
   "metadata": {},
   "outputs": [
    {
     "data": {
      "text/plain": [
       "array([[10, 20, 30, 40],\n",
       "       [50, 60, 70, 80]])"
      ]
     },
     "execution_count": 6,
     "metadata": {},
     "output_type": "execute_result"
    }
   ],
   "source": [
    "matrix1 = np.array([[10, 20, 30, 40], [50, 60, 70, 80]]) \n",
    "matrix1"
   ]
  },
  {
   "cell_type": "markdown",
   "metadata": {},
   "source": [
    "#### 연습 문제 2\n",
    "\n",
    "다음 행렬과 같은 행렬이 있다.\n",
    "\n",
    "```\n",
    "m = array([[ 0,  1,  2,  3,  4],\n",
    "           [ 5,  6,  7,  8,  9],\n",
    "           [10, 11, 12, 13, 14]])\n",
    "```\n",
    "\n",
    "1. 이 행렬에서 값 7 을 인덱싱한다.\n",
    "2. 이 행렬에서 값 14 을 인덱싱한다.\n",
    "3. 이 행렬에서 배열 [6, 7] 을 슬라이싱한다.\n",
    "4. 이 행렬에서 배열 [7, 12] 을 슬라이싱한다.\n",
    "5. 이 행렬에서 배열 [[3, 4], [8, 9]] 을 슬라이싱한다."
   ]
  },
  {
   "cell_type": "code",
   "execution_count": 5,
   "metadata": {
    "collapsed": true
   },
   "outputs": [],
   "source": [
    "m = np.array([[ 0,  1,  2,  3,  4],[ 5,  6,  7,  8,  9],[10, 11, 12, 13, 14]])\n",
    "\n",
    "matrix1 = m[1,2]\n",
    "matrix2 = m[-1,-1]\n",
    "matrix3 = m[1, 1:3]\n",
    "matrix4 = m[1:3, 2:3]\n",
    "matrix5 = m[:2, 3:]"
   ]
  },
  {
   "cell_type": "markdown",
   "metadata": {},
   "source": [
    "#### 연습 문제 1\n",
    "\n",
    "NumPy를 사용해서 붓꽃 데이터 $x_2$에 대한 벡터 변수 ``x2``를 만든다."
   ]
  },
  {
   "cell_type": "code",
   "execution_count": 10,
   "metadata": {},
   "outputs": [
    {
     "data": {
      "text/plain": [
       "array([[ 4.9],\n",
       "       [ 3. ],\n",
       "       [ 1.4],\n",
       "       [ 0.2]])"
      ]
     },
     "execution_count": 10,
     "metadata": {},
     "output_type": "execute_result"
    }
   ],
   "source": [
    "x2 = np.array([[4.9], [3.0], [1.4], [0.2]])\n",
    "x2"
   ]
  },
  {
   "cell_type": "markdown",
   "metadata": {},
   "source": [
    "#### 연습 문제 2\n",
    "\n",
    "NumPy를 사용해서 붓꽃 데이터 $X$에 대한 행렬 변수 ``X``를 만든다."
   ]
  },
  {
   "cell_type": "code",
   "execution_count": 16,
   "metadata": {},
   "outputs": [
    {
     "data": {
      "text/plain": [
       "array([[ 5.1,  3.5,  1.4,  0.2],\n",
       "       [ 4.9,  3. ,  1.4,  0.2]])"
      ]
     },
     "execution_count": 16,
     "metadata": {},
     "output_type": "execute_result"
    }
   ],
   "source": [
    "X = np.array([[5.1, 3.5, 1.4, 0.2],[4.9, 3.0, 1.4, 0.2]])\n",
    "X"
   ]
  },
  {
   "cell_type": "markdown",
   "metadata": {},
   "source": [
    "#### 연습 문제 3\n",
    "\n",
    "1. NumPy를 사용해서 붓꽃 데이터 $X$의 전치행렬 $X^T$을 구한다.\n",
    "2. 전치행렬을 다시 전치한 행렬 $(X^T)^T$을 구한다. 이 행렬과 원래 행렬 $X$을 비교한다."
   ]
  },
  {
   "cell_type": "code",
   "execution_count": 17,
   "metadata": {},
   "outputs": [
    {
     "data": {
      "text/plain": [
       "array([[ 5.1,  4.9],\n",
       "       [ 3.5,  3. ],\n",
       "       [ 1.4,  1.4],\n",
       "       [ 0.2,  0.2]])"
      ]
     },
     "execution_count": 17,
     "metadata": {},
     "output_type": "execute_result"
    }
   ],
   "source": [
    "X.T"
   ]
  },
  {
   "cell_type": "markdown",
   "metadata": {},
   "source": [
    "#### 연습 문제 4\n",
    "\n",
    "1. 영벡터, 일벡터, 정방행렬, 대각행렬, 단위행렬, 대칭행렬의 예를 하나씩 만들어 본다.\n",
    "2. 위의 벡터와 행렬을 NumPy로 나타내 본다."
   ]
  },
  {
   "cell_type": "code",
   "execution_count": 32,
   "metadata": {},
   "outputs": [
    {
     "data": {
      "text/plain": [
       "array([[1, 2, 2, 2],\n",
       "       [2, 1, 2, 2],\n",
       "       [2, 2, 1, 2],\n",
       "       [2, 2, 2, 1]])"
      ]
     },
     "execution_count": 32,
     "metadata": {},
     "output_type": "execute_result"
    }
   ],
   "source": [
    "vector0 = np.array([[0],[0],[0],[0]])\n",
    "vector1 = np.array([[1],[1],[1],[1]])\n",
    "square_matrix = np.array([[1,2,3,4],[5,6,7,8],[9,10,11,12],[13,14,15,16]])\n",
    "diagnal_matrix = np.diag([7, 8, 9])\n",
    "identity_matrix = np.eye(5)\n",
    "symmetric_matrix = np.array([[1,2,2,2],[2,1,2,2],[2,2,1,2],[2,2,2,1]])\n",
    "\n",
    "symmetric_matrix"
   ]
  },
  {
   "cell_type": "markdown",
   "metadata": {},
   "source": [
    "#### 연습 문제 1\n",
    "\n",
    "1. $A$와 $B$가 위와 같을 때 $AB$를 연습장에 손으로 계산하고 NumPy의 계산결과와 맞는지 확인한다.\n",
    "\n",
    "2. 순서를 바꾸어 $BA$를 연습장에 손으로 계산하고 NumPy로도 계산한다.\n",
    "\n",
    "3. $A$,, $B$가 다음과 같을 때, $AB$, $BA$를 (계산이 가능하다면) 손 계산과 NumPy 코드로 구한다. $AB$, $BA$ 모두 계산 가능한가?\n",
    "$$ A = \\begin{bmatrix} 1 & 2 & 3 \\end{bmatrix} $$\n",
    "$$ B = \\begin{bmatrix} 4 & 7 \\\\ 5 & 8 \\\\ 6 & 9 \\end{bmatrix} $$\n",
    "\n",
    "4. $A$,, $B$가 다음과 같을 때, $AB$, $BA$를 (계산이 가능하다면) 손 계산과 NumPy 코드로 구한다. $AB$, $BA$ 모두 계산 가능한가?\n",
    "$$ A = \\begin{bmatrix} 1 & 2 \\\\ 3 & 4 \\end{bmatrix} $$\n",
    "$$ B = \\begin{bmatrix} 5 & 6 \\\\ 7 & 8 \\end{bmatrix} $$\n",
    "\n",
    "5. $x$가 다음과 같을 때, $x^Tx$와 $xx^T$를 각각 손 계산과 NumPy 코드로 구한다.\n",
    "$$ x = \\begin{bmatrix} 1 \\\\ 2 \\\\ 3 \\end{bmatrix} $$"
   ]
  },
  {
   "cell_type": "code",
   "execution_count": 11,
   "metadata": {},
   "outputs": [
    {
     "ename": "ValueError",
     "evalue": "shapes (3,2) and (1,3) not aligned: 2 (dim 1) != 1 (dim 0)",
     "output_type": "error",
     "traceback": [
      "\u001b[1;31m---------------------------------------------------------------------------\u001b[0m",
      "\u001b[1;31mValueError\u001b[0m                                Traceback (most recent call last)",
      "\u001b[1;32m<ipython-input-11-b571e55dd89a>\u001b[0m in \u001b[0;36m<module>\u001b[1;34m()\u001b[0m\n\u001b[0;32m      5\u001b[0m \u001b[1;33m\u001b[0m\u001b[0m\n\u001b[0;32m      6\u001b[0m \u001b[0mnp\u001b[0m\u001b[1;33m.\u001b[0m\u001b[0mdot\u001b[0m\u001b[1;33m(\u001b[0m\u001b[0mA\u001b[0m\u001b[1;33m,\u001b[0m\u001b[0mB\u001b[0m\u001b[1;33m)\u001b[0m\u001b[1;33m\u001b[0m\u001b[0m\n\u001b[1;32m----> 7\u001b[1;33m \u001b[0mnp\u001b[0m\u001b[1;33m.\u001b[0m\u001b[0mdot\u001b[0m\u001b[1;33m(\u001b[0m\u001b[0mB\u001b[0m\u001b[1;33m,\u001b[0m\u001b[0mA\u001b[0m\u001b[1;33m)\u001b[0m\u001b[1;33m\u001b[0m\u001b[0m\n\u001b[0m",
      "\u001b[1;31mValueError\u001b[0m: shapes (3,2) and (1,3) not aligned: 2 (dim 1) != 1 (dim 0)"
     ]
    }
   ],
   "source": [
    "A = np.array([[1,2,3]]) ## 1*3 행렬\n",
    "B = np.array([[4,7],[5,8],[6,9]]) ## 2*3 행렬\n",
    "\n",
    "\n",
    "\n",
    "np.dot(A,B) ## 가능\n",
    "np.dot(B,A) ## 불가능\n"
   ]
  },
  {
   "cell_type": "code",
   "execution_count": 45,
   "metadata": {},
   "outputs": [
    {
     "data": {
      "text/plain": [
       "array([[23, 34],\n",
       "       [31, 46]])"
      ]
     },
     "execution_count": 45,
     "metadata": {},
     "output_type": "execute_result"
    }
   ],
   "source": [
    "A = np.array([[1,2],[3,4]])\n",
    "B = np.array([[5,6],[7,8]])\n",
    "\n",
    "np.dot(A,B)\n",
    "np.dot(B,A)"
   ]
  },
  {
   "cell_type": "code",
   "execution_count": 50,
   "metadata": {},
   "outputs": [
    {
     "data": {
      "text/plain": [
       "array([[1, 2, 3],\n",
       "       [2, 4, 6],\n",
       "       [3, 6, 9]])"
      ]
     },
     "execution_count": 50,
     "metadata": {},
     "output_type": "execute_result"
    }
   ],
   "source": [
    "x = np.array([[1],[2],[3]])\n",
    "np.dot(x.T,x)\n",
    "np.dot(x,x.T)"
   ]
  },
  {
   "cell_type": "markdown",
   "metadata": {},
   "source": [
    "#### 연습 문제 2\n",
    "\n",
    "다음 행렬의 곱셈을 순서를 바꾸어 두 가지 방법으로 해본다.\n",
    "\n",
    "$$ \\begin{bmatrix} 1 & 2 \\end{bmatrix} \\begin{bmatrix} 1 & 2 \\\\ 3 & 4 \\end{bmatrix} \\begin{bmatrix} 5 \\\\ 6 \\end{bmatrix}$$"
   ]
  },
  {
   "cell_type": "code",
   "execution_count": 70,
   "metadata": {},
   "outputs": [
    {
     "data": {
      "text/plain": [
       "array([95])"
      ]
     },
     "execution_count": 70,
     "metadata": {},
     "output_type": "execute_result"
    }
   ],
   "source": [
    "A = np.array([1,2])\n",
    "B = np.array([[1,2],[3,4]])\n",
    "C = np.array([[5],[6]])\n",
    "\n",
    "\n",
    "np.dot(A,(np.dot(B,C)))\n",
    "np.dot(np.dot(A,B).T,C)"
   ]
  },
  {
   "cell_type": "markdown",
   "metadata": {
    "collapsed": true
   },
   "source": [
    "DAY 1 연습 문제 1\n",
    "\n",
    "예측 문제로 풀 수 있는 데이터 분석의 예를 3가지 생각해 보자."
   ]
  },
  {
   "cell_type": "markdown",
   "metadata": {},
   "source": [
    "1. 과거 10년의 출산율과 결혼성년수, 나이에 따른 인구수 데이터 분석으로 현재 신생아수 출력\n",
    "2. 과자내용을 보고 종류와 이름 알아맞추기\n",
    "3. 자녀수에 따른 가족 구성원 행복지수 "
   ]
  },
  {
   "cell_type": "markdown",
   "metadata": {},
   "source": [
    "연습 문제 2\n",
    "\n",
    "위에서 생각한 3가지 예측 문제의 입력과 출력을 보다 정확하게 정의해 보자. 중요한 점은 다음과 같다.\n",
    "\n",
    "\"~등\", \"같은 것\"이란 용어를 사용하지 않고 정확히 입출력 데이터의 갯수를 정해야 한다.\n",
    "입력이나 출력 데이터 값의 숫자 예를 제시하면 더욱 좋다. 예를 들어 부동산 가격을 예측하기 위해 면적을 입력 데이터로 사용하기로 했다면 40 제곱미터 혹은 80 제곱미터 등 실제로 어떤 숫자를 입력데이터로 사용할지도 예를 들어 준다."
   ]
  },
  {
   "cell_type": "markdown",
   "metadata": {
    "collapsed": true
   },
   "source": [
    "1. 입력데이터: 과거 10년동안 서울 청년 20세~30세 결혼성년수\n",
    "2. 입력데이터: 과자의 모양, 색깔, 성분으로 과자 이름 알아맞추기 \n",
    "3. 입력데이터: 자녀표정에 따른 가족간 만족도 수치"
   ]
  },
  {
   "cell_type": "markdown",
   "metadata": {},
   "source": [
    "연습 문제 3\n",
    "\n",
    "위에서 생각한 3가지 예측 문제에 대해 규칙기반의 해결 방법을 생각해보자. 정확한 답이 아니어도 괜찮다."
   ]
  },
  {
   "cell_type": "markdown",
   "metadata": {
    "collapsed": true
   },
   "source": [
    "1. 회귀분석 \n",
    "2. 분류\n",
    "3. 분류 후 회귀분석"
   ]
  },
  {
   "cell_type": "markdown",
   "metadata": {},
   "source": [
    "연습 문제 4\n",
    "\n",
    "위의 3가지 예측 문제에 대해 학습용 데이터 집합을 만들어본다. 학습용 데이터 집합의 크기는 최소한 각 문제에 대해 10개 이상 만들어보자."
   ]
  },
  {
   "cell_type": "markdown",
   "metadata": {
    "collapsed": true
   },
   "source": [
    "1번 학습용데이터 집합: \n",
    "\n",
    "\n",
    "2번 학습용데이터 집합 :\n",
    "학습용 데이터 1: (입력데이터= 롯데과자 샘플1, 출력데이터=\" 샘플1 브랜드 네임 \")\n",
    "학습용 데이터 2: (입력데이터= 롯데과자 샘플2, 출력데이터=\"샘플2 브랜드 네임\")\n",
    "학습용 데이터 3: (입력데이터=롯데 과자 샘플3, 출력데이터=\"샘플3 브랜드 네임\")\n",
    "학습용 데이터 4: (입력데이터=해태제과 샘플1, 출력데이터=\"해태제과 샘플1 브랜드네임\")\n",
    "학습용 데이터 5: (입력데이터=해태제과 샘플2, 출력데이터=\"해태제과 샘플2 브랜드네임\")\n",
    "학습용 데이터 6: (입력데이터=해태제과 샘플3, 출력데이터=\"해태제과 샘플3 브랜드네임\")\n",
    "학습용 데이터 7: (입력데이터=오뚜기제과 샘플1, 출력데이터=\"오뚜기 제과 샘플1 브랜드네임\")\n",
    "학습용 데이터 8: (입력데이터=오뚜기제과 샘플2, 출력데이터=\"오뚜기 제과 샘플2 브랜드네임\")\n",
    "학습용 데이터 9: (입력데이터=오뚜기제과 샘플3, 출력데이터=\"오뚜기 제과 샘플3 브랜드네임\")\n",
    "학습용 데이터 10: (입력데이터=외국브랜드제과 샘플1, 출력데이터=\"외국브랜드 제과 샘플1\")\n",
    "\n",
    "3번 학습용데이터 집합:\n",
    "학습용 데이터 1: (입력데이터= 가족 구성원 부모1표정, 출력데이터=\" 근엄함 \") \n",
    "학습용 데이터 2: (입력데이터= 가족 구성원 사진속 아이1표정, 출력데이터=\"즐거움\")\n",
    "학습용 데이터 3: (입력데이터=가족 구성원 사진속 아이2표정, 출력데이터=\"행복함\")\n",
    "학습용 데이터 4: (입력데이터=가족 구성원 사진속 아이3표정, 출력데이터=\"사랑함\")\n",
    "학습용 데이터 5: (입력데이터=가족 구성원 사진속 아이4표정, 출력데이터=\"짜증남\")\n",
    "학습용 데이터 6: (입력데이터=가족 구성원 사진속 아이5표정, 출력데이터=\"질투남\")\n",
    "학습용 데이터 7: (입력데이터=가족 구성원 사진속 아이6표정, 출력데이터=\"슬픔\")\n",
    "학습용 데이터 8: (입력데이터=가족 구성원 사진속 아이7표정, 출력데이터=\"동경\")\n",
    "학습용 데이터 9: (입력데이터=가족 구성원 사진속 아이8표정, 출력데이터=\"존경\")\n",
    "학습용 데이터 10: (입력데이터=가족 구성원 사진속 아이9표정, 출력데이터=\"화남\")"
   ]
  },
  {
   "cell_type": "markdown",
   "metadata": {},
   "source": [
    "연습 문제 5\n",
    "\n",
    "지금까지 생각한 예측 문제의 입력 데이터 중 전처리 혹은 인코딩이 필요한 것이 어떤 것인지 확인하고 어떻게 숫자로 바꿀 수 있을지 그 방법을 생각해 보자."
   ]
  },
  {
   "cell_type": "code",
   "execution_count": null,
   "metadata": {
    "collapsed": true
   },
   "outputs": [],
   "source": [
    "과자 내용 분류: 전처리- 이미지 전처리 필요, 포토샵을 이용하여 1픽셀당 이미지 숫자변환값을 행렬로 구현\n",
    "감정 내용 분류: 객관식이 아닌 주관식으로 써져있는 감정내용을 Word2Vec으로 구현하여 감정을 벡터로 구현후 행렬로 집합 \n",
    "감정 내용 분류: 가족 구성원 사진 분석- 포토샵을 이용하여 사람 표정에 관하여 이미지 숫자 변환값을 행렬로 구현 필요 "
   ]
  },
  {
   "cell_type": "markdown",
   "metadata": {},
   "source": [
    "연습 문제 6\n",
    "\n",
    "지금까지 고려했던 예측 문제의 입력 데이터와 출력 데이터가 각각 숫자값인지 카테고리값인지 쓰고 문제가 회귀분석 문제인지 분류 문제인지 결정하라."
   ]
  },
  {
   "cell_type": "code",
   "execution_count": null,
   "metadata": {
    "collapsed": true
   },
   "outputs": [],
   "source": [
    "1. 숫자값 ,회귀분석\n",
    "2. 카테고리값, 분류\n",
    "3. 숫자값, 회귀분석"
   ]
  },
  {
   "cell_type": "markdown",
   "metadata": {
    "collapsed": true
   },
   "source": [
    "## Greek Alphabet 외우기\n",
    "\n",
    "Α α alpha 알파 \n",
    "Β β beta 베타 \n",
    "Γ γ gamma 감마 \n",
    "Δ δ delta 델타 \n",
    "Ε ε epsilon 엡실론 \n",
    "Ζ ζ zeta 지타 \n",
    "Η η eta 이타 \n",
    "Θ θ theta 씨타 \n",
    "Ι ι iota 요타 \n",
    "Κ κ kappa 카파 \n",
    "Λ λ lambda 람다 \n",
    "Μ μ mu 뮤우 \n",
    "Ν ν nu 뉴우 \n",
    "Ξ ξ xi 크사이 \n",
    "Ο ο omicron 오미크론 \n",
    "Π π pi 파이 \n",
    "Ρ ρ rho 로오 \n",
    "Σ σ sigma 씨그마 \n",
    "Τ τ tau 타우 \n",
    "Υ υ upsilon 입실론\n",
    "Φ φ phi 화이 \n",
    "Χ χ chi 카이 \n",
    "Ψ ψ psi 프사이 \n",
    "Ω ω omega 오메가"
   ]
  }
 ],
 "metadata": {
  "kernelspec": {
   "display_name": "Python 3",
   "language": "python",
   "name": "python3"
  },
  "language_info": {
   "codemirror_mode": {
    "name": "ipython",
    "version": 3
   },
   "file_extension": ".py",
   "mimetype": "text/x-python",
   "name": "python",
   "nbconvert_exporter": "python",
   "pygments_lexer": "ipython3",
   "version": "3.6.1"
  }
 },
 "nbformat": 4,
 "nbformat_minor": 2
}
