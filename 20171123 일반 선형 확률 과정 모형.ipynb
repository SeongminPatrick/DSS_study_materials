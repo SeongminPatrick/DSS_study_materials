{
 "cells": [
  {
   "cell_type": "code",
   "execution_count": 4,
   "metadata": {
    "hidden": "all",
    "school_cell_uuid": "3a0de79df35c46eebccf136d7a4db798"
   },
   "outputs": [
    {
     "name": "stdout",
     "output_type": "stream",
     "text": [
      "The tikzmagic extension is already loaded. To reload it, use:\n",
      "  %reload_ext tikzmagic\n"
     ]
    }
   ],
   "source": [
    "%load_ext tikzmagic"
   ]
  },
  {
   "cell_type": "markdown",
   "metadata": {
    "school_cell_uuid": "961f8645406b4c908c6dd3b9b34c55af"
   },
   "source": [
    "# 일반 선형 확률 과정 모형"
   ]
  },
  {
   "cell_type": "markdown",
   "metadata": {
    "school_cell_uuid": "2c17a2f9f1384deca525abc6e2fa20b0"
   },
   "source": [
    "정상 확률 과정(stationary process)에서 가장 일반적으로 사용되는 모형은 **일반 선형 확률 과정 모형(general linear process model)**이다. 일반 선형 확률 과정 모형은 시계열이 **가우시안 백색 잡음의 현재 값과 과거 값들의 선형 조합으로 이루어져 있다**고 가정한다. 이 수식에서 $e_t$는 가우시안 백색 잡음이고 $\\psi$는 백색 잡음에 곱해지는 가중 계수(weight coefficient)이다.\n",
    "가중계수들은 현재에 가까울수록 (어떠한시점에서) 더 크고 멀수록 작아진다 = ** 주가모형은 현재에 영향을 많이 미치는 어떠한 사건(백색잡음, 또는 사건) 에 대해 가중계수를 크게 주고 현재에서 먼 사건에 대하여 가중계수를 적게 주어 모형을 만든다. **\n",
    "\n",
    "\n",
    "$$ Y_t = e_t + \\psi_1 e_{t-1}  + \\psi_2 e_{t-2}  + \\psi_1 e_{t-3}  + \\cdots $$"
   ]
  },
  {
   "cell_type": "code",
   "execution_count": null,
   "metadata": {
    "collapsed": true
   },
   "outputs": [],
   "source": [
    "## 백색잡음 또는 E 는 예측하지 못한 사건들을 나타냄(특히 주가에서 영향을 미치는 요소들이 뉴스에 나온것을 말함, 주가에 반영됨 )"
   ]
  },
  {
   "cell_type": "markdown",
   "metadata": {
    "school_cell_uuid": "281937da16a544a8abf639a8559f940e"
   },
   "source": [
    "이 모형을 블럭 다이어그램으로 나타내면 다음과 같다. 이 다이어그램에서 $D$는 신호가 저장되었다가 다음 시간에 나오는 일종의 저장 장치이다. 지연(delay, lag) 요소라고 불린다."
   ]
  },
  {
   "cell_type": "code",
   "execution_count": 5,
   "metadata": {
    "hidden": "input",
    "school_cell_uuid": "83569055d12b424bb7cd10528d9b8616"
   },
   "outputs": [
    {
     "data": {
      "image/png": "[encoded data removed]"
     },
     "metadata": {},
     "output_type": "display_data"
    }
   ],
   "source": [
    "%%tikz    \n",
    "\n",
    "\\tikzstyle{block} = [draw, shape=rectangle, minimum height=3em, minimum width=3em, node distance=2cm, line width=1pt]\n",
    "\\tikzstyle{dots} = [shape=rectangle, minimum height=3em, minimum width=3em, node distance=2cm, line width=1pt]\n",
    "\\tikzstyle{sum} = [draw, shape=circle, node distance=1.5cm, line width=1pt, minimum width=1em]\n",
    "\\tikzstyle{branch}=[fill,shape=circle,minimum size=4pt,inner sep=0pt]\n",
    "\n",
    "\\node at (-2,0) (input) {};\n",
    "\\node [block] (d1) {D};\n",
    "\\draw[->] (input) -- (d1);\n",
    "\\path (input) -- coordinate(b1) (d1);\n",
    "\\node [above of=b1]  {$e_{t}$};\n",
    "\\node [block, below of=b1] (c1) {1};\n",
    "\\draw[->] (b1) -- (c1);\n",
    "\\node [sum, below of=c1] (s1) {+};\n",
    "\\draw[->] (c1) -- (s1);\n",
    "\n",
    "\\node [block, right of=d1] (d2) {D};\n",
    "\\draw[->] (d1) -- (d2);\n",
    "\\path (d1) -- coordinate(b2) (d2);\n",
    "\\node [above of=b2]  {$e_{t-1}$};\n",
    "\\node [block, below of=b2] (c2) {$\\psi_1$};\n",
    "\\draw[->] (b2) -- (c2);\n",
    "\\node [sum, below of=c2] (s2) {+};\n",
    "\\draw[->] (c2) -- (s2);\n",
    "\\draw[->] (s1) -- (s2);\n",
    "\n",
    "\\node [block, right of=d2] (d3) {D};\n",
    "\\draw[->] (d2) -- (d3);\n",
    "\\path (d2) -- coordinate(b3) (d3);\n",
    "\\node [above of=b3]  {$e_{t-2}$};\n",
    "\\node [block, below of=b3] (c3) {$\\psi_2$};\n",
    "\\draw[->] (b3) -- (c3);\n",
    "\\node [sum, below of=c3] (s3) {+};\n",
    "\\draw[->] (c3) -- (s3);\n",
    "\\draw[->] (s2) -- (s3);\n",
    "\n",
    "\\node [dots, right of=d3] (d4) {$\\cdots$};\n",
    "\\draw[->] (d3) -- (d4);\n",
    "\\path (d3) -- coordinate(b4) (d4);\n",
    "\\node [above of=b4]  {$e_{t-3}$};\n",
    "\\node [block, below of=b4] (c4) {$\\psi_3$};\n",
    "\\draw[->] (b4) -- (c4);\n",
    "\\node [sum, below of=c4] (s4) {+};\n",
    "\\draw[->] (c4) -- (s4);\n",
    "\\draw[->] (s3) -- (s4);\n",
    "\n",
    "\\node [right of=s4] (dots) {$\\cdots$};\n",
    "\\node [right of=dots] (output) {$Y_t$};\n",
    "\n",
    "\\draw[-] (s4) -- (dots);\n",
    "\\draw[->] (dots) -- (output);\n"
   ]
  },
  {
   "cell_type": "markdown",
   "metadata": {
    "school_cell_uuid": "7a94a83f49384059b802d21b7389ec7a"
   },
   "source": [
    "다만 선형 확률 과정 모형이 성립하려면 계수들이 다음 조건을 만족해야 한다. 이 조건은 전체 항들의 합이 수렴하도록 즉, 전체 값의 크기가 과도하게 커지지 않도록 하는 역할을 한다.\n",
    "\n",
    "$$ \\sum_{i=1}^{\\infty} \\psi_i^2 < \\infty $$"
   ]
  },
  {
   "cell_type": "markdown",
   "metadata": {
    "school_cell_uuid": "ddc13f3fdbb4464d82e279ecc7d65184"
   },
   "source": [
    "일반 선형 확률 과정 모형은 계수의 특성에 따라 다음과 같은 하위 모형으로 분류할 수 있다\n",
    "\n",
    "\n",
    "* MA (Moving Average) 모형 - Moving Window 에 average로 생김 (주가가 시간에 변함에 따라 lag(시간차) =3인경우 window 그안에서 벌어지는 것만큼 계속이동하고 그것에 대한 평균을 낸 모형), lag 3 이전에 있던 E는 영향을 미치지 않는다 \n",
    "* AR (Auto-Regressive) 모형 - 랜덤워크, 예전에 있었던 백색소음 사건 E가 모두 영향을 미침 \n",
    "* ARMA (Auto-Regressive Moving Average) 모형"
   ]
  },
  {
   "cell_type": "markdown",
   "metadata": {
    "school_cell_uuid": "8fd3d2d41b7f48b9a7b16b0d130dc97d"
   },
   "source": [
    "MA 모형은 일반 선형 확률 모형의 차수가 유한(finite)한 경우를 말한다. $q$차수의 MA 모형은 MA(q)로 표기하며 다음 수식을 만족한다.\n",
    "(차수q는 백색소음, 즉 사건 E 가 일어난 횟수이다, MA에서 일어난 차수는 Moving Window에 있는 lag(시차)만큼 이다.) \n",
    "\n",
    "$$ Y_t = e_t - \\theta_1 e_{t-1}  - \\theta_2 e_{t-2} - \\cdots - \\theta_q e_{t-q} $$"
   ]
  },
  {
   "cell_type": "code",
   "execution_count": 6,
   "metadata": {
    "hidden": "input",
    "school_cell_uuid": "2eda9517b2da47c9acf8487d0742d6d7"
   },
   "outputs": [
    {
     "data": {
      "image/png": "[encoded data removed]"
     },
     "metadata": {},
     "output_type": "display_data"
    }
   ],
   "source": [
    "%%tikz    \n",
    "\n",
    "\\tikzstyle{block} = [draw, shape=rectangle, minimum height=3em, minimum width=3em, node distance=2cm, line width=1pt]\n",
    "\\tikzstyle{dots} = [shape=rectangle, minimum height=3em, minimum width=3em, node distance=2cm, line width=1pt]\n",
    "\\tikzstyle{sum} = [draw, shape=circle, node distance=1.5cm, line width=1pt, minimum width=1em]\n",
    "\\tikzstyle{branch}=[fill,shape=circle,minimum size=4pt,inner sep=0pt]\n",
    "\n",
    "\\node at (-2,0) (input) {};\n",
    "\\node [block] (d1) {D};\n",
    "\\draw[->] (input) -- (d1);\n",
    "\\path (input) -- coordinate(b1) (d1);\n",
    "\\node [above of=b1]  {$e_{t}$};\n",
    "\\node [block, below of=b1] (c1) {1};\n",
    "\\draw[->] (b1) -- (c1);\n",
    "\\node [sum, below of=c1] (s1) {+};\n",
    "\\draw[->] (c1) -- (s1);\n",
    "\n",
    "\\node [block, right of=d1] (d2) {D};\n",
    "\\draw[->] (d1) -- (d2);\n",
    "\\path (d1) -- coordinate(b2) (d2);\n",
    "\\node [above of=b2]  {$e_{t-1}$};\n",
    "\\node [block, below of=b2] (c2) {$-\\theta_1$};\n",
    "\\draw[->] (b2) -- (c2);\n",
    "\\node [sum, below of=c2] (s2) {+};\n",
    "\\draw[->] (c2) -- (s2);\n",
    "\\draw[->] (s1) -- (s2);\n",
    "\n",
    "\\node [dots, right of=d2] (d3) {$\\cdots$};\n",
    "\\draw[->] (d2) -- (d3);\n",
    "\\path (d2) -- coordinate(b3) (d3);\n",
    "\\node [above of=b3]  {$e_{t-2}$};\n",
    "\\node [block, below of=b3] (c3) {$-\\theta_2$};\n",
    "\\draw[->] (b3) -- (c3);\n",
    "\\node [sum, below of=c3] (s3) {+};\n",
    "\\draw[->] (c3) -- (s3);\n",
    "\\draw[->] (s2) -- (s3);\n",
    "\n",
    "\\node [dots, right of=d3] (d4) {};\n",
    "\\path (d3) -- coordinate(b4) (d4);\n",
    "\\node [above of=b4]  {$e_{t-q}$};\n",
    "\\node [block, below of=b4] (c4) {$-\\theta_q$};\n",
    "\\draw[->] (d3) -| (c4);\n",
    "\\node [right of=s3] (dots) {$\\cdots$};\n",
    "\\draw[-] (s3) -- (dots);\n",
    "\\node [sum, below of=c4] (s4) {+};\n",
    "\\draw[->] (c4) -- (s4);\n",
    "\n",
    "\\node [right of=s4] (output) {$Y_t$};\n",
    "\\draw[<-] (s4) -- (dots);\n",
    "\\draw[->] (s4) -- (output);\n"
   ]
  },
  {
   "cell_type": "markdown",
   "metadata": {
    "school_cell_uuid": "8f6dbb791f1942be9b35835cd85c758e"
   },
   "source": [
    "AR 모형은 자기 자신의 과거값에 의존적인 모형을 말한다.  $p$차수의 AR 모형은 AR(p)로 표기하며 다음 수식을 만족한다.\n",
    "\n",
    "$$ Y_t = \\phi_1 Y_{t-1}  + \\phi_2 Y_{t-2}  + \\cdots + \\phi_p Y_{t-p}  + e_t $$"
   ]
  },
  {
   "cell_type": "code",
   "execution_count": 7,
   "metadata": {
    "hidden": "input",
    "school_cell_uuid": "1bc0723a095649f6b3b1f33c9ffcc675"
   },
   "outputs": [
    {
     "data": {
      "image/png": "[encoded data removed]"
     },
     "metadata": {},
     "output_type": "display_data"
    }
   ],
   "source": [
    "%%tikz --size 600,300 \n",
    "\n",
    "\\tikzstyle{block} = [draw, shape=rectangle, minimum height=3em, minimum width=3em, node distance=2cm, line width=1pt]\n",
    "\\tikzstyle{dots} = [shape=rectangle, minimum height=3em, minimum width=3em, node distance=2cm, line width=1pt]\n",
    "\\tikzstyle{sum} = [draw, shape=circle, node distance=1.5cm, line width=1pt, minimum width=1em]\n",
    "\\tikzstyle{branch}=[fill,shape=circle,minimum size=4pt,inner sep=0pt]\n",
    "\n",
    "\\node at (0,0) (e) {$e_t$};\n",
    "\\node [sum] at (2,0) (s1) {+};\n",
    "\\node       at (4,0) (s2) {$\\cdots$};\n",
    "\\node [sum] at (6,0) (s3) {+};\n",
    "\\node [sum] at (8,0) (s4) {+};\n",
    "\\node [block] at (2,-2) (b1) {$\\phi_p$};\n",
    "\\node         at (4,-2) (b2) {$\\cdots$};\n",
    "\\node [block] at (6,-2) (b3) {$\\phi_2$};\n",
    "\\node [block] at (8,-2) (b4) {$\\phi_1$};\n",
    "\\node [branch] at (2,-4) (bb1) {};\n",
    "\\node          at (4,-4) (bb2) {$\\cdots$};\n",
    "\\node [branch] at (6,-4) (bb3) {};\n",
    "\\node [branch] at (8,-4) (bb4) {};\n",
    "\\node [branch] at (10,0) (by) {};\n",
    "\\node [block]  at (9,-4) (d4) {D};\n",
    "\\node [block]  at (7,-4) (d3) {D};\n",
    "\\node [block]  at (5,-4) (d2) {D};\n",
    "\\node [below of=bb4]  {$Y_{t-1}$};\n",
    "\\node [below of=bb3]  {$Y_{t-2}$};\n",
    "\\node [below of=bb1]  {$Y_{t-p}$};\n",
    "\\node at (10,-4) (bby) {};\n",
    "\\node at (12,0) (y) {$Y_t$};\n",
    "\n",
    "\\draw[->] (e) -- (s1);\n",
    "\\draw[->] (s1) -- (s2);\n",
    "\\draw[->] (s2) -- (s3);\n",
    "\\draw[->] (s3) -- (s4);\n",
    "\\draw[->] (b1) -- (s1);\n",
    "\\draw[->] (b3) -- (s3);\n",
    "\\draw[->] (b4) -- (s4);\n",
    "\\draw[-] (s4) -- (by);\n",
    "\\draw[->] (by) -- (y);\n",
    "\\draw[->] (by) |- (d4);\n",
    "\\draw[->] (d4) -- (d3);\n",
    "\\draw[->] (d3) -- (d2);\n",
    "\\draw[->] (bb2) -| (b1);\n",
    "\\draw[->] (bb4) -- (b4);\n",
    "\\draw[->] (bb3) -- (b3);"
   ]
  }
 ],
 "metadata": {
  "celltoolbar": "Edit Metadata",
  "kernelspec": {
   "display_name": "Python 3",
   "language": "python",
   "name": "python3"
  },
  "language_info": {
   "codemirror_mode": {
    "name": "ipython",
    "version": 3
   },
   "file_extension": ".py",
   "mimetype": "text/x-python",
   "name": "python",
   "nbconvert_exporter": "python",
   "pygments_lexer": "ipython3",
   "version": "3.6.1"
  }
 },
 "nbformat": 4,
 "nbformat_minor": 1
}
