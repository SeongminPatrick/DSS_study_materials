{
 "cells": [
  {
   "cell_type": "code",
   "execution_count": 4,
   "metadata": {},
   "outputs": [],
   "source": [
    "from scipy.stats import norm\n",
    "\n",
    "import numpy as np\n",
    "import scipy as sp\n",
    "from pandas.core import datetools as pd\n",
    "import statsmodels.api as sm\n",
    "import statsmodels.formula.api as smf\n",
    "import statsmodels.stats.api as sms\n",
    "import sklearn as sk\n"
   ]
  },
  {
   "cell_type": "code",
   "execution_count": 42,
   "metadata": {},
   "outputs": [
    {
     "data": {
      "text/plain": [
       "31"
      ]
     },
     "execution_count": 42,
     "metadata": {},
     "output_type": "execute_result"
    }
   ],
   "source": [
    "## 이항확률 분포\n",
    "N = 100\n",
    "theta = 0.35 # 귀무가설 앞면이 나온확률이 40번 \n",
    "np.random.seed(0)\n",
    "x = sp.stats.bernoulli(theta).rvs(N)\n",
    "n = np.count_nonzero(x)\n",
    "\n",
    "n"
   ]
  },
  {
   "cell_type": "code",
   "execution_count": 43,
   "metadata": {},
   "outputs": [
    {
     "data": {
      "text/plain": [
       "0.00018314322488235352"
      ]
     },
     "execution_count": 43,
     "metadata": {},
     "output_type": "execute_result"
    }
   ],
   "source": [
    "sp.stats.binom_test(n,N)"
   ]
  },
  {
   "cell_type": "code",
   "execution_count": 50,
   "metadata": {},
   "outputs": [
    {
     "data": {
      "text/plain": [
       "array([8, 2, 0, 0], dtype=int64)"
      ]
     },
     "execution_count": 50,
     "metadata": {},
     "output_type": "execute_result"
    }
   ],
   "source": [
    "## 카테코리 분포의 카이 제곱 검정 \n",
    "\n",
    "N = 10\n",
    "k= 4\n",
    "theta = np.array([0.8,0.2,0,0])\n",
    "x = np.random.choice(k,N, p = theta)\n",
    "n = np.bincount(x, minlength = k)\n",
    "n \n"
   ]
  },
  {
   "cell_type": "code",
   "execution_count": 51,
   "metadata": {},
   "outputs": [
    {
     "data": {
      "text/plain": [
       "Power_divergenceResult(statistic=17.199999999999999, pvalue=0.00064286025225389755)"
      ]
     },
     "execution_count": 51,
     "metadata": {},
     "output_type": "execute_result"
    }
   ],
   "source": [
    "sp.stats.chisquare(n) ## p 벨류가 0.0006 정도로 채택 하기 힘들다 "
   ]
  },
  {
   "cell_type": "code",
   "execution_count": 53,
   "metadata": {},
   "outputs": [
    {
     "data": {
      "text/plain": [
       "array([ 1.76405235,  0.40015721,  0.97873798,  2.2408932 ,  1.86755799,\n",
       "       -0.97727788,  0.95008842, -0.15135721, -0.10321885,  0.4105985 ])"
      ]
     },
     "execution_count": 53,
     "metadata": {},
     "output_type": "execute_result"
    }
   ],
   "source": [
    "## 단일 표본 z- 검정\n",
    "\n",
    "N = 10\n",
    "mu = 0\n",
    "np.random.seed(0)\n",
    "x = sp.stats.norm(mu).rvs(N)\n",
    "x"
   ]
  },
  {
   "cell_type": "code",
   "execution_count": 54,
   "metadata": {
    "collapsed": true
   },
   "outputs": [],
   "source": [
    "def ztest_1samp(x, sigma2=1, mu=0):\n",
    "    z = (x.mean() - mu)/ np.sqrt(sigma2/len(x))\n",
    "    return z, 2 * sp.stats.norm().sf(np.abs(z))"
   ]
  },
  {
   "cell_type": "code",
   "execution_count": 55,
   "metadata": {},
   "outputs": [
    {
     "data": {
      "text/plain": [
       "(2.3338341854824276, 0.019604406021683538)"
      ]
     },
     "execution_count": 55,
     "metadata": {},
     "output_type": "execute_result"
    }
   ],
   "source": [
    "ztest_1samp(x)"
   ]
  },
  {
   "cell_type": "code",
   "execution_count": 80,
   "metadata": {},
   "outputs": [
    {
     "data": {
      "image/png": "[encoded data removed]",
      "text/plain": [
       "<matplotlib.figure.Figure at 0x1c16adf5b70>"
      ]
     },
     "metadata": {},
     "output_type": "display_data"
    }
   ],
   "source": [
    "import seaborn as sns\n",
    "import matplotlib.pylab as plt\n",
    "sns.set()\n",
    "sns.set_style(\"whitegrid\")\n",
    "sns.set_color_codes()\n",
    "\n",
    "## 단일표본 t-검정 \n",
    "N = 41\n",
    "mu = 0\n",
    "np.random.seed(0)\n",
    "x = sp.stats.norm(mu).rvs(N)\n",
    "sns.distplot(x,kde = False, fit=sp.stats.norm)\n",
    "plt.show()"
   ]
  },
  {
   "cell_type": "code",
   "execution_count": 81,
   "metadata": {},
   "outputs": [
    {
     "data": {
      "text/plain": [
       "Ttest_1sampResult(statistic=1.6480174165435451, pvalue=0.10718324390186629)"
      ]
     },
     "execution_count": 81,
     "metadata": {},
     "output_type": "execute_result"
    }
   ],
   "source": [
    "sp.stats.ttest_1samp(x,popmean = 0) ## N=41일 때 pvalue=0.107183 N<40 이하인경우 p벨류가 0.1 이하의 값이 나온다  "
   ]
  },
  {
   "cell_type": "code",
   "execution_count": 83,
   "metadata": {},
   "outputs": [
    {
     "data": {
      "text/plain": [
       "-1.8331129326536337"
      ]
     },
     "execution_count": 83,
     "metadata": {},
     "output_type": "execute_result"
    }
   ],
   "source": [
    "sp.stats.t(df = 9).ppf(0.05) \n",
    "## 유의 수준 (양측검정) 10프로 일때 제일 작은 값 t 의 유의 수준은 5% \n",
    "## 그에 대한 t 값은 -1.8331129326536337"
   ]
  },
  {
   "cell_type": "code",
   "execution_count": 84,
   "metadata": {},
   "outputs": [
    {
     "data": {
      "text/plain": [
       "-2.6264054563851862"
      ]
     },
     "execution_count": 84,
     "metadata": {},
     "output_type": "execute_result"
    }
   ],
   "source": [
    "sp.stats.t(df = 99).ppf(0.005)"
   ]
  },
  {
   "cell_type": "code",
   "execution_count": 90,
   "metadata": {},
   "outputs": [
    {
     "data": {
      "image/png": "[encoded data removed]",
      "text/plain": [
       "<matplotlib.figure.Figure at 0x1c16accf6a0>"
      ]
     },
     "metadata": {},
     "output_type": "display_data"
    }
   ],
   "source": [
    "## 독립표본 t-검정 : 두학급의 평균이 같은지를 비교함 (두정규분포의 기댓값이 동일한지 확인 )\n",
    "N_1 = 10; mu_1 = 0; sigma_1 = 1\n",
    "N_2 = 10; mu_2 = 0.5; sigma_2 = 1\n",
    "np.random.seed(0)\n",
    "x1 = sp.stats.norm(mu_1, sigma_1).rvs(N_1)\n",
    "x2 = sp.stats.norm(mu_2, sigma_2).rvs(N_2)\n",
    "sns.distplot(x1, kde=False, fit=sp.stats.norm)\n",
    "sns.distplot(x2, kde=False, fit=sp.stats.norm)\n",
    "plt.show()"
   ]
  },
  {
   "cell_type": "code",
   "execution_count": 92,
   "metadata": {},
   "outputs": [
    {
     "data": {
      "text/plain": [
       "Ttest_indResult(statistic=-0.41399685269886549, pvalue=0.68376768941164268)"
      ]
     },
     "execution_count": 92,
     "metadata": {},
     "output_type": "execute_result"
    }
   ],
   "source": [
    "sp.stats.ttest_ind(x1,x2, equal_var= True) \n",
    "## 유의확률이 68.4 프로 , 그렇지만 mu1 != mu2 이므로 에러 \n",
    "## 시행횟수가(예100) 커지면 p벨류가 작아지므로 에러가 적어진다 "
   ]
  },
  {
   "cell_type": "code",
   "execution_count": 123,
   "metadata": {},
   "outputs": [
    {
     "data": {
      "text/plain": [
       "Ttest_relResult(statistic=-0.22549380840084865, pvalue=0.83608322580796268)"
      ]
     },
     "execution_count": 123,
     "metadata": {},
     "output_type": "execute_result"
    }
   ],
   "source": [
    "a = [80, 85, 75, 80]\n",
    "b = [85, 70, 80, 90]\n",
    "\n",
    "#x1 = sp.stats.norm(np.mean(a))\n",
    "#x2 = sp.stats.norm(np.mean(b))\n",
    "# sp.stats.ttest_ind(x1,x2, equal_var= True) \n",
    "# sp.stats.ttest_ind(x1,x2) \n",
    "sp.stats.ttest_ind(a,b) ## 평균\n",
    "sp.stats.ttest_rel(a,b) "
   ]
  },
  {
   "cell_type": "code",
   "execution_count": 125,
   "metadata": {},
   "outputs": [
    {
     "data": {
      "text/plain": [
       "array([ 0.5488135 ,  0.71518937,  0.60276338])"
      ]
     },
     "execution_count": 125,
     "metadata": {},
     "output_type": "execute_result"
    }
   ],
   "source": [
    "## uniform 분포\n",
    "N = 3\n",
    "np.random.seed(0)\n",
    "sp.stats.uniform().rvs(N)"
   ]
  },
  {
   "cell_type": "code",
   "execution_count": 131,
   "metadata": {},
   "outputs": [
    {
     "data": {
      "text/plain": [
       "(0.9538570642471313, 0.7646925449371338)"
      ]
     },
     "execution_count": 131,
     "metadata": {},
     "output_type": "execute_result"
    }
   ],
   "source": [
    "x1 = sp.stats.shapiro(np.random.rand(5)-0.5) ## 박사님답 - Shapiro 정규성 테스트 - 확륣분포가 정규분포를 따르는지 확인 \n",
    "x2 = sp.stats.shapiro(np.random.rand(5)-0.5)\n",
    "x2 ## 첫번째값은 test statistics 값, 두번째 값은 p-value 값 - p값이 높으면 정규성을 따른다 "
   ]
  },
  {
   "cell_type": "code",
   "execution_count": 134,
   "metadata": {},
   "outputs": [
    {
     "data": {
      "text/plain": [
       "Ks_2sampResult(statistic=0.5, pvalue=0.84381982454156057)"
      ]
     },
     "execution_count": 134,
     "metadata": {},
     "output_type": "execute_result"
    }
   ],
   "source": [
    "sp.stats.ks_2samp(x1, x2) ## 84 프로로 유의 확률이 높으므로 정규성 검정에서 ok \n",
    "##이 중에서 Kolmogorov-Smirnov 검정은 사실 정규 분포에 국한되지 않고 두 샘플이 같은 분포를 따르는지 확인할 수 있는 방법이다."
   ]
  },
  {
   "cell_type": "code",
   "execution_count": null,
   "metadata": {
    "collapsed": true
   },
   "outputs": [],
   "source": []
  }
 ],
 "metadata": {
  "kernelspec": {
   "display_name": "Python 3",
   "language": "python",
   "name": "python3"
  },
  "language_info": {
   "codemirror_mode": {
    "name": "ipython",
    "version": 3
   },
   "file_extension": ".py",
   "mimetype": "text/x-python",
   "name": "python",
   "nbconvert_exporter": "python",
   "pygments_lexer": "ipython3",
   "version": "3.6.1"
  }
 },
 "nbformat": 4,
 "nbformat_minor": 2
}
