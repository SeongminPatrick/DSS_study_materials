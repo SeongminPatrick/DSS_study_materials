{
 "cells": [
  {
   "cell_type": "markdown",
   "metadata": {
    "school_cell_uuid": "27a1c74ac8e14efa8070b10b64cf7923"
   },
   "source": [
    "# 이항 확률 분포"
   ]
  },
  {
   "cell_type": "markdown",
   "metadata": {
    "school_cell_uuid": "533554d46bff4158a008a68d8cafea8a"
   },
   "source": [
    "성공확률이 $\\theta$ 인 베르누이 시도를 $N$번 하는 경우를 생각해 보자. 가장 운이 좋을 때에는 $N$번 모두 성공할 것이고 가장 운이 나쁜 경우에는 한 번도 성공하지 못할 겻이다. $N$번 중 성공한 횟수를 확률 변수 $X$ 라고 한다면 $X$의 값은 0 부터 $N$ 까지의 정수 중 하나가 될 것이다. \n",
    "\n",
    "이러한 확률 변수를 **이항 분포(binomial distribution)**를 따르는 확률 변수라고 하며 다음과 같이 표시한다.\n",
    "\n",
    "$$ X \\sim \\text{Bin}(x;N,\\theta)  $$"
   ]
  },
  {
   "cell_type": "markdown",
   "metadata": {
    "school_cell_uuid": "895c30c5c3a84a288f137276153a2c65"
   },
   "source": [
    "이항 확률 분포를 수식으로 묘사해 보자.\n",
    "\n",
    "0 또는 1이 나오는 베르누이 확률 분포를 따르는 확률 변수 $Y$를 가정한다. \n",
    "\n",
    "$$ Y \\sim \\text{Bern}(y;\\theta) $$\n",
    "\n",
    "이 확률 변수의 $N$개의 샘플을 $y_1, y_2, \\cdots, y_N$라고 하자. 이 값은 모두 0(실패) 아니면 1(성공) 이라는 값을 가지기 때문에 $N$번 중 성공한 횟수는 $N$개의 샘플 값의 총합이다.\n",
    "\n",
    "$$ x = \\sum_{i=1}^N y_i $$"
   ]
  },
  {
   "cell_type": "markdown",
   "metadata": {
    "school_cell_uuid": "200e3e0768a243a4b2946d9bb33fa3df"
   },
   "source": [
    "이항 확률 분포를 수식으로 쓰면 다음과 같다.\n",
    "\n",
    "$$ \\text{Bin}(x;N,\\theta) = \\binom N x  \\theta^x(1-\\theta)^{N-x} $$\n",
    "\n",
    "이 식에서 $()$ 기호와 $!$ 기호는 각각 조합(combination)과 팩토리얼(factorial)을 뜻하며 다음과 같이 정의한다.\n",
    "\n",
    "$$ \\binom N x =\\dfrac{N!}{x!(N-x)!} $$\n",
    "\n",
    "$$ N! = N\\cdot (N-1) \\cdots 2 \\cdot 1 $$\n"
   ]
  },
  {
   "cell_type": "markdown",
   "metadata": {
    "school_cell_uuid": "6dfa9e3bf37f4f29bddca1e2630f4f30"
   },
   "source": [
    "## SciPy를 사용한 베르누이 분포의 시뮬레이션"
   ]
  },
  {
   "cell_type": "markdown",
   "metadata": {
    "school_cell_uuid": "7ba0d35e085a418e9fb8f88d5310151f"
   },
   "source": [
    "Scipy의 stats 서브 패키지에 있는 `binom` 클래스는 이항 분포 클래스이다. `n` 인수와 `p` 인수를 사용하여 모수를 설정한다"
   ]
  },
  {
   "cell_type": "code",
   "execution_count": 6,
   "metadata": {
    "collapsed": true
   },
   "outputs": [],
   "source": [
    "import numpy as np\n",
    "import scipy as sp\n",
    "\n",
    "import pandas.tseries\n",
    "import statsmodels.api as sm\n",
    "import statsmodels.formula.api as smf\n",
    "import statsmodels.stats.api as sms\n",
    "import sklearn as sk\n",
    "\n",
    "import matplotlib as mpl\n",
    "mpl.use('Agg')\n",
    "import matplotlib.pylab as plt\n",
    "from mpl_toolkits.mplot3d import Axes3D\n",
    "\n",
    "import seaborn as sns\n",
    "sns.set()\n",
    "sns.set_style(\"whitegrid\")\n",
    "sns.set_color_codes()\n"
   ]
  },
  {
   "cell_type": "code",
   "execution_count": 7,
   "metadata": {
    "school_cell_uuid": "0e91947c701343938e93199030926bae"
   },
   "outputs": [
    {
     "name": "stdout",
     "output_type": "stream",
     "text": [
      "<scipy.stats._distn_infrastructure.rv_frozen object at 0x0000019D1034C1D0>\n"
     ]
    }
   ],
   "source": [
    "N = 10\n",
    "theta = 0.6\n",
    "rv = sp.stats.binom(N, theta)\n",
    "print(rv)"
   ]
  },
  {
   "cell_type": "code",
   "execution_count": null,
   "metadata": {
    "collapsed": true
   },
   "outputs": [],
   "source": []
  },
  {
   "cell_type": "markdown",
   "metadata": {
    "school_cell_uuid": "94284aabf57547efb3c025b24e52e03b"
   },
   "source": [
    "pmf 메서드를 사용하면 확률 질량 함수(pmf: probability mass function)를 계산할 수 있다."
   ]
  },
  {
   "cell_type": "code",
   "execution_count": 8,
   "metadata": {
    "collapsed": true,
    "school_cell_uuid": "c5691457ba2848efbefc5a7ba489a1b7"
   },
   "outputs": [],
   "source": [
    "xx = np.arange(N + 1)\n",
    "plt.bar(xx, rv.pmf(xx), align=\"center\")\n",
    "plt.ylabel(\"P(x)\")\n",
    "plt.title(\"pmf of binomial distribution\")\n",
    "plt.show()"
   ]
  },
  {
   "cell_type": "markdown",
   "metadata": {
    "school_cell_uuid": "505ba5920a334d9daa5e71831fd51dd6"
   },
   "source": [
    "시뮬레이션을 하려면 `rvs` 메서드를 사용한다."
   ]
  },
  {
   "cell_type": "code",
   "execution_count": 10,
   "metadata": {
    "school_cell_uuid": "a10fa48af6164a17a8563110c04aabc4"
   },
   "outputs": [
    {
     "data": {
      "text/plain": [
       "array([ 6,  5,  6,  6,  6,  5,  6,  4,  3,  6,  5,  6,  6,  4,  8,  8,  9,\n",
       "        5,  5,  4,  3,  5,  6,  5,  8,  5,  8,  4,  6,  6,  7,  5,  6,  6,\n",
       "        9,  6,  6,  6,  4,  5,  7,  6,  5,  8,  5,  5,  7,  8,  7,  7,  6,\n",
       "        6,  2,  8,  7,  8,  5,  7,  6,  7,  8,  8,  5,  8,  7,  7,  5,  8,\n",
       "        4,  8,  3,  6,  3,  6,  5,  9,  7,  8,  7,  8,  7,  6,  8,  5,  6,\n",
       "        7,  6,  8,  6,  4,  7,  5,  8,  5,  7,  7,  6,  9,  5, 10])"
      ]
     },
     "execution_count": 10,
     "metadata": {},
     "output_type": "execute_result"
    }
   ],
   "source": [
    "np.random.seed(0)\n",
    "x = rv.rvs(100)\n",
    "x"
   ]
  },
  {
   "cell_type": "code",
   "execution_count": 12,
   "metadata": {
    "collapsed": true,
    "school_cell_uuid": "3c37d55fd72d461483b581f5bd9c023b"
   },
   "outputs": [],
   "source": [
    "sns.countplot(x)\n",
    "plt.show()"
   ]
  },
  {
   "cell_type": "markdown",
   "metadata": {
    "school_cell_uuid": "09bb9f65251c4007b79aa324cd85715e"
   },
   "source": [
    "이론적인 확률 분포와 샘플의 확률 분포를 동시에 나타내려면 다음과 같은 코드를 사용한다."
   ]
  },
  {
   "cell_type": "code",
   "execution_count": 5,
   "metadata": {
    "school_cell_uuid": "7d3d9ebb309547dea2adbbd7fda8ba96"
   },
   "outputs": [
    {
     "data": {
      "text/html": [
       "<div>\n",
       "<table border=\"1\" class=\"dataframe\">\n",
       "  <thead>\n",
       "    <tr style=\"text-align: right;\">\n",
       "      <th>type</th>\n",
       "      <th>simulation</th>\n",
       "      <th>theoretic</th>\n",
       "    </tr>\n",
       "    <tr>\n",
       "      <th>value</th>\n",
       "      <th></th>\n",
       "      <th></th>\n",
       "    </tr>\n",
       "  </thead>\n",
       "  <tbody>\n",
       "    <tr>\n",
       "      <th>0</th>\n",
       "      <td>0.00</td>\n",
       "      <td>0.000105</td>\n",
       "    </tr>\n",
       "    <tr>\n",
       "      <th>1</th>\n",
       "      <td>0.00</td>\n",
       "      <td>0.001573</td>\n",
       "    </tr>\n",
       "    <tr>\n",
       "      <th>2</th>\n",
       "      <td>0.01</td>\n",
       "      <td>0.010617</td>\n",
       "    </tr>\n",
       "    <tr>\n",
       "      <th>3</th>\n",
       "      <td>0.04</td>\n",
       "      <td>0.042467</td>\n",
       "    </tr>\n",
       "    <tr>\n",
       "      <th>4</th>\n",
       "      <td>0.07</td>\n",
       "      <td>0.111477</td>\n",
       "    </tr>\n",
       "    <tr>\n",
       "      <th>5</th>\n",
       "      <td>0.21</td>\n",
       "      <td>0.200658</td>\n",
       "    </tr>\n",
       "    <tr>\n",
       "      <th>6</th>\n",
       "      <td>0.27</td>\n",
       "      <td>0.250823</td>\n",
       "    </tr>\n",
       "    <tr>\n",
       "      <th>7</th>\n",
       "      <td>0.17</td>\n",
       "      <td>0.214991</td>\n",
       "    </tr>\n",
       "    <tr>\n",
       "      <th>8</th>\n",
       "      <td>0.18</td>\n",
       "      <td>0.120932</td>\n",
       "    </tr>\n",
       "    <tr>\n",
       "      <th>9</th>\n",
       "      <td>0.04</td>\n",
       "      <td>0.040311</td>\n",
       "    </tr>\n",
       "    <tr>\n",
       "      <th>10</th>\n",
       "      <td>0.01</td>\n",
       "      <td>0.006047</td>\n",
       "    </tr>\n",
       "  </tbody>\n",
       "</table>\n",
       "</div>"
      ],
      "text/plain": [
       "type   simulation  theoretic\n",
       "value                       \n",
       "0            0.00   0.000105\n",
       "1            0.00   0.001573\n",
       "2            0.01   0.010617\n",
       "3            0.04   0.042467\n",
       "4            0.07   0.111477\n",
       "5            0.21   0.200658\n",
       "6            0.27   0.250823\n",
       "7            0.17   0.214991\n",
       "8            0.18   0.120932\n",
       "9            0.04   0.040311\n",
       "10           0.01   0.006047"
      ]
     },
     "execution_count": 5,
     "metadata": {},
     "output_type": "execute_result"
    }
   ],
   "source": [
    "y = np.bincount(x, minlength=N+1)/float(len(x))\n",
    "df = pd.DataFrame({\"theoretic\": rv.pmf(xx), \"simulation\": y}).stack()\n",
    "df = df.reset_index()\n",
    "df.columns = [\"value\", \"type\", \"ratio\"]\n",
    "df.pivot(\"value\", \"type\", \"ratio\")"
   ]
  },
  {
   "cell_type": "code",
   "execution_count": 6,
   "metadata": {
    "school_cell_uuid": "e2f1383b3d174e709433947c5d5d48ab"
   },
   "outputs": [
    {
     "data": {
      "image/png": "[encoded data removed]",
      "text/plain": [
       "<matplotlib.figure.Figure at 0x7efe166075d0>"
      ]
     },
     "metadata": {},
     "output_type": "display_data"
    }
   ],
   "source": [
    "sns.barplot(x=\"value\", y=\"ratio\", hue=\"type\", data=df)\n",
    "plt.show()"
   ]
  },
  {
   "cell_type": "markdown",
   "metadata": {
    "school_cell_uuid": "03b123ea802c4f88a6b9f1f653118dc5"
   },
   "source": [
    "## 이항 분포의 모멘트"
   ]
  },
  {
   "cell_type": "markdown",
   "metadata": {
    "school_cell_uuid": "d7e60def1ba74b009fb111d288fd5533"
   },
   "source": [
    "이항 분포의 기댓값과 분산은 각각 다음과 같다.\n",
    "\n",
    "### 기댓값\n",
    "\n",
    "$$ \\text{E}[X] = N\\theta $$\n",
    "\n",
    "(증명)\n",
    "\n",
    "$$ \\text{E}[X] = \\text{E} \\left[ \\sum_{i=1}^N \\text{Bern}_i \\right] = \\sum_{i=1}^N  \\text{E}[ \\text{Bern}_i ] = N\\theta $$\n",
    "\n",
    "\n",
    "여기에서 $\\text{Bern}_i$는 $i$번째 시도의 결과로 나온 숫자로써 서로 독립인 베르누이 분포이다.\n",
    "\n",
    "### 분산\n",
    "\n",
    "$$ \\text{Var}[X] = N\\theta(1-\\theta)$$\n",
    "\n",
    "(증명)\n",
    "\n",
    "$$ \\text{Var}[X] = \\text{Var} \\left[ \\sum_{i=1}^N \\text{Bern}_i \\right] = \\sum_{i=1}^N  \\text{Var}[ \\text{Bern}_i ] = N\\theta(1-\\theta)$$"
   ]
  },
  {
   "cell_type": "markdown",
   "metadata": {
    "bootstrap": {
     "panel": {
      "class": "panel-default"
     }
    },
    "school_cell_uuid": "f9770631839d4d5cbd696e6cb8ffbf2d"
   },
   "source": [
    "#### 연습 문제 1\n",
    "\n",
    "베르누이 확률 분포의 모수가 다음과 같을 경우에 각각 샘플을 생성한 후 기댓값과 분산을 구하고 앞의 예제와 같이 확률 밀도 함수와 비교한 카운트 플롯을 그린다. \n",
    "\n",
    "샘플의 갯수가 10개인 경우와 1000개인 경우에 대해 각각 위의 계산을 한다.\n",
    "\n",
    "1. $\\theta = 0.5$, $N=5$\n",
    "2. $\\theta = 0.9$, $N=10$"
   ]
  }
 ],
 "metadata": {
  "celltoolbar": "Edit Metadata",
  "kernelspec": {
   "display_name": "Python 3",
   "language": "python",
   "name": "python3"
  },
  "language_info": {
   "codemirror_mode": {
    "name": "ipython",
    "version": 3
   },
   "file_extension": ".py",
   "mimetype": "text/x-python",
   "name": "python",
   "nbconvert_exporter": "python",
   "pygments_lexer": "ipython3",
   "version": "3.6.1"
  }
 },
 "nbformat": 4,
 "nbformat_minor": 1
}
