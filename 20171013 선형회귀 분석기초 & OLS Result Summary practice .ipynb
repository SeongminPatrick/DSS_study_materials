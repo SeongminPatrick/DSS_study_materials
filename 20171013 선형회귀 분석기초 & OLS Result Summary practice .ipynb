{
 "cells": [
  {
   "cell_type": "code",
   "execution_count": 2,
   "metadata": {},
   "outputs": [
    {
     "name": "stderr",
     "output_type": "stream",
     "text": [
      "C:\\Users\\User\\Anaconda3\\lib\\site-packages\\matplotlib\\__init__.py:1405: UserWarning: \n",
      "This call to matplotlib.use() has no effect because the backend has already\n",
      "been chosen; matplotlib.use() must be called *before* pylab, matplotlib.pyplot,\n",
      "or matplotlib.backends is imported for the first time.\n",
      "\n",
      "  warnings.warn(_use_error_msg)\n"
     ]
    }
   ],
   "source": [
    "from scipy.stats import norm\n",
    "\n",
    "import numpy as np\n",
    "import scipy as sp\n",
    "from pandas.core import datetools as pd\n",
    "import statsmodels.api as sm ## R 패키지에서 불러온것, 샘플데이터 옮겨쓸수 있는 프로젝트 있음. 회귀분석에 유용 \n",
    "import statsmodels.formula.api as smf\n",
    "import statsmodels.stats.api as sms\n",
    "import sklearn as sk \n",
    "## 전처리 \n",
    "\n",
    "import matplotlib as mpl\n",
    "mpl.use('Agg')\n",
    "import matplotlib.pylab \n",
    "import matplotlib.pyplot as plt\n",
    "%matplotlib inline\n",
    "from mpl_toolkits.mplot3d import Axes3D\n",
    "\n",
    "import seaborn as sns\n",
    "sns.set()\n",
    "sns.set_style(\"whitegrid\")\n"
   ]
  },
  {
   "cell_type": "code",
   "execution_count": 3,
   "metadata": {
    "collapsed": true
   },
   "outputs": [],
   "source": [
    "from sklearn.datasets import make_regression\n",
    "\n"
   ]
  },
  {
   "cell_type": "code",
   "execution_count": 4,
   "metadata": {
    "collapsed": true
   },
   "outputs": [],
   "source": [
    "X0 ,y, coef = make_regression(n_samples = 100, n_features = 2, bias = 100, noise = 10, coef = True, random_state = 1)"
   ]
  },
  {
   "cell_type": "code",
   "execution_count": 13,
   "metadata": {},
   "outputs": [
    {
     "data": {
      "text/plain": [
       "(array([ 32.26809968,  86.44794301]), array([[ 0.0465673 ,  0.80186103],\n",
       "        [-2.02220122,  0.31563495],\n",
       "        [-0.38405435, -0.3224172 ],\n",
       "        [-1.31228341,  0.35054598],\n",
       "        [-0.88762896, -0.19183555],\n",
       "        [-1.61577235, -0.03869551],\n",
       "        [-2.43483776, -0.31011677],\n",
       "        [ 2.10025514,  0.19091548],\n",
       "        [-0.50446586, -1.44411381],\n",
       "        [ 1.14472371, -1.10061918],\n",
       "        [ 0.58281521,  0.04221375],\n",
       "        [ 0.07734007,  0.42349435],\n",
       "        [ 1.1110567 ,  1.90465871],\n",
       "        [ 0.61838026,  0.07782113],\n",
       "        [-0.24863478,  2.52832571],\n",
       "        [-1.89636092,  2.19069973],\n",
       "        [-0.77516162, -0.02461696],\n",
       "        [ 0.5505375 , -1.23005814],\n",
       "        [-0.85951594,  0.84616065],\n",
       "        [-0.61736206, -0.11044703],\n",
       "        [ 0.2135339 ,  0.98633519],\n",
       "        [-2.3015387 ,  0.86540763],\n",
       "        [-0.3198016 ,  0.68006984],\n",
       "        [ 0.40890054,  1.12141771],\n",
       "        [ 0.13770121,  0.52946532],\n",
       "        [-0.63873041, -0.37528495],\n",
       "        [-0.17470316,  0.49521132],\n",
       "        [-0.87785842, -0.17242821],\n",
       "        [-0.35224985,  0.30017032],\n",
       "        [-0.9537006 ,  0.74055645],\n",
       "        [-0.93576943, -0.12289023],\n",
       "        [ 0.03261455, -0.26621851],\n",
       "        [-0.68372786,  0.90085595],\n",
       "        [ 0.41005165,  0.18656139],\n",
       "        [-0.11905419, -0.13644474],\n",
       "        [-1.14434139,  0.52057634],\n",
       "        [ 1.2245077 , -0.44712856],\n",
       "        [-0.7612069 ,  1.74481176],\n",
       "        [-0.24937038,  0.3190391 ],\n",
       "        [ 1.6924546 , -0.74715829],\n",
       "        [-0.0731127 ,  0.28066508],\n",
       "        [-1.39649634,  2.18557541],\n",
       "        [ 0.86334532, -1.19926803],\n",
       "        [ 0.31515939, -1.37311732],\n",
       "        [-1.07296862, -0.52817175],\n",
       "        [ 0.4202822 ,  0.60231928],\n",
       "        [-0.34934272, -1.1425182 ],\n",
       "        [ 0.87616892,  0.16003707],\n",
       "        [ 0.53035547, -0.26788808],\n",
       "        [-1.09989127,  1.13376944],\n",
       "        [ 1.96710175,  1.27375593],\n",
       "        [ 1.51981682,  1.13162939],\n",
       "        [-0.10015523,  0.44136444],\n",
       "        [-0.61175641,  1.62434536],\n",
       "        [ 0.82797464, -0.30620401],\n",
       "        [ 0.61720311,  0.12015895],\n",
       "        [ 0.68255141,  0.23249456],\n",
       "        [-0.0126646 , -0.67124613],\n",
       "        [-0.84520564, -0.6871727 ],\n",
       "        [ 1.12948391,  0.12182127],\n",
       "        [-0.20075807, -0.22232814],\n",
       "        [ 0.90148689, -0.64691669],\n",
       "        [ 0.76201118,  0.23009474],\n",
       "        [-0.62353073,  0.79280687],\n",
       "        [-0.28730786,  1.33145711],\n",
       "        [ 0.11900865,  0.19829972],\n",
       "        [ 0.3380117 ,  1.62765075],\n",
       "        [-0.29664115,  0.24879916],\n",
       "        [-0.99702683, -0.51709446],\n",
       "        [-1.12201873,  0.01740941],\n",
       "        [-0.60392063, -0.1809203 ],\n",
       "        [ 0.50249434,  0.90159072],\n",
       "        [-0.10174587, -0.18656977],\n",
       "        [ 0.74204416,  1.65980218],\n",
       "        [ 0.37756379, -0.67066229],\n",
       "        [ 0.58662319, -0.20889423],\n",
       "        [ 0.93110208,  0.83898341],\n",
       "        [ 0.04359686, -0.34385368],\n",
       "        [ 0.75041164,  0.86888616],\n",
       "        [-0.39675353, -0.69166075],\n",
       "        [ 0.36949272,  1.16033857],\n",
       "        [ 0.18515642,  1.19891788],\n",
       "        [ 0.69803203, -0.62000084],\n",
       "        [-0.29809284,  0.51292982],\n",
       "        [ 0.16938243, -1.09491185],\n",
       "        [-0.22631424,  0.04366899],\n",
       "        [ 0.88514116,  0.28558733],\n",
       "        [ 0.2344157 , -1.11731035],\n",
       "        [ 0.31354772, -1.27255876],\n",
       "        [-1.62743834,  0.6590498 ],\n",
       "        [ 0.24073709,  0.5627611 ],\n",
       "        [ 1.29322588,  0.50318481],\n",
       "        [-2.06014071,  1.46210794],\n",
       "        [-0.63699565,  0.05080775],\n",
       "        [ 1.25286816, -0.75439794],\n",
       "        [ 1.04444209,  0.81095167],\n",
       "        [ 1.23616403, -1.85798186],\n",
       "        [ 2.18697965,  1.0388246 ],\n",
       "        [-0.07557171,  0.48851815],\n",
       "        [ 0.59357852,  0.40349164]]))"
      ]
     },
     "execution_count": 13,
     "metadata": {},
     "output_type": "execute_result"
    }
   ],
   "source": [
    "coef,X0"
   ]
  },
  {
   "cell_type": "code",
   "execution_count": 12,
   "metadata": {},
   "outputs": [
    {
     "name": "stdout",
     "output_type": "stream",
     "text": [
      "(100, 2)\n",
      "(100,)\n"
     ]
    }
   ],
   "source": [
    "print(X0.shape)\n",
    "print(y.shape)"
   ]
  },
  {
   "cell_type": "code",
   "execution_count": 25,
   "metadata": {},
   "outputs": [
    {
     "data": {
      "text/plain": [
       "array([[ 1.        ,  0.0465673 ,  0.80186103],\n",
       "       [ 1.        , -2.02220122,  0.31563495],\n",
       "       [ 1.        , -0.38405435, -0.3224172 ],\n",
       "       [ 1.        , -1.31228341,  0.35054598],\n",
       "       [ 1.        , -0.88762896, -0.19183555],\n",
       "       [ 1.        , -1.61577235, -0.03869551],\n",
       "       [ 1.        , -2.43483776, -0.31011677],\n",
       "       [ 1.        ,  2.10025514,  0.19091548],\n",
       "       [ 1.        , -0.50446586, -1.44411381],\n",
       "       [ 1.        ,  1.14472371, -1.10061918],\n",
       "       [ 1.        ,  0.58281521,  0.04221375],\n",
       "       [ 1.        ,  0.07734007,  0.42349435],\n",
       "       [ 1.        ,  1.1110567 ,  1.90465871],\n",
       "       [ 1.        ,  0.61838026,  0.07782113],\n",
       "       [ 1.        , -0.24863478,  2.52832571],\n",
       "       [ 1.        , -1.89636092,  2.19069973],\n",
       "       [ 1.        , -0.77516162, -0.02461696],\n",
       "       [ 1.        ,  0.5505375 , -1.23005814],\n",
       "       [ 1.        , -0.85951594,  0.84616065],\n",
       "       [ 1.        , -0.61736206, -0.11044703],\n",
       "       [ 1.        ,  0.2135339 ,  0.98633519],\n",
       "       [ 1.        , -2.3015387 ,  0.86540763],\n",
       "       [ 1.        , -0.3198016 ,  0.68006984],\n",
       "       [ 1.        ,  0.40890054,  1.12141771],\n",
       "       [ 1.        ,  0.13770121,  0.52946532],\n",
       "       [ 1.        , -0.63873041, -0.37528495],\n",
       "       [ 1.        , -0.17470316,  0.49521132],\n",
       "       [ 1.        , -0.87785842, -0.17242821],\n",
       "       [ 1.        , -0.35224985,  0.30017032],\n",
       "       [ 1.        , -0.9537006 ,  0.74055645],\n",
       "       [ 1.        , -0.93576943, -0.12289023],\n",
       "       [ 1.        ,  0.03261455, -0.26621851],\n",
       "       [ 1.        , -0.68372786,  0.90085595],\n",
       "       [ 1.        ,  0.41005165,  0.18656139],\n",
       "       [ 1.        , -0.11905419, -0.13644474],\n",
       "       [ 1.        , -1.14434139,  0.52057634],\n",
       "       [ 1.        ,  1.2245077 , -0.44712856],\n",
       "       [ 1.        , -0.7612069 ,  1.74481176],\n",
       "       [ 1.        , -0.24937038,  0.3190391 ],\n",
       "       [ 1.        ,  1.6924546 , -0.74715829],\n",
       "       [ 1.        , -0.0731127 ,  0.28066508],\n",
       "       [ 1.        , -1.39649634,  2.18557541],\n",
       "       [ 1.        ,  0.86334532, -1.19926803],\n",
       "       [ 1.        ,  0.31515939, -1.37311732],\n",
       "       [ 1.        , -1.07296862, -0.52817175],\n",
       "       [ 1.        ,  0.4202822 ,  0.60231928],\n",
       "       [ 1.        , -0.34934272, -1.1425182 ],\n",
       "       [ 1.        ,  0.87616892,  0.16003707],\n",
       "       [ 1.        ,  0.53035547, -0.26788808],\n",
       "       [ 1.        , -1.09989127,  1.13376944],\n",
       "       [ 1.        ,  1.96710175,  1.27375593],\n",
       "       [ 1.        ,  1.51981682,  1.13162939],\n",
       "       [ 1.        , -0.10015523,  0.44136444],\n",
       "       [ 1.        , -0.61175641,  1.62434536],\n",
       "       [ 1.        ,  0.82797464, -0.30620401],\n",
       "       [ 1.        ,  0.61720311,  0.12015895],\n",
       "       [ 1.        ,  0.68255141,  0.23249456],\n",
       "       [ 1.        , -0.0126646 , -0.67124613],\n",
       "       [ 1.        , -0.84520564, -0.6871727 ],\n",
       "       [ 1.        ,  1.12948391,  0.12182127],\n",
       "       [ 1.        , -0.20075807, -0.22232814],\n",
       "       [ 1.        ,  0.90148689, -0.64691669],\n",
       "       [ 1.        ,  0.76201118,  0.23009474],\n",
       "       [ 1.        , -0.62353073,  0.79280687],\n",
       "       [ 1.        , -0.28730786,  1.33145711],\n",
       "       [ 1.        ,  0.11900865,  0.19829972],\n",
       "       [ 1.        ,  0.3380117 ,  1.62765075],\n",
       "       [ 1.        , -0.29664115,  0.24879916],\n",
       "       [ 1.        , -0.99702683, -0.51709446],\n",
       "       [ 1.        , -1.12201873,  0.01740941],\n",
       "       [ 1.        , -0.60392063, -0.1809203 ],\n",
       "       [ 1.        ,  0.50249434,  0.90159072],\n",
       "       [ 1.        , -0.10174587, -0.18656977],\n",
       "       [ 1.        ,  0.74204416,  1.65980218],\n",
       "       [ 1.        ,  0.37756379, -0.67066229],\n",
       "       [ 1.        ,  0.58662319, -0.20889423],\n",
       "       [ 1.        ,  0.93110208,  0.83898341],\n",
       "       [ 1.        ,  0.04359686, -0.34385368],\n",
       "       [ 1.        ,  0.75041164,  0.86888616],\n",
       "       [ 1.        , -0.39675353, -0.69166075],\n",
       "       [ 1.        ,  0.36949272,  1.16033857],\n",
       "       [ 1.        ,  0.18515642,  1.19891788],\n",
       "       [ 1.        ,  0.69803203, -0.62000084],\n",
       "       [ 1.        , -0.29809284,  0.51292982],\n",
       "       [ 1.        ,  0.16938243, -1.09491185],\n",
       "       [ 1.        , -0.22631424,  0.04366899],\n",
       "       [ 1.        ,  0.88514116,  0.28558733],\n",
       "       [ 1.        ,  0.2344157 , -1.11731035],\n",
       "       [ 1.        ,  0.31354772, -1.27255876],\n",
       "       [ 1.        , -1.62743834,  0.6590498 ],\n",
       "       [ 1.        ,  0.24073709,  0.5627611 ],\n",
       "       [ 1.        ,  1.29322588,  0.50318481],\n",
       "       [ 1.        , -2.06014071,  1.46210794],\n",
       "       [ 1.        , -0.63699565,  0.05080775],\n",
       "       [ 1.        ,  1.25286816, -0.75439794],\n",
       "       [ 1.        ,  1.04444209,  0.81095167],\n",
       "       [ 1.        ,  1.23616403, -1.85798186],\n",
       "       [ 1.        ,  2.18697965,  1.0388246 ],\n",
       "       [ 1.        , -0.07557171,  0.48851815],\n",
       "       [ 1.        ,  0.59357852,  0.40349164]])"
      ]
     },
     "execution_count": 25,
     "metadata": {},
     "output_type": "execute_result"
    }
   ],
   "source": [
    "## Augmentation np.hstack으로 만들기 \n",
    "##가중치 행렬을 만들기위해 앞열에 무조건 1을 넣음.. 그래야 선형회귀모형에서 상수항이 나올수 있음\n",
    "#X = np.hstack()\n",
    "np.ones((3,3))\n",
    "np.hstack([np.ones((X0.shape[0],1)),X0])"
   ]
  },
  {
   "cell_type": "code",
   "execution_count": 37,
   "metadata": {},
   "outputs": [
    {
     "data": {
      "text/plain": [
       "array([[ 1.        ,  0.0465673 ,  0.80186103],\n",
       "       [ 1.        , -2.02220122,  0.31563495],\n",
       "       [ 1.        , -0.38405435, -0.3224172 ],\n",
       "       [ 1.        , -1.31228341,  0.35054598],\n",
       "       [ 1.        , -0.88762896, -0.19183555]])"
      ]
     },
     "execution_count": 37,
     "metadata": {},
     "output_type": "execute_result"
    }
   ],
   "source": [
    "## Augmentation 을 StatsModels에서 제공하는걸로 만들기\n",
    "import statsmodels.api as sm\n",
    "\n",
    "X = sm.add_constant(X0)\n",
    "X[:5]"
   ]
  },
  {
   "cell_type": "code",
   "execution_count": 48,
   "metadata": {
    "collapsed": true
   },
   "outputs": [],
   "source": [
    "## Ordinary Least Squares (Numpy 이용) 선형회귀분석, 최소 자승문제 \n",
    "\n",
    "from sklearn.datasets import make_regression\n",
    "\n",
    "X0,y,coef = make_regression(n_samples = 100, n_features = 1, bias = 100, noise = 10,coef = True, random_state = 1)\n"
   ]
  },
  {
   "cell_type": "code",
   "execution_count": 49,
   "metadata": {},
   "outputs": [
    {
     "data": {
      "text/plain": [
       "<matplotlib.collections.PathCollection at 0x2510fdebeb8>"
      ]
     },
     "execution_count": 49,
     "metadata": {},
     "output_type": "execute_result"
    },
    {
     "data": {
      "image/png": "[encoded data removed]",
      "text/plain": [
       "<matplotlib.figure.Figure at 0x2510fd5f128>"
      ]
     },
     "metadata": {},
     "output_type": "display_data"
    }
   ],
   "source": [
    "plt.scatter(X0,y)"
   ]
  },
  {
   "cell_type": "code",
   "execution_count": 53,
   "metadata": {},
   "outputs": [
    {
     "data": {
      "text/plain": [
       "array(80.71051956187792)"
      ]
     },
     "execution_count": 53,
     "metadata": {},
     "output_type": "execute_result"
    }
   ],
   "source": [
    "X = sm.add_constant(X0) ## Augement 만듬 \n",
    "X[:5]\n",
    "coef"
   ]
  },
  {
   "cell_type": "code",
   "execution_count": 83,
   "metadata": {},
   "outputs": [
    {
     "data": {
      "text/plain": [
       "<matplotlib.collections.PathCollection at 0x2511197d080>"
      ]
     },
     "execution_count": 83,
     "metadata": {},
     "output_type": "execute_result"
    },
    {
     "data": {
      "image/png": "[encoded data removed]",
      "text/plain": [
       "<matplotlib.figure.Figure at 0x251118f3550>"
      ]
     },
     "metadata": {},
     "output_type": "display_data"
    }
   ],
   "source": [
    "## OLS(Ordinary Least Squares) 최소자승문제 numpy 로 만들기\n",
    "\n",
    "from sklearn.datasets import make_regression\n",
    "\n",
    "X0, y, coef = make_regression(n_samples = 100, n_features = 1, bias = 100, noise = 10, coef = True, random_state = 1)\n",
    "\n",
    "X = sm.add_constant(X0)\n",
    "y = y.reshape(len(y),1)\n",
    "plt.scatter(X0[:],X0[:])\n"
   ]
  },
  {
   "cell_type": "markdown",
   "metadata": {},
   "source": [
    "$$  w = (X^TX)^{-1} X^T y $$"
   ]
  },
  {
   "cell_type": "code",
   "execution_count": 78,
   "metadata": {},
   "outputs": [
    {
     "data": {
      "text/plain": [
       "array([[ 102.02701439],\n",
       "       [  81.59750943]])"
      ]
     },
     "execution_count": 78,
     "metadata": {},
     "output_type": "execute_result"
    }
   ],
   "source": [
    "## OLS(ordinary Least Square) 해를 직접 이용하는 방법\n",
    "\n",
    "w = np.dot(np.dot(np.linalg.inv(np.dot(X.T,X)),X.T),y)\n",
    "w ## 가중치 벡터 w는 하기와 같은 값을 가짐 \n",
    "## [[ 102.02701439],[  81.59750943]]) = bias 약 102, coef = 81 "
   ]
  },
  {
   "cell_type": "code",
   "execution_count": 107,
   "metadata": {
    "collapsed": true
   },
   "outputs": [],
   "source": [
    "## 최소자승 Least Square 명령이용\n",
    "\n",
    "w= np.linalg.lstsq(X,y)\n",
    "W= w[0]"
   ]
  },
  {
   "cell_type": "code",
   "execution_count": 109,
   "metadata": {},
   "outputs": [
    {
     "data": {
      "text/plain": [
       "array([[ -85.77281113],\n",
       "       [ -82.0744542 ],\n",
       "       [ -78.37609728],\n",
       "       [ -74.67774036],\n",
       "       [ -70.97938344],\n",
       "       [ -67.28102651],\n",
       "       [ -63.58266959],\n",
       "       [ -59.88431267],\n",
       "       [ -56.18595575],\n",
       "       [ -52.48759882],\n",
       "       [ -48.7892419 ],\n",
       "       [ -45.09088498],\n",
       "       [ -41.39252805],\n",
       "       [ -37.69417113],\n",
       "       [ -33.99581421],\n",
       "       [ -30.29745729],\n",
       "       [ -26.59910036],\n",
       "       [ -22.90074344],\n",
       "       [ -19.20238652],\n",
       "       [ -15.50402959],\n",
       "       [ -11.80567267],\n",
       "       [  -8.10731575],\n",
       "       [  -4.40895883],\n",
       "       [  -0.7106019 ],\n",
       "       [   2.98775502],\n",
       "       [   6.68611194],\n",
       "       [  10.38446886],\n",
       "       [  14.08282579],\n",
       "       [  17.78118271],\n",
       "       [  21.47953963],\n",
       "       [  25.17789656],\n",
       "       [  28.87625348],\n",
       "       [  32.5746104 ],\n",
       "       [  36.27296732],\n",
       "       [  39.97132425],\n",
       "       [  43.66968117],\n",
       "       [  47.36803809],\n",
       "       [  51.06639502],\n",
       "       [  54.76475194],\n",
       "       [  58.46310886],\n",
       "       [  62.16146578],\n",
       "       [  65.85982271],\n",
       "       [  69.55817963],\n",
       "       [  73.25653655],\n",
       "       [  76.95489347],\n",
       "       [  80.6532504 ],\n",
       "       [  84.35160732],\n",
       "       [  88.04996424],\n",
       "       [  91.74832117],\n",
       "       [  95.44667809],\n",
       "       [  99.14503501],\n",
       "       [ 102.84339193],\n",
       "       [ 106.54174886],\n",
       "       [ 110.24010578],\n",
       "       [ 113.9384627 ],\n",
       "       [ 117.63681963],\n",
       "       [ 121.33517655],\n",
       "       [ 125.03353347],\n",
       "       [ 128.73189039],\n",
       "       [ 132.43024732],\n",
       "       [ 136.12860424],\n",
       "       [ 139.82696116],\n",
       "       [ 143.52531808],\n",
       "       [ 147.22367501],\n",
       "       [ 150.92203193],\n",
       "       [ 154.62038885],\n",
       "       [ 158.31874578],\n",
       "       [ 162.0171027 ],\n",
       "       [ 165.71545962],\n",
       "       [ 169.41381654],\n",
       "       [ 173.11217347],\n",
       "       [ 176.81053039],\n",
       "       [ 180.50888731],\n",
       "       [ 184.20724424],\n",
       "       [ 187.90560116],\n",
       "       [ 191.60395808],\n",
       "       [ 195.302315  ],\n",
       "       [ 199.00067193],\n",
       "       [ 202.69902885],\n",
       "       [ 206.39738577],\n",
       "       [ 210.09574269],\n",
       "       [ 213.79409962],\n",
       "       [ 217.49245654],\n",
       "       [ 221.19081346],\n",
       "       [ 224.88917039],\n",
       "       [ 228.58752731],\n",
       "       [ 232.28588423],\n",
       "       [ 235.98424115],\n",
       "       [ 239.68259808],\n",
       "       [ 243.380955  ],\n",
       "       [ 247.07931192],\n",
       "       [ 250.77766885],\n",
       "       [ 254.47602577],\n",
       "       [ 258.17438269],\n",
       "       [ 261.87273961],\n",
       "       [ 265.57109654],\n",
       "       [ 269.26945346],\n",
       "       [ 272.96781038],\n",
       "       [ 276.6661673 ],\n",
       "       [ 280.36452423]])"
      ]
     },
     "execution_count": 109,
     "metadata": {},
     "output_type": "execute_result"
    }
   ],
   "source": [
    "xx = np.linspace(np.min(X0),np.max(X0),100)\n",
    "xx_new = sm.add_constant(xx) ## 1행*100열 벡터\n",
    "xx_new ## 100행 2열벡터 (앞에 1을 모두 추가해줌)\n",
    "\n",
    "yy = np.dot(xx_new, W)\n",
    "yy"
   ]
  },
  {
   "cell_type": "code",
   "execution_count": 119,
   "metadata": {
    "scrolled": true
   },
   "outputs": [
    {
     "data": {
      "text/plain": [
       "<matplotlib.text.Text at 0x25111e79f28>"
      ]
     },
     "execution_count": 119,
     "metadata": {},
     "output_type": "execute_result"
    },
    {
     "data": {
      "image/png": "[encoded data removed]",
      "text/plain": [
       "<matplotlib.figure.Figure at 0x25111e37080>"
      ]
     },
     "metadata": {},
     "output_type": "display_data"
    }
   ],
   "source": [
    "plt.scatter(X0,y, label ='data')\n",
    "plt.plot(xx,yy,'r', label = 'regression')\n",
    "## plt.plot(xx_new,yy,'r', label = 'regression')\n",
    "plt.legend()\n",
    "plt.title('Example of Linear Regression Analysis')"
   ]
  },
  {
   "cell_type": "code",
   "execution_count": 145,
   "metadata": {
    "collapsed": true
   },
   "outputs": [],
   "source": [
    "## Scikit-Learn 패키지 선형회귀 모형 ## 제일 많이 쓰이고 정확도 높음\n",
    "from sklearn.datasets import load_boston\n",
    "from sklearn.linear_model import LinearRegression\n",
    "\n",
    "boston = load_boston()\n",
    "model = LinearRegression()# 만약 fit_intercept = True 로 디폴트, 상수항있음\n",
    "model_boston = LinearRegression().fit(boston.data, boston.target) ## 알아서 Augmentation "
   ]
  },
  {
   "cell_type": "code",
   "execution_count": 146,
   "metadata": {},
   "outputs": [
    {
     "name": "stdout",
     "output_type": "stream",
     "text": [
      "(506, 13)\n",
      "(506,)\n"
     ]
    }
   ],
   "source": [
    "print(boston.data.shape)\n",
    "print(boston.target.shape)"
   ]
  },
  {
   "cell_type": "code",
   "execution_count": 147,
   "metadata": {},
   "outputs": [
    {
     "data": {
      "text/plain": [
       "array([ -1.07170557e-01,   4.63952195e-02,   2.08602395e-02,\n",
       "         2.68856140e+00,  -1.77957587e+01,   3.80475246e+00,\n",
       "         7.51061703e-04,  -1.47575880e+00,   3.05655038e-01,\n",
       "        -1.23293463e-02,  -9.53463555e-01,   9.39251272e-03,\n",
       "        -5.25466633e-01])"
      ]
     },
     "execution_count": 147,
     "metadata": {},
     "output_type": "execute_result"
    }
   ],
   "source": [
    "model_boston.coef_ ## shape = 13,"
   ]
  },
  {
   "cell_type": "code",
   "execution_count": 148,
   "metadata": {},
   "outputs": [
    {
     "data": {
      "text/plain": [
       "36.491103280363134"
      ]
     },
     "execution_count": 148,
     "metadata": {},
     "output_type": "execute_result"
    }
   ],
   "source": [
    "model_boston.intercept_ ## y 절편값 36.491103280363134 , LinearRegression 디폴트 true 값이라 상수항 자동설정됨 "
   ]
  },
  {
   "cell_type": "code",
   "execution_count": 137,
   "metadata": {},
   "outputs": [
    {
     "data": {
      "text/plain": [
       "(506,)"
      ]
     },
     "execution_count": 137,
     "metadata": {},
     "output_type": "execute_result"
    }
   ],
   "source": [
    "## y_new = model.predict(x_new) pridict를 사용하여 입력데이터에 대한 출력데이터 예측\n",
    "predictions = model_boston.predict(boston.data)\n",
    "predictions.shape"
   ]
  },
  {
   "cell_type": "code",
   "execution_count": 140,
   "metadata": {},
   "outputs": [
    {
     "data": {
      "text/plain": [
       "<matplotlib.text.Text at 0x2511226fda0>"
      ]
     },
     "execution_count": 140,
     "metadata": {},
     "output_type": "execute_result"
    },
    {
     "data": {
      "image/png": "[encoded data removed]",
      "text/plain": [
       "<matplotlib.figure.Figure at 0x251122f2470>"
      ]
     },
     "metadata": {},
     "output_type": "display_data"
    }
   ],
   "source": [
    "plt.scatter(boston.target, predictions)\n",
    "plt.xlabel('실제 집값')\n",
    "plt.ylabel('집값 예측')"
   ]
  },
  {
   "cell_type": "code",
   "execution_count": 155,
   "metadata": {},
   "outputs": [
    {
     "data": {
      "text/html": [
       "<div>\n",
       "<style>\n",
       "    .dataframe thead tr:only-child th {\n",
       "        text-align: right;\n",
       "    }\n",
       "\n",
       "    .dataframe thead th {\n",
       "        text-align: left;\n",
       "    }\n",
       "\n",
       "    .dataframe tbody tr th {\n",
       "        vertical-align: top;\n",
       "    }\n",
       "</style>\n",
       "<table border=\"1\" class=\"dataframe\">\n",
       "  <thead>\n",
       "    <tr style=\"text-align: right;\">\n",
       "      <th></th>\n",
       "      <th>const</th>\n",
       "      <th>CRIM</th>\n",
       "      <th>ZN</th>\n",
       "      <th>INDUS</th>\n",
       "      <th>CHAS</th>\n",
       "      <th>NOX</th>\n",
       "      <th>RM</th>\n",
       "      <th>AGE</th>\n",
       "      <th>DIS</th>\n",
       "      <th>RAD</th>\n",
       "      <th>TAX</th>\n",
       "      <th>PTRATIO</th>\n",
       "      <th>B</th>\n",
       "      <th>LSTAT</th>\n",
       "    </tr>\n",
       "  </thead>\n",
       "  <tbody>\n",
       "    <tr>\n",
       "      <th>501</th>\n",
       "      <td>1.0</td>\n",
       "      <td>0.06263</td>\n",
       "      <td>0.0</td>\n",
       "      <td>11.93</td>\n",
       "      <td>0.0</td>\n",
       "      <td>0.573</td>\n",
       "      <td>6.593</td>\n",
       "      <td>69.1</td>\n",
       "      <td>2.4786</td>\n",
       "      <td>1.0</td>\n",
       "      <td>273.0</td>\n",
       "      <td>21.0</td>\n",
       "      <td>391.99</td>\n",
       "      <td>9.67</td>\n",
       "    </tr>\n",
       "    <tr>\n",
       "      <th>502</th>\n",
       "      <td>1.0</td>\n",
       "      <td>0.04527</td>\n",
       "      <td>0.0</td>\n",
       "      <td>11.93</td>\n",
       "      <td>0.0</td>\n",
       "      <td>0.573</td>\n",
       "      <td>6.120</td>\n",
       "      <td>76.7</td>\n",
       "      <td>2.2875</td>\n",
       "      <td>1.0</td>\n",
       "      <td>273.0</td>\n",
       "      <td>21.0</td>\n",
       "      <td>396.90</td>\n",
       "      <td>9.08</td>\n",
       "    </tr>\n",
       "    <tr>\n",
       "      <th>503</th>\n",
       "      <td>1.0</td>\n",
       "      <td>0.06076</td>\n",
       "      <td>0.0</td>\n",
       "      <td>11.93</td>\n",
       "      <td>0.0</td>\n",
       "      <td>0.573</td>\n",
       "      <td>6.976</td>\n",
       "      <td>91.0</td>\n",
       "      <td>2.1675</td>\n",
       "      <td>1.0</td>\n",
       "      <td>273.0</td>\n",
       "      <td>21.0</td>\n",
       "      <td>396.90</td>\n",
       "      <td>5.64</td>\n",
       "    </tr>\n",
       "    <tr>\n",
       "      <th>504</th>\n",
       "      <td>1.0</td>\n",
       "      <td>0.10959</td>\n",
       "      <td>0.0</td>\n",
       "      <td>11.93</td>\n",
       "      <td>0.0</td>\n",
       "      <td>0.573</td>\n",
       "      <td>6.794</td>\n",
       "      <td>89.3</td>\n",
       "      <td>2.3889</td>\n",
       "      <td>1.0</td>\n",
       "      <td>273.0</td>\n",
       "      <td>21.0</td>\n",
       "      <td>393.45</td>\n",
       "      <td>6.48</td>\n",
       "    </tr>\n",
       "    <tr>\n",
       "      <th>505</th>\n",
       "      <td>1.0</td>\n",
       "      <td>0.04741</td>\n",
       "      <td>0.0</td>\n",
       "      <td>11.93</td>\n",
       "      <td>0.0</td>\n",
       "      <td>0.573</td>\n",
       "      <td>6.030</td>\n",
       "      <td>80.8</td>\n",
       "      <td>2.5050</td>\n",
       "      <td>1.0</td>\n",
       "      <td>273.0</td>\n",
       "      <td>21.0</td>\n",
       "      <td>396.90</td>\n",
       "      <td>7.88</td>\n",
       "    </tr>\n",
       "  </tbody>\n",
       "</table>\n",
       "</div>"
      ],
      "text/plain": [
       "     const     CRIM   ZN  INDUS  CHAS    NOX     RM   AGE     DIS  RAD    TAX  \\\n",
       "501    1.0  0.06263  0.0  11.93   0.0  0.573  6.593  69.1  2.4786  1.0  273.0   \n",
       "502    1.0  0.04527  0.0  11.93   0.0  0.573  6.120  76.7  2.2875  1.0  273.0   \n",
       "503    1.0  0.06076  0.0  11.93   0.0  0.573  6.976  91.0  2.1675  1.0  273.0   \n",
       "504    1.0  0.10959  0.0  11.93   0.0  0.573  6.794  89.3  2.3889  1.0  273.0   \n",
       "505    1.0  0.04741  0.0  11.93   0.0  0.573  6.030  80.8  2.5050  1.0  273.0   \n",
       "\n",
       "     PTRATIO       B  LSTAT  \n",
       "501     21.0  391.99   9.67  \n",
       "502     21.0  396.90   9.08  \n",
       "503     21.0  396.90   5.64  \n",
       "504     21.0  393.45   6.48  \n",
       "505     21.0  396.90   7.88  "
      ]
     },
     "execution_count": 155,
     "metadata": {},
     "output_type": "execute_result"
    }
   ],
   "source": [
    "import pandas as pd \n",
    "## StatsModels 를 사용한 선형회귀분석 ## Augmentation 넣기 \n",
    "dfy = pd.DataFrame(boston.target, columns = ['Price'])\n",
    "dfX0 = pd.DataFrame(boston.data, columns = boston.feature_names)\n",
    "dfX = sm.add_constant(dfX0)\n",
    "dfX.tail() ## 505 * \n",
    "##dfX.shape ## 506*14"
   ]
  },
  {
   "cell_type": "code",
   "execution_count": 161,
   "metadata": {},
   "outputs": [
    {
     "name": "stdout",
     "output_type": "stream",
     "text": [
      "                            OLS Regression Results                            \n",
      "==============================================================================\n",
      "Dep. Variable:                  Price   R-squared:                       0.741\n",
      "Model:                            OLS   Adj. R-squared:                  0.734\n",
      "Method:                 Least Squares   F-statistic:                     108.1\n",
      "Date:                Fri, 13 Oct 2017   Prob (F-statistic):          6.95e-135\n",
      "Time:                        23:28:54   Log-Likelihood:                -1498.8\n",
      "No. Observations:                 506   AIC:                             3026.\n",
      "Df Residuals:                     492   BIC:                             3085.\n",
      "Df Model:                          13                                         \n",
      "Covariance Type:            nonrobust                                         \n",
      "==============================================================================\n",
      "                 coef    std err          t      P>|t|      [0.025      0.975]\n",
      "------------------------------------------------------------------------------\n",
      "const         36.4911      5.104      7.149      0.000      26.462      46.520\n",
      "CRIM          -0.1072      0.033     -3.276      0.001      -0.171      -0.043\n",
      "ZN             0.0464      0.014      3.380      0.001       0.019       0.073\n",
      "INDUS          0.0209      0.061      0.339      0.735      -0.100       0.142\n",
      "CHAS           2.6886      0.862      3.120      0.002       0.996       4.381\n",
      "NOX          -17.7958      3.821     -4.658      0.000     -25.302     -10.289\n",
      "RM             3.8048      0.418      9.102      0.000       2.983       4.626\n",
      "AGE            0.0008      0.013      0.057      0.955      -0.025       0.027\n",
      "DIS           -1.4758      0.199     -7.398      0.000      -1.868      -1.084\n",
      "RAD            0.3057      0.066      4.608      0.000       0.175       0.436\n",
      "TAX           -0.0123      0.004     -3.278      0.001      -0.020      -0.005\n",
      "PTRATIO       -0.9535      0.131     -7.287      0.000      -1.211      -0.696\n",
      "B              0.0094      0.003      3.500      0.001       0.004       0.015\n",
      "LSTAT         -0.5255      0.051    -10.366      0.000      -0.625      -0.426\n",
      "==============================================================================\n",
      "Omnibus:                      178.029   Durbin-Watson:                   1.078\n",
      "Prob(Omnibus):                  0.000   Jarque-Bera (JB):              782.015\n",
      "Skew:                           1.521   Prob(JB):                    1.54e-170\n",
      "Kurtosis:                       8.276   Cond. No.                     1.51e+04\n",
      "==============================================================================\n",
      "\n",
      "Warnings:\n",
      "[1] Standard Errors assume that the covariance matrix of the errors is correctly specified.\n",
      "[2] The condition number is large, 1.51e+04. This might indicate that there are\n",
      "strong multicollinearity or other numerical problems.\n"
     ]
    }
   ],
   "source": [
    "model_boston2 = sm.OLS(dfy,dfX).fit() ## 자동으로 fit 시킴 - 자동으로 모형을 찾아줌\n",
    "print(model_boston2.summary())"
   ]
  },
  {
   "cell_type": "markdown",
   "metadata": {},
   "source": [
    "## Interpreting OLS results\n",
    "\n",
    "OLS 에는 하기와 같이 분석항목이 들어가있다\n",
    "\n",
    "1. Model Performance (모델 측정) - Multiple R-Squared & Adjusted R-Squared \n",
    "2. each explanotory variable (각각의 설명변수) - Variable, Coef ,Std Error, T-Statistic, Prob(T-Statistic)\n",
    "3. model significance 모델 중요성 - F-Statistic, Prob(F-Statistic)\n",
    "4. stationarity (안정성) Koenker Statistic\n",
    "5. model bias 모델 편향 정도 - Jarque-Bera Statistic\n",
    "6. spatial autocorrelation 평가 - OLS 결과에대한 신뢰도를 나타냄, 중요 데이터가 빠졌는지확인, 모델을 믿을수 있는지 확인 (만약 높거나 낮은 잔차가 너무 많으면 중요데이터가 빠졌음: misspecification)  \n",
    "\n",
    "#### Result Summary \n",
    "   - Dep.Variable : 종속변수, 보스턴집값에서는 집값 실제 가격들을 의미한다 \n",
    "   - No.Observations : 데이터 개수\n",
    "   - Df Residuals: 잔차 자유도, The residual degree of freedom, defined as the number of observations minus the rank of the regressor matrix.\n",
    "   - Df Model: 모형 자유도, The Model degeree of freedom, definded as the rank of the regressor of matrix minus 1 if a constant is included.(선형회귀 행렬, 상수항 회귀계수가 포함되어있을경우  W hat 행렬 -1 에서 독립 열랭크개수)  \n",
    "   - Multiple R-Squared & Adjusted R-Squared values : 모델 퍼포먼스의 측정치이다 둘다 0과 1사이의 범위값을 갖는다. 여기서 0.741 이라면 이 모델이 74퍼센트정도로 종속변수 변화를 설명한다고 볼 수 있다. Adjusted는 R-Squared 보다 작은 값을 가지며 모델의 복잡도(변수의 수)를 반영하기 때문에 더 정확한 값을 나타낸다. \n",
    "   - Coefficient : 가중치 벡터 w의 계수들, 각각의 feature 변수의 가중치를 나타낸다. 즉 영향도를 나타낸다. (기울기로도 나타낼수 있다.)\n",
    "   - Const: y 절편 (상수항) \n",
    "   - std err : Estimated 가중치 벡터 w hat의 모형계수 표준편차\n",
    "   \n",
    "  \n",
    "  \n",
    "#### OLS Diagnostics \n",
    "\n",
    "   - T-검정: 단일계수 t검정의 검정통계량, 귀무가설 H0:wi=0 : 특정회귀계수 wi 가 0이다라고 가정, 즉 단일 회귀계수가 독립변수와 종속변수에 영향을 미치는지를 확인, 만약 0이라면(귀무가설채택) 해당독립변수는 종속변수와 아무런상관이 없음  \n",
    "       - P >|T|: 귀무가설 H0:wi=0 에 대한 유의 확률, p-value가 낮으면 귀무가설  H0:wi=0이다 라는 가설이 먹히지 않음 \n",
    "   - 회귀분석 F-검정(Loss-of-fit 검정):전체회귀계수에 대한 검정통계랑: 귀무가설 H0:w1=w2=⋯=wK=0 , 즉 전체회귀계수가 0이다(독립변수와 종속변수간에 상관관계가 없다); 전체 독립변수 중 어느것도 의미를 가진것이 없다는 뜻. \n",
    "       - Prob(F-statistc): 귀무가설 H0:w1=w2=⋯=wK=0 에 대한 유의 확률, p-value 이 많이 작으면 귀무가설 기각이므로 전체 독립변수들이 더 강력하게 모형에 영향을 미친다는것을 알 수 있다. \n",
    "   - Omnibus: 정규성검정\n",
    "   - Jarque-Bera Statistic : 잔차 Residuals (y-y^) 가 정규 분포를 따르는지 확인\n",
    "   - Prob(Omnibus): 정규성검정에 대한 유의확률\n",
    "   - Skew: 3차 모멘토: 찌그러짐 정도, 0에 가까울수록 대칭인 정규분포를 따른다, 양수면 오른쪽으로 치우침 \n",
    "   - Kurtosis : 4차 모멘토: 확률분포가 중앙으로 얼마나 몰려있는지 보여줌, 2~3 근처에 있어야 한다. \n",
    "   - Cond. No.: 독립변수들의 컨디션,1이어야하며 1보다 커지면 독립변수들중에 상관관계가 종속관계에 있는경우, 스케일링이 잘못된 경우가 있는 것.\n",
    "   \n",
    "   http://www.statsmodels.org/dev/generated/statsmodels.regression.linear_model.OLS.html\n",
    "   http://resources.esri.com/help/9.3/arcgisengine/java/gp_toolref/spatial_statistics_tools/interpreting_ols_results.htm"
   ]
  },
  {
   "cell_type": "markdown",
   "metadata": {},
   "source": [
    "상관계수 R-square 는 모델의성능을 보여줌 1순위로 봐야함 \n",
    "Adjsuted 상관계수가 모수의 개수때문에 커지는 것을 방지 \n",
    "R-square 이 크면 overfitting 된것 - 다중공산성이 큰것을 이야기함 \n",
    "\n",
    "자기상관계수\n",
    "\n",
    "조정결정계수\n",
    "\n"
   ]
  },
  {
   "cell_type": "code",
   "execution_count": 170,
   "metadata": {},
   "outputs": [
    {
     "data": {
      "text/plain": [
       "501    -1.132617\n",
       "502    -1.778698\n",
       "503    -3.729342\n",
       "504    -4.129838\n",
       "505   -10.448703\n",
       "dtype: float64"
      ]
     },
     "execution_count": 170,
     "metadata": {},
     "output_type": "execute_result"
    }
   ],
   "source": [
    "model_boston2.resid.tail() ## 잔차 벡터 "
   ]
  },
  {
   "cell_type": "code",
   "execution_count": 181,
   "metadata": {},
   "outputs": [
    {
     "data": {
      "text/plain": [
       "0      30.008213\n",
       "1      25.029861\n",
       "2      30.570232\n",
       "3      28.608141\n",
       "4      27.942882\n",
       "5      25.259400\n",
       "6      23.004340\n",
       "7      19.534756\n",
       "8      11.516965\n",
       "9      18.919815\n",
       "10     18.995827\n",
       "11     21.589709\n",
       "12     20.905349\n",
       "13     19.555359\n",
       "14     19.283796\n",
       "15     19.300002\n",
       "16     20.528900\n",
       "17     16.909675\n",
       "18     16.170674\n",
       "19     18.407816\n",
       "20     12.520405\n",
       "21     17.671046\n",
       "22     15.829349\n",
       "23     13.803683\n",
       "24     15.677081\n",
       "25     13.379164\n",
       "26     15.462588\n",
       "27     14.698636\n",
       "28     19.545185\n",
       "29     20.873099\n",
       "         ...    \n",
       "476    20.528357\n",
       "477    11.542905\n",
       "478    19.203875\n",
       "479    21.868206\n",
       "480    23.470522\n",
       "481    27.100345\n",
       "482    28.570648\n",
       "483    21.083988\n",
       "484    19.449053\n",
       "485    22.218922\n",
       "486    19.654231\n",
       "487    21.324671\n",
       "488    11.862314\n",
       "489     8.222606\n",
       "490     3.658252\n",
       "491    13.762760\n",
       "492    15.937809\n",
       "493    20.627301\n",
       "494    20.610354\n",
       "495    16.880480\n",
       "496    14.010172\n",
       "497    19.108255\n",
       "498    21.297207\n",
       "499    18.455242\n",
       "500    20.467642\n",
       "501    23.532617\n",
       "502    22.378698\n",
       "503    27.629342\n",
       "504    26.129838\n",
       "505    22.348703\n",
       "Length: 506, dtype: float64"
      ]
     },
     "execution_count": 181,
     "metadata": {},
     "output_type": "execute_result"
    }
   ],
   "source": [
    "dfy_new = model_boston2.predict(dfX)\n",
    "#dfy_new.shape\n",
    "dfy_new"
   ]
  },
  {
   "cell_type": "code",
   "execution_count": 167,
   "metadata": {},
   "outputs": [
    {
     "data": {
      "text/plain": [
       "<matplotlib.text.Text at 0x25112241438>"
      ]
     },
     "execution_count": 167,
     "metadata": {},
     "output_type": "execute_result"
    },
    {
     "data": {
      "image/png": "[encoded data removed]",
      "text/plain": [
       "<matplotlib.figure.Figure at 0x25112246a58>"
      ]
     },
     "metadata": {},
     "output_type": "display_data"
    }
   ],
   "source": [
    "plt.scatter(dfy,dfy_new)\n",
    "plt.xlabel('실제집값')\n",
    "plt.ylabel('집값예측치')"
   ]
  },
  {
   "cell_type": "code",
   "execution_count": 174,
   "metadata": {
    "collapsed": true
   },
   "outputs": [],
   "source": [
    "## 매니저님이 보내주심 \n",
    "from sklearn.datasets import load_boston\n",
    "\n",
    "boston = load_boston()\n",
    "dfX0 = pd.DataFrame(boston.data, columns=boston.feature_names)\n",
    "dfX = sm.add_constant(dfX0)\n",
    "dfy = pd.DataFrame(boston.target, columns=[\"MEDV\"])\n",
    "\n",
    "model = sm.OLS(dfy, dfX)\n",
    "result = model.fit()\n",
    "dfy_new = result.predict(dfX)\n",
    "influence = result.get_influence()\n",
    "cooks_d2, pvals = influence.cooks_distance\n",
    "fox_cr = 4 / (len(dfy) - 2)\n",
    "idx = np.where(cooks_d2 > fox_cr)[0]\n",
    "\n",
    "\n",
    "\n"
   ]
  },
  {
   "cell_type": "code",
   "execution_count": 179,
   "metadata": {},
   "outputs": [
    {
     "data": {
      "image/png": "[encoded data removed]",
      "text/plain": [
       "<matplotlib.figure.Figure at 0x25113d87828>"
      ]
     },
     "metadata": {},
     "output_type": "display_data"
    }
   ],
   "source": [
    "ax = plt.subplot()\n",
    "plt.scatter(dfy, dfy_new)\n",
    "plt.scatter(dfy.values[idx], dfy_new.values[idx], s=300, c=\"r\", alpha=0.5)\n",
    "\n",
    "from statsmodels.graphics import utils\n",
    "\n",
    "utils.annotate_axes(range(len(idx)), idx, list(zip(dfy.values[idx].flatten(), dfy_new.values[idx].flatten())),\n",
    "                    [(-20, 15)] * len(idx), size=\"small\", ax=ax)\n",
    "plt.show()\n",
    "\n",
    "\n"
   ]
  },
  {
   "cell_type": "code",
   "execution_count": null,
   "metadata": {
    "collapsed": true
   },
   "outputs": [],
   "source": []
  }
 ],
 "metadata": {
  "kernelspec": {
   "display_name": "Python 3",
   "language": "python",
   "name": "python3"
  },
  "language_info": {
   "codemirror_mode": {
    "name": "ipython",
    "version": 3
   },
   "file_extension": ".py",
   "mimetype": "text/x-python",
   "name": "python",
   "nbconvert_exporter": "python",
   "pygments_lexer": "ipython3",
   "version": "3.6.1"
  }
 },
 "nbformat": 4,
 "nbformat_minor": 2
}
