{
 "cells": [
  {
   "cell_type": "markdown",
   "metadata": {
    "school_cell_uuid": "dcda5386710f49f5956055f3366ddb33"
   },
   "source": [
    "# 엔트로피: \n",
    "\n",
    "### 물리학: 무질서의 정도 \n",
    "### 데이터:  확률분포를 정의하기 위한 하나의 척도 "
   ]
  },
  {
   "cell_type": "markdown",
   "metadata": {
    "school_cell_uuid": "dd2ee70864344475bf5be8df53e6c445"
   },
   "source": [
    "## 분류 문제의 성과 측정"
   ]
  },
  {
   "cell_type": "markdown",
   "metadata": {
    "school_cell_uuid": "ad233b36c05f4f89af62977750268f76"
   },
   "source": [
    "$Y=0$ 또는 $Y=1$ 인 두 가지 값을 가지는 확률분포가 다음과 같이 세 종류가 있다고 하자.\n",
    "\n",
    "* 확률분포 $Y_1$: $P(Y=0)=0.5$, $P(Y=1)=0.5$\n",
    "* 확률분포 $Y_2$: $P(Y=0)=0.8$, $P(Y=1)=0.2$\n",
    "* 확률분포 $Y_3$: $P(Y=0)=1.0$, $P(Y=1)=0.0$\n",
    "\n",
    "이 확률분포들이 만약 베이지안 확률을 나타내는 것이라면 확률분포 $Y_1$은 $y$값에 대해 아무것도 모르는 상태, $Y_3$은 $y$값이 0이라고 100% 확신하는 상태, $Y_2$은 $y$값이 0이라고 믿지만 아닐 수도 있다는 것을 아는 상태를 나타내고 있을 것이다. 확률분포들이 가지는 이런 확신의 정도를 수치로 표현하는 것을 엔트로피(entropy)라고 한다. 확률변수의 여러가지 값이 나올 확률이 대부분 비슷한 경우에는 엔트로피가 높아진다. 반대로 특정한 값이 나올 확률이 높아지고 나머지 값의 확률은 낮아진다면 엔트로피가 작아진다. \n",
    "\n",
    "물리학에서는 상태가 분산되어 있는 정도를 엔트로피로 정의한다. 여러가지로 고루 분산되어 있을 수 있으면 엔트로피가 높고 특정한 하나의 상태로 몰려있으면 엔트로피가 낮다. 확률분포의 엔트로피는 물리학의 엔트로피 용어를 빌려온 것이다. "
   ]
  },
  {
   "cell_type": "markdown",
   "metadata": {},
   "source": [
    "엔트로피: 어느한쪽으로 쏠려있나 아님 골고루 분포되어있나를 정량적으로 나타낸것\n",
    "처음에는 정렬이 되어있었으나 나중에는 무질서하게 퍼져있다 - > 엔트로피가 증가했다\n",
    "    \n",
    "    위의 확률분포에서 Y_3 -> Y_1로가면 갈수록 엔트로피 증가 "
   ]
  },
  {
   "cell_type": "markdown",
   "metadata": {
    "school_cell_uuid": "dac37abae2e84890a2da69e73603abcc"
   },
   "source": [
    "엔트로피는 수학적으로 다음과 같이 정의한다.\n",
    "\n",
    "확률변수 $Y$가 베르누이나 카테고리 분포와 같은 이산 확률변수이면\n",
    "\n",
    "$$ H[Y] = -\\sum_{k=1}^K p(y_k) \\log_2 p(y_k) $$\n",
    "\n",
    "이 식에서 $K$는 $X$가 가질 수 있는 클래스의 수이고 $p(y)$는 확률질량함수이다.\n",
    "\n",
    "확률변수 $Y$가 연속 확률변수이면\n",
    "\n",
    "$$ H[Y] = -\\int p(y) \\log_2 p(y) \\; dy $$\n",
    "\n",
    "이 식에서 $p(y)$는 확률밀도함수이다.\n",
    "\n",
    "로그의 밑(base)이 2로 정의된 것은 정보통신과 관련을 가지는 역사적인 이유때문이다."
   ]
  },
  {
   "cell_type": "markdown",
   "metadata": {
    "collapsed": true,
    "school_cell_uuid": "c0884b33c1fc4904b6dadfbfee38a5f4"
   },
   "source": [
    "위에서 예를 든 $Y_1$, $Y_1$, $Y_1$에 대해 엔트로피는 구하면 다음과 같다.\n",
    "\n",
    "$$ H[Y_1] = -\\dfrac{1}{2} \\log_2 \\dfrac{1}{2} -\\dfrac{1}{2} \\log_2 \\dfrac{1}{2} = 1 $$\n",
    "\n",
    "$$ H[Y_2] = -\\dfrac{8}{10} \\log_2 \\dfrac{8}{10} -\\dfrac{2}{10} \\log_2 \\dfrac{8}{10} $$\n",
    "\n",
    "$$ H[Y_3] = -1 \\log_2 1 -0 \\log_2 0 = 0$$"
   ]
  },
  {
   "cell_type": "code",
   "execution_count": 6,
   "metadata": {
    "school_cell_uuid": "e3604a72cf8a4df59f2781b8a5cb01d7"
   },
   "outputs": [
    {
     "data": {
      "text/plain": [
       "1.0"
      ]
     },
     "execution_count": 6,
     "metadata": {},
     "output_type": "execute_result"
    }
   ],
   "source": [
    "-0.5 * np.log2(0.5) - 0.5 * np.log2(0.5)"
   ]
  },
  {
   "cell_type": "code",
   "execution_count": 7,
   "metadata": {
    "school_cell_uuid": "8efb9991d35644e1bebe98c3dca40d01"
   },
   "outputs": [
    {
     "data": {
      "text/plain": [
       "0.72192809488736231"
      ]
     },
     "execution_count": 7,
     "metadata": {},
     "output_type": "execute_result"
    }
   ],
   "source": [
    "-0.8 * np.log2(0.8) - 0.2 * np.log2(0.2)"
   ]
  },
  {
   "cell_type": "code",
   "execution_count": 8,
   "metadata": {
    "school_cell_uuid": "0ca84628b0364fe89c0502acf05fbd03"
   },
   "outputs": [
    {
     "data": {
      "text/plain": [
       "0.0"
      ]
     },
     "execution_count": 8,
     "metadata": {},
     "output_type": "execute_result"
    }
   ],
   "source": [
    "eps = np.finfo(float).eps\n",
    "-1 * np.log2(1) - 0 * np.log2(eps) ## 컴퓨터상에서 가질수 있는 제일 작은 수 엡실론 = eps \n",
    "## 여기에서는 -1로 가는 속도가 빠른지 0으로 가는 속도가 빠른지에 따라 값이 달라지는데 여기서는 0으로 가는 속도가 더 빠름 그래서 0이 나옴"
   ]
  },
  {
   "cell_type": "markdown",
   "metadata": {
    "collapsed": true,
    "school_cell_uuid": "0bcbfce1f8aa430aaf587e9fef2168d5"
   },
   "source": [
    "엔트로피 계산에서 $p(y)=0$인 경우에는 다음과 같은 극한값을 사용한다.\n",
    "\n",
    "$$ \\lim_{p\\rightarrow 0} \\; p\\log_2{p} = 0 $$\n",
    "\n",
    "이 값은 로피탈의 정리(l'Hôpital's rule)에서 구할 수 있다."
   ]
  },
  {
   "cell_type": "markdown",
   "metadata": {
    "school_cell_uuid": "5a7a5c303a0e47ed927583d8a0bb7c56"
   },
   "source": [
    "## 엔트로피의 성질"
   ]
  },
  {
   "cell_type": "markdown",
   "metadata": {
    "school_cell_uuid": "2ec0485f00c14f5f8edae45987747c7d"
   },
   "source": [
    "만약 확률분포가 결정론적이면 즉, 특정한 하나의 값이 나올 확률이 1이고 나머지 값은 나올 수 없다면 엔트로피는 0이며 이 값이 가장 작은 엔트로피 값이다."
   ]
  },
  {
   "cell_type": "markdown",
   "metadata": {
    "school_cell_uuid": "f1d641944f1e400389cc259257120121"
   },
   "source": [
    "반대로 엔트로피의 최대값은 이산 확률변수의 클래스의 갯수에 따라 달라진다. 만약 이산 확률변수가 가질 수 있는 클래스가 $2^K$개이고 이산 확률변수가 가질 수 있는 엔트로피의 최대값은 각 클래스가 모두 같은 확률을 가지는 때이다. 이 때 엔트로피의 값은\n",
    "\n",
    "$$ H = -\\frac{2^K}{2^K}\\log_2\\dfrac{1}{2^K} = K $$\n",
    "\n",
    "이다."
   ]
  },
  {
   "cell_type": "code",
   "execution_count": null,
   "metadata": {
    "collapsed": true
   },
   "outputs": [],
   "source": []
  },
  {
   "cell_type": "markdown",
   "metadata": {
    "school_cell_uuid": "d1de5931d6454f12a5725a21555c59b6"
   },
   "source": [
    "## 엔트로피와 정보량"
   ]
  },
  {
   "cell_type": "markdown",
   "metadata": {
    "school_cell_uuid": "b7070bfcfb7d49fcb8e0f93161892e38"
   },
   "source": [
    "엔트로피는 확률변수가 담을 수 있는 정보량을 표시한다. 확률변수가 담을 수 있는 정보량이란 확률변수의 표본값을 관측해서 얻을 수 있는 정보의 종류를 말한다. 엔트로피가 0이면 확률변수는 결정론적이므로 확률 변수의 표본값이 변화하지 않는다. 따라서 확률 변수의 표본값을 관측한다고 해도 우리가 얻을 수 있는 추가 정보는 없다. 엔트로피가 크다면 확률변수의 표본값이 가질 수 있는 실질적인 경우의 수가 증가하므로 표본값을 실제로 관측하기 전까지는 아는 것이 없다. 즉 확률변수의 표본값이 우리에게 가져다 줄 수 있는 정보의 량이 많다는 뜻이다.\n",
    "\n",
    "엔트로피는 원래 통신 분야에서 데이터가 가지고 있는 정보량을 계산하기 위해 고안되었다. 예를 4개의 알파벳 A, B, C, D 로 씌여진 문서가 있다고 하자. 이 문서를 0과 1로 이루어진 이진수로 변환할 때 일반적인 경우라면 다음과 같이 인코딩을 할 것이다.\n",
    "\n",
    "* A = \"00\"\n",
    "* B = \"01\"\n",
    "* C = \"10\"\n",
    "* D = \"11\"\n",
    "\n",
    "이렇게 인코딩을 하면 알파벳 1,000 글자로 이루어진 문서는 이진수로 이루어진  2,000개 숫자가 된다.\n",
    "\n",
    "만약 문서에서 각 알파벳이 나올 확률이 동일하지 않고 다음과 같다고 가정하자.\n",
    "\n",
    "$$ \\Big\\{ \\dfrac{1}{2}, \\dfrac{1}{4}, \\dfrac{1}{8}, \\dfrac{1}{8} \\Big\\} $$\n",
    "\n",
    "이 때는 다음과 같이 가변길이 인코딩(variable length encoding)을 하면 인코딩된 이진수의 수를 줄일 수 있다.\n",
    "\n",
    "* A = \"0\"\n",
    "* B = \"10\"\n",
    "* C = \"110\"\n",
    "* D = \"111\"\n",
    "\n",
    "\n",
    "#### A는 제일 많이 나오므로 숫자적게 배당\n",
    "인코딩된 이진수의 숫자는 다음 계산에서 약 1,750개가 됨을 알 수 있다. \n",
    "\n",
    "$$ \\dfrac{1}{2} \\cdot 1 + \\dfrac{1}{4} \\cdot 2 +  \\dfrac{1}{8} \\cdot 3 +  \\dfrac{1}{8} \\cdot 3 = 1.75$$ \n",
    "\n",
    "이 값은 확률변수의 엔트로피와 같다.\n",
    "\n",
    "$$ H = -\\dfrac{1}{2}\\log_2\\dfrac{1}{2} -\\dfrac{1}{4}\\log_2\\dfrac{1}{4} -\\dfrac{2}{8}\\log_2\\dfrac{1}{8} = 1.75 $$"
   ]
  },
  {
   "cell_type": "code",
   "execution_count": 9,
   "metadata": {
    "school_cell_uuid": "4e6202693db94194ac80e9e61865c20e"
   },
   "outputs": [
    {
     "data": {
      "text/plain": [
       "1.75"
      ]
     },
     "execution_count": 9,
     "metadata": {},
     "output_type": "execute_result"
    }
   ],
   "source": [
    "-1 / 2 * np.log2(1 / 2) - 1 / 4 * np.log2(1 / 4) - 2 / 8 * np.log2(1 / 8)"
   ]
  },
  {
   "cell_type": "markdown",
   "metadata": {
    "school_cell_uuid": "26310bb9e861444f85a04ac009cc92f3"
   },
   "source": [
    "## 표본 데이터가 주어진 경우"
   ]
  },
  {
   "cell_type": "markdown",
   "metadata": {
    "school_cell_uuid": "effb48d4b3194a72a9b805a3e1524e4b"
   },
   "source": [
    "확률 변수 모형, 즉 이론적인 확률 밀도(질량) 함수가 아닌 실제 데이터가 주어진 경우에는 확률질량함수를 추정하여 엔트로피를 계산한다."
   ]
  },
  {
   "cell_type": "markdown",
   "metadata": {
    "school_cell_uuid": "f84e4e55208a42fea74b5cec2e109740"
   },
   "source": [
    "예를 들어 데이터가 모두 80개가 있고 그 중 Y = 0 인 데이터가 40개, Y = 1인 데이터가 40개 있는 경우는 엔트로피가 1이다.\n",
    "\n",
    "$$ P(y=0) = \\dfrac{40}{80} = \\dfrac{1}{2} $$\n",
    "\n",
    "$$ P(y=1) = \\dfrac{40}{80} = \\dfrac{1}{2} $$\n",
    "\n",
    "$$ \n",
    "H[Y] = -\\dfrac{1}{2}\\log_2\\left(\\dfrac{1}{2}\\right) -\\dfrac{1}{2}\\log_2\\left(\\dfrac{1}{2}\\right) = \\dfrac{1}{2} + \\dfrac{1}{2}  = 1 \n",
    "$$"
   ]
  },
  {
   "cell_type": "code",
   "execution_count": 10,
   "metadata": {
    "school_cell_uuid": "798bae70f8d641bb81b4e3e77ebf6203"
   },
   "outputs": [
    {
     "data": {
      "text/plain": [
       "1.0"
      ]
     },
     "execution_count": 10,
     "metadata": {},
     "output_type": "execute_result"
    }
   ],
   "source": [
    "- 1 / 2 * np.log2(1 / 2) - 1 / 2 * np.log2(1 / 2)"
   ]
  },
  {
   "cell_type": "markdown",
   "metadata": {
    "school_cell_uuid": "5bf020f65a554c5ea9c4acd2c8e9e089"
   },
   "source": [
    "만약 데이터가 모두 60개가 있고 그 중 Y= 0 인 데이터가 20개, Y = 1인 데이터가 40개 있는 경우는 엔트로피가 약 0.92이다.\n",
    "\n",
    "$$ P(y=0) = \\dfrac{20}{60} = \\dfrac{1}{3} $$\n",
    "\n",
    "$$ P(y=1) = \\dfrac{40}{60} = \\dfrac{2}{3} $$\n",
    "\n",
    "$$ H[Y] = -\\dfrac{1}{3}\\log_2\\left(\\dfrac{1}{3}\\right) -\\dfrac{2}{3}\\log_2\\left(\\dfrac{2}{3}\\right) = 0.92 $$"
   ]
  },
  {
   "cell_type": "code",
   "execution_count": 11,
   "metadata": {
    "school_cell_uuid": "3d286ab650aa42cf828db15d3e632726"
   },
   "outputs": [
    {
     "data": {
      "text/plain": [
       "0.91829583405448956"
      ]
     },
     "execution_count": 11,
     "metadata": {},
     "output_type": "execute_result"
    }
   ],
   "source": [
    "-1 / 3 * np.log2(1 / 3) - 2 / 3 * np.log2(2 / 3)"
   ]
  },
  {
   "cell_type": "markdown",
   "metadata": {
    "school_cell_uuid": "1c15de02be3e47a69ca9eaf7a3b8fc3d"
   },
   "source": [
    "만약 데이터가 모두 40개가 있고 그 중 Y= 0 인 데이터가 30개, Y = 1인 데이터가 10개 있는 경우는 엔트로피가 약 0.81이다.\n",
    "\n",
    "$$ P(y=0) = \\dfrac{30}{40} = \\dfrac{3}{4} $$\n",
    "\n",
    "$$ P(y=1) = \\dfrac{10}{40} = \\dfrac{1}{4} $$\n",
    "\n",
    "$$ H[Y] = -\\dfrac{3}{4}\\log_2\\left(\\dfrac{3}{4}\\right) -\\dfrac{1}{4}\\log_2\\left(\\dfrac{1}{4}\\right) = 0.81 $$"
   ]
  },
  {
   "cell_type": "code",
   "execution_count": 12,
   "metadata": {
    "school_cell_uuid": "d3521caa1559431b9e4e4658ee769e95"
   },
   "outputs": [
    {
     "data": {
      "text/plain": [
       "0.81127812445913283"
      ]
     },
     "execution_count": 12,
     "metadata": {},
     "output_type": "execute_result"
    }
   ],
   "source": [
    "-3 / 4 * np.log2(3 / 4) - 1 / 4 * np.log2(1 / 4)"
   ]
  },
  {
   "cell_type": "markdown",
   "metadata": {
    "school_cell_uuid": "7f8bb6fca21e42dd85f554dc284bf6e4"
   },
   "source": [
    "만약 데이터가 모두 20개가 있고 그 중 Y= 0 인 데이터가 20개, Y = 1인 데이터가 0개 있는 경우는 엔트로피가 0이다.\n",
    "\n",
    "$$ P(y=0) = \\dfrac{20}{20} = 1 $$\n",
    "\n",
    "$$ P(y=1) = \\dfrac{0}{20} = 0 $$\n",
    "\n",
    "$$ H[Y] = -1\\log_2\\left(1\\right) - 0\\log_2\\left(0\\right) = 0 $$"
   ]
  },
  {
   "cell_type": "markdown",
   "metadata": {
    "school_cell_uuid": "391b9a5dd27c4664a80e857a2b312dbc"
   },
   "source": [
    "## 조건부 엔트로피"
   ]
  },
  {
   "cell_type": "markdown",
   "metadata": {
    "school_cell_uuid": "494db9c62eb045d199f25aa8513c20e4"
   },
   "source": [
    "조건부 엔트로피는 상관관계가 있는 두 확률변수 $X$, $Y$가 있고 $X$의 값을 안다면 $Y$의 확률변수가 가질 수 있는 정보의 양을 뜻한다. 수학적으로는 다음과 같이 정의한다.\n",
    "\n",
    "$$ H[Y \\mid X] = - \\sum_i \\sum_j \\,p(x_i, y_j) \\log_2 p(y_j \\mid x_i)  $$\n",
    "\n",
    "$$ H[Y \\mid X] = -\\int \\int p(x, y) \\log_2 p(y \\mid x) \\; dxdy $$\n",
    "\n",
    "\n",
    "이 식은 조건부 확률 분포의 정의를 사용하여 다음과 같이 고칠 수 있다.\n",
    "\n",
    "$$ H[Y \\mid X]  = \\sum_i \\,p(x_i)\\,H[Y \\mid x_i] $$\n",
    "\n",
    "$$ H[Y \\mid X]  = \\int p(x)\\,H[Y \\mid x] \\; dx $$\n",
    "\n"
   ]
  },
  {
   "cell_type": "markdown",
   "metadata": {
    "school_cell_uuid": "d3ce0fb280964d0b87758a303fd3fb8a"
   },
   "source": [
    "이 식은 이산 확률변수에 대해서는 다음과 같이 증명할 수 있다.\n",
    "\n",
    "$$ \n",
    "\\begin{eqnarray}\n",
    "H[Y \\mid X] \n",
    "&=& - \\sum_i \\sum_j \\,p(x_i, y_j) \\log_2 p(y_j \\mid x_i) \\\\\n",
    "&=& - \\sum_i \\sum_j p(y_j \\mid x_i) p(x_i) \\log_2 p(y_j \\mid x_i) \\\\\n",
    "&=& - \\sum_i p(x_i) \\sum_j p(y_j \\mid x_i)  \\log_2 p(y_j \\mid x_i) \\\\\n",
    "&=& \\sum_i p(x_i) H[Y \\mid x_i] \\\\\n",
    "\\end{eqnarray}\n",
    "$$\n"
   ]
  },
  {
   "cell_type": "markdown",
   "metadata": {
    "school_cell_uuid": "d4ee5676a26741beb3f6d52482bc6457"
   },
   "source": [
    "예를 들어 데이터가 모두 80개가 있고 $X$, $Y$ 값이 다음과 같다고 하자.\n",
    "\n",
    "| | Y = 0 | Y = 1 | sum |\n",
    "|-|-|-|-|\n",
    "| X = 0 | 30 | 10 | 40 |\n",
    "| X = 1 | 10 | 30 | 40 |\n",
    "\n",
    "이 때 조건부 엔트로피는 다음과 같이 계산된다.\n",
    "\n",
    "$$ \n",
    "\\begin{eqnarray}\n",
    "H[Y \\mid X ] \n",
    "&=& p(X=0)\\,H[Y \\mid X=0] + p(X=1)\\,H[Y \\mid X=1] \\\\\n",
    "&=& \\dfrac{40}{80} \\cdot 0.81 + \\dfrac{40}{80} \\cdot 0.81 = 0.81\n",
    "\\end{eqnarray}\n",
    "$$"
   ]
  },
  {
   "cell_type": "markdown",
   "metadata": {
    "school_cell_uuid": "b69df2b7713947de9ecb3f82250943e6"
   },
   "source": [
    "만약 데이터가 모두 80개가 있고 $X$, $Y$ 값이 다음과 같다면\n",
    "\n",
    "| | Y = 0 | Y = 1 | sum |\n",
    "|-|-|-|-|\n",
    "| X = 0 | 20 | 40 | 60 |\n",
    "| X = 1 | 20 | 0  | 20 |\n",
    "\n",
    "조건부 엔트로피의 값은 다음과 같다.\n",
    "\n",
    "$$ \n",
    "\\begin{eqnarray}\n",
    "H[Y \\mid X ] \n",
    "&=& p(X=0)\\,H[Y \\mid X=0] + p(X=1)\\,H[Y \\mid X=1] \\\\\n",
    "&=& \\dfrac{60}{80} \\cdot 0.92 + \\dfrac{20}{80} \\cdot 0 = 0.69\n",
    "\\end{eqnarray}\n",
    "$$"
   ]
  },
  {
   "cell_type": "markdown",
   "metadata": {
    "school_cell_uuid": "617eacd7999a4b07bf35c90c097dd30e"
   },
   "source": [
    "위의 정의와 예제에서 조건부 엔트로피는 $X$의 값에 의해 만들어지는 새로운 $Y$ 확률분포의 가중평균임을 알 수 있다."
   ]
  },
  {
   "cell_type": "markdown",
   "metadata": {
    "school_cell_uuid": "fde14e3b71994fd9b7809fa3f8013a2d"
   },
   "source": [
    "## 쿨백-라이블러 발산"
   ]
  },
  {
   "cell_type": "markdown",
   "metadata": {
    "school_cell_uuid": "2c1b914fa49b4296a6bc4b753f4f99ae"
   },
   "source": [
    "쿨백-라이블러 발산(Kullback-Leibler divergence)은 두 확률분포 $p(x)$, $q(x)$의 차이를 정량화하는 방법의 하나이다. 다음과 같이 정의한다. \n",
    "\n",
    "$$ KL(p || q) \n",
    "= -\\int p(x) \\log_2 q(x) dx - \\left( -\\int p(x) \\log_2 p(x) dx \\right) \n",
    "= \\int p(x) \\log_2 \\left(\\dfrac{q(x)}{p(x)}\\right)dx  $$\n",
    "\n",
    "\n",
    "쿨백-라이블러 발산의 값은 항상 양수이며 두 확률분포 $p(x)$, $q(x)$가 완전히 같을 경우에만 0이 된다."
   ]
  },
  {
   "cell_type": "markdown",
   "metadata": {
    "school_cell_uuid": "25b7cb9166ce4c619c9dc2a665e270b7"
   },
   "source": [
    "## 크로스 엔트로피"
   ]
  },
  {
   "cell_type": "code",
   "execution_count": null,
   "metadata": {
    "collapsed": true
   },
   "outputs": [],
   "source": [
    "내가 예측한 값과 실제 값이 같으면 크로스 엔트로피는 0이된다, 다르면 1이 된다 "
   ]
  },
  {
   "cell_type": "markdown",
   "metadata": {
    "school_cell_uuid": "3039df3df952494285c6abb0c3830d98"
   },
   "source": [
    "두 확률분포 $p(x)$, $q(x)$의 크로스 엔트로피(cross entropy)은 다음과 같의 정의한다.\n",
    "\n",
    "$$ -\\sum_{k=1}^K p(y_k|x) \\log_2 q(y_k|x) $$\n",
    "\n",
    "$$ -\\int p(y|x) \\log_2 q(y|x) dy $$\n",
    "\n",
    "이 값은 주로 분류 문제의 목표값 분포와 예측값 분포를 비교하는데 사용된다. $p(y|x)$는 정답 $Y$의 분포이고 $q(y|x)$는 모형이 예측한 $\\hat{Y}$의 분포로 놓으면 $p(y|x)$의 엔트로피가 0이므로 이 값은 쿨백-라이블러 발산값이 되므로 두 분포의 차이를 나타낸다.\n",
    "\n",
    "이진 클래스 분류 문제라면 크로스 엔트로피는 다음과 같아진다.\n",
    "\n",
    "$$ - y(x) \\log_2 \\hat{\\theta}(x) - (1 - y(x)) \\log_2 (1 - \\hat{\\theta}(x)) $$\n",
    "\n",
    "이 값은 예측값 $\\hat{\\theta}$가 $y$와 같다면 0이고 다르면 무한대로 증가한다."
   ]
  },
  {
   "cell_type": "code",
   "execution_count": null,
   "metadata": {
    "collapsed": true
   },
   "outputs": [],
   "source": [
    "## 로지스틱 likelihood와 비슷 "
   ]
  }
 ],
 "metadata": {
  "kernelspec": {
   "display_name": "Python 3",
   "language": "python",
   "name": "python3"
  },
  "language_info": {
   "codemirror_mode": {
    "name": "ipython",
    "version": 3
   },
   "file_extension": ".py",
   "mimetype": "text/x-python",
   "name": "python",
   "nbconvert_exporter": "python",
   "pygments_lexer": "ipython3",
   "version": "3.6.1"
  }
 },
 "nbformat": 4,
 "nbformat_minor": 1
}
