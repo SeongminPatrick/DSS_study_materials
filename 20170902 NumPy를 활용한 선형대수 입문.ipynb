{
 "cells": [
  {
   "cell_type": "markdown",
   "metadata": {
    "hidden": "all",
    "school_cell_uuid": "afcf1c4f8fdf47018164d087e1494509"
   },
   "source": [
    "%load_ext tikzmagic\n",
    "cd600e9627cd4f16bc4f6078231ab28c"
   ]
  },
  {
   "cell_type": "markdown",
   "metadata": {
    "school_cell_uuid": "1eee720c2bb548ada1396f9db2b9a09b"
   },
   "source": [
    "# NumPy를 활용한 선형대수 입문"
   ]
  },
  {
   "cell_type": "markdown",
   "metadata": {
    "bootstrap": {
     "panel": {
      "class": "panel-danger",
      "heading": ""
     }
    },
    "school_cell_uuid": "c4096b429ddc4e62847fca6c770db5eb"
   },
   "source": [
    "### 중요 개념\n",
    "\n",
    "* 스칼라, 벡터, 행렬\n",
    "* 열, 행, 차원\n",
    "* 특징 벡터, 특징 행렬\n",
    "* 전치 연산\n",
    "* 영 벡터, 일 벡터, 정방 행렬, 대각 행렬, 단위 행렬, 대칭 행렬"
   ]
  },
  {
   "cell_type": "markdown",
   "metadata": {},
   "source": [
    "## 리스트 집합은 메모리를 크게 차지 ( 리스트 안의 값이 서로 연결되어있음, 서로 위치를 찾느라 값을 도출하는데 시간이 오래걸림)  \n",
    "\n",
    "## 데이터 분석기본: array를 사용하여 공간사용(자료형이 같아야함, 필요한 메모리사이즈를 한꺼번에 잡고 나란히 나열함, 위치가 미리 박혀있음 빨리 데이터를 읽을 수 있음 속도 빠름, 그러나 크기를 한번 정해놓으면 다음에 크기를 재설정 하지 못함 ) 원래는 파이썬에 array 기능이 없었으나 numpy package(library- 다른 코드의 집합) 에서 N 배열 dementional을 만듬  \n",
    "\n",
    "## 다운로드 목록을 패키지라고 함 (정확하게는 distribution package) 또는 코드의 집합(library)  "
   ]
  },
  {
   "cell_type": "markdown",
   "metadata": {
    "collapsed": true,
    "school_cell_uuid": "3fb5f7bbd3f642fe920164b672e31f47"
   },
   "source": [
    "선형대수(linear algebra)는 데이터 분석에 필요한 각종 계산을 돕기 위한 학문이다. \n",
    "\n",
    "데이터 분석을 하기 위해서는 수많은 숫자로 이루어진 데이터를 다루어야 한다. 하나의 데이터가 수십개에서 수만개의 숫자로 이루어져 있을 수도 있고 또 이러한 데이터 수만개가 하나의 집합을 이루고 있을 수도 있다.\n",
    "\n",
    "선형대수를 사용하면 대량의 데이터를 포함하는 복잡한 계산 과정을 몇 글자 되지 않는 간단한 수식으로 서술할 수 있다. 따라서 데이터를 다루는 과정을 정확고 간단하게 서술 할 수 있다. 이를 위해 우선 선형대수에서 사용되는 여러가지 기호와 개념을 익혀보자."
   ]
  },
  {
   "cell_type": "markdown",
   "metadata": {
    "school_cell_uuid": "4bbfde3fcb9741edae1d64b498655190"
   },
   "source": [
    "## 데이터의 유형"
   ]
  },
  {
   "cell_type": "markdown",
   "metadata": {
    "school_cell_uuid": "34fba9096e4f4d62a4b6807d695f2a39"
   },
   "source": [
    "선형대수에서 다루는 데이터는 개수나 형태에 따라 크게  **스칼라(scalar), 벡터(vector), 행렬(matrix)**의 세 가지 유형으로 나누어진다.\n",
    "\n",
    "간단하게 말하자면 **스칼라**는 숫자 하나로 이루어진 데이터이고 **벡터**는 여러 개의 숫자로 이루어진 데이터 레코드(data record)이며 **행렬**은 이러한 벡터, 즉 데이터 레코드가 여러 개 있는 데이터 집합이라고 볼 수 있다."
   ]
  },
  {
   "cell_type": "markdown",
   "metadata": {
    "school_cell_uuid": "912994db605548c7a01b87eef4084718"
   },
   "source": [
    "### 스칼라"
   ]
  },
  {
   "cell_type": "markdown",
   "metadata": {
    "school_cell_uuid": "9e2fade84b03467fbbbfe4fd41c5739a"
   },
   "source": [
    "스칼라는 하나의 숫자만으로 이루어진 데이터를 말한다. 예를 들어 어떤 붓꽃 한 송이의 꽃잎의 길이를 측정하면 하나의 숫자가 나올 것이다. 이 데이터는 스칼라이다. 스칼라는 보통 $x$와 같이 알파벳 소문자로 표기하며 실수(real number)인 숫자 중의 하나이므로 실수 집합 $\\mathbf{R}$의 원소라는 의미에서 다음과 같이 표기한다. 이것은 x가 스칼라에 포함된다라는 것을 전제조건으로 한다 \n",
    "\n",
    "## 데이터 벨류를 다룰때 실수 정수 상관안함. 어짜피 실수 안에 정수 포함 "
   ]
  },
  {
   "cell_type": "markdown",
   "metadata": {
    "school_cell_uuid": "1aad1400180a4c60be41269c5f537433"
   },
   "source": [
    "$$ x \\in \\mathbf{R} $$"
   ]
  },
  {
   "cell_type": "markdown",
   "metadata": {
    "school_cell_uuid": "4eacfbd4a081477e9e7ae1563423e5e2"
   },
   "source": [
    "### 벡터"
   ]
  },
  {
   "cell_type": "markdown",
   "metadata": {
    "school_cell_uuid": "def46f0857a941e68ed20b18e40a81b6"
   },
   "source": [
    "벡터는 여러 개의 숫자가 특정한 순서대로 모여 있는 것을 말한다. 사실 대부분의 데이터 레코드는 여러 개의 숫자로 이루어진 경우가 많다. \n",
    "\n",
    "## 수의 집합을 하나로 엮어 놓은것을 레코드또는 튜플이라고함 : 프로그램안에서는 벡터라고 함 \n",
    "예를 들어 붓꽃의 종을 알아내기 위해 크기를 측정하는 경우, 꽃잎의 길이 $x_1$ 뿐 아니라 꽃잎의 폭 $x_2$ , 꽃받침의 길이 $x_3$ , 꽃받침의 폭 $x_4$  이라는 4개의 숫자를 측정할 수도 있다. 이렇게 측정된 4개의 숫자는 한 송이의 붓꽃에서 나온 데이터이므로 따로따로 다루기보다는 하나의 쌍(tuple)으로 묶어놓는 것이 좋다. 이때 숫자의 순서가 바뀌면 어떤 숫자가 꽃잎의 길이이고 어떤 숫자가 꽃받침의 폭인지 알 수 없어지기 때문에 숫자의 순서를 유지하는 것이 중요하다. 이런 데이터 묶음을 선형대수에서는 벡터라고 부른다. \n",
    "## (column 열 벡터로 씀, 이게 기본) \n",
    "\n",
    "붓꽃의 예에서는 4개의 데이터 $(x_1, x_2, x_3, x_4)$가 하나로 묶여 있는데 이를 선형 대수 기호로는 다음과 같이 하나의 문자 $x$로 다음과 같이 표기한다."
   ]
  },
  {
   "cell_type": "markdown",
   "metadata": {
    "school_cell_uuid": "2c7a2e4a1eb94286870348fdc2735c18"
   },
   "source": [
    "$$ \n",
    "x = \\begin{bmatrix}\n",
    "x_{1} \\\\\n",
    "x_{2} \\\\\n",
    "x_{3} \\\\\n",
    "x_{4} \\\\\n",
    "\\end{bmatrix}\n",
    "$$"
   ]
  },
  {
   "cell_type": "markdown",
   "metadata": {
    "school_cell_uuid": "1ad2e62cd2aa42e081ba509335e4b64c"
   },
   "source": [
    "이 때 벡터는 복수의 가로줄, 즉 행(row)을 가지고 하나의 세로줄, 즉 열(column)을 가지는 형태로 위에서 아래로 내려써서 표기해야 한다."
   ]
  },
  {
   "cell_type": "markdown",
   "metadata": {
    "school_cell_uuid": "a8914110a5e04d588b5186fd3e66a153"
   },
   "source": [
    "하나의 벡터를 이루는 데이터의 개수를 **차원(dimension)**이라고 한다. 위에서 예로 든 $x$는 4개의 실수로 이루어져 있으므로 4차원 실수 벡터라고 하고 다음과 같이 표기한다."
   ]
  },
  {
   "cell_type": "markdown",
   "metadata": {
    "school_cell_uuid": "62798e60c3f04907956210e701a7eae6"
   },
   "source": [
    "$$ x \\in \\mathbf{R}^4 $$"
   ]
  },
  {
   "cell_type": "markdown",
   "metadata": {
    "school_cell_uuid": "c292d655b96444c8a405d0adf667c6e9"
   },
   "source": [
    "만약 4개가 아니라 $M$개의 숫자가 모여 있는 경우의 표기는 다음과 같다."
   ]
  },
  {
   "cell_type": "markdown",
   "metadata": {
    "school_cell_uuid": "62a9209368a840c8b011ac84b2299266"
   },
   "source": [
    "$$ \n",
    "x = \\begin{bmatrix}\n",
    "x_{1} \\\\\n",
    "x_{2} \\\\\n",
    "\\vdots \\\\\n",
    "x_{M} \\\\\n",
    "\\end{bmatrix}\n",
    ",\\;\\;\\;\\;\n",
    "x \\in \\mathbf{R}^M\n",
    "$$"
   ]
  },
  {
   "cell_type": "markdown",
   "metadata": {
    "school_cell_uuid": "6205d46160e941cdbbd2ca4cbd902510"
   },
   "source": [
    "벡터의 원소가 되는 스칼라 값은 ${}_1$, ${}_2$ 등의 자연수 아래첨자(sub-script)를 붙여서 원소의 위치를 표시한다.\n",
    "하지만 자연수 아래첨자가 있다고 무조건 스칼라는 아니다. 벡터의 경우에도 벡터가 여러 개 있으면 서로 다른 벡터를 구별하기 위해 벡터 이름에 아래첨자를 붙일 수도 있다. 따라서 아래첨자를 가진 알파벳 소문자 기호는 스칼라일 수도 있고 벡터일 수도 있다. 두 경우는 문맥에 따라 구별해야 한다."
   ]
  },
  {
   "cell_type": "markdown",
   "metadata": {
    "school_cell_uuid": "e7a2ea85aaaf47b4a32890fba56717cc"
   },
   "source": [
    "예를 들어 어떤 붓꽃 표본 한 송이를 꺾어 측정하였더니, 꽃잎의 길이가 5.1cm, 꽃잎의 폭이 3.5cm, 꽃받침의 길이가 1.5cm, 꽃받침의 폭이 0.2cm였다면 이 데이터 쌍을 $x_1$라고 이름 붙이고 다음과 같이 나타낼 수도 있다. \n",
    "\n",
    "$$  x_1 = \n",
    "\\begin{bmatrix}\n",
    "5.1 \\\\\n",
    "3.5 \\\\\n",
    "1.4 \\\\\n",
    "0.2 \\\\  \n",
    "\\end{bmatrix}\n",
    "$$\n",
    "\n",
    "또 다른 붓꽃의 경우에는 다음과 같이 다른 데이터를 가질 수 있다.\n",
    "\n",
    "$$  x_2 = \n",
    "\\begin{bmatrix}\n",
    "4.9 \\\\\n",
    "3.0 \\\\\n",
    "1.4 \\\\\n",
    "0.2 \\\\\n",
    "\\end{bmatrix}\n",
    "$$\n"
   ]
  },
  {
   "cell_type": "markdown",
   "metadata": {
    "school_cell_uuid": "a08ab3a74a8e426b9cae46a5743ad983"
   },
   "source": [
    "만약 이 데이터를 이용하여 붓꽃의 종을 결정하는 예측 문제를 풀고 있다면 이러한 데이터 벡터를 **특징 벡터(feature vector)**라고 한다. \n",
    "## input vector  입력벡터를 feature vector라고 함 "
   ]
  },
  {
   "cell_type": "markdown",
   "metadata": {
    "school_cell_uuid": "b935bcc965624f8f834df7d55c51e9f5"
   },
   "source": [
    "NumPy를 사용할 때는 벡터를 열의 개수가 하나인 2차원 배열 객체로 표현하는 것이 올바른 표현이다. 예를 들어 위의 벡터 $x_1$는 다음과 같이 NumPy로 표기한다."
   ]
  },
  {
   "cell_type": "code",
   "execution_count": 2,
   "metadata": {
    "school_cell_uuid": "2e36533cf9d74b889a9f34ee87a74fff"
   },
   "outputs": [
    {
     "data": {
      "text/plain": [
       "array([[ 5.1],\n",
       "       [ 3.5],\n",
       "       [ 1.4],\n",
       "       [ 0.2]])"
      ]
     },
     "execution_count": 2,
     "metadata": {},
     "output_type": "execute_result"
    }
   ],
   "source": [
    "x1 = np.array([[5.1], [3.5], [1.4], [0.2]])\n",
    "x1"
   ]
  },
  {
   "cell_type": "markdown",
   "metadata": {
    "school_cell_uuid": "994159d55c7941bda21f861ee49a1724"
   },
   "source": [
    "하지만 대부분의 경우에 NumPy는 1차원 배열 객체도 벡터로 인정한다. 이 경우에는 벡터가 마치 하나의 행처럼 표시되어도 실제로는 열의 의미를 가진다는 점에 주의한다. \n",
    "# 케바케"
   ]
  },
  {
   "cell_type": "code",
   "execution_count": 3,
   "metadata": {
    "school_cell_uuid": "b749f2548cb040e2b6e96cb95690506d"
   },
   "outputs": [
    {
     "data": {
      "text/plain": [
       "array([ 5.1,  3.5,  1.4,  0.2])"
      ]
     },
     "execution_count": 3,
     "metadata": {},
     "output_type": "execute_result"
    }
   ],
   "source": [
    "x1 = np.array([5.1, 3.5, 1.4, 0.2])\n",
    "x1"
   ]
  },
  {
   "cell_type": "markdown",
   "metadata": {
    "school_cell_uuid": "1a57e5a14f554b2695fc96e0c36a9a8a"
   },
   "source": [
    "벡터 데이터를 처리하는 프로그램에 따라서는 두 가지 표현법 중 열 표기를 정확하게 요구하는 경우도 있기 때문에 주의해야 한다. 예를 들어  Scikit-learn 패키지에서 벡터를 요구하는 경우에는 반드시 열의 갯수가 1개인 2차원 배열 객체를 넣어야 한다."
   ]
  },
  {
   "cell_type": "markdown",
   "metadata": {
    "bootstrap": {
     "panel": {
      "class": "panel-default"
     }
    },
    "school_cell_uuid": "7132bbd23895460ebb740e53f57e4dbb"
   },
   "source": [
    "#### 연습 문제 1\n",
    "\n",
    "NumPy를 사용해서 붓꽃 데이터 $x_2$에 대한 벡터 변수 ``x2``를 만든다."
   ]
  },
  {
   "cell_type": "markdown",
   "metadata": {
    "school_cell_uuid": "286c89c2a12f4e1a895833a3b59aa870"
   },
   "source": [
    "### 행렬"
   ]
  },
  {
   "cell_type": "markdown",
   "metadata": {
    "school_cell_uuid": "ae1f233ccc004e5696dff918d6c05884"
   },
   "source": [
    "행렬은 복수의 차원을 가지는 데이터 레코드가 다시 여러 개 있는 경우의 데이터를 합쳐서 표기한 것이다. 예를 들어 앞서 말한 붓꽃의 예에서 6개의 붓꽃에 대해 크기를 측정하였다면 4차원 붓꽃 데이터가 6개가 있다. 즉, $4 \\times 6 = 24$개의 실수 숫자가 있는 것이다. 이 숫자 집합을\n",
    " 행렬로 나타내면 다음과 같다. 행렬은 보통 $X$와 같이 알파벳 대문자로 표기한다."
   ]
  },
  {
   "cell_type": "code",
   "execution_count": 2,
   "metadata": {
    "hidden": "input",
    "school_cell_uuid": "23f532619897423e8c338cade71082f4"
   },
   "outputs": [
    {
     "name": "stderr",
     "output_type": "stream",
     "text": [
      "ERROR:root:Cell magic `%%tikz` not found.\n"
     ]
    }
   ],
   "source": [
    "%%tikz -l matrix,fit,calc -f svg -s 800,200\n",
    "\n",
    "\\clip (-1,-2) rectangle (14,1.8);\n",
    "\n",
    "\\path (-3,0) grid (3,0);\n",
    "\\node (lhs) (0,0) {$X$ =}; \n",
    "\\matrix (X) at (2.4,0) [matrix of math nodes,left delimiter={[},right delimiter={]}]\n",
    "{\n",
    "x_{1, 1} & x_{1, 2} & x_{1, 3} & x_{1, 4} \\\\\n",
    "x_{2, 1} & x_{2, 2} & x_{2, 3} & x_{2, 4} \\\\\n",
    "x_{3, 1} & x_{3, 2} & x_{3, 3} & x_{3, 4} \\\\\n",
    "x_{4, 1} & x_{4, 2} & x_{4, 3} & x_{4, 4} \\\\\n",
    "x_{5, 1} & x_{5, 2} & x_{5, 3} & x_{5, 4} \\\\\n",
    "x_{6, 1} & x_{6, 2} & x_{6, 3} & x_{6, 4} \\\\\n",
    "};\n",
    "\\node[draw,rectangle,red,very thick,inner sep=0,rounded corners=1pt,fit={(X-1-1) (X-1-2) (X-1-3) ($(X-1-4)+(11pt,10pt)$)}] {};"
   ]
  },
  {
   "cell_type": "markdown",
   "metadata": {
    "school_cell_uuid": "03542fe8cdc24d31a60b20bc39d00ae2"
   },
   "source": [
    "행렬의 원소 하나하나는 $x_{2, 3}$처럼 두 개의 숫자 쌍을 아래첨자(sub-script)로 붙여서 표기한다. 첫번째 숫자가 행을 뜻하고 두번째 숫자가 열을 뜻한다. 예를 들어 $x_{2, 3}$ 는 두번째 행(위에서 아래로 두번째), 세번째 열(왼쪽에서 오른쪽으로 세번째)의 숫자를 뜻한다. 행/열의 갯수가 1보다 적을 때는 쉼표 없이 $x_{23}$ 라고 표기하는 경우도 있다. \n",
    "\n",
    "벡터는 열의 수가 1인 행렬이라고 볼 수 있기 때문에 벡터를 다른 말로 **열 벡터(column vector)**라고도 한다."
   ]
  },
  {
   "cell_type": "markdown",
   "metadata": {
    "school_cell_uuid": "83c3c7ba3f7f439dac35174ea7244239"
   },
   "source": [
    "데이터를 행렬로 묶어서 표시할 때는 붓꽃 하나에 대한 데이터 레코드, 즉 **하나의 벡터가 열이 아닌 행(row)으로 표시한다.**\n",
    "붓꽃의 예에서는 하나의 데이터 레코드가 4차원 데이터였다는 점을 기억하자.\n",
    "\n",
    "**하나의 데이터 레코드를 단독으로 벡터로 나타낼 때는 하나의 열(column)**로 나타내고 **복수의 데이터 레코드 집합을 행렬로 나타낼 때는 하나의 데이터 레코드가 하나의 행(row)**으로 표기하는 것은 얼핏 보기에는 일관성이 없어 보지만 추후 다른 연산을 할 때 이런 모양이 필요하기 때문이다. 데이터 분석에서 쓰는 일반적인 관례이므로 외워두어야 한다.\n",
    "\n",
    "만약 이 데이터를 이용하여 붓꽃의 종을 결정하는 예측 문제를 풀고 있다면 이 행을 **특징 행렬(feature matrix)**이라고 하기도 한다."
   ]
  },
  {
   "cell_type": "markdown",
   "metadata": {
    "school_cell_uuid": "4f3068afd1ee4a0f8886b41f3a99bf2d"
   },
   "source": [
    "이 행렬의 크기를 수식으로 표시할 때는 다음과 같이 \"행의 크기 곱하기 열의 크기\"로 나타낸다."
   ]
  },
  {
   "cell_type": "markdown",
   "metadata": {
    "school_cell_uuid": "cc6a853f667041c2bda16e47a0965b24"
   },
   "source": [
    "$$ X \\in \\mathbf{R}^{6\\times 4} $$"
   ]
  },
  {
   "cell_type": "markdown",
   "metadata": {
    "school_cell_uuid": "50a76806819f439892916efe47de2402"
   },
   "source": [
    "벡터도 열의 수가 1인 특수한 행렬이기 때문에 벡터의 크기를 표시할 때 행렬 표기를 따라서 다음과 같이 쓰기도 한다."
   ]
  },
  {
   "cell_type": "markdown",
   "metadata": {
    "school_cell_uuid": "118d6acbac4c45c6b0a6dc1cbbb94d5d"
   },
   "source": [
    "$$ x \\in \\mathbf{R}^{4\\times 1} $$"
   ]
  },
  {
   "cell_type": "markdown",
   "metadata": {
    "school_cell_uuid": "8bb884ab944845e084229892a3e60ae5"
   },
   "source": [
    "앞에서 예로 들었던 두 송이의 붓꽃 데이터를 하나의 행렬로 합치면 다음과 같다.\n",
    "\n",
    "$$ \n",
    "X=\n",
    "\\begin{bmatrix}\n",
    "5.1 & 3.5 & 1.4 & 0.2 \\\\\n",
    "4.9 & 3.0 & 1.4 & 0.2 \\\\\n",
    "\\end{bmatrix}\n",
    "$$"
   ]
  },
  {
   "cell_type": "markdown",
   "metadata": {
    "school_cell_uuid": "4198781a330d4812bacab517a5af16d9"
   },
   "source": [
    "NumPy를 이용하여 행렬을 표기할 때는 2차원 `ndarray` 객체를 사용한다. 예를 들어 다음 행렬 $A$를 NumPy로 나타내면 다음과 같다.\n",
    "\n",
    "$$ \n",
    "A=\n",
    "\\begin{bmatrix}\n",
    "11 & 12 & 13 \\\\\n",
    "21 & 22 & 23 \\\\\n",
    "\\end{bmatrix}\n",
    "$$"
   ]
  },
  {
   "cell_type": "code",
   "execution_count": 5,
   "metadata": {
    "school_cell_uuid": "0ff362ae4e0848059a379051ad5fc5b3"
   },
   "outputs": [
    {
     "data": {
      "text/plain": [
       "array([[11, 12, 13],\n",
       "       [21, 22, 23]])"
      ]
     },
     "execution_count": 5,
     "metadata": {},
     "output_type": "execute_result"
    }
   ],
   "source": [
    "A = np.array([[11,12,13],[21,22,23]])\n",
    "A"
   ]
  },
  {
   "cell_type": "markdown",
   "metadata": {
    "bootstrap": {
     "panel": {
      "class": "panel-default"
     }
    },
    "school_cell_uuid": "fab3d2a3ff4b480baf0b7868dd63b3a9"
   },
   "source": [
    "#### 연습 문제 2\n",
    "\n",
    "NumPy를 사용해서 붓꽃 데이터 $X$에 대한 행렬 변수 ``X``를 만든다."
   ]
  },
  {
   "cell_type": "markdown",
   "metadata": {
    "school_cell_uuid": "1212adecd9fe4bed98296b0d61d076b5"
   },
   "source": [
    "다음으로 이러한 스칼라, 벡터, 행렬 데이터를 변형시키는 방법 즉, 연산(operation)에 대해서 알아보자."
   ]
  },
  {
   "cell_type": "markdown",
   "metadata": {
    "school_cell_uuid": "39439dd839364e3bb4d1d438f70b53e9"
   },
   "source": [
    "## 전치 연산"
   ]
  },
  {
   "cell_type": "markdown",
   "metadata": {
    "school_cell_uuid": "f51f9930ebd5494b8ebe8d80ebff9443"
   },
   "source": [
    "전치(transpose) 연산은 행렬에서 가장 기본이 되는 연산으로 행렬의 **행과 열을 바꾸는 연산**을 말한다. 전치 연산은 벡터나 행렬에 $T$라는 위첨자(super-script)를 붙어서 표기한다. 예를 들어 앞에서 보인 $4\\times 6$ 차원의 행렬을 전치 연산하면 $6\\times 4$ 차원의 행렬이 된다."
   ]
  },
  {
   "cell_type": "code",
   "execution_count": 3,
   "metadata": {
    "hidden": "input",
    "school_cell_uuid": "d983fa2efe18402fab60d70dfdbdf560"
   },
   "outputs": [
    {
     "name": "stderr",
     "output_type": "stream",
     "text": [
      "ERROR:root:Cell magic `%%tikz` not found.\n"
     ]
    }
   ],
   "source": [
    "%%tikz -l matrix,fit,calc -f svg -s 800,200\n",
    "\n",
    "\\clip (-1,-1.8) rectangle (14,1.8);\n",
    "\n",
    "\\node at (0,0) {$X$ =}; \n",
    "\\matrix (X) at (2.5,0) [matrix of math nodes,left delimiter={[},right delimiter={]}]\n",
    "{\n",
    "x_{1, 1} & x_{1, 2} & x_{1, 3} & x_{1, 4} \\\\\n",
    "x_{2, 1} & x_{2, 2} & x_{2, 3} & x_{2, 4} \\\\\n",
    "x_{3, 1} & x_{3, 2} & x_{3, 3} & x_{3, 4} \\\\\n",
    "x_{4, 1} & x_{4, 2} & x_{4, 3} & x_{4, 4} \\\\\n",
    "x_{5, 1} & x_{5, 2} & x_{5, 3} & x_{5, 4} \\\\\n",
    "x_{6, 1} & x_{6, 2} & x_{6, 3} & x_{6, 4} \\\\\n",
    "};\n",
    "\\node[draw,rectangle,red,very thick,inner sep=0,rounded corners=1pt,fit={(X-1-1) (X-1-2) (X-1-3) ($(X-1-4)+(11pt,10pt)$)}] {};\n",
    "                                                             \n",
    "\\node at (6,0) {$\\rightarrow \\;\\;\\;\\;$ $X^T$ =}; \n",
    "\\matrix (XT) at (10,0) [matrix of math nodes,left delimiter={[},right delimiter={]}]\n",
    "{\n",
    "x_{1, 1} & x_{2, 1} & x_{3, 1} & x_{4, 1} & x_{5, 1} & x_{6, 1} \\\\\n",
    "x_{1, 2} & x_{2, 2} & x_{3, 2} & x_{4, 2} & x_{5, 2} & x_{6, 2} \\\\\n",
    "x_{1, 3} & x_{2, 3} & x_{3, 3} & x_{4, 3} & x_{5, 3} & x_{6, 3} \\\\\n",
    "x_{1, 4} & x_{2, 4} & x_{3, 4} & x_{4, 4} & x_{5, 4} & x_{6, 4} \\\\\n",
    "};\n",
    "\\node[draw,rectangle,red,very thick,inner sep=0,rounded corners=1pt,fit={(XT-1-1) (XT-2-1) (XT-3-1) ($(XT-4-1)-(0,5pt)$)}] {};"
   ]
  },
  {
   "cell_type": "markdown",
   "metadata": {
    "school_cell_uuid": "3dede5195fcc495687de2a7cea9aa4cd"
   },
   "source": [
    "전치연산으로 만든 행렬을 원래 행렬에 대한 전치행렬이라고 한다.\n",
    "\n",
    "(열)벡터 $x$에 대해 전치 연산을 적용하여 만들어진 $x^T$는 행의 수가 1인 행렬이므로 **행 벡터(row vector)**라고 한다."
   ]
  },
  {
   "cell_type": "markdown",
   "metadata": {
    "school_cell_uuid": "a5c9311fc229483094f0137f4fbd75db"
   },
   "source": [
    "$$ \n",
    "x = \n",
    "\\begin{bmatrix}\n",
    "x_{1} \\\\\n",
    "x_{2} \\\\\n",
    "\\vdots \\\\\n",
    "x_{N} \\\\\n",
    "\\end{bmatrix}\n",
    "\\; \\rightarrow \\;\n",
    "x^T = \n",
    "\\begin{bmatrix}\n",
    "x_{1} & x_{2} & \\cdots & x_{N}\n",
    "\\end{bmatrix}\n",
    "$$"
   ]
  },
  {
   "cell_type": "markdown",
   "metadata": {
    "school_cell_uuid": "b20d4e3a52514c9b8491811d6d1c5b90"
   },
   "source": [
    "NumPy에서는 `ndarray` 객체의 `T`라는 속성을 이용하여 전치 행렬을 구한다. 이 때 `T`는 메서드(method)가 아닌 속성(attribute)이므로 ``()``를 붙여서 호출하면 안된다."
   ]
  },
  {
   "cell_type": "code",
   "execution_count": 7,
   "metadata": {
    "school_cell_uuid": "354a23b55f324a63b030a7665a01f619"
   },
   "outputs": [
    {
     "data": {
      "text/plain": [
       "array([[11, 21],\n",
       "       [12, 22],\n",
       "       [13, 23]])"
      ]
     },
     "execution_count": 7,
     "metadata": {},
     "output_type": "execute_result"
    }
   ],
   "source": [
    "A.T"
   ]
  },
  {
   "cell_type": "markdown",
   "metadata": {
    "school_cell_uuid": "8d34f67cd26c42d1962e566bdbcff1ef"
   },
   "source": [
    "다만 1차원 `ndarray`는 전치 연산이 정의되지 않는다.\n",
    "\n",
    "## 실같은 존재라서 일차원 배열에서는 전치 연산이 되지 않음\n"
   ]
  },
  {
   "cell_type": "code",
   "execution_count": 8,
   "metadata": {
    "school_cell_uuid": "e00eb467cc514d28bd6a0aad46c37e5b"
   },
   "outputs": [
    {
     "data": {
      "text/plain": [
       "array([ 5.1,  3.5,  1.4,  0.2])"
      ]
     },
     "execution_count": 8,
     "metadata": {},
     "output_type": "execute_result"
    }
   ],
   "source": [
    "x1"
   ]
  },
  {
   "cell_type": "code",
   "execution_count": 9,
   "metadata": {
    "school_cell_uuid": "0b1ebb68f6804663b57f0850c776d979"
   },
   "outputs": [
    {
     "data": {
      "text/plain": [
       "array([ 5.1,  3.5,  1.4,  0.2])"
      ]
     },
     "execution_count": 9,
     "metadata": {},
     "output_type": "execute_result"
    }
   ],
   "source": [
    "x1.T"
   ]
  },
  {
   "cell_type": "markdown",
   "metadata": {
    "bootstrap": {
     "panel": {
      "class": "panel-default"
     }
    },
    "school_cell_uuid": "adedfad5e707497482b977aaafa1df9e"
   },
   "source": [
    "#### 연습 문제 3\n",
    "\n",
    "1. NumPy를 사용해서 붓꽃 데이터 $X$의 전치행렬 $X^T$을 구한다.\n",
    "2. 전치행렬을 다시 전치한 행렬 $(X^T)^T$을 구한다. 이 행렬과 원래 행렬 $X$을 비교한다."
   ]
  },
  {
   "cell_type": "markdown",
   "metadata": {
    "school_cell_uuid": "3f056e92c6594898a8f856b188491784"
   },
   "source": [
    "## 행렬의 행 표기법과 열 표기법"
   ]
  },
  {
   "cell_type": "markdown",
   "metadata": {
    "school_cell_uuid": "0d2a6bcd268841e19ab6bea346db8a3c"
   },
   "source": [
    "전치 연산과 행 벡터, 열 벡터를 이용하면 다음과 같이 행렬을 복수의 열 벡터 $c_i$, 또는 복수의 행 벡터 $r_j^T$ 을 합친(concatenated) 형태로 표기할 수도 있다."
   ]
  },
  {
   "cell_type": "markdown",
   "metadata": {
    "school_cell_uuid": "1ffafd747f2644018d3f9ab1244bcbc2"
   },
   "source": [
    "$$\n",
    "X \n",
    "= \n",
    "\\begin{bmatrix}\n",
    "c_1 & c_2 & \\cdots & c_M \\\\\n",
    "\\end{bmatrix}\n",
    "=\n",
    "\\begin{bmatrix}\n",
    "r_1^T \\\\ \n",
    "r_2^T \\\\ \n",
    "\\vdots \\\\ \n",
    "r_N^T \\\\  \n",
    "\\end{bmatrix}\n",
    "$$\n"
   ]
  },
  {
   "cell_type": "markdown",
   "metadata": {},
   "source": [
    "## c 열벡터안에 여러데이터의 원소들이 있음, C 한개가 원소가 아닌 C 열벡터\n",
    "## R T 벡터도 행벡터로 행안에 여러개의 원소들이 있음 "
   ]
  },
  {
   "cell_type": "markdown",
   "metadata": {
    "school_cell_uuid": "f17cc0eb348d4d50a778e551eeef0472"
   },
   "source": [
    "여기에서 각 행렬의 크기는 다음과 같다."
   ]
  },
  {
   "cell_type": "markdown",
   "metadata": {
    "school_cell_uuid": "69db43ac30404662b29a5db2b3a29b9e"
   },
   "source": [
    "* 행렬\n",
    "\n",
    "$$ X \\in \\mathbf{R}^{N\\times M}$$"
   ]
  },
  {
   "cell_type": "markdown",
   "metadata": {
    "school_cell_uuid": "f3469cd831624cfc8d6b2226c18f0798"
   },
   "source": [
    "* 열 벡터\n",
    "$$c_i \\in R^{N \\times 1} \\; (i=1,\\cdots,M)$$"
   ]
  },
  {
   "cell_type": "markdown",
   "metadata": {
    "school_cell_uuid": "03c160635503496dad4120f21e636ae3"
   },
   "source": [
    "* 행 벡터\n",
    "$$r_j^T \\in R^{1 \\times M} \\; (j=1,\\cdots,N) $$"
   ]
  },
  {
   "cell_type": "markdown",
   "metadata": {
    "school_cell_uuid": "0a5a099ea938415bbaa6db616313de16"
   },
   "source": [
    "즉, 위의 식은 다음과 같은 말을 수식으로 표현한 것이다.\n",
    "\n",
    "> 행렬 $X$의 각 열은 $c_1$, $c_2$, $\\ldots$, $c_M$ 라고 이름 붙인다. \n",
    "\n",
    "또는\n",
    "\n",
    "> 행렬 $X$의 각 행은 $r_1^T$, $r_2^T$, $\\ldots$, $r_N^T$ 라고 이름 붙인다. "
   ]
  },
  {
   "cell_type": "markdown",
   "metadata": {
    "school_cell_uuid": "d4049e92100846ffb681eeee261fa5a5"
   },
   "source": [
    "## 특수한 벡터와 행렬"
   ]
  },
  {
   "cell_type": "markdown",
   "metadata": {
    "school_cell_uuid": "9a644edd79c94aa0a11f9a9a299e8b18"
   },
   "source": [
    "몇가지 특수한 벡터와 행렬에 대해서는 별도의 기호나 이름이 붙어있다. "
   ]
  },
  {
   "cell_type": "markdown",
   "metadata": {
    "school_cell_uuid": "4b5d14b4926f4807a7e3f69dd1c65ffe"
   },
   "source": [
    "### 영 벡터 \n",
    "\n",
    "모든 원소가 0인 $N$차원 벡터는 다음과 같이 표시할 수 있다.\n",
    "\n",
    "$$ \\mathbf{0}_N = \\mathbf{0} =\n",
    "\\begin{bmatrix}\n",
    "0 \\\\\n",
    "0 \\\\\n",
    "\\vdots \\\\\n",
    "0 \\\\\n",
    "\\end{bmatrix}\n",
    "$$\n",
    "\n",
    "문맥에 의해 벡터의 크기를 알 수 있을 때는 크기를 나타내는 아래첨자 $N$을 생략할 수도 있다."
   ]
  },
  {
   "cell_type": "markdown",
   "metadata": {
    "school_cell_uuid": "4b5d14b4926f4807a7e3f69dd1c65ffe"
   },
   "source": [
    "### 일 벡터 \n",
    "\n",
    "모든 원소가 1인 $N$차원 벡터는 다음과 같이 표시할 수 있다.\n",
    "\n",
    "$$ \\mathbf{1}_N = \\mathbf{1}  =\n",
    "\\begin{bmatrix}\n",
    "1 \\\\\n",
    "1 \\\\\n",
    "\\vdots \\\\\n",
    "1 \\\\\n",
    "\\end{bmatrix}\n",
    "$$\n",
    "\n",
    "마찬가지로 문맥에 의해 벡터의 크기를 알 수 있을 때는 크기를 나타내는 아래첨자 $N$을 생략할 수도 있다."
   ]
  },
  {
   "cell_type": "markdown",
   "metadata": {
    "school_cell_uuid": "d0c9afd9eac4451fa91951cee4f99cc9"
   },
   "source": [
    "### 정방 행렬 \n",
    "\n",
    "행의 크기와 열의 크기가 같은 행렬을 정방 행렬(square matrix)이라고 한다."
   ]
  },
  {
   "cell_type": "markdown",
   "metadata": {
    "school_cell_uuid": "b07dadfc06b54c4ab4822849e3147fe2"
   },
   "source": [
    "### 대각 행렬 (정방행렬 안에포함)\n",
    "\n",
    "행렬에서 행의 숫자와 열의 숫자가 같은 위치를 대각(diagonal)이라고 하고 대각 위치에 있지 않은 것들은 비대각(off-diagonal)이라고 한다. 모든 비대각 요소가 0인 정방 행렬을 대각 행렬(diagonal matrix)이라고 한다.\n",
    "\n",
    "(대각성분행렬 안에서 ) , 대각성분은 D1,D2..... 비대각성분은 D1,D2,..... 제외 나머지 성분"
   ]
  },
  {
   "cell_type": "markdown",
   "metadata": {
    "school_cell_uuid": "a1c3c5f92391494d882c5c1acf8a4553"
   },
   "source": [
    "$$ \n",
    "D = \n",
    "\\begin{bmatrix}\n",
    "D_{1} & 0 & \\cdots & 0 \\\\\n",
    "0 & D_{2} & \\cdots & 0 \\\\\n",
    "\\vdots & \\vdots & \\ddots & \\vdots \\\\\n",
    "0 & 0 & \\cdots & D_{N} \\\\\n",
    "\\end{bmatrix}\n",
    "$$"
   ]
  },
  {
   "cell_type": "markdown",
   "metadata": {
    "school_cell_uuid": "460da54bb0a640ca9a349fb05d564258"
   },
   "source": [
    "$$ D \\in \\mathbf{R}^{N \\times N} $$"
   ]
  },
  {
   "cell_type": "markdown",
   "metadata": {
    "school_cell_uuid": "403b5251781046debb031a40a5f25382"
   },
   "source": [
    "NumPy로 대각행렬을 생성하려면 `diag` 명령을 사용한다."
   ]
  },
  {
   "cell_type": "code",
   "execution_count": 10,
   "metadata": {
    "school_cell_uuid": "31b719cb654a4b24ad9668cc69e61e06"
   },
   "outputs": [
    {
     "data": {
      "text/plain": [
       "array([[1, 0, 0],\n",
       "       [0, 2, 0],\n",
       "       [0, 0, 3]])"
      ]
     },
     "execution_count": 10,
     "metadata": {},
     "output_type": "execute_result"
    }
   ],
   "source": [
    "np.diag([1, 2, 3])"
   ]
  },
  {
   "cell_type": "markdown",
   "metadata": {
    "school_cell_uuid": "c3717fedcfe14698a05077c5c230d363"
   },
   "source": [
    "### 단위 행렬 ( 대각행렬중 정방행렬중 대각성분이 1인경우) \n",
    "\n",
    "대각 행렬 중에서도 모든 대각 성분의 값이 1인 대각 행렬을 단위 행렬(identity matrix)이라고 한다. 단위 행렬은 보통 알파벳 대문자 $I$로 표기하는 경우가 많다."
   ]
  },
  {
   "cell_type": "markdown",
   "metadata": {
    "school_cell_uuid": "79977ad68bcd46aa8c7aca17bec7921b"
   },
   "source": [
    "$$ \n",
    "I = \n",
    "\\begin{bmatrix}\n",
    "1 & 0 & \\cdots & 0 \\\\\n",
    "0 & 1 & \\cdots & 0 \\\\\n",
    "\\vdots & \\vdots & \\ddots & \\vdots \\\\\n",
    "0 & 0 & \\cdots & 1 \\\\\n",
    "\\end{bmatrix}\n",
    "$$"
   ]
  },
  {
   "cell_type": "markdown",
   "metadata": {
    "school_cell_uuid": "f4cc3f2f5c714d1eb55e77ad37629f5b"
   },
   "source": [
    "$$ I \\in \\mathbf{R}^{N \\times N} $$"
   ]
  },
  {
   "cell_type": "markdown",
   "metadata": {
    "school_cell_uuid": "d88242b3df594c20a1d80cdc322974d0"
   },
   "source": [
    "NumPy로 단위행렬을 생성하려면 `identity` 혹은 `eye` 명령을 사용한다."
   ]
  },
  {
   "cell_type": "code",
   "execution_count": 11,
   "metadata": {
    "school_cell_uuid": "a7ccde9759da483cb0de2d00d727501e"
   },
   "outputs": [
    {
     "data": {
      "text/plain": [
       "array([[ 1.,  0.,  0.],\n",
       "       [ 0.,  1.,  0.],\n",
       "       [ 0.,  0.,  1.]])"
      ]
     },
     "execution_count": 11,
     "metadata": {},
     "output_type": "execute_result"
    }
   ],
   "source": [
    "np.identity(3)"
   ]
  },
  {
   "cell_type": "code",
   "execution_count": 12,
   "metadata": {
    "school_cell_uuid": "53ddcb3245394dc39475ebb5bb056dcd"
   },
   "outputs": [
    {
     "data": {
      "text/plain": [
       "array([[ 1.,  0.,  0.,  0.],\n",
       "       [ 0.,  1.,  0.,  0.],\n",
       "       [ 0.,  0.,  1.,  0.],\n",
       "       [ 0.,  0.,  0.,  1.]])"
      ]
     },
     "execution_count": 12,
     "metadata": {},
     "output_type": "execute_result"
    }
   ],
   "source": [
    "np.eye(4)"
   ]
  },
  {
   "cell_type": "markdown",
   "metadata": {
    "school_cell_uuid": "c474812d92c045a29665babdf157cfe7"
   },
   "source": [
    "### 대칭 행렬"
   ]
  },
  {
   "cell_type": "markdown",
   "metadata": {
    "school_cell_uuid": "cd9107a517e44f70bf1b7b1c462ba68f"
   },
   "source": [
    "만약 전치 연산을 통해서 얻어진 전치 행렬과 원래의 행렬이 같으면 대칭 행렬(symmetric matrix)이라고 한다. 정방 행렬만 대칭 행렬이 될 수 있다. ( 전치현상을 겪어도 안의 행렬 성분이 위치에도 다같은경우) \n",
    "\n",
    "$$ S^{T} = S \\;\\; (S \\in \\mathbf{R}^{N \\times N})$$ "
   ]
  },
  {
   "cell_type": "markdown",
   "metadata": {
    "bootstrap": {
     "panel": {
      "class": "panel-default"
     }
    },
    "school_cell_uuid": "b6e0c4131497443792d931e91bee2ede"
   },
   "source": [
    "#### 연습 문제 4\n",
    "\n",
    "1. 영벡터, 일벡터, 정방행렬, 대각행렬, 단위행렬, 대칭행렬의 예를 하나씩 만들어 본다.\n",
    "2. 위의 벡터와 행렬을 NumPy로 나타내 본다."
   ]
  },
  {
   "cell_type": "code",
   "execution_count": null,
   "metadata": {
    "collapsed": true
   },
   "outputs": [],
   "source": [
    "vector0 = np.array([[0],[0],[0],[0]])\n",
    "vector1 = np.array([[1],[1],[1],[1]])\n",
    "square_matrix = np.array([[1,2,3,4],[5,6,7,8],[9,10,11,12],[13,14,15,16]])\n",
    "diagnal_matrix = np.diag([7, 8, 9])\n",
    "identity_matrix = np.eye(5)\n",
    "symmetric_matrix = np.array([[1,2,2,2],[2,1,2,2],[2,2,1,2],[2,2,2,1]])\n"
   ]
  }
 ],
 "metadata": {
  "celltoolbar": "Edit Metadata",
  "kernelspec": {
   "display_name": "Python 3",
   "language": "python",
   "name": "python3"
  },
  "language_info": {
   "codemirror_mode": {
    "name": "ipython",
    "version": 3
   },
   "file_extension": ".py",
   "mimetype": "text/x-python",
   "name": "python",
   "nbconvert_exporter": "python",
   "pygments_lexer": "ipython3",
   "version": "3.6.1"
  }
 },
 "nbformat": 4,
 "nbformat_minor": 1
}
