{
 "cells": [
  {
   "cell_type": "markdown",
   "metadata": {
    "collapsed": true
   },
   "source": [
    "## 박사님 정답 \n",
    "## 아이리스 붖꽃데이터\n",
    "## 1.모델선정(QDA&LDA) 2.confusion matrix 3.Classification report 4. ROC 만들기 "
   ]
  },
  {
   "cell_type": "code",
   "execution_count": 12,
   "metadata": {},
   "outputs": [
    {
     "name": "stderr",
     "output_type": "stream",
     "text": [
      "C:\\Users\\User\\Anaconda3\\lib\\site-packages\\matplotlib\\__init__.py:1405: UserWarning: \n",
      "This call to matplotlib.use() has no effect because the backend has already\n",
      "been chosen; matplotlib.use() must be called *before* pylab, matplotlib.pyplot,\n",
      "or matplotlib.backends is imported for the first time.\n",
      "\n",
      "  warnings.warn(_use_error_msg)\n"
     ]
    }
   ],
   "source": [
    "##스타트업 파일\n",
    "\n",
    "from scipy.stats import norm\n",
    "import numpy as np\n",
    "import scipy as sp\n",
    "from pandas.core import datetools \n",
    "import pandas as pd\n",
    "import statsmodels.api as sm ## R 패키지에서 불러온것, 샘플데이터 옮겨쓸수 있는 프로젝트 있음. 회귀분석에 유용 \n",
    "import statsmodels.formula.api as smf\n",
    "import statsmodels.stats.api as sms\n",
    "import sklearn as sk \n",
    "## 전처리 \n",
    "\n",
    "import matplotlib as mpl\n",
    "mpl.use('Agg')\n",
    "import matplotlib.pylab \n",
    "import matplotlib.pyplot as plt\n",
    "%matplotlib inline\n",
    "from mpl_toolkits.mplot3d import Axes3D\n",
    "\n",
    "import seaborn as sns\n",
    "sns.set()\n",
    "sns.set_style(\"whitegrid\")\n",
    "sns.set_color_codes()"
   ]
  },
  {
   "cell_type": "code",
   "execution_count": 13,
   "metadata": {
    "collapsed": true
   },
   "outputs": [],
   "source": [
    "from sklearn.datasets import load_iris\n",
    "iris = load_iris()\n",
    "X = iris.data\n",
    "y = iris.target"
   ]
  },
  {
   "cell_type": "code",
   "execution_count": 14,
   "metadata": {
    "collapsed": true
   },
   "outputs": [],
   "source": [
    "from sklearn.discriminant_analysis import QuadraticDiscriminantAnalysis, LinearDiscriminantAnalysis\n",
    "\n",
    "model1 = QuadraticDiscriminantAnalysis().fit(X, y)\n",
    "model2 = LinearDiscriminantAnalysis().fit(X, y)\n",
    "yhat1 = model1.predict(X)\n",
    "yhat2 = model2.predict(X)"
   ]
  },
  {
   "cell_type": "code",
   "execution_count": 15,
   "metadata": {
    "collapsed": true
   },
   "outputs": [],
   "source": [
    "from sklearn.metrics import confusion_matrix, classification_report, roc_curve"
   ]
  },
  {
   "cell_type": "code",
   "execution_count": 16,
   "metadata": {},
   "outputs": [
    {
     "data": {
      "text/plain": [
       "array([[50,  0,  0],\n",
       "       [ 0, 48,  2],\n",
       "       [ 0,  1, 49]])"
      ]
     },
     "execution_count": 16,
     "metadata": {},
     "output_type": "execute_result"
    }
   ],
   "source": [
    "confusion_matrix(y, yhat1)"
   ]
  },
  {
   "cell_type": "code",
   "execution_count": 17,
   "metadata": {},
   "outputs": [
    {
     "data": {
      "text/plain": [
       "array([[50,  0,  0],\n",
       "       [ 0, 48,  2],\n",
       "       [ 0,  1, 49]])"
      ]
     },
     "execution_count": 17,
     "metadata": {},
     "output_type": "execute_result"
    }
   ],
   "source": [
    "confusion_matrix(y, yhat2)"
   ]
  },
  {
   "cell_type": "code",
   "execution_count": 18,
   "metadata": {},
   "outputs": [
    {
     "name": "stdout",
     "output_type": "stream",
     "text": [
      "             precision    recall  f1-score   support\n",
      "\n",
      "          0       1.00      1.00      1.00        50\n",
      "          1       0.98      0.96      0.97        50\n",
      "          2       0.96      0.98      0.97        50\n",
      "\n",
      "avg / total       0.98      0.98      0.98       150\n",
      "\n"
     ]
    }
   ],
   "source": [
    "print(classification_report(y, yhat1))"
   ]
  },
  {
   "cell_type": "code",
   "execution_count": 19,
   "metadata": {},
   "outputs": [
    {
     "name": "stdout",
     "output_type": "stream",
     "text": [
      "             precision    recall  f1-score   support\n",
      "\n",
      "          0       1.00      1.00      1.00        50\n",
      "          1       0.98      0.96      0.97        50\n",
      "          2       0.96      0.98      0.97        50\n",
      "\n",
      "avg / total       0.98      0.98      0.98       150\n",
      "\n"
     ]
    }
   ],
   "source": [
    "print(classification_report(y, yhat2))"
   ]
  },
  {
   "cell_type": "code",
   "execution_count": 20,
   "metadata": {
    "collapsed": true
   },
   "outputs": [],
   "source": [
    "from sklearn.preprocessing import label_binarize\n",
    "y_multi = label_binarize(y, classes=[0, 1, 2]) ## 인코딩: 0,1,2클래스를 가진집합을 one hot encoing 해줌 "
   ]
  },
  {
   "cell_type": "code",
   "execution_count": 29,
   "metadata": {},
   "outputs": [
    {
     "data": {
      "text/plain": [
       "array([0, 0, 0, 0, 0, 0, 0, 0, 0, 0, 0, 0, 0, 0, 0, 0, 0, 0, 0, 0, 0, 0, 0,\n",
       "       0, 0, 0, 0, 0, 0, 0, 0, 0, 0, 0, 0, 0, 0, 0, 0, 0, 0, 0, 0, 0, 0, 0,\n",
       "       0, 0, 0, 0, 0, 0, 0, 0, 0, 0, 0, 0, 0, 0, 0, 0, 0, 0, 0, 0, 0, 0, 0,\n",
       "       0, 0, 0, 0, 0, 0, 0, 0, 0, 0, 0, 0, 0, 0, 0, 0, 0, 0, 0, 0, 0, 0, 0,\n",
       "       0, 0, 0, 0, 0, 0, 0, 0, 1, 1, 1, 1, 1, 1, 1, 1, 1, 1, 1, 1, 1, 1, 1,\n",
       "       1, 1, 1, 1, 1, 1, 1, 1, 1, 1, 1, 1, 1, 1, 1, 1, 1, 1, 1, 1, 1, 1, 1,\n",
       "       1, 1, 1, 1, 1, 1, 1, 1, 1, 1, 1, 1])"
      ]
     },
     "execution_count": 29,
     "metadata": {},
     "output_type": "execute_result"
    }
   ],
   "source": [
    "y_multi[:,2]## 3열 "
   ]
  },
  {
   "cell_type": "code",
   "execution_count": 32,
   "metadata": {},
   "outputs": [
    {
     "data": {
      "text/plain": [
       "array([ -8.81030374e+01,  -7.36225579e+01,  -7.68821571e+01,\n",
       "        -6.69557801e+01,  -8.86535559e+01,  -8.82841259e+01,\n",
       "        -7.36444148e+01,  -8.03571458e+01,  -6.30178621e+01,\n",
       "        -7.50043896e+01,  -9.60375858e+01,  -7.37819038e+01,\n",
       "        -7.44182128e+01,  -7.50281213e+01,  -1.26618846e+02,\n",
       "        -1.17891728e+02,  -1.02990529e+02,  -8.51614224e+01,\n",
       "        -9.50043760e+01,  -8.95211016e+01,  -8.16734184e+01,\n",
       "        -8.38089388e+01,  -9.48518611e+01,  -6.55817049e+01,\n",
       "        -6.55584160e+01,  -6.90577621e+01,  -7.14766316e+01,\n",
       "        -8.66834536e+01,  -8.78862065e+01,  -6.76847885e+01,\n",
       "        -6.72668123e+01,  -8.32819741e+01,  -1.07705391e+02,\n",
       "        -1.17189723e+02,  -7.50043896e+01,  -8.65121962e+01,\n",
       "        -1.01143178e+02,  -7.50043896e+01,  -6.77535285e+01,\n",
       "        -8.22981353e+01,  -8.66322279e+01,  -5.83642526e+01,\n",
       "        -7.18328763e+01,  -6.86578589e+01,  -7.40067047e+01,\n",
       "        -6.90818382e+01,  -8.94818354e+01,  -7.19934786e+01,\n",
       "        -9.38849721e+01,  -8.14608827e+01,  -8.74012923e+00,\n",
       "        -4.81682149e+00,  -3.87050052e+00,  -3.50341265e+00,\n",
       "        -2.81755715e+00,  -1.77092538e+00,  -2.45696604e+00,\n",
       "        -1.00362086e+01,  -5.56988807e+00,  -2.90342022e+00,\n",
       "        -8.56270679e+00,  -3.52356186e+00,  -9.92090160e+00,\n",
       "        -9.97422745e-01,  -9.87647428e+00,  -9.04106264e+00,\n",
       "        -1.02408934e+00,  -7.84723157e+00,  -3.37640128e+00,\n",
       "        -6.60517318e+00,   7.62664592e-01,  -8.12958826e+00,\n",
       "         4.60904599e-01,  -2.77947229e+00,  -7.33206177e+00,\n",
       "        -7.46427834e+00,  -4.02642089e+00,   1.48651443e-01,\n",
       "        -9.86451632e-01,  -1.41212636e+01,  -6.89827554e+00,\n",
       "        -9.08379836e+00,  -7.46658688e+00,   1.99497837e+00,\n",
       "        -1.42685224e+00,  -3.97356454e+00,  -4.30829455e+00,\n",
       "        -5.34957805e+00,  -5.15775146e+00,  -3.32608363e+00,\n",
       "        -2.27830187e+00,  -2.10489509e+00,  -6.02385186e+00,\n",
       "        -1.03871160e+01,  -2.63610480e+00,  -5.98346886e+00,\n",
       "        -3.95778934e+00,  -5.65293171e+00,  -1.49853949e+01,\n",
       "        -4.18394088e+00,  -1.03612809e+00,   2.41769962e+00,\n",
       "         2.94822808e+00,   2.31024338e+00,   2.57215033e+00,\n",
       "         1.28232916e+00,  -6.32239533e-01,   1.53082440e+00,\n",
       "         1.62235682e+00,   1.14054577e+00,   1.96245138e+00,\n",
       "         2.92078603e+00,   2.93982287e+00,   1.54235282e+00,\n",
       "         5.58765998e-01,   2.42666053e+00,   2.79512871e+00,\n",
       "        -1.37509897e+00,  -3.46963028e+00,   1.55536128e-01,\n",
       "         2.73239336e+00,   2.05794677e+00,   3.70835844e-02,\n",
       "         1.77159144e+00,   2.71574567e+00,   1.77058821e+00,\n",
       "         1.71239897e+00,   2.08519210e+00,   2.82932163e+00,\n",
       "         8.48976729e-01,   1.70026986e+00,  -2.04826175e+00,\n",
       "         2.48989348e+00,   1.22256646e+00,  -1.02731513e+00,\n",
       "         2.12812453e-01,   1.12859516e+00,   2.28026993e+00,\n",
       "         1.83118179e+00,   2.20921010e+00,   2.27885255e+00,\n",
       "        -7.91656510e-01,   2.41769962e+00,   2.69728636e+00,\n",
       "         1.79481861e+00,   1.09217287e+00,   1.36106797e+00,\n",
       "         2.80901280e+00,   1.39397094e+00,   2.01937635e+00])"
      ]
     },
     "execution_count": 32,
     "metadata": {},
     "output_type": "execute_result"
    }
   ],
   "source": [
    "d1_multi = model1.decision_function(X)## QDA odel1 추정치y \n",
    "d2_multi = model2.decision_function(X)## LDA model2 추정치 y\n",
    "d1_multi[:,2] ## 3열 "
   ]
  },
  {
   "cell_type": "code",
   "execution_count": 25,
   "metadata": {
    "collapsed": true
   },
   "outputs": [],
   "source": [
    "fpr10, tpr10, thresholds10 = roc_curve(y_multi[:, 0], d1_multi[:, 0]) ## QDA model로 추정한 클래스 0인 x와 추정치 y의 ROC_curve 값들 \n",
    "fpr11, tpr11, thresholds11 = roc_curve(y_multi[:, 1], d1_multi[:, 1])\n",
    "fpr12, tpr12, thresholds12 = roc_curve(y_multi[:, 2], d1_multi[:, 2])\n",
    "fpr20, tpr20, thresholds20 = roc_curve(y_multi[:, 0], d2_multi[:, 0])## LDA model로 추정한 클래스 0인 x와 추정치 y의 ROC_curve 값들 \n",
    "fpr21, tpr21, thresholds21 = roc_curve(y_multi[:, 1], d2_multi[:, 1])\n",
    "fpr22, tpr22, thresholds22 = roc_curve(y_multi[:, 2], d2_multi[:, 2])## LDA model로 추정한 클래스 2인 x와 추정치 y의 ROC_curve 값들 "
   ]
  },
  {
   "cell_type": "code",
   "execution_count": 36,
   "metadata": {},
   "outputs": [
    {
     "data": {
      "text/plain": [
       "(array([ 0.  ,  0.  ,  0.  ,  0.  ,  0.6 ,  0.62,  1.  ]),\n",
       " array([ 0.02,  0.46,  0.52,  1.  ,  1.  ,  1.  ,  1.  ]),\n",
       " array([   5.27265503,    4.11693852,    4.03309143,   -0.89554967,\n",
       "        -292.4961253 , -292.90291322, -615.09706153]))"
      ]
     },
     "execution_count": 36,
     "metadata": {},
     "output_type": "execute_result"
    }
   ],
   "source": [
    "fpr10,tpr10,thresholds10 \n",
    "## fpr = false positive rate of predictions\n",
    "## tpr = true positive rate of predictions \n",
    "## thresholds = ?"
   ]
  },
  {
   "cell_type": "code",
   "execution_count": 40,
   "metadata": {},
   "outputs": [
    {
     "data": {
      "image/png": "[encoded data removed]",
      "text/plain": [
       "<matplotlib.figure.Figure at 0x20b0dac9cf8>"
      ]
     },
     "metadata": {},
     "output_type": "display_data"
    }
   ],
   "source": [
    "plt.plot(fpr10, tpr10, label=\"class 0\")\n",
    "plt.plot(fpr11, tpr11, label=\"class 1\")\n",
    "plt.plot(fpr12, tpr12, label=\"class 2\")\n",
    "plt.legend()\n",
    "plt.xlabel(\"fall-out rate\")\n",
    "plt.ylabel(\"recall rate\")\n",
    "plt.title(\"ROC curve of QDA model: class 0 is the best\") ## class 0 이 최고의 선택임 \n",
    "plt.show()"
   ]
  },
  {
   "cell_type": "code",
   "execution_count": 45,
   "metadata": {},
   "outputs": [
    {
     "data": {
      "image/png": "[encoded data removed]",
      "text/plain": [
       "<matplotlib.figure.Figure at 0x20b0db62748>"
      ]
     },
     "metadata": {},
     "output_type": "display_data"
    }
   ],
   "source": [
    "plt.plot(fpr20, tpr20, label=\"class 0\") ## LDA 추정치 Y의 클래스 0 = 클래스 0이 최고의 선택\n",
    "plt.plot(fpr21, tpr21, label=\"class 1\") ## LDA 추정치 Y의 클래스 1\n",
    "plt.plot(fpr22, tpr22, label=\"class 2\") ## LDA 추정치 Y의 클래스 2\n",
    "plt.legend()\n",
    "plt.xlabel(\"fall-out rate\")\n",
    "plt.ylabel(\"recall rate\")\n",
    "plt.title(\"ROC curve of LDA model: class 0 is the best\") ## class 0 이 최고의 선택임 \n",
    "plt.show()\n",
    " ## LDA 모델이 좀더 극명한 값을 보여준다 \n"
   ]
  },
  {
   "cell_type": "code",
   "execution_count": 42,
   "metadata": {
    "collapsed": true
   },
   "outputs": [],
   "source": [
    "from sklearn.metrics import auc ## AUC : ROC 커브의 면적 "
   ]
  },
  {
   "cell_type": "code",
   "execution_count": 47,
   "metadata": {},
   "outputs": [
    {
     "data": {
      "text/plain": [
       "(1.0, 0.99419999999999997, 0.98280000000000012)"
      ]
     },
     "execution_count": 47,
     "metadata": {},
     "output_type": "execute_result"
    }
   ],
   "source": [
    "auc(fpr10, tpr10), auc(fpr11, tpr11), auc(fpr12, tpr12)\n",
    "## 클래스 1의 면적은 1 = ROC 커브가 제일 높다 = fall out 대비 recall rate 가 높다 = 신뢰가 감 "
   ]
  },
  {
   "cell_type": "code",
   "execution_count": 44,
   "metadata": {},
   "outputs": [
    {
     "data": {
      "text/plain": [
       "(1.0, 0.50419999999999998, 0.99880000000000002)"
      ]
     },
     "execution_count": 44,
     "metadata": {},
     "output_type": "execute_result"
    }
   ],
   "source": [
    "auc(fpr20, tpr20), auc(fpr21, tpr21), auc(fpr22, tpr22)"
   ]
  },
  {
   "cell_type": "code",
   "execution_count": null,
   "metadata": {
    "collapsed": true
   },
   "outputs": [],
   "source": []
  }
 ],
 "metadata": {
  "kernelspec": {
   "display_name": "Python 3",
   "language": "python",
   "name": "python3"
  },
  "language_info": {
   "codemirror_mode": {
    "name": "ipython",
    "version": 3
   },
   "file_extension": ".py",
   "mimetype": "text/x-python",
   "name": "python",
   "nbconvert_exporter": "python",
   "pygments_lexer": "ipython3",
   "version": "3.6.1"
  }
 },
 "nbformat": 4,
 "nbformat_minor": 2
}
