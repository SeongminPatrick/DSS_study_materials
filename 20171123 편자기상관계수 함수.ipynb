{
 "cells": [
  {
   "cell_type": "markdown",
   "metadata": {
    "school_cell_uuid": "4ec3c42c3c854d2da35ea2d64c58f540"
   },
   "source": [
    "# 편자기상관계수 함수"
   ]
  },
  {
   "cell_type": "markdown",
   "metadata": {
    "school_cell_uuid": "b4b415f4c378417aa0a8626d5ef6f91c"
   },
   "source": [
    "## 편자기상관계수 함수의 정의"
   ]
  },
  {
   "cell_type": "markdown",
   "metadata": {
    "school_cell_uuid": "9bb1c6705bcf4cf8be82f7440b5fa0b0"
   },
   "source": [
    "**편자기상관계수 함수(PACF: partial autocorrelation function)**는 AR 모형의 차수(order)를 추정하기 위한 방법의 하나이다.\n",
    "\n",
    "일반적인 자기상관계수 함수 $\\rho_k$는 확률 과정의 시각 $t$의 값 $Y_t$와 시각 $t-k$의 값 $Y_{t-k}$의 상관계수를 뜻한다. 편자기상관계수 함수는 이와 달리 두 시각 사이의 값 즉 $Y_{t-1}, \\cdots, Y_{t-k+1}$의 영향을 배제한다. "
   ]
  },
  {
   "cell_type": "code",
   "execution_count": null,
   "metadata": {
    "collapsed": true
   },
   "outputs": [],
   "source": [
    "## partial regression plot과 비슷한 원리이다\n",
    "\n",
    "## multi variable에서 (다변수 회귀분석: x가 다변수)인경우 x1과 나머지 변수 x2,3,4의 선형회귀 하여 잔차를 구함 "
   ]
  },
  {
   "cell_type": "markdown",
   "metadata": {
    "school_cell_uuid": "6f4719e4eed4475883e9ad67bde859bd"
   },
   "source": [
    "이 사이 값들의 영향을 없애기 위해 우선 $Y_t$ 값(종속 변수)과  $Y_{t-1}, \\cdots, Y_{t-k+1}$라는 $k-1$개의 값들(독립 변수) 사이의 선형 회귀 분석을 실시한다. \n",
    "\n",
    "$$ \\hat{Y}_t = \\beta_1 Y_{t-1}  + \\beta_2 Y_{t-2}  + \\beta_3 Y_{t-3}  + \\cdots + \\beta_{k-1} Y_{t-k+1}  $$\n",
    "\n",
    "이 식에서 $\\beta$는 선형 회귀 분석의 결과로 얻어진 계수이다. \n",
    "\n",
    "$k=2$인 경우만 따지면 계수 $\\beta_1 = \\rho_1$이 된다. 즉,\n",
    "\n",
    "$$ \\hat{Y}_t = \\rho_1 Y_{t-1} $$"
   ]
  },
  {
   "cell_type": "markdown",
   "metadata": {
    "school_cell_uuid": "896136bd84f14f65803bfc144386ed5d"
   },
   "source": [
    "이와 반대 (시간) 방향으로 $Y_{t-k}$ 값(종속 변수)과  $Y_{t-1}, \\cdots, Y_{t-k+1}$라는 $k-1$개의 값들(독립 변수) 사이의 선형 회귀 분석을 실시하면 정상 확률 과정의 경우에 결과는 다음과 같다.\n",
    "\n",
    "$$ \\hat{Y}_{t-k} = \\beta_1 Y_{t-k+1}  + \\beta_2 Y_{t-k+2}  + \\beta_3 Y_{t-k+3}  + \\cdots + \\beta_{k-1} Y_{t-1}  $$\n",
    "\n",
    "위 회귀 분석의 계수가 동일하게 나오는 이유는 정상 확률 과정의 특성때문이다.\n",
    "\n",
    "첫번째 항을 예로 들면 살펴보면, \n",
    "\n",
    "$$ \\text{corr}[Y_t, Y_{t-1}] = \\text{corr}[Y_t, Y_{t+1}] = \\text{corr}[Y_{t-k}, Y_{t-k+1}] $$\n",
    "\n",
    "로 $Y_t \\leftrightarrow Y_{t-1}$의 관계가 $Y_{t-k} \\leftrightarrow Y_{t-k+1}$의 관계와 동일하다."
   ]
  },
  {
   "cell_type": "markdown",
   "metadata": {
    "school_cell_uuid": "868822804c52457ab91aafea95024fb9"
   },
   "source": [
    "**편자기상관계수 함수 $\\phi_k$**는 위와 같은 선형 회귀 분석으로 얻은 추정치 $\\hat{Y}_t$, $\\hat{Y}_{t-k}$를 원래의 값 ${Y}_t$, ${Y}_{t-k}$ 에서 뺀 나머지 값 사이의 자기상관계수 함수로 정의한다. 즉,\n",
    "\n",
    "$$  \\phi_{kk} = \\text{corr}[(Y_{t} - \\hat{Y}_t),(Y_{t-k}-\\hat{Y}_{t-k})] \\; \\text{ for } k > 1 $$\n",
    "\n",
    "이다. $k=1$인 경우는 1로 정의한다.\n",
    "$$  \\phi_{11} = 1 $$"
   ]
  },
  {
   "cell_type": "markdown",
   "metadata": {
    "school_cell_uuid": "7e9d6333ea6a4b399ff52e1b44c128cc"
   },
   "source": [
    "## AR 모형의 편자기상관계수 함수"
   ]
  },
  {
   "cell_type": "markdown",
   "metadata": {
    "school_cell_uuid": "a98dd76533cd41ba8839ee2ed04921d1"
   },
   "source": [
    "다음과 같은 AR(p) 모형에 대해 \n",
    "\n",
    "$$  Y_t = \\phi_1 Y_{t-1} + \\cdots + \\phi_p Y_{t-p} + e_t $$\n",
    "\n",
    "$Y_t$ 값(종속 변수)과  $Y_{t-1}, \\cdots, Y_{t-k+1}$라는 $k-1$개의 값들(독립 변수) 사이의 선형 회귀 분석을 하면 다음과 같은 결과를 얻는다.\n",
    "\n",
    "$k=1$인 경우에는,\n",
    "\n",
    "$$ \\hat{Y}_t = \\phi_1 Y_{t-1} $$\n",
    "\n",
    "$k=2$인 경우에는,\n",
    "\n",
    "$$ \\hat{Y}_t = \\phi_1 Y_{t-1} + \\phi_2 Y_{t-2} $$\n",
    "\n",
    "$k < p $인 경우에는,\n",
    "\n",
    "$$ \\hat{Y}_t = \\phi_1 Y_{t-1} + \\phi_2 Y_{t-2} + \\cdots + \\phi_k Y_{t-k} $$\n",
    "\n",
    "\n",
    "$k \\geq p $인 경우에는,\n",
    "\n",
    "$$ \\hat{Y}_t = \\phi_1 Y_{t-1} + \\phi_2 Y_{t-2} + \\cdots + \\phi_p Y_{t-p} + 0 \\cdot Y_{t-p-1} + \\cdots + 0 \\cdot Y_{t-k}$$\n",
    "\n",
    "이며 이 경우에는 회귀 분석의 잔차항(residual)이 원래의 확률 과정과 아무런 상관관계가 없는 백색 잡음이 된다."
   ]
  },
  {
   "cell_type": "markdown",
   "metadata": {
    "school_cell_uuid": "e24c7b2444b149c3bd6440fc07991a46"
   },
   "source": [
    "AR(p) 모형은 정상 과정이므로 시간을 반대 방향으로 해도 같은 결과를 얻을 수 있다. 즉, \n",
    "\n",
    "$Y_t$ 값(종속 변수)과  $Y_{t+1}, \\cdots, Y_{t+k-1}$라는 $k-1$개의 값들(독립 변수) 사이의 선형 회귀 분석을 하면 다음과 같은 결과를 얻는다.\n",
    "\n",
    "$k=1$인 경우에는,\n",
    "\n",
    "$$ \\hat{Y}_t = \\phi_1 Y_{t+1} $$\n",
    "\n",
    "$k=2$인 경우에는,\n",
    "\n",
    "$$ \\hat{Y}_t = \\phi_1 Y_{t+1} + \\phi_2 Y_{t+2} $$\n",
    "\n",
    "$k \\leq p $인 경우에는,\n",
    "\n",
    "$$ \\hat{Y}_t = \\phi_1 Y_{t+1} + \\phi_2 Y_{t+2} + \\cdots + \\phi_k Y_{t+k} $$\n",
    "\n",
    "\n",
    "$k > p $인 경우에는,\n",
    "\n",
    "$$ \\hat{Y}_t = \\phi_1 Y_{t+1} + \\phi_2 Y_{t+2} + \\cdots + \\phi_p Y_{t+p} + 0 \\cdot Y_{t+p+1} + \\cdots + 0 \\cdot Y_{t+k}$$\n",
    "\n",
    "이다."
   ]
  },
  {
   "cell_type": "markdown",
   "metadata": {
    "school_cell_uuid": "cb667d99cb624095b1233678ce76005a"
   },
   "source": [
    "회귀 분석 결과를 알았으니 이제 편자기상관계수를 구해보자.\n",
    "\n",
    "우선 AR(1) 모형을 고려해 보자.\n",
    "\n",
    "$$  Y_t = \\phi_1 Y_{t-1} + e_t $$\n",
    "\n",
    "$k=1$인 경우, 정의에 의해 \n",
    "\n",
    "$$ \\phi_{11} = 1 $$\n",
    "\n",
    "$k=2$인 경우,\n",
    "\n",
    "$$ \n",
    "\\begin{eqnarray}\n",
    "\\phi_{22} \n",
    "&=& \\text{corr}[(Y_{t} - \\hat{Y}_t),(Y_{t-2}-\\hat{Y}_{t-2})]  \\\\\n",
    "&=& \\text{corr}[(Y_{t} -  \\phi_1 Y_{t-1}),(Y_{t-2}-\\phi_1 Y_{t-1})]  \\\\\n",
    "&\\propto& \\text{Cov}[(Y_{t} -  \\phi_1 Y_{t-1}),(Y_{t-2}-\\phi_1 Y_{t-1})]  \\\\\n",
    "&=& \\text{E}[(Y_{t} -  \\phi_1 Y_{t-1})(Y_{t-2}-\\phi_1 Y_{t-1})]  \\\\\n",
    "&=& \\gamma_0(\\rho_2 - \\phi_1 \\rho_1 - \\phi_1 \\rho_1 + \\phi_1^2 \\rho_0 )\\\\\n",
    "\\end{eqnarray}\n",
    "$$\n",
    "\n",
    "AR(1) 모형의 경우 이론적인 자기상관계수 함수 $\\rho_k$는 다음과 같이 계산된다.\n",
    "\n",
    "$$ \\rho_k = \\phi_1^k $$\n",
    "\n",
    "따라서\n",
    "\n",
    "$$ \\rho_2 - \\phi_1 \\rho_1 - \\phi_1 \\rho_1 + \\phi_1^2 \\rho_0 = \\phi_1^2 - \\phi_1 \\cdot \\phi_1 - \\phi_1 \\cdot \\phi_1 + \\phi_1^2 \\cdot 1 = 0 $$\n",
    "즉,  $\\phi_{22} = 0$이다.\n",
    "\n",
    "$k=3$인 경우도 마찬가지로 $\\phi_{33} = 0$이 된다.\n",
    "\n",
    "$$ \n",
    "\\begin{eqnarray}\n",
    "\\phi_{33} \n",
    "&=& \\text{corr}[(Y_{t} - \\hat{Y}_t),(Y_{t-3}-\\hat{Y}_{t-3})]  \\\\\n",
    "&=& \\text{corr}[(Y_{t} - \\phi_1 Y_{t-1}),(Y_{t-3}-\\phi_1Y_{t-2})]  \\\\\n",
    "&\\propto& \\text{Cov}[(Y_{t} - \\phi_1 Y_{t-1}),(Y_{t-3}-\\phi_1Y_{t-2})]  \\\\\n",
    "&=& \\text{E}[(Y_{t} -  \\phi_1 Y_{t-1})(Y_{t-3}-\\phi_1 Y_{t-2})]  \\\\\n",
    "&=& \\gamma_0(\\rho_3 - \\phi_1 \\rho_2 - \\phi_1 \\rho_2 + \\phi_1^2 \\rho_1) \\\\\n",
    "&=& \\gamma_0(\\phi_1^3 - \\phi_1 \\cdot \\phi_2 - \\phi_1 \\cdot \\phi_2 + \\phi_1^2 \\cdot \\phi_1)  \\\\\n",
    "&=& 0\n",
    "\\end{eqnarray}\n",
    "$$\n",
    "\n",
    "같은 방법으로 $k>1$인 모든 경우에 대해 $\\phi_{kk} = 0$이 된다."
   ]
  },
  {
   "cell_type": "markdown",
   "metadata": {
    "school_cell_uuid": "05b13160371e49988874dca2d72d0183"
   },
   "source": [
    "같은 방식으로 AR(p) 모형의 경우에는  $k>p$ 인 모든 경우에 대해 편자기상관계수 함수 $\\phi_{kk} = 0$ 이 됨을 증명할 수 있다.\n",
    "\n",
    "이는 마치 MA(q) 모형의 경우 $k>q$ 인 모든 경우에 대해 자기상관계수 함수 $\\rho_k = 0$ 이었던 것과 유사하다."
   ]
  },
  {
   "cell_type": "markdown",
   "metadata": {
    "school_cell_uuid": "e57c58834048423faca61edb2f503ddb"
   },
   "source": [
    "## MA 모형의 편자기상관계수 함수"
   ]
  },
  {
   "cell_type": "markdown",
   "metadata": {
    "school_cell_uuid": "7354d42bc7ad4382a0c6b065dc76bb84"
   },
   "source": [
    "MA(q)모형의 경우에는 역으로 $k > q$인 경우에도 편자기상관계수 함수 $\\phi_{kk}$가 0이 되지 않는다."
   ]
  },
  {
   "cell_type": "markdown",
   "metadata": {
    "school_cell_uuid": "74dab58b0d85461da65bfeff1fec5758"
   },
   "source": [
    "MA(1)모형을 예로 들어 보자.\n",
    "\n",
    "$$\n",
    "Y_t = e_t - \\theta_1 e_{t-1}\n",
    "$$\n",
    "인 MA(1) 모형의 경우, \n",
    "\n",
    "\n",
    "$$ \n",
    "\\begin{eqnarray}\n",
    "\\phi_{22} \n",
    "&=& \\text{corr}[(Y_{t} - \\hat{Y}_t),(Y_{t-2}-\\hat{Y}_{t-2})]  \\\\\n",
    "&=& \\text{corr}[(Y_{t} - \\rho_1 Y_{t-1}),(Y_{t-2}-\\rho_1 Y_{t-1})]  \\\\\n",
    "&=& \\dfrac{\\text{Cov}[(Y_{t} - \\rho_1 Y_{t-1}),(Y_{t-2}-\\rho_1 Y_{t-1})]}{\\sqrt{\\text{Var}[Y_{t} - \\rho_1 Y_{t-1}]\\text{Var}[Y_{t-2}-\\rho_1 Y_{t-1}]}}  \\\\\n",
    "&=& \\dfrac{\\text{Cov}[(Y_{t} - \\rho_1 Y_{t-1}),(Y_{t-2}-\\rho_1 Y_{t-1})]}{\\text{Var}[Y_{t} - \\rho_1 Y_{t-1}]}  \\\\\n",
    "&=& \\dfrac{\\text{E}[(Y_{t} - \\rho_1 Y_{t-1})(Y_{t-2}-\\rho_1 Y_{t-1})]}{\\text{E}[(Y_{t} - \\rho_1 Y_{t-1})^2]}  \\\\\n",
    "\\end{eqnarray}\n",
    "$$\n",
    "\n",
    "MA(1)의 성질 \n",
    "\n",
    "$$ \\text{E}[Y_t^2] = \\sigma_e^2 (1 + \\theta^2)   $$\n",
    "\n",
    "\n",
    "$$ \\text{E}[Y_t Y_{t-1}] = - \\theta \\sigma_e^2 $$\n",
    "\n",
    "\n",
    "$$ \\text{E}[Y_t Y_{t-2}] = 0 $$\n",
    "\n",
    "\n",
    "$$ \\rho_1 = - \\dfrac{\\theta}{1+\\theta^2} $$ \n",
    "\n",
    "을 이용하면 이 값은 다음과 같다.\n",
    "\n",
    "$$ \\phi_{22} = -\\dfrac{\\theta^2}{1+\\theta^2+\\theta^4} \\neq 0  $$\n",
    "\n",
    "$k > q$인 경우에 대해 모두 구하면 \n",
    "\n",
    "$$ \\phi_{kk} = -\\dfrac{\\theta^k(1-\\theta^2)}{1-\\theta^{2(k+1)}}  \\neq 0  $$\n",
    "\n",
    "즉 일반적으로 0이 되지 않는다."
   ]
  },
  {
   "cell_type": "markdown",
   "metadata": {
    "school_cell_uuid": "320eb3b8e9f44318a6903583c0f0da65"
   },
   "source": [
    "이 결과를 정리하면 다음과 같다."
   ]
  },
  {
   "cell_type": "markdown",
   "metadata": {
    "bootstrap": {
     "panel": {
      "class": "panel-danger",
      "heading": "요약: AR/MA 모형과 ACF/PACF 관계"
     }
    },
    "school_cell_uuid": "6ed7b453e08d496c926a6639e0cbe9df"
   },
   "source": [
    "| | AR(p) | MA(q) |\n",
    "|-|-|-|\n",
    "| ACF | 점차적으로 감소 | 시차 $q$ 이후에 0 | \n",
    "| PACF | 시차 $p$ 이후에 0 | 점차적으로 감소 | "
   ]
  },
  {
   "cell_type": "markdown",
   "metadata": {
    "school_cell_uuid": "63fd86a3a8b04bc79645dd06cb4d2751"
   },
   "source": [
    "## 편자기상관계수 함수의 계산"
   ]
  },
  {
   "cell_type": "markdown",
   "metadata": {
    "school_cell_uuid": "a278d8a915224fdf8e7acd418e18e92b"
   },
   "source": [
    "편자기상관계수 함수는 회귀분석을 사용하여 정의되었지만 실제 계산시에는 다음과 같은 특성을 이용하여 더 효율적으로 계산한다."
   ]
  },
  {
   "cell_type": "markdown",
   "metadata": {
    "school_cell_uuid": "c2bce0a6b9b54cc28cb7cdfb1b188ddf"
   },
   "source": [
    "편자기상관계수 함수의 값 $\\phi_{kk}$는 $Y_t$를 $Y_{t-1}, \\cdots, Y_{t-k}$라는 $k$개의 값들에 대해 회귀분석한 경우 $Y_{t-k}$의 계수와 일치한다.\n",
    "\n",
    "$$ \\hat{Y}_t = \\phi_{1k} Y_{t-1} + \\phi_{2k} Y_{t-2} + \\phi_{3k} Y_{t-3}  + \\cdots + \\phi_{kk} Y_{t-k} $$"
   ]
  },
  {
   "cell_type": "markdown",
   "metadata": {
    "school_cell_uuid": "567fb844eee64dc3a782017b5450be8a"
   },
   "source": [
    "\n",
    "여기에 $Y_{t-1}, \\cdots, Y_{t-k}$를 각각 곱해서 기댓값을 구하면 다음과 같이 Yule-Walker 방정식이 성립한다.\n",
    "\n",
    "$$\n",
    "\\begin{eqnarray}\n",
    "\\rho_1 &=& \\phi_{k1}\\rho_{0}   &+& \\phi_{k2}\\rho_{-1} &\\cdots& \\phi_{kk}\\rho_{-k+1}  \\\\\n",
    "\\rho_2 &=& \\phi_{k1}\\rho_{1}   &+& \\phi_{k2}\\rho_{0}  &\\cdots& \\phi_{kk}\\rho_{-k+2}  \\\\\n",
    "\\vdots &=& \\vdots              &+& \\vdots             &\\ddots& \\vdots \\\\\n",
    "\\rho_k &=& \\phi_{k1}\\rho_{k-1} &+& \\phi_{k2}\\rho_{k-2}&\\cdots& \\phi_{kk}\\rho_{0}  \\\\\n",
    "\\end{eqnarray}\n",
    "$$\n",
    "\n",
    "$$\n",
    "\\begin{bmatrix}\n",
    "\\rho_1 \\\\ \\rho_2 \\\\ \\vdots \\\\ \\rho_k \n",
    "\\end{bmatrix}\n",
    "=\n",
    "\\begin{bmatrix}\n",
    "\\rho_{0}   &  \\rho_{-1} & \\cdots & \\rho_{-k+1}  \\\\\n",
    "\\rho_{1}   &  \\rho_{0} & \\cdots & \\rho_{-k+2}  \\\\\n",
    "\\vdots     &  \\vdots    & \\ddots & \\vdots \\\\\n",
    "\\rho_{k}   &  \\rho_{k-1} & \\cdots & \\rho_{0}  \\\\\n",
    "\\end{bmatrix}\n",
    "\\begin{bmatrix}\n",
    "\\phi_{k1} \\\\ \\phi_{k2} \\\\ \\vdots \\\\ \\phi_{kk}\n",
    "\\end{bmatrix}\n",
    "$$\n",
    "\n",
    "\n",
    "$$\n",
    "\\begin{bmatrix}\n",
    "\\rho_1 \\\\ \\rho_2 \\\\ \\vdots \\\\ \\rho_k \n",
    "\\end{bmatrix}\n",
    "=\n",
    "\\begin{bmatrix}\n",
    "\\rho_{0}   &  \\rho_{1} & \\cdots & \\rho_{k-1}  \\\\\n",
    "\\rho_{1}   &  \\rho_{0} & \\cdots & \\rho_{k-2}  \\\\\n",
    "\\vdots     &  \\vdots    & \\ddots & \\vdots \\\\\n",
    "\\rho_{k}   &  \\rho_{k-1} & \\cdots & \\rho_{0}  \\\\\n",
    "\\end{bmatrix}\n",
    "\\begin{bmatrix}\n",
    "\\phi_{k1} \\\\ \\phi_{k2} \\\\ \\vdots \\\\ \\phi_{kk}\n",
    "\\end{bmatrix}\n",
    "$$"
   ]
  },
  {
   "cell_type": "markdown",
   "metadata": {
    "school_cell_uuid": "07ed9003df5d41adba8237dbadc4715a"
   },
   "source": [
    "Levinson-Durbin 방법을 사용하면 위의 Yule-Walker 방정식을 다음과 같이 재귀적으로 구할 수 있다.\n",
    "\n",
    "$$ \\phi_{kk} = \\dfrac{\\rho_k - \\sum_{j=1}^{k-1}\\phi_{k-1,j}\\rho_{k-j}}{1-\\sum_{j=1}^{k-1}\\phi_{k-1,j}\\rho_{j}} $$\n",
    "\n",
    "$$ \\phi_{k,j} = \\phi_{k-1,j} - \\phi_{k,k}\\phi_{k-1,k-j} $$"
   ]
  },
  {
   "cell_type": "markdown",
   "metadata": {
    "school_cell_uuid": "2ab6bccb15954312b9d54689832ddaea"
   },
   "source": [
    "## Python에서 편자기상관계수 함수 계산"
   ]
  },
  {
   "cell_type": "markdown",
   "metadata": {
    "school_cell_uuid": "8514cd4b79c2408aa0571679dd37abcd"
   },
   "source": [
    "`statsmodels.tsa.pacf` 함수를 사용하면 시계열 자료의 편자기상관계수 함수를 계산할 수 있다. 플롯을 하려면 `statsmodels.graphics.tsa.plot_pacf` 를 이용한다."
   ]
  },
  {
   "cell_type": "code",
   "execution_count": 1,
   "metadata": {},
   "outputs": [
    {
     "name": "stderr",
     "output_type": "stream",
     "text": [
      "C:\\Users\\User\\Anaconda3\\lib\\site-packages\\ipykernel_launcher.py:6: FutureWarning: The pandas.core.datetools module is deprecated and will be removed in a future version. Please use the pandas.tseries module instead.\n",
      "  \n"
     ]
    }
   ],
   "source": [
    "##스타트업 파일\n",
    "\n",
    "from scipy.stats import norm\n",
    "import numpy as np\n",
    "import scipy as sp\n",
    "from pandas.core import datetools \n",
    "import pandas as pd\n",
    "import statsmodels.api as sm ## R 패키지에서 불러온것, 샘플데이터 옮겨쓸수 있는 프로젝트 있음. 회귀분석에 유용 \n",
    "import statsmodels.formula.api as smf\n",
    "import statsmodels.stats.api as sms\n",
    "import sklearn as sk \n",
    "## 전처리 \n",
    "\n",
    "import matplotlib as mpl\n",
    "mpl.use('Agg')\n",
    "import matplotlib.pylab \n",
    "import matplotlib.pyplot as plt\n",
    "%matplotlib inline\n",
    "from mpl_toolkits.mplot3d import Axes3D\n",
    "\n",
    "import seaborn as sns\n",
    "sns.set()\n",
    "sns.set_style(\"whitegrid\")\n",
    "sns.set_color_codes()\n",
    "\n",
    "## Anaconda: localhost:8890\n",
    "## python3: localhost:8888\n"
   ]
  },
  {
   "cell_type": "code",
   "execution_count": 2,
   "metadata": {
    "school_cell_uuid": "1aba5ecc333e4a148b66042e7eb962f0"
   },
   "outputs": [
    {
     "data": {
      "image/png": "[encoded data removed]",
      "text/plain": [
       "<matplotlib.figure.Figure at 0x1d4d3d4b9e8>"
      ]
     },
     "metadata": {},
     "output_type": "display_data"
    }
   ],
   "source": [
    "np.random.seed(0)\n",
    "p = sm.tsa.ArmaProcess([1, -1.2, 0.3], [1])\n",
    "y = p.generate_sample(200)\n",
    "plt.plot(y, 'o-')\n",
    "plt.show()"
   ]
  },
  {
   "cell_type": "code",
   "execution_count": 3,
   "metadata": {
    "school_cell_uuid": "25b00497e18d4592a14d94febb0c6ab2"
   },
   "outputs": [
    {
     "data": {
      "text/plain": [
       "array([ 1.        ,  0.954434  , -0.2736326 , -0.00179577,  0.05732259,\n",
       "        0.17734768, -0.04928944,  0.05504672, -0.13653964,  0.01623869,\n",
       "        0.03826421, -0.05072837,  0.12656022, -0.09010451, -0.00482013,\n",
       "       -0.14227634,  0.09523362,  0.05618313,  0.03467563, -0.20119255,\n",
       "       -0.07870102,  0.11652601,  0.04784023,  0.13198976, -0.10725904,\n",
       "       -0.09147749, -0.1107981 , -0.02998764, -0.19292734, -0.19328953,\n",
       "       -0.00497484,  0.00569143,  0.04810996,  0.06388207, -0.21928295,\n",
       "       -0.16083584, -0.04436043, -0.09845151,  0.05537217, -0.10485931,\n",
       "        0.08507789])"
      ]
     },
     "execution_count": 3,
     "metadata": {},
     "output_type": "execute_result"
    }
   ],
   "source": [
    "pacf = sm.tsa.pacf(y)##편자기상관계수\n",
    "pacf"
   ]
  },
  {
   "cell_type": "code",
   "execution_count": 4,
   "metadata": {
    "school_cell_uuid": "dcfde4a64c3b40659e369e9801282584"
   },
   "outputs": [
    {
     "data": {
      "image/png": "[encoded data removed]",
      "text/plain": [
       "<matplotlib.figure.Figure at 0x1d4d9354d30>"
      ]
     },
     "metadata": {},
     "output_type": "display_data"
    }
   ],
   "source": [
    "sm.graphics.tsa.plot_pacf(y, lags=40)##편자기상관계수\n",
    "plt.show()\n",
    "## 백색잡음밖에 안남음.. 이모형은 예측을 설명해주지못함(내년 강수량 예측못함)"
   ]
  },
  {
   "cell_type": "markdown",
   "metadata": {
    "school_cell_uuid": "2dda8977a993421ebf0c4a0b72efcd13"
   },
   "source": [
    "PACF 값을 ACF와 비교하면 차이점을 쉽게 볼 수 있다."
   ]
  },
  {
   "cell_type": "code",
   "execution_count": 5,
   "metadata": {
    "school_cell_uuid": "7c3017f61188431d99849caf796858a5"
   },
   "outputs": [
    {
     "data": {
      "image/png": "[encoded data removed]",
      "text/plain": [
       "<matplotlib.figure.Figure at 0x1d4d93c65c0>"
      ]
     },
     "metadata": {},
     "output_type": "display_data"
    }
   ],
   "source": [
    "sm.graphics.tsa.plot_acf(y, lags=40)\n",
    "plt.show() ## AR 또는 MA 선택하여 예측 가능 \n",
    "## 자기상관계수이다 "
   ]
  },
  {
   "cell_type": "code",
   "execution_count": null,
   "metadata": {
    "collapsed": true
   },
   "outputs": [],
   "source": []
  }
 ],
 "metadata": {
  "celltoolbar": "Edit Metadata",
  "kernelspec": {
   "display_name": "Python 3",
   "language": "python",
   "name": "python3"
  },
  "language_info": {
   "codemirror_mode": {
    "name": "ipython",
    "version": 3
   },
   "file_extension": ".py",
   "mimetype": "text/x-python",
   "name": "python",
   "nbconvert_exporter": "python",
   "pygments_lexer": "ipython3",
   "version": "3.6.1"
  }
 },
 "nbformat": 4,
 "nbformat_minor": 1
}
